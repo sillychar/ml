{
 "cells": [
  {
   "cell_type": "markdown",
   "id": "f521ccda",
   "metadata": {},
   "source": [
    "## Data Science"
   ]
  },
  {
   "cell_type": "code",
   "execution_count": null,
   "id": "6a3ff698",
   "metadata": {},
   "outputs": [],
   "source": [
    "It is process of extracting menaningful knowledge , insights, information from data by using scientific methods/resources"
   ]
  },
  {
   "cell_type": "code",
   "execution_count": null,
   "id": "30dc2b5d",
   "metadata": {},
   "outputs": [],
   "source": [
    "Scientific methods/resources:\n",
    "    1. Machine Learning (CSV, excel , MongoDB, SQLite)\n",
    "    2. Deep Learning (images)\n",
    "    3. Natural Language Processing(text)\n",
    "    4. Statistics\n",
    "    5. Data Visualize(seaborn, matplotlib, pandas)"
   ]
  },
  {
   "cell_type": "code",
   "execution_count": null,
   "id": "8f6e9b72",
   "metadata": {},
   "outputs": [],
   "source": [
    "Data:\n",
    "    1. Structured Format(CSV, Excel)\n",
    "    2. Unstructured (images, videos, texts, audios, pdf)\n",
    "    3. Semi-Structured(JSON, HTML)"
   ]
  },
  {
   "cell_type": "markdown",
   "id": "4c2c723e",
   "metadata": {},
   "source": [
    "## Machine Learning"
   ]
  },
  {
   "cell_type": "code",
   "execution_count": null,
   "id": "ae34df9f",
   "metadata": {},
   "outputs": [],
   "source": [
    "ML is a subset of AI/ branch of Comp Science which deals with system programming in order to automate machines\n",
    "to learn from their past data/experiences and improve performance and make predictions."
   ]
  },
  {
   "cell_type": "code",
   "execution_count": 2,
   "id": "b31bb137",
   "metadata": {},
   "outputs": [],
   "source": [
    "Training Data: # Total Data 600\n",
    "    80% >> 480\n",
    "    \n",
    "Testing: (Unseen data to the model)\n",
    "    20% >> 120"
   ]
  },
  {
   "cell_type": "markdown",
   "id": "9f02dbf8",
   "metadata": {},
   "source": [
    "## Real World Applications of Machine Learning"
   ]
  },
  {
   "cell_type": "code",
   "execution_count": null,
   "id": "b27ee936",
   "metadata": {},
   "outputs": [],
   "source": [
    "1. Medical field (Cancer, Covid, diabetes)\n",
    "2. House Price Prediction\n",
    "3. Stock Price\n",
    "4. Financial Domain (Approved/Declined),(high risk , medium, low)\n",
    "5. Handwritten Char Recognition\n",
    "6. Sentiment Analysis (Happy/Sad, Positive/Negative, Good/Bad, Spam/not spam)\n",
    "7. ChatBot (Amazon, Flipkart)\n",
    "8. Weather Prediction\n",
    "9. Speech Recognition\n",
    "10. Advertizement\n",
    "11. Self Driving Cars(Object Detection)\n",
    "12. Insurance\n",
    "\n",
    "Health insurance:\n",
    "    cancer >> 5 lakh\n",
    "    diabetes >> 10 lakh"
   ]
  },
  {
   "cell_type": "code",
   "execution_count": null,
   "id": "2b6df207",
   "metadata": {},
   "outputs": [],
   "source": []
  },
  {
   "cell_type": "code",
   "execution_count": null,
   "id": "ad0a2a6f",
   "metadata": {},
   "outputs": [],
   "source": []
  },
  {
   "cell_type": "code",
   "execution_count": null,
   "id": "3738007a",
   "metadata": {},
   "outputs": [],
   "source": []
  },
  {
   "cell_type": "code",
   "execution_count": null,
   "id": "8460f463",
   "metadata": {},
   "outputs": [],
   "source": []
  },
  {
   "cell_type": "code",
   "execution_count": null,
   "id": "a9848740",
   "metadata": {},
   "outputs": [],
   "source": []
  },
  {
   "cell_type": "code",
   "execution_count": null,
   "id": "5a772b6c",
   "metadata": {},
   "outputs": [],
   "source": []
  },
  {
   "cell_type": "code",
   "execution_count": null,
   "id": "9e6c393b",
   "metadata": {},
   "outputs": [],
   "source": []
  },
  {
   "cell_type": "code",
   "execution_count": null,
   "id": "dced917e",
   "metadata": {},
   "outputs": [],
   "source": []
  },
  {
   "cell_type": "code",
   "execution_count": null,
   "id": "cfbeebdd",
   "metadata": {},
   "outputs": [],
   "source": []
  },
  {
   "cell_type": "code",
   "execution_count": null,
   "id": "6975e131",
   "metadata": {},
   "outputs": [],
   "source": []
  },
  {
   "cell_type": "code",
   "execution_count": null,
   "id": "a870aede",
   "metadata": {},
   "outputs": [],
   "source": []
  },
  {
   "cell_type": "code",
   "execution_count": null,
   "id": "80b859b9",
   "metadata": {},
   "outputs": [],
   "source": []
  },
  {
   "cell_type": "code",
   "execution_count": null,
   "id": "271b708a",
   "metadata": {},
   "outputs": [],
   "source": []
  },
  {
   "cell_type": "code",
   "execution_count": null,
   "id": "4471ca6b",
   "metadata": {},
   "outputs": [],
   "source": []
  },
  {
   "cell_type": "code",
   "execution_count": null,
   "id": "b23f0544",
   "metadata": {},
   "outputs": [],
   "source": []
  },
  {
   "cell_type": "code",
   "execution_count": null,
   "id": "41b2b567",
   "metadata": {},
   "outputs": [],
   "source": []
  },
  {
   "cell_type": "code",
   "execution_count": null,
   "id": "720fb317",
   "metadata": {},
   "outputs": [],
   "source": []
  },
  {
   "cell_type": "code",
   "execution_count": null,
   "id": "3c2e3fcf",
   "metadata": {},
   "outputs": [],
   "source": []
  },
  {
   "cell_type": "code",
   "execution_count": null,
   "id": "172b5c3d",
   "metadata": {},
   "outputs": [],
   "source": []
  },
  {
   "cell_type": "code",
   "execution_count": null,
   "id": "2cbc950a",
   "metadata": {},
   "outputs": [],
   "source": []
  },
  {
   "cell_type": "code",
   "execution_count": null,
   "id": "4d5b1a4e",
   "metadata": {},
   "outputs": [],
   "source": []
  }
 ],
 "metadata": {
  "kernelspec": {
   "display_name": "Python 3 (ipykernel)",
   "language": "python",
   "name": "python3"
  },
  "language_info": {
   "codemirror_mode": {
    "name": "ipython",
    "version": 3
   },
   "file_extension": ".py",
   "mimetype": "text/x-python",
   "name": "python",
   "nbconvert_exporter": "python",
   "pygments_lexer": "ipython3",
   "version": "3.9.7"
  }
 },
 "nbformat": 4,
 "nbformat_minor": 5
}
