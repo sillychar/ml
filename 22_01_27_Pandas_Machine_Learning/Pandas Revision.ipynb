{
 "cells": [
  {
   "cell_type": "markdown",
   "id": "8f518726",
   "metadata": {},
   "source": [
    "## Data Structures"
   ]
  },
  {
   "cell_type": "code",
   "execution_count": null,
   "id": "c9e33da0",
   "metadata": {},
   "outputs": [],
   "source": [
    "1. DataFrame >> 2-D\n",
    "2. Series >> 1-D"
   ]
  },
  {
   "cell_type": "code",
   "execution_count": 1,
   "id": "76b6914d",
   "metadata": {},
   "outputs": [],
   "source": [
    "import pandas as pd\n",
    "import numpy as np"
   ]
  },
  {
   "cell_type": "markdown",
   "id": "61f62a51",
   "metadata": {},
   "source": [
    "### 1. Create DataFrame"
   ]
  },
  {
   "cell_type": "code",
   "execution_count": null,
   "id": "a98e0daf",
   "metadata": {},
   "outputs": [],
   "source": [
    "df = pd.DataFrame()\n",
    "1. list\n",
    "2. dict\n",
    "3. np.array"
   ]
  },
  {
   "cell_type": "markdown",
   "id": "3e3d7bbf",
   "metadata": {},
   "source": [
    "### 2. Access, Delete"
   ]
  },
  {
   "cell_type": "code",
   "execution_count": 2,
   "id": "4f70bfd9",
   "metadata": {},
   "outputs": [
    {
     "data": {
      "text/html": [
       "<div>\n",
       "<style scoped>\n",
       "    .dataframe tbody tr th:only-of-type {\n",
       "        vertical-align: middle;\n",
       "    }\n",
       "\n",
       "    .dataframe tbody tr th {\n",
       "        vertical-align: top;\n",
       "    }\n",
       "\n",
       "    .dataframe thead th {\n",
       "        text-align: right;\n",
       "    }\n",
       "</style>\n",
       "<table border=\"1\" class=\"dataframe\">\n",
       "  <thead>\n",
       "    <tr style=\"text-align: right;\">\n",
       "      <th></th>\n",
       "      <th>A</th>\n",
       "      <th>B</th>\n",
       "      <th>C</th>\n",
       "      <th>D</th>\n",
       "    </tr>\n",
       "  </thead>\n",
       "  <tbody>\n",
       "    <tr>\n",
       "      <th>0</th>\n",
       "      <td>97</td>\n",
       "      <td>35</td>\n",
       "      <td>44</td>\n",
       "      <td>85</td>\n",
       "    </tr>\n",
       "    <tr>\n",
       "      <th>1</th>\n",
       "      <td>12</td>\n",
       "      <td>64</td>\n",
       "      <td>55</td>\n",
       "      <td>23</td>\n",
       "    </tr>\n",
       "    <tr>\n",
       "      <th>2</th>\n",
       "      <td>22</td>\n",
       "      <td>18</td>\n",
       "      <td>96</td>\n",
       "      <td>64</td>\n",
       "    </tr>\n",
       "    <tr>\n",
       "      <th>3</th>\n",
       "      <td>57</td>\n",
       "      <td>84</td>\n",
       "      <td>67</td>\n",
       "      <td>68</td>\n",
       "    </tr>\n",
       "    <tr>\n",
       "      <th>4</th>\n",
       "      <td>42</td>\n",
       "      <td>27</td>\n",
       "      <td>98</td>\n",
       "      <td>56</td>\n",
       "    </tr>\n",
       "  </tbody>\n",
       "</table>\n",
       "</div>"
      ],
      "text/plain": [
       "    A   B   C   D\n",
       "0  97  35  44  85\n",
       "1  12  64  55  23\n",
       "2  22  18  96  64\n",
       "3  57  84  67  68\n",
       "4  42  27  98  56"
      ]
     },
     "execution_count": 2,
     "metadata": {},
     "output_type": "execute_result"
    }
   ],
   "source": [
    "array= np.random.randint(10,100,size=(5,4))\n",
    "df = pd.DataFrame(array,columns=list('ABCD'))\n",
    "df"
   ]
  },
  {
   "cell_type": "markdown",
   "id": "09a2cd35",
   "metadata": {},
   "source": [
    "#### Access Column and Rows"
   ]
  },
  {
   "cell_type": "code",
   "execution_count": null,
   "id": "5cb9b072",
   "metadata": {},
   "outputs": [],
   "source": [
    "df['Col_name']\n",
    "df[5:10]\n",
    "df.loc['row_labels']\n",
    "df.loc['row_labels','col_labels']\n",
    "df.loc[1:4,'a':'d']\n",
    "df.iloc[row_index,Col_index]\n",
    "df.iloc[2,4]\n",
    "df.iloc[2:4,1:5]\n",
    "df.iloc[[1,3,5],[2,4,6]]"
   ]
  },
  {
   "cell_type": "markdown",
   "id": "e102144f",
   "metadata": {},
   "source": [
    "#### Add COlumn in DF"
   ]
  },
  {
   "cell_type": "code",
   "execution_count": null,
   "id": "6fbb18e0",
   "metadata": {},
   "outputs": [],
   "source": [
    "df['new_col'] = list\n",
    "df['new_col'] = array\n",
    "df['new_col'] = Series\n",
    "df['new_col'] = 'python' #stable\n",
    "df.insert(loc/index,col_name,value)"
   ]
  },
  {
   "cell_type": "markdown",
   "id": "e40e1348",
   "metadata": {},
   "source": [
    "#### Delete data from DF"
   ]
  },
  {
   "cell_type": "code",
   "execution_count": null,
   "id": "8c9b5845",
   "metadata": {},
   "outputs": [],
   "source": [
    "df.drop() # Delete rows and Columns\n",
    "del df\n",
    "del df['col_name']"
   ]
  },
  {
   "cell_type": "markdown",
   "id": "baecb5ae",
   "metadata": {},
   "source": [
    "## 3. Read Data"
   ]
  },
  {
   "cell_type": "code",
   "execution_count": null,
   "id": "438a2fe8",
   "metadata": {},
   "outputs": [],
   "source": [
    "pd.read_csv('csv_file_name.csv')\n",
    "pd.read_excel('excel_file_name.xlsx')\n",
    "pd.read_json('json_file_name.json')\n",
    "\n",
    "df.to_csv('csv_file_name.csv')\n",
    "df.to_excel('excel_file_name.xlsx')\n",
    "df.to_json('json_file_name.json')"
   ]
  },
  {
   "cell_type": "markdown",
   "id": "9b6f9c4c",
   "metadata": {},
   "source": [
    "## 4. Analysis"
   ]
  },
  {
   "cell_type": "code",
   "execution_count": null,
   "id": "4fb892c4",
   "metadata": {},
   "outputs": [],
   "source": [
    "df.head()\n",
    "df.tail()\n",
    "df.info()\n",
    "df.shape\n",
    "df.describe()\n",
    "df.index\n",
    "df.columns\n",
    "df.axes\n",
    "df.dtypes\n",
    "df.T"
   ]
  },
  {
   "cell_type": "markdown",
   "id": "f0779348",
   "metadata": {},
   "source": [
    "## 5. Sort DataFrame"
   ]
  },
  {
   "cell_type": "code",
   "execution_count": null,
   "id": "74606190",
   "metadata": {},
   "outputs": [],
   "source": [
    "df.sort_index()\n",
    "df.sort_values()\n",
    "df.reset_index()\n",
    "df.set_index()"
   ]
  },
  {
   "cell_type": "markdown",
   "id": "e5c37e63",
   "metadata": {},
   "source": [
    "## DF to array/list"
   ]
  },
  {
   "cell_type": "code",
   "execution_count": null,
   "id": "8e0dc6bd",
   "metadata": {},
   "outputs": [],
   "source": [
    "df['A'].values\n",
    "df.A.values.tolist()\n",
    "list(df.A.values)"
   ]
  },
  {
   "cell_type": "markdown",
   "id": "07a8422d",
   "metadata": {},
   "source": [
    "## Handle Null/Missing Values"
   ]
  },
  {
   "cell_type": "code",
   "execution_count": null,
   "id": "7bf7e7d0",
   "metadata": {},
   "outputs": [],
   "source": [
    "df.isna()\n",
    "df.isnull()\n",
    "df.isna().sum()\n",
    "df.isnull().sum()\n",
    "\n",
    "df.fillna()\n",
    "df.dropna(thresh = 2,axis=0/1)\n",
    "df.replace()"
   ]
  },
  {
   "cell_type": "code",
   "execution_count": null,
   "id": "cba314de",
   "metadata": {},
   "outputs": [],
   "source": [
    "df.filter()\n",
    "df.rename()\n",
    "df.unique()\n",
    "df.nunique()\n",
    "df.value_counts()\n",
    "df.astype()\n",
    "df.quantile()\n",
    "df.grouby()\n",
    "df.grouby().first()\n",
    "df.grouby().get_group()\n",
    "df.apply()\n",
    "df.duplicated\n",
    "df.drop_duplicates\n",
    "df['a'].between()\n",
    "df.a.isin()"
   ]
  },
  {
   "cell_type": "markdown",
   "id": "1abe414d",
   "metadata": {},
   "source": [
    "## Join Dataframes"
   ]
  },
  {
   "cell_type": "code",
   "execution_count": null,
   "id": "ea4460aa",
   "metadata": {},
   "outputs": [],
   "source": [
    "df.append()\n",
    "pd.concat()\n",
    "df.join()\n",
    "df.merge()\n",
    "pd.merge()"
   ]
  },
  {
   "cell_type": "markdown",
   "id": "3407f25b",
   "metadata": {},
   "source": [
    "## Stats"
   ]
  },
  {
   "cell_type": "code",
   "execution_count": null,
   "id": "9046698b",
   "metadata": {},
   "outputs": [],
   "source": [
    "df['a'].mean()\n",
    "df['A'].median()\n",
    "stats.mode(df['a'])\n",
    "df['a'].std\n",
    "df['a'].min()\n",
    "df['a'].max"
   ]
  },
  {
   "cell_type": "code",
   "execution_count": null,
   "id": "6b8cdf67",
   "metadata": {},
   "outputs": [],
   "source": [
    "np.where(condition ,if,else)"
   ]
  },
  {
   "cell_type": "code",
   "execution_count": null,
   "id": "7e7650e6",
   "metadata": {},
   "outputs": [],
   "source": []
  },
  {
   "cell_type": "code",
   "execution_count": null,
   "id": "6e4548bd",
   "metadata": {},
   "outputs": [],
   "source": []
  },
  {
   "cell_type": "code",
   "execution_count": null,
   "id": "8126ae99",
   "metadata": {},
   "outputs": [],
   "source": []
  },
  {
   "cell_type": "code",
   "execution_count": null,
   "id": "36afdc02",
   "metadata": {},
   "outputs": [],
   "source": []
  },
  {
   "cell_type": "code",
   "execution_count": null,
   "id": "52f72117",
   "metadata": {},
   "outputs": [],
   "source": []
  },
  {
   "cell_type": "code",
   "execution_count": null,
   "id": "56a4a1c2",
   "metadata": {},
   "outputs": [],
   "source": []
  },
  {
   "cell_type": "code",
   "execution_count": null,
   "id": "bc7f9563",
   "metadata": {},
   "outputs": [],
   "source": []
  },
  {
   "cell_type": "code",
   "execution_count": null,
   "id": "c19cb853",
   "metadata": {},
   "outputs": [],
   "source": []
  },
  {
   "cell_type": "code",
   "execution_count": null,
   "id": "727fccbd",
   "metadata": {},
   "outputs": [],
   "source": []
  },
  {
   "cell_type": "code",
   "execution_count": null,
   "id": "c95721ad",
   "metadata": {},
   "outputs": [],
   "source": []
  }
 ],
 "metadata": {
  "kernelspec": {
   "display_name": "Python 3 (ipykernel)",
   "language": "python",
   "name": "python3"
  },
  "language_info": {
   "codemirror_mode": {
    "name": "ipython",
    "version": 3
   },
   "file_extension": ".py",
   "mimetype": "text/x-python",
   "name": "python",
   "nbconvert_exporter": "python",
   "pygments_lexer": "ipython3",
   "version": "3.9.7"
  }
 },
 "nbformat": 4,
 "nbformat_minor": 5
}
