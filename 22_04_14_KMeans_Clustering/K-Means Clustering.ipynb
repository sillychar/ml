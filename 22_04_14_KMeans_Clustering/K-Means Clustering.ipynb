{
 "cells": [
  {
   "cell_type": "markdown",
   "id": "ff250a9d",
   "metadata": {},
   "source": [
    "# K-Means Clustering"
   ]
  },
  {
   "cell_type": "code",
   "execution_count": null,
   "id": "9798e41e",
   "metadata": {},
   "outputs": [],
   "source": [
    "- K-means is an Unsupervised algorithm\n",
    "- Similar properties of datapoints\n",
    "- Homogenous groups within data\n",
    "Clustering is also termed as Segmentation.\n",
    "\n",
    "- It is a process of dividing datasets into groups, consisting of similar data points\n",
    "- Distance Based Algorithms\n",
    "- Centroid based algorithm\n",
    "- We do not have actual target columns , We cannot evaluate accuracy\n",
    "- Feature scaling is required\n",
    "\n",
    "1. Unlabballed data\n",
    "2. Find a pattern / hidden pattern\n",
    "  \n",
    "    "
   ]
  },
  {
   "cell_type": "markdown",
   "id": "f2b6f6db",
   "metadata": {},
   "source": [
    "## KMeans Algo Steps"
   ]
  },
  {
   "cell_type": "code",
   "execution_count": null,
   "id": "795facab",
   "metadata": {},
   "outputs": [],
   "source": [
    "1. Select the value of k(number of clusters or centroid)\n",
    "\n",
    "2. Select random centroids\n",
    "\n",
    "3. Calculate distance(Euclidean or Manhattan) between centroids and all the datapoints\n",
    "\n",
    "4. Assign each datapoint to the nearest centroid(cluster)\n",
    "\n",
    "5. Update the values of centroid by using mean of the cluster datapoints\n",
    "\n",
    "6. Keep iterating untill there is no change in centroid or no movement \n",
    "\n",
    "7. Algo will now have results to compare with sum of variation within cluster"
   ]
  },
  {
   "cell_type": "markdown",
   "id": "52f734f1",
   "metadata": {},
   "source": [
    "## Elbow method"
   ]
  },
  {
   "cell_type": "code",
   "execution_count": null,
   "id": "9dc9c490",
   "metadata": {},
   "outputs": [],
   "source": [
    "Most popular method to find out optimum number of clusters\n",
    "(WCSS) Within cluster sum of squares Which define total variation within cluster\n",
    "Optimum number of clusters"
   ]
  },
  {
   "cell_type": "markdown",
   "id": "86da67d6",
   "metadata": {},
   "source": [
    "## Advantages"
   ]
  },
  {
   "cell_type": "code",
   "execution_count": null,
   "id": "e8c0f500",
   "metadata": {},
   "outputs": [],
   "source": [
    "1. Simple to implement\n",
    "2. Can create  groups based on nature of data\n",
    "3. Eager learner"
   ]
  },
  {
   "cell_type": "markdown",
   "id": "55b18de9",
   "metadata": {},
   "source": [
    "## Disadvantages"
   ]
  },
  {
   "cell_type": "code",
   "execution_count": null,
   "id": "509a26f0",
   "metadata": {},
   "outputs": [],
   "source": [
    "Requires Scaling\n",
    "Outliers impact\n",
    "difficult to find k value\n",
    "cannot find accuracy"
   ]
  },
  {
   "cell_type": "code",
   "execution_count": null,
   "id": "92b0532f",
   "metadata": {},
   "outputs": [],
   "source": []
  },
  {
   "cell_type": "code",
   "execution_count": null,
   "id": "63fcc4bd",
   "metadata": {},
   "outputs": [],
   "source": []
  },
  {
   "cell_type": "code",
   "execution_count": null,
   "id": "d61ddf33",
   "metadata": {},
   "outputs": [],
   "source": []
  },
  {
   "cell_type": "code",
   "execution_count": null,
   "id": "d25e1b92",
   "metadata": {},
   "outputs": [],
   "source": []
  },
  {
   "cell_type": "code",
   "execution_count": null,
   "id": "355b86fc",
   "metadata": {},
   "outputs": [],
   "source": []
  },
  {
   "cell_type": "code",
   "execution_count": null,
   "id": "67184423",
   "metadata": {},
   "outputs": [],
   "source": []
  },
  {
   "cell_type": "code",
   "execution_count": null,
   "id": "fd0ca285",
   "metadata": {},
   "outputs": [],
   "source": []
  },
  {
   "cell_type": "code",
   "execution_count": null,
   "id": "3eea256f",
   "metadata": {},
   "outputs": [],
   "source": []
  },
  {
   "cell_type": "code",
   "execution_count": null,
   "id": "b336c2c1",
   "metadata": {},
   "outputs": [],
   "source": []
  },
  {
   "cell_type": "code",
   "execution_count": null,
   "id": "d5a5e7c4",
   "metadata": {},
   "outputs": [],
   "source": []
  },
  {
   "cell_type": "code",
   "execution_count": null,
   "id": "705f2086",
   "metadata": {},
   "outputs": [],
   "source": []
  },
  {
   "cell_type": "code",
   "execution_count": null,
   "id": "9fb57547",
   "metadata": {},
   "outputs": [],
   "source": []
  },
  {
   "cell_type": "code",
   "execution_count": null,
   "id": "9c62086d",
   "metadata": {},
   "outputs": [],
   "source": []
  },
  {
   "cell_type": "code",
   "execution_count": null,
   "id": "420a8ee0",
   "metadata": {},
   "outputs": [],
   "source": []
  },
  {
   "cell_type": "code",
   "execution_count": null,
   "id": "28c9b23a",
   "metadata": {},
   "outputs": [],
   "source": []
  },
  {
   "cell_type": "code",
   "execution_count": null,
   "id": "1663bbca",
   "metadata": {},
   "outputs": [],
   "source": []
  },
  {
   "cell_type": "code",
   "execution_count": null,
   "id": "38113b8b",
   "metadata": {},
   "outputs": [],
   "source": []
  },
  {
   "cell_type": "code",
   "execution_count": null,
   "id": "61b7f0f4",
   "metadata": {},
   "outputs": [],
   "source": []
  },
  {
   "cell_type": "code",
   "execution_count": null,
   "id": "956b42ca",
   "metadata": {},
   "outputs": [],
   "source": []
  },
  {
   "cell_type": "code",
   "execution_count": null,
   "id": "1522f2b8",
   "metadata": {},
   "outputs": [],
   "source": []
  },
  {
   "cell_type": "code",
   "execution_count": null,
   "id": "4042695b",
   "metadata": {},
   "outputs": [],
   "source": []
  },
  {
   "cell_type": "code",
   "execution_count": null,
   "id": "9ee7c6db",
   "metadata": {},
   "outputs": [],
   "source": []
  },
  {
   "cell_type": "code",
   "execution_count": null,
   "id": "12a23f87",
   "metadata": {},
   "outputs": [],
   "source": []
  },
  {
   "cell_type": "code",
   "execution_count": null,
   "id": "ec12c200",
   "metadata": {},
   "outputs": [],
   "source": []
  },
  {
   "cell_type": "code",
   "execution_count": null,
   "id": "ed36ee33",
   "metadata": {},
   "outputs": [],
   "source": []
  },
  {
   "cell_type": "code",
   "execution_count": null,
   "id": "01677429",
   "metadata": {},
   "outputs": [],
   "source": []
  },
  {
   "cell_type": "code",
   "execution_count": null,
   "id": "05fd54cd",
   "metadata": {},
   "outputs": [],
   "source": []
  },
  {
   "cell_type": "code",
   "execution_count": null,
   "id": "332aea7d",
   "metadata": {},
   "outputs": [],
   "source": []
  },
  {
   "cell_type": "code",
   "execution_count": null,
   "id": "4f70dc52",
   "metadata": {},
   "outputs": [],
   "source": []
  },
  {
   "cell_type": "code",
   "execution_count": null,
   "id": "a10d844f",
   "metadata": {},
   "outputs": [],
   "source": []
  }
 ],
 "metadata": {
  "kernelspec": {
   "display_name": "Python 3",
   "language": "python",
   "name": "python3"
  },
  "language_info": {
   "codemirror_mode": {
    "name": "ipython",
    "version": 3
   },
   "file_extension": ".py",
   "mimetype": "text/x-python",
   "name": "python",
   "nbconvert_exporter": "python",
   "pygments_lexer": "ipython3",
   "version": "3.8.8"
  }
 },
 "nbformat": 4,
 "nbformat_minor": 5
}
