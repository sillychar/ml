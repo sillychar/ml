{
 "cells": [
  {
   "cell_type": "markdown",
   "id": "adcbed97",
   "metadata": {},
   "source": [
    "# Linear Regression"
   ]
  },
  {
   "cell_type": "code",
   "execution_count": null,
   "id": "408fd1e3",
   "metadata": {},
   "outputs": [],
   "source": [
    "when y = x # 0 = theta # when value of x is same as y \n",
    " 0 will be at 45,\n",
    "    tan 45 =1\n",
    "    y = m*x\n",
    "    y = tan(45)*x\n",
    "    y = 1*x\n",
    "    y = x\n",
    "    \n",
    "    \n",
    "when y != x, \n",
    "    when x= 1 , y =2\n",
    "    x=2, y = 3\n",
    "    \n",
    "    x =0 , y = ?\n",
    "    # what is value of y when value of x is 0 >> intercept\n",
    "    y = mx+c\n",
    "    \n",
    "m and c reflects the relationship between x and y in your dataset\n",
    "m and c will form us the BFL/model\n",
    "\n",
    "\n",
    "when 0 is 25,\n",
    "Q. what is tan(theta(0)),\n",
    ">> when we change 1 unit in x, how much y value changes\n"
   ]
  },
  {
   "cell_type": "code",
   "execution_count": null,
   "id": "a2b42063",
   "metadata": {},
   "outputs": [],
   "source": [
    ">>When we have Multiple features\n",
    "\n",
    ">>features = dimensions in feature space\n",
    "\n",
    ">>dimensions forms planes/hyperplanes \n",
    "\n",
    ">>lets assume we have two ind var\n",
    " y = m1x1 + m2x2 + c\n",
    "    \n",
    ">> feature space>> all dimensions of data\n",
    ">> model dimensions >> one less than feature space (one less >> dependent var) we have to exclude depedent var\n",
    "\n",
    "hyperplanes >> when we have multiple dimensions\n",
    "when you have more than 4D\n",
    "Since we cannot imagine hyperplanes, we cannot explain it.\n",
    "But it posses all the properties of feature space.\n",
    "\n",
    "Linear model works upto 300 dimensions\n",
    "    human brain works upto 3 dimensions\n",
    "    \n",
    "    All 300 dimensions will be orthogonal to each other"
   ]
  },
  {
   "cell_type": "markdown",
   "id": "23ac14ff",
   "metadata": {},
   "source": [
    ">>Assumption of Independance:\n",
    "    Algorithm assumes that ind var are independent to each other/ they don't influence each other\n",
    "    \n",
    ">>ex.   weight of car     horse power      speed (y)\n",
    "\n",
    ">>with help of WT and HP we can build a model\n",
    "\n",
    ">>in real world WT is related with HP,\n",
    "  because more the WT more the HP\n",
    "\n",
    ">> But algo assumes they are not related\n",
    "\n",
    ">> This is a problem >> problem of colinearity\n",
    "so when there is a strong colinearity, we need resolve it.\n",
    "\n",
    "how to resolve it >> dimensionality reduction(PCA) Principal Component Analysis\n",
    "                     drop that dimension"
   ]
  },
  {
   "cell_type": "markdown",
   "id": "432567a0",
   "metadata": {},
   "source": [
    "Correlation:  \n",
    "    -It indicates how closely the relation of two varibale is.  \n",
    "    -by default we use Pearson's correlation , it ranges from -1 to +1  \n",
    "    -when x increase , y also increase >> positive corr >> Good Predictor with r value closer to +1  \n",
    "    -when y decrease , x increases >> -ve corr >> Good Predictor with r value closer to -1  \n",
    "    -when corr gives values near to -1 or +1 >> indicates linear relation between two variables  \n",
    "    -when there is no linear relation between 2 variables >> Bad Predictor"
   ]
  },
  {
   "cell_type": "markdown",
   "id": "ed69996d",
   "metadata": {},
   "source": [
    "Coefficient of Correlation = R (value)  \n",
    "\n",
    ">> It is the indication of how strong the relationship is with variables.  \n",
    "\n",
    ">>the relationship with two variables:  \n",
    "    -ind var to ind var relationship must be low \n",
    "    -ind var to depnt var relationship must be high\n",
    "    \n",
    ">> R ranges from -1 to +1  \n",
    "\n",
    "\n",
    ">>When R is -1 or +1 >> ideal relation >> it does'nt exist >> BFL passes through all points  \n",
    "-because when r = 1 >> x = y  \n",
    "\n",
    ">>when R value ranges from  \n",
    "Good Predictors:  \n",
    "    - +0.7 to +1  \n",
    "    - -0.7 to -1  \n",
    "    \n",
    "Bad Predictor :  \n",
    "    - -0.3 to +0.3  \n",
    "    \n",
    "We need to look/study indepth about features:      \n",
    "    - -0.3 to -0.7  \n",
    "    - 0.3 to 0.7"
   ]
  },
  {
   "cell_type": "code",
   "execution_count": null,
   "id": "19c0bdb2",
   "metadata": {},
   "outputs": [],
   "source": []
  },
  {
   "cell_type": "code",
   "execution_count": null,
   "id": "9df22498",
   "metadata": {},
   "outputs": [],
   "source": []
  },
  {
   "cell_type": "code",
   "execution_count": null,
   "id": "1d18efa8",
   "metadata": {},
   "outputs": [],
   "source": []
  },
  {
   "cell_type": "code",
   "execution_count": null,
   "id": "27d61f9c",
   "metadata": {},
   "outputs": [],
   "source": []
  },
  {
   "cell_type": "code",
   "execution_count": null,
   "id": "6d82ae4d",
   "metadata": {},
   "outputs": [],
   "source": []
  },
  {
   "cell_type": "code",
   "execution_count": null,
   "id": "5e6c0c24",
   "metadata": {},
   "outputs": [],
   "source": []
  }
 ],
 "metadata": {
  "kernelspec": {
   "display_name": "Python 3 (ipykernel)",
   "language": "python",
   "name": "python3"
  },
  "language_info": {
   "codemirror_mode": {
    "name": "ipython",
    "version": 3
   },
   "file_extension": ".py",
   "mimetype": "text/x-python",
   "name": "python",
   "nbconvert_exporter": "python",
   "pygments_lexer": "ipython3",
   "version": "3.9.7"
  }
 },
 "nbformat": 4,
 "nbformat_minor": 5
}
