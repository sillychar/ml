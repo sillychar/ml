{
 "cells": [
  {
   "cell_type": "markdown",
   "id": "67798bfc",
   "metadata": {},
   "source": [
    "### 5. np.empty()"
   ]
  },
  {
   "cell_type": "code",
   "execution_count": 1,
   "id": "e1e04c73",
   "metadata": {},
   "outputs": [],
   "source": [
    "import numpy as np"
   ]
  },
  {
   "cell_type": "code",
   "execution_count": null,
   "id": "4334b944",
   "metadata": {},
   "outputs": [],
   "source": [
    "Random Values\n",
    "default values are zero\n",
    "When user have to set manual values"
   ]
  },
  {
   "cell_type": "code",
   "execution_count": 2,
   "id": "588bb8eb",
   "metadata": {},
   "outputs": [
    {
     "data": {
      "text/plain": [
       "array([2.12199579e-314, 1.05699242e-307, 6.58095440e-321, 1.16709769e-312,\n",
       "       1.60220936e-306])"
      ]
     },
     "execution_count": 2,
     "metadata": {},
     "output_type": "execute_result"
    }
   ],
   "source": [
    "arr = np.empty(5)\n",
    "arr"
   ]
  },
  {
   "cell_type": "code",
   "execution_count": 3,
   "id": "5b52cf48",
   "metadata": {},
   "outputs": [
    {
     "ename": "TypeError",
     "evalue": "Cannot interpret '4' as a data type",
     "output_type": "error",
     "traceback": [
      "\u001b[1;31m---------------------------------------------------------------------------\u001b[0m",
      "\u001b[1;31mTypeError\u001b[0m                                 Traceback (most recent call last)",
      "\u001b[1;32m<ipython-input-3-b2d8b56acb52>\u001b[0m in \u001b[0;36m<module>\u001b[1;34m\u001b[0m\n\u001b[1;32m----> 1\u001b[1;33m \u001b[0marr\u001b[0m \u001b[1;33m=\u001b[0m \u001b[0mnp\u001b[0m\u001b[1;33m.\u001b[0m\u001b[0mempty\u001b[0m\u001b[1;33m(\u001b[0m\u001b[1;36m3\u001b[0m\u001b[1;33m,\u001b[0m\u001b[1;36m4\u001b[0m\u001b[1;33m)\u001b[0m\u001b[1;33m\u001b[0m\u001b[1;33m\u001b[0m\u001b[0m\n\u001b[0m\u001b[0;32m      2\u001b[0m \u001b[0marr\u001b[0m\u001b[1;33m\u001b[0m\u001b[1;33m\u001b[0m\u001b[0m\n",
      "\u001b[1;31mTypeError\u001b[0m: Cannot interpret '4' as a data type"
     ]
    }
   ],
   "source": [
    "arr = np.empty(3,4)\n",
    "arr"
   ]
  },
  {
   "cell_type": "code",
   "execution_count": 5,
   "id": "072ec52a",
   "metadata": {},
   "outputs": [
    {
     "data": {
      "text/plain": [
       "array([2.41907520e-312, 6.79038654e-313, 6.79038653e-313, 2.37663529e-312,\n",
       "       2.14321575e-312, 2.37663529e-312, 2.56761491e-312, 1.08221785e-312,\n",
       "       1.10343781e-312, 1.69121367e-306])"
      ]
     },
     "execution_count": 5,
     "metadata": {},
     "output_type": "execute_result"
    }
   ],
   "source": [
    "arr = np.empty(10)\n",
    "arr"
   ]
  },
  {
   "cell_type": "markdown",
   "id": "467cf818",
   "metadata": {},
   "source": [
    "### 6. linspace()"
   ]
  },
  {
   "cell_type": "code",
   "execution_count": null,
   "id": "ada7300c",
   "metadata": {},
   "outputs": [],
   "source": [
    "np.linspace(start,stop,num=50,retstep = True)\n",
    "Return Evenly spaced values"
   ]
  },
  {
   "cell_type": "code",
   "execution_count": 6,
   "id": "5ec0fc61",
   "metadata": {},
   "outputs": [
    {
     "data": {
      "text/plain": [
       "array([ 1.,  2.,  3.,  4.,  5.,  6.,  7.,  8.,  9., 10., 11., 12., 13.,\n",
       "       14., 15., 16., 17., 18., 19., 20., 21., 22., 23., 24., 25., 26.,\n",
       "       27., 28., 29., 30., 31., 32., 33., 34., 35., 36., 37., 38., 39.,\n",
       "       40., 41., 42., 43., 44., 45., 46., 47., 48., 49., 50.])"
      ]
     },
     "execution_count": 6,
     "metadata": {},
     "output_type": "execute_result"
    }
   ],
   "source": [
    "array1 = np.linspace(1,50)\n",
    "array1"
   ]
  },
  {
   "cell_type": "code",
   "execution_count": 7,
   "id": "7414437a",
   "metadata": {},
   "outputs": [
    {
     "data": {
      "text/plain": [
       "array([ 1.,  2.,  3.,  4.,  5.,  6.,  7.,  8.,  9., 10., 11., 12., 13.,\n",
       "       14., 15., 16., 17., 18., 19., 20., 21., 22., 23., 24., 25., 26.,\n",
       "       27., 28., 29., 30., 31., 32., 33., 34., 35., 36., 37., 38., 39.,\n",
       "       40., 41., 42., 43., 44., 45., 46., 47., 48., 49., 50.])"
      ]
     },
     "execution_count": 7,
     "metadata": {},
     "output_type": "execute_result"
    }
   ],
   "source": [
    "array1 = np.linspace(1,50, num=50)\n",
    "array1"
   ]
  },
  {
   "cell_type": "code",
   "execution_count": 8,
   "id": "cf7dc2bd",
   "metadata": {},
   "outputs": [
    {
     "data": {
      "text/plain": [
       "array([ 1.        ,  3.57894737,  6.15789474,  8.73684211, 11.31578947,\n",
       "       13.89473684, 16.47368421, 19.05263158, 21.63157895, 24.21052632,\n",
       "       26.78947368, 29.36842105, 31.94736842, 34.52631579, 37.10526316,\n",
       "       39.68421053, 42.26315789, 44.84210526, 47.42105263, 50.        ])"
      ]
     },
     "execution_count": 8,
     "metadata": {},
     "output_type": "execute_result"
    }
   ],
   "source": [
    "array1 = np.linspace(1,50, num=20)\n",
    "array1"
   ]
  },
  {
   "cell_type": "code",
   "execution_count": 10,
   "id": "df1d76a9",
   "metadata": {},
   "outputs": [
    {
     "data": {
      "text/plain": [
       "(array([ 1.        ,  1.3877551 ,  1.7755102 ,  2.16326531,  2.55102041,\n",
       "         2.93877551,  3.32653061,  3.71428571,  4.10204082,  4.48979592,\n",
       "         4.87755102,  5.26530612,  5.65306122,  6.04081633,  6.42857143,\n",
       "         6.81632653,  7.20408163,  7.59183673,  7.97959184,  8.36734694,\n",
       "         8.75510204,  9.14285714,  9.53061224,  9.91836735, 10.30612245,\n",
       "        10.69387755, 11.08163265, 11.46938776, 11.85714286, 12.24489796,\n",
       "        12.63265306, 13.02040816, 13.40816327, 13.79591837, 14.18367347,\n",
       "        14.57142857, 14.95918367, 15.34693878, 15.73469388, 16.12244898,\n",
       "        16.51020408, 16.89795918, 17.28571429, 17.67346939, 18.06122449,\n",
       "        18.44897959, 18.83673469, 19.2244898 , 19.6122449 , 20.        ]),\n",
       " 0.3877551020408163)"
      ]
     },
     "execution_count": 10,
     "metadata": {},
     "output_type": "execute_result"
    }
   ],
   "source": [
    "array1 = np.linspace(1,20, num=50, retstep=True)\n",
    "array1"
   ]
  },
  {
   "cell_type": "code",
   "execution_count": 11,
   "id": "2aefef87",
   "metadata": {},
   "outputs": [
    {
     "data": {
      "text/plain": [
       "(array([ 1.        ,  1.48717949,  1.97435897,  2.46153846,  2.94871795,\n",
       "         3.43589744,  3.92307692,  4.41025641,  4.8974359 ,  5.38461538,\n",
       "         5.87179487,  6.35897436,  6.84615385,  7.33333333,  7.82051282,\n",
       "         8.30769231,  8.79487179,  9.28205128,  9.76923077, 10.25641026,\n",
       "        10.74358974, 11.23076923, 11.71794872, 12.20512821, 12.69230769,\n",
       "        13.17948718, 13.66666667, 14.15384615, 14.64102564, 15.12820513,\n",
       "        15.61538462, 16.1025641 , 16.58974359, 17.07692308, 17.56410256,\n",
       "        18.05128205, 18.53846154, 19.02564103, 19.51282051, 20.        ]),\n",
       " 0.48717948717948717)"
      ]
     },
     "execution_count": 11,
     "metadata": {},
     "output_type": "execute_result"
    }
   ],
   "source": [
    "array1 = np.linspace(1,20, num=40, retstep=True)\n",
    "array1"
   ]
  },
  {
   "cell_type": "code",
   "execution_count": 13,
   "id": "df01f1c3",
   "metadata": {},
   "outputs": [
    {
     "data": {
      "text/plain": [
       "array([ 1.  ,  5.75, 10.5 , 15.25, 20.  ])"
      ]
     },
     "execution_count": 13,
     "metadata": {},
     "output_type": "execute_result"
    }
   ],
   "source": [
    "array1 = np.linspace(1,20, num=5, retstep=True)\n",
    "array1"
   ]
  },
  {
   "cell_type": "code",
   "execution_count": 17,
   "id": "f1603241",
   "metadata": {
    "scrolled": true
   },
   "outputs": [
    {
     "data": {
      "text/plain": [
       "{'zeros': array([0., 0., 0., 0., 0., 0., 0., 0., 0., 0.]),\n",
       " 'ones': array([1., 1., 1., 1., 1., 1., 1., 1., 1., 1.]),\n",
       " 'arange': array([10, 11, 12, 13, 14, 15, 16, 17, 18, 19]),\n",
       " 'linspace': array([100. , 112.5, 125. , 137.5, 150. , 162.5, 175. , 187.5, 200. ])}"
      ]
     },
     "execution_count": 17,
     "metadata": {},
     "output_type": "execute_result"
    }
   ],
   "source": [
    "dict1 = {'zeros':np.zeros(10),\n",
    "        'ones':np.ones(10),\n",
    "        'arange':np.arange(10,20),\n",
    "        'linspace':np.linspace(100,200,num=9)}\n",
    "dict1"
   ]
  },
  {
   "cell_type": "code",
   "execution_count": 15,
   "id": "74317a20",
   "metadata": {},
   "outputs": [],
   "source": [
    "import pandas as pd"
   ]
  },
  {
   "cell_type": "code",
   "execution_count": 18,
   "id": "976a6dc7",
   "metadata": {},
   "outputs": [
    {
     "ename": "ValueError",
     "evalue": "arrays must all be same length",
     "output_type": "error",
     "traceback": [
      "\u001b[1;31m---------------------------------------------------------------------------\u001b[0m",
      "\u001b[1;31mValueError\u001b[0m                                Traceback (most recent call last)",
      "\u001b[1;32m<ipython-input-18-1275405089b8>\u001b[0m in \u001b[0;36m<module>\u001b[1;34m\u001b[0m\n\u001b[1;32m----> 1\u001b[1;33m \u001b[0mdf\u001b[0m \u001b[1;33m=\u001b[0m \u001b[0mpd\u001b[0m\u001b[1;33m.\u001b[0m\u001b[0mDataFrame\u001b[0m\u001b[1;33m(\u001b[0m\u001b[0mdict1\u001b[0m\u001b[1;33m)\u001b[0m\u001b[1;33m\u001b[0m\u001b[1;33m\u001b[0m\u001b[0m\n\u001b[0m\u001b[0;32m      2\u001b[0m \u001b[0mdf\u001b[0m\u001b[1;33m\u001b[0m\u001b[1;33m\u001b[0m\u001b[0m\n",
      "\u001b[1;32m~\\anaconda3\\lib\\site-packages\\pandas\\core\\frame.py\u001b[0m in \u001b[0;36m__init__\u001b[1;34m(self, data, index, columns, dtype, copy)\u001b[0m\n\u001b[0;32m    527\u001b[0m \u001b[1;33m\u001b[0m\u001b[0m\n\u001b[0;32m    528\u001b[0m         \u001b[1;32melif\u001b[0m \u001b[0misinstance\u001b[0m\u001b[1;33m(\u001b[0m\u001b[0mdata\u001b[0m\u001b[1;33m,\u001b[0m \u001b[0mdict\u001b[0m\u001b[1;33m)\u001b[0m\u001b[1;33m:\u001b[0m\u001b[1;33m\u001b[0m\u001b[1;33m\u001b[0m\u001b[0m\n\u001b[1;32m--> 529\u001b[1;33m             \u001b[0mmgr\u001b[0m \u001b[1;33m=\u001b[0m \u001b[0minit_dict\u001b[0m\u001b[1;33m(\u001b[0m\u001b[0mdata\u001b[0m\u001b[1;33m,\u001b[0m \u001b[0mindex\u001b[0m\u001b[1;33m,\u001b[0m \u001b[0mcolumns\u001b[0m\u001b[1;33m,\u001b[0m \u001b[0mdtype\u001b[0m\u001b[1;33m=\u001b[0m\u001b[0mdtype\u001b[0m\u001b[1;33m)\u001b[0m\u001b[1;33m\u001b[0m\u001b[1;33m\u001b[0m\u001b[0m\n\u001b[0m\u001b[0;32m    530\u001b[0m         \u001b[1;32melif\u001b[0m \u001b[0misinstance\u001b[0m\u001b[1;33m(\u001b[0m\u001b[0mdata\u001b[0m\u001b[1;33m,\u001b[0m \u001b[0mma\u001b[0m\u001b[1;33m.\u001b[0m\u001b[0mMaskedArray\u001b[0m\u001b[1;33m)\u001b[0m\u001b[1;33m:\u001b[0m\u001b[1;33m\u001b[0m\u001b[1;33m\u001b[0m\u001b[0m\n\u001b[0;32m    531\u001b[0m             \u001b[1;32mimport\u001b[0m \u001b[0mnumpy\u001b[0m\u001b[1;33m.\u001b[0m\u001b[0mma\u001b[0m\u001b[1;33m.\u001b[0m\u001b[0mmrecords\u001b[0m \u001b[1;32mas\u001b[0m \u001b[0mmrecords\u001b[0m\u001b[1;33m\u001b[0m\u001b[1;33m\u001b[0m\u001b[0m\n",
      "\u001b[1;32m~\\anaconda3\\lib\\site-packages\\pandas\\core\\internals\\construction.py\u001b[0m in \u001b[0;36minit_dict\u001b[1;34m(data, index, columns, dtype)\u001b[0m\n\u001b[0;32m    285\u001b[0m             \u001b[0marr\u001b[0m \u001b[1;32mif\u001b[0m \u001b[1;32mnot\u001b[0m \u001b[0mis_datetime64tz_dtype\u001b[0m\u001b[1;33m(\u001b[0m\u001b[0marr\u001b[0m\u001b[1;33m)\u001b[0m \u001b[1;32melse\u001b[0m \u001b[0marr\u001b[0m\u001b[1;33m.\u001b[0m\u001b[0mcopy\u001b[0m\u001b[1;33m(\u001b[0m\u001b[1;33m)\u001b[0m \u001b[1;32mfor\u001b[0m \u001b[0marr\u001b[0m \u001b[1;32min\u001b[0m \u001b[0marrays\u001b[0m\u001b[1;33m\u001b[0m\u001b[1;33m\u001b[0m\u001b[0m\n\u001b[0;32m    286\u001b[0m         ]\n\u001b[1;32m--> 287\u001b[1;33m     \u001b[1;32mreturn\u001b[0m \u001b[0marrays_to_mgr\u001b[0m\u001b[1;33m(\u001b[0m\u001b[0marrays\u001b[0m\u001b[1;33m,\u001b[0m \u001b[0mdata_names\u001b[0m\u001b[1;33m,\u001b[0m \u001b[0mindex\u001b[0m\u001b[1;33m,\u001b[0m \u001b[0mcolumns\u001b[0m\u001b[1;33m,\u001b[0m \u001b[0mdtype\u001b[0m\u001b[1;33m=\u001b[0m\u001b[0mdtype\u001b[0m\u001b[1;33m)\u001b[0m\u001b[1;33m\u001b[0m\u001b[1;33m\u001b[0m\u001b[0m\n\u001b[0m\u001b[0;32m    288\u001b[0m \u001b[1;33m\u001b[0m\u001b[0m\n\u001b[0;32m    289\u001b[0m \u001b[1;33m\u001b[0m\u001b[0m\n",
      "\u001b[1;32m~\\anaconda3\\lib\\site-packages\\pandas\\core\\internals\\construction.py\u001b[0m in \u001b[0;36marrays_to_mgr\u001b[1;34m(arrays, arr_names, index, columns, dtype, verify_integrity)\u001b[0m\n\u001b[0;32m     78\u001b[0m         \u001b[1;31m# figure out the index, if necessary\u001b[0m\u001b[1;33m\u001b[0m\u001b[1;33m\u001b[0m\u001b[1;33m\u001b[0m\u001b[0m\n\u001b[0;32m     79\u001b[0m         \u001b[1;32mif\u001b[0m \u001b[0mindex\u001b[0m \u001b[1;32mis\u001b[0m \u001b[1;32mNone\u001b[0m\u001b[1;33m:\u001b[0m\u001b[1;33m\u001b[0m\u001b[1;33m\u001b[0m\u001b[0m\n\u001b[1;32m---> 80\u001b[1;33m             \u001b[0mindex\u001b[0m \u001b[1;33m=\u001b[0m \u001b[0mextract_index\u001b[0m\u001b[1;33m(\u001b[0m\u001b[0marrays\u001b[0m\u001b[1;33m)\u001b[0m\u001b[1;33m\u001b[0m\u001b[1;33m\u001b[0m\u001b[0m\n\u001b[0m\u001b[0;32m     81\u001b[0m         \u001b[1;32melse\u001b[0m\u001b[1;33m:\u001b[0m\u001b[1;33m\u001b[0m\u001b[1;33m\u001b[0m\u001b[0m\n\u001b[0;32m     82\u001b[0m             \u001b[0mindex\u001b[0m \u001b[1;33m=\u001b[0m \u001b[0mensure_index\u001b[0m\u001b[1;33m(\u001b[0m\u001b[0mindex\u001b[0m\u001b[1;33m)\u001b[0m\u001b[1;33m\u001b[0m\u001b[1;33m\u001b[0m\u001b[0m\n",
      "\u001b[1;32m~\\anaconda3\\lib\\site-packages\\pandas\\core\\internals\\construction.py\u001b[0m in \u001b[0;36mextract_index\u001b[1;34m(data)\u001b[0m\n\u001b[0;32m    399\u001b[0m             \u001b[0mlengths\u001b[0m \u001b[1;33m=\u001b[0m \u001b[0mlist\u001b[0m\u001b[1;33m(\u001b[0m\u001b[0mset\u001b[0m\u001b[1;33m(\u001b[0m\u001b[0mraw_lengths\u001b[0m\u001b[1;33m)\u001b[0m\u001b[1;33m)\u001b[0m\u001b[1;33m\u001b[0m\u001b[1;33m\u001b[0m\u001b[0m\n\u001b[0;32m    400\u001b[0m             \u001b[1;32mif\u001b[0m \u001b[0mlen\u001b[0m\u001b[1;33m(\u001b[0m\u001b[0mlengths\u001b[0m\u001b[1;33m)\u001b[0m \u001b[1;33m>\u001b[0m \u001b[1;36m1\u001b[0m\u001b[1;33m:\u001b[0m\u001b[1;33m\u001b[0m\u001b[1;33m\u001b[0m\u001b[0m\n\u001b[1;32m--> 401\u001b[1;33m                 \u001b[1;32mraise\u001b[0m \u001b[0mValueError\u001b[0m\u001b[1;33m(\u001b[0m\u001b[1;34m\"arrays must all be same length\"\u001b[0m\u001b[1;33m)\u001b[0m\u001b[1;33m\u001b[0m\u001b[1;33m\u001b[0m\u001b[0m\n\u001b[0m\u001b[0;32m    402\u001b[0m \u001b[1;33m\u001b[0m\u001b[0m\n\u001b[0;32m    403\u001b[0m             \u001b[1;32mif\u001b[0m \u001b[0mhave_dicts\u001b[0m\u001b[1;33m:\u001b[0m\u001b[1;33m\u001b[0m\u001b[1;33m\u001b[0m\u001b[0m\n",
      "\u001b[1;31mValueError\u001b[0m: arrays must all be same length"
     ]
    }
   ],
   "source": [
    "df = pd.DataFrame(dict1)\n",
    "df"
   ]
  },
  {
   "cell_type": "code",
   "execution_count": 14,
   "id": "97e7b2c8",
   "metadata": {},
   "outputs": [
    {
     "data": {
      "text/plain": [
       "{'zeros': array([0., 0., 0., 0., 0., 0., 0., 0., 0., 0.]),\n",
       " 'ones': array([1., 1., 1., 1., 1., 1., 1., 1., 1., 1.]),\n",
       " 'arange': array([10, 11, 12, 13, 14, 15, 16, 17, 18, 19]),\n",
       " 'linspace': array([100.        , 111.11111111, 122.22222222, 133.33333333,\n",
       "        144.44444444, 155.55555556, 166.66666667, 177.77777778,\n",
       "        188.88888889, 200.        ])}"
      ]
     },
     "execution_count": 14,
     "metadata": {},
     "output_type": "execute_result"
    }
   ],
   "source": [
    "dict1 = {'zeros':np.zeros(10),\n",
    "        'ones':np.ones(10),\n",
    "        'arange':np.arange(10,20),\n",
    "        'linspace':np.linspace(100,200,num=10)}\n",
    "dict1"
   ]
  },
  {
   "cell_type": "code",
   "execution_count": 16,
   "id": "75d5c6de",
   "metadata": {},
   "outputs": [
    {
     "data": {
      "text/html": [
       "<div>\n",
       "<style scoped>\n",
       "    .dataframe tbody tr th:only-of-type {\n",
       "        vertical-align: middle;\n",
       "    }\n",
       "\n",
       "    .dataframe tbody tr th {\n",
       "        vertical-align: top;\n",
       "    }\n",
       "\n",
       "    .dataframe thead th {\n",
       "        text-align: right;\n",
       "    }\n",
       "</style>\n",
       "<table border=\"1\" class=\"dataframe\">\n",
       "  <thead>\n",
       "    <tr style=\"text-align: right;\">\n",
       "      <th></th>\n",
       "      <th>zeros</th>\n",
       "      <th>ones</th>\n",
       "      <th>arange</th>\n",
       "      <th>linspace</th>\n",
       "    </tr>\n",
       "  </thead>\n",
       "  <tbody>\n",
       "    <tr>\n",
       "      <th>0</th>\n",
       "      <td>0.0</td>\n",
       "      <td>1.0</td>\n",
       "      <td>10</td>\n",
       "      <td>100.000000</td>\n",
       "    </tr>\n",
       "    <tr>\n",
       "      <th>1</th>\n",
       "      <td>0.0</td>\n",
       "      <td>1.0</td>\n",
       "      <td>11</td>\n",
       "      <td>111.111111</td>\n",
       "    </tr>\n",
       "    <tr>\n",
       "      <th>2</th>\n",
       "      <td>0.0</td>\n",
       "      <td>1.0</td>\n",
       "      <td>12</td>\n",
       "      <td>122.222222</td>\n",
       "    </tr>\n",
       "    <tr>\n",
       "      <th>3</th>\n",
       "      <td>0.0</td>\n",
       "      <td>1.0</td>\n",
       "      <td>13</td>\n",
       "      <td>133.333333</td>\n",
       "    </tr>\n",
       "    <tr>\n",
       "      <th>4</th>\n",
       "      <td>0.0</td>\n",
       "      <td>1.0</td>\n",
       "      <td>14</td>\n",
       "      <td>144.444444</td>\n",
       "    </tr>\n",
       "    <tr>\n",
       "      <th>5</th>\n",
       "      <td>0.0</td>\n",
       "      <td>1.0</td>\n",
       "      <td>15</td>\n",
       "      <td>155.555556</td>\n",
       "    </tr>\n",
       "    <tr>\n",
       "      <th>6</th>\n",
       "      <td>0.0</td>\n",
       "      <td>1.0</td>\n",
       "      <td>16</td>\n",
       "      <td>166.666667</td>\n",
       "    </tr>\n",
       "    <tr>\n",
       "      <th>7</th>\n",
       "      <td>0.0</td>\n",
       "      <td>1.0</td>\n",
       "      <td>17</td>\n",
       "      <td>177.777778</td>\n",
       "    </tr>\n",
       "    <tr>\n",
       "      <th>8</th>\n",
       "      <td>0.0</td>\n",
       "      <td>1.0</td>\n",
       "      <td>18</td>\n",
       "      <td>188.888889</td>\n",
       "    </tr>\n",
       "    <tr>\n",
       "      <th>9</th>\n",
       "      <td>0.0</td>\n",
       "      <td>1.0</td>\n",
       "      <td>19</td>\n",
       "      <td>200.000000</td>\n",
       "    </tr>\n",
       "  </tbody>\n",
       "</table>\n",
       "</div>"
      ],
      "text/plain": [
       "   zeros  ones  arange    linspace\n",
       "0    0.0   1.0      10  100.000000\n",
       "1    0.0   1.0      11  111.111111\n",
       "2    0.0   1.0      12  122.222222\n",
       "3    0.0   1.0      13  133.333333\n",
       "4    0.0   1.0      14  144.444444\n",
       "5    0.0   1.0      15  155.555556\n",
       "6    0.0   1.0      16  166.666667\n",
       "7    0.0   1.0      17  177.777778\n",
       "8    0.0   1.0      18  188.888889\n",
       "9    0.0   1.0      19  200.000000"
      ]
     },
     "execution_count": 16,
     "metadata": {},
     "output_type": "execute_result"
    }
   ],
   "source": [
    "df = pd.DataFrame(dict1)\n",
    "df"
   ]
  },
  {
   "cell_type": "code",
   "execution_count": null,
   "id": "3b5218c7",
   "metadata": {},
   "outputs": [],
   "source": [
    "NaN  >> Not a number\n",
    "NaT  >> Not a time"
   ]
  },
  {
   "cell_type": "code",
   "execution_count": 19,
   "id": "2a01a399",
   "metadata": {},
   "outputs": [
    {
     "data": {
      "text/html": [
       "<div>\n",
       "<style scoped>\n",
       "    .dataframe tbody tr th:only-of-type {\n",
       "        vertical-align: middle;\n",
       "    }\n",
       "\n",
       "    .dataframe tbody tr th {\n",
       "        vertical-align: top;\n",
       "    }\n",
       "\n",
       "    .dataframe thead th {\n",
       "        text-align: right;\n",
       "    }\n",
       "</style>\n",
       "<table border=\"1\" class=\"dataframe\">\n",
       "  <thead>\n",
       "    <tr style=\"text-align: right;\">\n",
       "      <th></th>\n",
       "      <th>zeros</th>\n",
       "      <th>ones</th>\n",
       "      <th>arange</th>\n",
       "      <th>linspace</th>\n",
       "      <th>List1</th>\n",
       "    </tr>\n",
       "  </thead>\n",
       "  <tbody>\n",
       "    <tr>\n",
       "      <th>0</th>\n",
       "      <td>0.0</td>\n",
       "      <td>1.0</td>\n",
       "      <td>10</td>\n",
       "      <td>100.000000</td>\n",
       "      <td>2.0</td>\n",
       "    </tr>\n",
       "    <tr>\n",
       "      <th>1</th>\n",
       "      <td>0.0</td>\n",
       "      <td>1.0</td>\n",
       "      <td>11</td>\n",
       "      <td>111.111111</td>\n",
       "      <td>3.0</td>\n",
       "    </tr>\n",
       "    <tr>\n",
       "      <th>2</th>\n",
       "      <td>0.0</td>\n",
       "      <td>1.0</td>\n",
       "      <td>12</td>\n",
       "      <td>122.222222</td>\n",
       "      <td>4.0</td>\n",
       "    </tr>\n",
       "    <tr>\n",
       "      <th>3</th>\n",
       "      <td>0.0</td>\n",
       "      <td>1.0</td>\n",
       "      <td>13</td>\n",
       "      <td>133.333333</td>\n",
       "      <td>5.0</td>\n",
       "    </tr>\n",
       "    <tr>\n",
       "      <th>4</th>\n",
       "      <td>0.0</td>\n",
       "      <td>1.0</td>\n",
       "      <td>14</td>\n",
       "      <td>144.444444</td>\n",
       "      <td>6.0</td>\n",
       "    </tr>\n",
       "    <tr>\n",
       "      <th>5</th>\n",
       "      <td>0.0</td>\n",
       "      <td>1.0</td>\n",
       "      <td>15</td>\n",
       "      <td>155.555556</td>\n",
       "      <td>NaN</td>\n",
       "    </tr>\n",
       "    <tr>\n",
       "      <th>6</th>\n",
       "      <td>0.0</td>\n",
       "      <td>1.0</td>\n",
       "      <td>16</td>\n",
       "      <td>166.666667</td>\n",
       "      <td>2.0</td>\n",
       "    </tr>\n",
       "    <tr>\n",
       "      <th>7</th>\n",
       "      <td>0.0</td>\n",
       "      <td>1.0</td>\n",
       "      <td>17</td>\n",
       "      <td>177.777778</td>\n",
       "      <td>3.0</td>\n",
       "    </tr>\n",
       "    <tr>\n",
       "      <th>8</th>\n",
       "      <td>0.0</td>\n",
       "      <td>1.0</td>\n",
       "      <td>18</td>\n",
       "      <td>188.888889</td>\n",
       "      <td>4.0</td>\n",
       "    </tr>\n",
       "    <tr>\n",
       "      <th>9</th>\n",
       "      <td>0.0</td>\n",
       "      <td>1.0</td>\n",
       "      <td>19</td>\n",
       "      <td>200.000000</td>\n",
       "      <td>5.0</td>\n",
       "    </tr>\n",
       "  </tbody>\n",
       "</table>\n",
       "</div>"
      ],
      "text/plain": [
       "   zeros  ones  arange    linspace  List1\n",
       "0    0.0   1.0      10  100.000000    2.0\n",
       "1    0.0   1.0      11  111.111111    3.0\n",
       "2    0.0   1.0      12  122.222222    4.0\n",
       "3    0.0   1.0      13  133.333333    5.0\n",
       "4    0.0   1.0      14  144.444444    6.0\n",
       "5    0.0   1.0      15  155.555556    NaN\n",
       "6    0.0   1.0      16  166.666667    2.0\n",
       "7    0.0   1.0      17  177.777778    3.0\n",
       "8    0.0   1.0      18  188.888889    4.0\n",
       "9    0.0   1.0      19  200.000000    5.0"
      ]
     },
     "execution_count": 19,
     "metadata": {},
     "output_type": "execute_result"
    }
   ],
   "source": [
    "df['List1'] = [2,3,4,5,6,np.nan,2,3,4,5]\n",
    "df"
   ]
  },
  {
   "cell_type": "code",
   "execution_count": 20,
   "id": "beaa520b",
   "metadata": {},
   "outputs": [
    {
     "data": {
      "text/html": [
       "<div>\n",
       "<style scoped>\n",
       "    .dataframe tbody tr th:only-of-type {\n",
       "        vertical-align: middle;\n",
       "    }\n",
       "\n",
       "    .dataframe tbody tr th {\n",
       "        vertical-align: top;\n",
       "    }\n",
       "\n",
       "    .dataframe thead th {\n",
       "        text-align: right;\n",
       "    }\n",
       "</style>\n",
       "<table border=\"1\" class=\"dataframe\">\n",
       "  <thead>\n",
       "    <tr style=\"text-align: right;\">\n",
       "      <th></th>\n",
       "      <th>zeros</th>\n",
       "      <th>ones</th>\n",
       "      <th>arange</th>\n",
       "      <th>linspace</th>\n",
       "      <th>List1</th>\n",
       "      <th>new_range</th>\n",
       "    </tr>\n",
       "  </thead>\n",
       "  <tbody>\n",
       "    <tr>\n",
       "      <th>0</th>\n",
       "      <td>0.0</td>\n",
       "      <td>1.0</td>\n",
       "      <td>10</td>\n",
       "      <td>100.000000</td>\n",
       "      <td>2.0</td>\n",
       "      <td>22</td>\n",
       "    </tr>\n",
       "    <tr>\n",
       "      <th>1</th>\n",
       "      <td>0.0</td>\n",
       "      <td>1.0</td>\n",
       "      <td>11</td>\n",
       "      <td>111.111111</td>\n",
       "      <td>3.0</td>\n",
       "      <td>23</td>\n",
       "    </tr>\n",
       "    <tr>\n",
       "      <th>2</th>\n",
       "      <td>0.0</td>\n",
       "      <td>1.0</td>\n",
       "      <td>12</td>\n",
       "      <td>122.222222</td>\n",
       "      <td>4.0</td>\n",
       "      <td>24</td>\n",
       "    </tr>\n",
       "    <tr>\n",
       "      <th>3</th>\n",
       "      <td>0.0</td>\n",
       "      <td>1.0</td>\n",
       "      <td>13</td>\n",
       "      <td>133.333333</td>\n",
       "      <td>5.0</td>\n",
       "      <td>25</td>\n",
       "    </tr>\n",
       "    <tr>\n",
       "      <th>4</th>\n",
       "      <td>0.0</td>\n",
       "      <td>1.0</td>\n",
       "      <td>14</td>\n",
       "      <td>144.444444</td>\n",
       "      <td>6.0</td>\n",
       "      <td>26</td>\n",
       "    </tr>\n",
       "    <tr>\n",
       "      <th>5</th>\n",
       "      <td>0.0</td>\n",
       "      <td>1.0</td>\n",
       "      <td>15</td>\n",
       "      <td>155.555556</td>\n",
       "      <td>NaN</td>\n",
       "      <td>27</td>\n",
       "    </tr>\n",
       "    <tr>\n",
       "      <th>6</th>\n",
       "      <td>0.0</td>\n",
       "      <td>1.0</td>\n",
       "      <td>16</td>\n",
       "      <td>166.666667</td>\n",
       "      <td>2.0</td>\n",
       "      <td>28</td>\n",
       "    </tr>\n",
       "    <tr>\n",
       "      <th>7</th>\n",
       "      <td>0.0</td>\n",
       "      <td>1.0</td>\n",
       "      <td>17</td>\n",
       "      <td>177.777778</td>\n",
       "      <td>3.0</td>\n",
       "      <td>29</td>\n",
       "    </tr>\n",
       "    <tr>\n",
       "      <th>8</th>\n",
       "      <td>0.0</td>\n",
       "      <td>1.0</td>\n",
       "      <td>18</td>\n",
       "      <td>188.888889</td>\n",
       "      <td>4.0</td>\n",
       "      <td>30</td>\n",
       "    </tr>\n",
       "    <tr>\n",
       "      <th>9</th>\n",
       "      <td>0.0</td>\n",
       "      <td>1.0</td>\n",
       "      <td>19</td>\n",
       "      <td>200.000000</td>\n",
       "      <td>5.0</td>\n",
       "      <td>31</td>\n",
       "    </tr>\n",
       "  </tbody>\n",
       "</table>\n",
       "</div>"
      ],
      "text/plain": [
       "   zeros  ones  arange    linspace  List1  new_range\n",
       "0    0.0   1.0      10  100.000000    2.0         22\n",
       "1    0.0   1.0      11  111.111111    3.0         23\n",
       "2    0.0   1.0      12  122.222222    4.0         24\n",
       "3    0.0   1.0      13  133.333333    5.0         25\n",
       "4    0.0   1.0      14  144.444444    6.0         26\n",
       "5    0.0   1.0      15  155.555556    NaN         27\n",
       "6    0.0   1.0      16  166.666667    2.0         28\n",
       "7    0.0   1.0      17  177.777778    3.0         29\n",
       "8    0.0   1.0      18  188.888889    4.0         30\n",
       "9    0.0   1.0      19  200.000000    5.0         31"
      ]
     },
     "execution_count": 20,
     "metadata": {},
     "output_type": "execute_result"
    }
   ],
   "source": [
    "df['new_range'] = np.arange(22,32)\n",
    "df"
   ]
  },
  {
   "cell_type": "markdown",
   "id": "3fe4d5f3",
   "metadata": {},
   "source": [
    "### 7. eye()"
   ]
  },
  {
   "cell_type": "code",
   "execution_count": null,
   "id": "cde5cb28",
   "metadata": {},
   "outputs": [],
   "source": [
    "[1 0 0 0]\n",
    "[0 1 0 0]\n",
    "[0 0 1 0]\n",
    "[0 0 0 1]\n",
    "\n",
    "It will return 2D array with ones on diagonal and zeros elsewhere"
   ]
  },
  {
   "cell_type": "code",
   "execution_count": 22,
   "id": "f6048ebb",
   "metadata": {},
   "outputs": [
    {
     "data": {
      "text/plain": [
       "array([[1, 0, 0],\n",
       "       [0, 1, 0],\n",
       "       [0, 0, 1]])"
      ]
     },
     "execution_count": 22,
     "metadata": {},
     "output_type": "execute_result"
    }
   ],
   "source": [
    "np.eye(3,dtype='int')"
   ]
  },
  {
   "cell_type": "code",
   "execution_count": 23,
   "id": "563f330e",
   "metadata": {},
   "outputs": [
    {
     "data": {
      "text/plain": [
       "array([[1, 0, 0, 0, 0, 0, 0, 0, 0, 0],\n",
       "       [0, 1, 0, 0, 0, 0, 0, 0, 0, 0],\n",
       "       [0, 0, 1, 0, 0, 0, 0, 0, 0, 0]])"
      ]
     },
     "execution_count": 23,
     "metadata": {},
     "output_type": "execute_result"
    }
   ],
   "source": [
    "np.eye(3,10,dtype='int')"
   ]
  },
  {
   "cell_type": "code",
   "execution_count": 25,
   "id": "6d2322dd",
   "metadata": {},
   "outputs": [
    {
     "data": {
      "text/plain": [
       "array([[0, 0, 1, 0, 0],\n",
       "       [0, 0, 0, 1, 0],\n",
       "       [0, 0, 0, 0, 1],\n",
       "       [0, 0, 0, 0, 0],\n",
       "       [0, 0, 0, 0, 0]])"
      ]
     },
     "execution_count": 25,
     "metadata": {},
     "output_type": "execute_result"
    }
   ],
   "source": [
    "np.eye(5,dtype='int',k=2) # k = from which index"
   ]
  },
  {
   "cell_type": "markdown",
   "id": "de124644",
   "metadata": {},
   "source": [
    "### 8. identity"
   ]
  },
  {
   "cell_type": "code",
   "execution_count": 27,
   "id": "ed780a1a",
   "metadata": {},
   "outputs": [
    {
     "data": {
      "text/plain": [
       "array([[1, 0, 0, 0],\n",
       "       [0, 1, 0, 0],\n",
       "       [0, 0, 1, 0],\n",
       "       [0, 0, 0, 1]])"
      ]
     },
     "execution_count": 27,
     "metadata": {},
     "output_type": "execute_result"
    }
   ],
   "source": [
    "np.identity(4,dtype='int')"
   ]
  },
  {
   "cell_type": "code",
   "execution_count": 28,
   "id": "b0e41a8e",
   "metadata": {},
   "outputs": [
    {
     "data": {
      "text/plain": [
       "array([[1, 0, 0, 0, 0],\n",
       "       [0, 1, 0, 0, 0],\n",
       "       [0, 0, 1, 0, 0],\n",
       "       [0, 0, 0, 1, 0],\n",
       "       [0, 0, 0, 0, 1]])"
      ]
     },
     "execution_count": 28,
     "metadata": {},
     "output_type": "execute_result"
    }
   ],
   "source": [
    "np.identity(5,dtype='int')"
   ]
  },
  {
   "cell_type": "markdown",
   "id": "693e0f54",
   "metadata": {},
   "source": [
    "### 9. random()"
   ]
  },
  {
   "cell_type": "code",
   "execution_count": null,
   "id": "0c4b8fe4",
   "metadata": {},
   "outputs": [],
   "source": [
    "Used to generate random Numbers:\n",
    "1. rand()\n",
    "2. randint()\n",
    "3. randn()\n",
    "4. ranf()"
   ]
  },
  {
   "cell_type": "markdown",
   "id": "79d8ab9e",
   "metadata": {},
   "source": [
    "#### 9.1 random.rand()"
   ]
  },
  {
   "cell_type": "code",
   "execution_count": null,
   "id": "cde6f5a6",
   "metadata": {},
   "outputs": [],
   "source": [
    "Returns values between 0 to 1 interval"
   ]
  },
  {
   "cell_type": "code",
   "execution_count": 30,
   "id": "1730896f",
   "metadata": {},
   "outputs": [
    {
     "data": {
      "text/plain": [
       "array([0.5006499 , 0.59931238, 0.54990375, 0.89290549, 0.04177077])"
      ]
     },
     "execution_count": 30,
     "metadata": {},
     "output_type": "execute_result"
    }
   ],
   "source": [
    "arr1 = np.random.rand(5)\n",
    "arr1"
   ]
  },
  {
   "cell_type": "code",
   "execution_count": 31,
   "id": "838c8a3a",
   "metadata": {},
   "outputs": [
    {
     "data": {
      "text/plain": [
       "array([0.128495  , 0.54196536, 0.7864931 , 0.52600384, 0.7958425 ,\n",
       "       0.83927508, 0.11284521, 0.95775147, 0.74236335, 0.19033875])"
      ]
     },
     "execution_count": 31,
     "metadata": {},
     "output_type": "execute_result"
    }
   ],
   "source": [
    "arr1 = np.random.rand(10)\n",
    "arr1"
   ]
  },
  {
   "cell_type": "code",
   "execution_count": 32,
   "id": "39e6dbed",
   "metadata": {},
   "outputs": [
    {
     "data": {
      "text/plain": [
       "array([[0.4701813 , 0.41507587, 0.2773377 , 0.69407801, 0.34116928],\n",
       "       [0.02315347, 0.45180498, 0.82312872, 0.02167948, 0.05361615],\n",
       "       [0.82684468, 0.6497806 , 0.80814788, 0.02723329, 0.92092127],\n",
       "       [0.82940989, 0.50439582, 0.58621802, 0.51922082, 0.20132414]])"
      ]
     },
     "execution_count": 32,
     "metadata": {},
     "output_type": "execute_result"
    }
   ],
   "source": [
    "arr1 = np.random.rand(4,5)\n",
    "arr1"
   ]
  },
  {
   "cell_type": "code",
   "execution_count": 33,
   "id": "8a6d5e00",
   "metadata": {},
   "outputs": [
    {
     "data": {
      "text/plain": [
       "array([[0.88907989, 0.22155641, 0.43010835],\n",
       "       [0.46547352, 0.93887377, 0.40883537]])"
      ]
     },
     "execution_count": 33,
     "metadata": {},
     "output_type": "execute_result"
    }
   ],
   "source": [
    "arr1 = np.random.rand(2,3)\n",
    "arr1"
   ]
  },
  {
   "cell_type": "markdown",
   "id": "6fede1d8",
   "metadata": {},
   "source": [
    "#### 9.2 random.randint()"
   ]
  },
  {
   "cell_type": "code",
   "execution_count": null,
   "id": "1cb1f4af",
   "metadata": {},
   "outputs": [],
   "source": [
    "random integers"
   ]
  },
  {
   "cell_type": "code",
   "execution_count": 65,
   "id": "b383bcf2",
   "metadata": {},
   "outputs": [
    {
     "data": {
      "text/plain": [
       "array([ 7,  8, 18,  8, 12, 11, 19, 18,  6, 16])"
      ]
     },
     "execution_count": 65,
     "metadata": {},
     "output_type": "execute_result"
    }
   ],
   "source": [
    "arr = np.random.randint(5,20, size = 10)\n",
    "arr"
   ]
  },
  {
   "cell_type": "code",
   "execution_count": 67,
   "id": "d7c8ad8d",
   "metadata": {},
   "outputs": [
    {
     "data": {
      "text/plain": [
       "array([41, 45, 77, 18, 84, 84, 75, 32, 31, 71])"
      ]
     },
     "execution_count": 67,
     "metadata": {},
     "output_type": "execute_result"
    }
   ],
   "source": [
    "arr = np.random.randint(10,100, size = 10)\n",
    "arr"
   ]
  },
  {
   "cell_type": "code",
   "execution_count": null,
   "id": "0e9e83f3",
   "metadata": {},
   "outputs": [],
   "source": [
    "arr = np.random.randint(10,100, size = 10)\n",
    "arr"
   ]
  },
  {
   "cell_type": "code",
   "execution_count": 68,
   "id": "6a38e2cf",
   "metadata": {},
   "outputs": [
    {
     "data": {
      "text/plain": [
       "array([80, 33, 95, 54])"
      ]
     },
     "execution_count": 68,
     "metadata": {},
     "output_type": "execute_result"
    }
   ],
   "source": [
    "arr = np.random.randint(10,100, size = 4)\n",
    "arr"
   ]
  },
  {
   "cell_type": "markdown",
   "id": "6fa06ea0",
   "metadata": {},
   "source": [
    "#### 9.3 random.ranf()"
   ]
  },
  {
   "cell_type": "code",
   "execution_count": null,
   "id": "36eec22f",
   "metadata": {},
   "outputs": [],
   "source": [
    "Values between 0.0 to 1.0 interval"
   ]
  },
  {
   "cell_type": "code",
   "execution_count": 69,
   "id": "4b1e04a1",
   "metadata": {},
   "outputs": [
    {
     "data": {
      "text/plain": [
       "array([0.06222395, 0.09818213, 0.45941359, 0.21317271])"
      ]
     },
     "execution_count": 69,
     "metadata": {},
     "output_type": "execute_result"
    }
   ],
   "source": [
    "arr = np.random.ranf(4)\n",
    "arr"
   ]
  },
  {
   "cell_type": "code",
   "execution_count": 71,
   "id": "8cee3c48",
   "metadata": {},
   "outputs": [
    {
     "data": {
      "text/plain": [
       "array([[0.07932711, 0.39081695, 0.81534326],\n",
       "       [0.61615319, 0.56160157, 0.68913692],\n",
       "       [0.88947524, 0.512062  , 0.82132754],\n",
       "       [0.21859854, 0.17659733, 0.91192051]])"
      ]
     },
     "execution_count": 71,
     "metadata": {},
     "output_type": "execute_result"
    }
   ],
   "source": [
    "arr = np.random.ranf((4,3))\n",
    "arr"
   ]
  },
  {
   "cell_type": "markdown",
   "id": "dca0335b",
   "metadata": {},
   "source": [
    "#### 9.4 random.randn() "
   ]
  },
  {
   "cell_type": "code",
   "execution_count": null,
   "id": "99689b58",
   "metadata": {},
   "outputs": [],
   "source": [
    "Returns Normally Distributed values"
   ]
  },
  {
   "cell_type": "code",
   "execution_count": 72,
   "id": "0a890f51",
   "metadata": {},
   "outputs": [
    {
     "data": {
      "text/plain": [
       "array([-1.2211836 , -1.10291032,  0.70984543, -1.75673299,  3.23788002])"
      ]
     },
     "execution_count": 72,
     "metadata": {},
     "output_type": "execute_result"
    }
   ],
   "source": [
    "arr = np.random.randn(5)\n",
    "arr"
   ]
  },
  {
   "cell_type": "code",
   "execution_count": 75,
   "id": "8ce9a41d",
   "metadata": {},
   "outputs": [
    {
     "data": {
      "text/plain": [
       "array([[1.5715399 , 0.50570708, 1.11792814, 0.69464772],\n",
       "       [0.17499752, 1.04887905, 1.13834745, 1.5732117 ]])"
      ]
     },
     "execution_count": 75,
     "metadata": {},
     "output_type": "execute_result"
    }
   ],
   "source": [
    "arr = np.random.randn(2,4)\n",
    "arr"
   ]
  },
  {
   "cell_type": "markdown",
   "id": "4d1e1109",
   "metadata": {},
   "source": [
    "### 10. sort()"
   ]
  },
  {
   "cell_type": "code",
   "execution_count": 76,
   "id": "71ed4a1e",
   "metadata": {},
   "outputs": [
    {
     "data": {
      "text/plain": [
       "array([23, 14, 22, 31, 14, 18, 38, 16, 19, 33])"
      ]
     },
     "execution_count": 76,
     "metadata": {},
     "output_type": "execute_result"
    }
   ],
   "source": [
    "arr = np.random.randint(10,40,size=10)\n",
    "arr"
   ]
  },
  {
   "cell_type": "code",
   "execution_count": 77,
   "id": "3d5bbae0",
   "metadata": {},
   "outputs": [
    {
     "data": {
      "text/plain": [
       "array([14, 14, 16, 18, 19, 22, 23, 31, 33, 38])"
      ]
     },
     "execution_count": 77,
     "metadata": {},
     "output_type": "execute_result"
    }
   ],
   "source": [
    "np.sort(arr)"
   ]
  },
  {
   "cell_type": "code",
   "execution_count": 79,
   "id": "b63db8b1",
   "metadata": {},
   "outputs": [
    {
     "data": {
      "text/plain": [
       "{'zeros': array([0., 0., 0., 0., 0., 0., 0., 0., 0., 0.]),\n",
       " 'ones': array([1., 1., 1., 1., 1., 1., 1., 1., 1., 1.]),\n",
       " 'arange': array([10, 11, 12, 13, 14, 15, 16, 17, 18, 19]),\n",
       " 'linspace': array([100.        , 111.11111111, 122.22222222, 133.33333333,\n",
       "        144.44444444, 155.55555556, 166.66666667, 177.77777778,\n",
       "        188.88888889, 200.        ]),\n",
       " 'randint': array([35, 16, 15, 37, 15, 32, 14, 27, 11, 38]),\n",
       " 'randnormal': array([ 1.0001857 ,  1.28944022, -1.10398813, -0.57864627,  1.26271906,\n",
       "        -0.05373059,  2.55671489, -0.41943947, -0.64857933,  0.93587891])}"
      ]
     },
     "execution_count": 79,
     "metadata": {},
     "output_type": "execute_result"
    }
   ],
   "source": [
    "dict1 = {'zeros':np.zeros(10),\n",
    "        'ones':np.ones(10),\n",
    "        'arange':np.arange(10,20),\n",
    "        'linspace':np.linspace(100,200,num=10),\n",
    "        'randint':np.random.randint(10,40,size=10),\n",
    "        'randnormal':np.random.randn(10)}\n",
    "dict1"
   ]
  },
  {
   "cell_type": "code",
   "execution_count": 80,
   "id": "1248342c",
   "metadata": {},
   "outputs": [
    {
     "data": {
      "text/html": [
       "<div>\n",
       "<style scoped>\n",
       "    .dataframe tbody tr th:only-of-type {\n",
       "        vertical-align: middle;\n",
       "    }\n",
       "\n",
       "    .dataframe tbody tr th {\n",
       "        vertical-align: top;\n",
       "    }\n",
       "\n",
       "    .dataframe thead th {\n",
       "        text-align: right;\n",
       "    }\n",
       "</style>\n",
       "<table border=\"1\" class=\"dataframe\">\n",
       "  <thead>\n",
       "    <tr style=\"text-align: right;\">\n",
       "      <th></th>\n",
       "      <th>zeros</th>\n",
       "      <th>ones</th>\n",
       "      <th>arange</th>\n",
       "      <th>linspace</th>\n",
       "      <th>randint</th>\n",
       "      <th>randnormal</th>\n",
       "    </tr>\n",
       "  </thead>\n",
       "  <tbody>\n",
       "    <tr>\n",
       "      <th>0</th>\n",
       "      <td>0.0</td>\n",
       "      <td>1.0</td>\n",
       "      <td>10</td>\n",
       "      <td>100.000000</td>\n",
       "      <td>35</td>\n",
       "      <td>1.000186</td>\n",
       "    </tr>\n",
       "    <tr>\n",
       "      <th>1</th>\n",
       "      <td>0.0</td>\n",
       "      <td>1.0</td>\n",
       "      <td>11</td>\n",
       "      <td>111.111111</td>\n",
       "      <td>16</td>\n",
       "      <td>1.289440</td>\n",
       "    </tr>\n",
       "    <tr>\n",
       "      <th>2</th>\n",
       "      <td>0.0</td>\n",
       "      <td>1.0</td>\n",
       "      <td>12</td>\n",
       "      <td>122.222222</td>\n",
       "      <td>15</td>\n",
       "      <td>-1.103988</td>\n",
       "    </tr>\n",
       "    <tr>\n",
       "      <th>3</th>\n",
       "      <td>0.0</td>\n",
       "      <td>1.0</td>\n",
       "      <td>13</td>\n",
       "      <td>133.333333</td>\n",
       "      <td>37</td>\n",
       "      <td>-0.578646</td>\n",
       "    </tr>\n",
       "    <tr>\n",
       "      <th>4</th>\n",
       "      <td>0.0</td>\n",
       "      <td>1.0</td>\n",
       "      <td>14</td>\n",
       "      <td>144.444444</td>\n",
       "      <td>15</td>\n",
       "      <td>1.262719</td>\n",
       "    </tr>\n",
       "    <tr>\n",
       "      <th>5</th>\n",
       "      <td>0.0</td>\n",
       "      <td>1.0</td>\n",
       "      <td>15</td>\n",
       "      <td>155.555556</td>\n",
       "      <td>32</td>\n",
       "      <td>-0.053731</td>\n",
       "    </tr>\n",
       "    <tr>\n",
       "      <th>6</th>\n",
       "      <td>0.0</td>\n",
       "      <td>1.0</td>\n",
       "      <td>16</td>\n",
       "      <td>166.666667</td>\n",
       "      <td>14</td>\n",
       "      <td>2.556715</td>\n",
       "    </tr>\n",
       "    <tr>\n",
       "      <th>7</th>\n",
       "      <td>0.0</td>\n",
       "      <td>1.0</td>\n",
       "      <td>17</td>\n",
       "      <td>177.777778</td>\n",
       "      <td>27</td>\n",
       "      <td>-0.419439</td>\n",
       "    </tr>\n",
       "    <tr>\n",
       "      <th>8</th>\n",
       "      <td>0.0</td>\n",
       "      <td>1.0</td>\n",
       "      <td>18</td>\n",
       "      <td>188.888889</td>\n",
       "      <td>11</td>\n",
       "      <td>-0.648579</td>\n",
       "    </tr>\n",
       "    <tr>\n",
       "      <th>9</th>\n",
       "      <td>0.0</td>\n",
       "      <td>1.0</td>\n",
       "      <td>19</td>\n",
       "      <td>200.000000</td>\n",
       "      <td>38</td>\n",
       "      <td>0.935879</td>\n",
       "    </tr>\n",
       "  </tbody>\n",
       "</table>\n",
       "</div>"
      ],
      "text/plain": [
       "   zeros  ones  arange    linspace  randint  randnormal\n",
       "0    0.0   1.0      10  100.000000       35    1.000186\n",
       "1    0.0   1.0      11  111.111111       16    1.289440\n",
       "2    0.0   1.0      12  122.222222       15   -1.103988\n",
       "3    0.0   1.0      13  133.333333       37   -0.578646\n",
       "4    0.0   1.0      14  144.444444       15    1.262719\n",
       "5    0.0   1.0      15  155.555556       32   -0.053731\n",
       "6    0.0   1.0      16  166.666667       14    2.556715\n",
       "7    0.0   1.0      17  177.777778       27   -0.419439\n",
       "8    0.0   1.0      18  188.888889       11   -0.648579\n",
       "9    0.0   1.0      19  200.000000       38    0.935879"
      ]
     },
     "execution_count": 80,
     "metadata": {},
     "output_type": "execute_result"
    }
   ],
   "source": [
    "df = pd.DataFrame(dict1)\n",
    "df"
   ]
  },
  {
   "cell_type": "code",
   "execution_count": 84,
   "id": "54bd6454",
   "metadata": {},
   "outputs": [
    {
     "data": {
      "text/html": [
       "<div>\n",
       "<style scoped>\n",
       "    .dataframe tbody tr th:only-of-type {\n",
       "        vertical-align: middle;\n",
       "    }\n",
       "\n",
       "    .dataframe tbody tr th {\n",
       "        vertical-align: top;\n",
       "    }\n",
       "\n",
       "    .dataframe thead th {\n",
       "        text-align: right;\n",
       "    }\n",
       "</style>\n",
       "<table border=\"1\" class=\"dataframe\">\n",
       "  <thead>\n",
       "    <tr style=\"text-align: right;\">\n",
       "      <th></th>\n",
       "      <th>zeros</th>\n",
       "      <th>ones</th>\n",
       "      <th>arange</th>\n",
       "      <th>linspace</th>\n",
       "      <th>randint</th>\n",
       "      <th>randnormal</th>\n",
       "    </tr>\n",
       "  </thead>\n",
       "  <tbody>\n",
       "    <tr>\n",
       "      <th>8</th>\n",
       "      <td>0.0</td>\n",
       "      <td>1.0</td>\n",
       "      <td>18</td>\n",
       "      <td>188.888889</td>\n",
       "      <td>11</td>\n",
       "      <td>-0.648579</td>\n",
       "    </tr>\n",
       "    <tr>\n",
       "      <th>6</th>\n",
       "      <td>0.0</td>\n",
       "      <td>1.0</td>\n",
       "      <td>16</td>\n",
       "      <td>166.666667</td>\n",
       "      <td>14</td>\n",
       "      <td>2.556715</td>\n",
       "    </tr>\n",
       "    <tr>\n",
       "      <th>2</th>\n",
       "      <td>0.0</td>\n",
       "      <td>1.0</td>\n",
       "      <td>12</td>\n",
       "      <td>122.222222</td>\n",
       "      <td>15</td>\n",
       "      <td>-1.103988</td>\n",
       "    </tr>\n",
       "    <tr>\n",
       "      <th>4</th>\n",
       "      <td>0.0</td>\n",
       "      <td>1.0</td>\n",
       "      <td>14</td>\n",
       "      <td>144.444444</td>\n",
       "      <td>15</td>\n",
       "      <td>1.262719</td>\n",
       "    </tr>\n",
       "    <tr>\n",
       "      <th>1</th>\n",
       "      <td>0.0</td>\n",
       "      <td>1.0</td>\n",
       "      <td>11</td>\n",
       "      <td>111.111111</td>\n",
       "      <td>16</td>\n",
       "      <td>1.289440</td>\n",
       "    </tr>\n",
       "    <tr>\n",
       "      <th>7</th>\n",
       "      <td>0.0</td>\n",
       "      <td>1.0</td>\n",
       "      <td>17</td>\n",
       "      <td>177.777778</td>\n",
       "      <td>27</td>\n",
       "      <td>-0.419439</td>\n",
       "    </tr>\n",
       "    <tr>\n",
       "      <th>5</th>\n",
       "      <td>0.0</td>\n",
       "      <td>1.0</td>\n",
       "      <td>15</td>\n",
       "      <td>155.555556</td>\n",
       "      <td>32</td>\n",
       "      <td>-0.053731</td>\n",
       "    </tr>\n",
       "    <tr>\n",
       "      <th>0</th>\n",
       "      <td>0.0</td>\n",
       "      <td>1.0</td>\n",
       "      <td>10</td>\n",
       "      <td>100.000000</td>\n",
       "      <td>35</td>\n",
       "      <td>1.000186</td>\n",
       "    </tr>\n",
       "    <tr>\n",
       "      <th>3</th>\n",
       "      <td>0.0</td>\n",
       "      <td>1.0</td>\n",
       "      <td>13</td>\n",
       "      <td>133.333333</td>\n",
       "      <td>37</td>\n",
       "      <td>-0.578646</td>\n",
       "    </tr>\n",
       "    <tr>\n",
       "      <th>9</th>\n",
       "      <td>0.0</td>\n",
       "      <td>1.0</td>\n",
       "      <td>19</td>\n",
       "      <td>200.000000</td>\n",
       "      <td>38</td>\n",
       "      <td>0.935879</td>\n",
       "    </tr>\n",
       "  </tbody>\n",
       "</table>\n",
       "</div>"
      ],
      "text/plain": [
       "   zeros  ones  arange    linspace  randint  randnormal\n",
       "8    0.0   1.0      18  188.888889       11   -0.648579\n",
       "6    0.0   1.0      16  166.666667       14    2.556715\n",
       "2    0.0   1.0      12  122.222222       15   -1.103988\n",
       "4    0.0   1.0      14  144.444444       15    1.262719\n",
       "1    0.0   1.0      11  111.111111       16    1.289440\n",
       "7    0.0   1.0      17  177.777778       27   -0.419439\n",
       "5    0.0   1.0      15  155.555556       32   -0.053731\n",
       "0    0.0   1.0      10  100.000000       35    1.000186\n",
       "3    0.0   1.0      13  133.333333       37   -0.578646\n",
       "9    0.0   1.0      19  200.000000       38    0.935879"
      ]
     },
     "execution_count": 84,
     "metadata": {},
     "output_type": "execute_result"
    }
   ],
   "source": [
    "df.sort_values(['randint'])"
   ]
  },
  {
   "cell_type": "code",
   "execution_count": 88,
   "id": "02546501",
   "metadata": {},
   "outputs": [
    {
     "data": {
      "text/html": [
       "<div>\n",
       "<style scoped>\n",
       "    .dataframe tbody tr th:only-of-type {\n",
       "        vertical-align: middle;\n",
       "    }\n",
       "\n",
       "    .dataframe tbody tr th {\n",
       "        vertical-align: top;\n",
       "    }\n",
       "\n",
       "    .dataframe thead th {\n",
       "        text-align: right;\n",
       "    }\n",
       "</style>\n",
       "<table border=\"1\" class=\"dataframe\">\n",
       "  <thead>\n",
       "    <tr style=\"text-align: right;\">\n",
       "      <th></th>\n",
       "      <th>zeros</th>\n",
       "      <th>ones</th>\n",
       "      <th>arange</th>\n",
       "      <th>linspace</th>\n",
       "      <th>randint</th>\n",
       "      <th>randnormal</th>\n",
       "    </tr>\n",
       "  </thead>\n",
       "  <tbody>\n",
       "    <tr>\n",
       "      <th>9</th>\n",
       "      <td>0.0</td>\n",
       "      <td>1.0</td>\n",
       "      <td>19</td>\n",
       "      <td>200.000000</td>\n",
       "      <td>38</td>\n",
       "      <td>0.935879</td>\n",
       "    </tr>\n",
       "    <tr>\n",
       "      <th>3</th>\n",
       "      <td>0.0</td>\n",
       "      <td>1.0</td>\n",
       "      <td>13</td>\n",
       "      <td>133.333333</td>\n",
       "      <td>37</td>\n",
       "      <td>-0.578646</td>\n",
       "    </tr>\n",
       "    <tr>\n",
       "      <th>0</th>\n",
       "      <td>0.0</td>\n",
       "      <td>1.0</td>\n",
       "      <td>10</td>\n",
       "      <td>100.000000</td>\n",
       "      <td>35</td>\n",
       "      <td>1.000186</td>\n",
       "    </tr>\n",
       "    <tr>\n",
       "      <th>5</th>\n",
       "      <td>0.0</td>\n",
       "      <td>1.0</td>\n",
       "      <td>15</td>\n",
       "      <td>155.555556</td>\n",
       "      <td>32</td>\n",
       "      <td>-0.053731</td>\n",
       "    </tr>\n",
       "    <tr>\n",
       "      <th>7</th>\n",
       "      <td>0.0</td>\n",
       "      <td>1.0</td>\n",
       "      <td>17</td>\n",
       "      <td>177.777778</td>\n",
       "      <td>27</td>\n",
       "      <td>-0.419439</td>\n",
       "    </tr>\n",
       "    <tr>\n",
       "      <th>1</th>\n",
       "      <td>0.0</td>\n",
       "      <td>1.0</td>\n",
       "      <td>11</td>\n",
       "      <td>111.111111</td>\n",
       "      <td>16</td>\n",
       "      <td>1.289440</td>\n",
       "    </tr>\n",
       "    <tr>\n",
       "      <th>4</th>\n",
       "      <td>0.0</td>\n",
       "      <td>1.0</td>\n",
       "      <td>14</td>\n",
       "      <td>144.444444</td>\n",
       "      <td>15</td>\n",
       "      <td>1.262719</td>\n",
       "    </tr>\n",
       "    <tr>\n",
       "      <th>2</th>\n",
       "      <td>0.0</td>\n",
       "      <td>1.0</td>\n",
       "      <td>12</td>\n",
       "      <td>122.222222</td>\n",
       "      <td>15</td>\n",
       "      <td>-1.103988</td>\n",
       "    </tr>\n",
       "    <tr>\n",
       "      <th>6</th>\n",
       "      <td>0.0</td>\n",
       "      <td>1.0</td>\n",
       "      <td>16</td>\n",
       "      <td>166.666667</td>\n",
       "      <td>14</td>\n",
       "      <td>2.556715</td>\n",
       "    </tr>\n",
       "    <tr>\n",
       "      <th>8</th>\n",
       "      <td>0.0</td>\n",
       "      <td>1.0</td>\n",
       "      <td>18</td>\n",
       "      <td>188.888889</td>\n",
       "      <td>11</td>\n",
       "      <td>-0.648579</td>\n",
       "    </tr>\n",
       "  </tbody>\n",
       "</table>\n",
       "</div>"
      ],
      "text/plain": [
       "   zeros  ones  arange    linspace  randint  randnormal\n",
       "9    0.0   1.0      19  200.000000       38    0.935879\n",
       "3    0.0   1.0      13  133.333333       37   -0.578646\n",
       "0    0.0   1.0      10  100.000000       35    1.000186\n",
       "5    0.0   1.0      15  155.555556       32   -0.053731\n",
       "7    0.0   1.0      17  177.777778       27   -0.419439\n",
       "1    0.0   1.0      11  111.111111       16    1.289440\n",
       "4    0.0   1.0      14  144.444444       15    1.262719\n",
       "2    0.0   1.0      12  122.222222       15   -1.103988\n",
       "6    0.0   1.0      16  166.666667       14    2.556715\n",
       "8    0.0   1.0      18  188.888889       11   -0.648579"
      ]
     },
     "execution_count": 88,
     "metadata": {},
     "output_type": "execute_result"
    }
   ],
   "source": [
    "a = df.sort_values(['randint','randnormal'],ascending=False)\n",
    "a"
   ]
  },
  {
   "cell_type": "code",
   "execution_count": null,
   "id": "c6e61bc2",
   "metadata": {},
   "outputs": [],
   "source": [
    "Axis = 0 >> rows\n",
    "Axis = 1 >> column"
   ]
  },
  {
   "cell_type": "code",
   "execution_count": 87,
   "id": "be373bc0",
   "metadata": {},
   "outputs": [
    {
     "data": {
      "text/html": [
       "<div>\n",
       "<style scoped>\n",
       "    .dataframe tbody tr th:only-of-type {\n",
       "        vertical-align: middle;\n",
       "    }\n",
       "\n",
       "    .dataframe tbody tr th {\n",
       "        vertical-align: top;\n",
       "    }\n",
       "\n",
       "    .dataframe thead th {\n",
       "        text-align: right;\n",
       "    }\n",
       "</style>\n",
       "<table border=\"1\" class=\"dataframe\">\n",
       "  <thead>\n",
       "    <tr style=\"text-align: right;\">\n",
       "      <th></th>\n",
       "      <th>arange</th>\n",
       "      <th>linspace</th>\n",
       "      <th>ones</th>\n",
       "      <th>randint</th>\n",
       "      <th>randnormal</th>\n",
       "      <th>zeros</th>\n",
       "    </tr>\n",
       "  </thead>\n",
       "  <tbody>\n",
       "    <tr>\n",
       "      <th>0</th>\n",
       "      <td>10</td>\n",
       "      <td>100.000000</td>\n",
       "      <td>1.0</td>\n",
       "      <td>35</td>\n",
       "      <td>1.000186</td>\n",
       "      <td>0.0</td>\n",
       "    </tr>\n",
       "    <tr>\n",
       "      <th>1</th>\n",
       "      <td>11</td>\n",
       "      <td>111.111111</td>\n",
       "      <td>1.0</td>\n",
       "      <td>16</td>\n",
       "      <td>1.289440</td>\n",
       "      <td>0.0</td>\n",
       "    </tr>\n",
       "    <tr>\n",
       "      <th>2</th>\n",
       "      <td>12</td>\n",
       "      <td>122.222222</td>\n",
       "      <td>1.0</td>\n",
       "      <td>15</td>\n",
       "      <td>-1.103988</td>\n",
       "      <td>0.0</td>\n",
       "    </tr>\n",
       "    <tr>\n",
       "      <th>3</th>\n",
       "      <td>13</td>\n",
       "      <td>133.333333</td>\n",
       "      <td>1.0</td>\n",
       "      <td>37</td>\n",
       "      <td>-0.578646</td>\n",
       "      <td>0.0</td>\n",
       "    </tr>\n",
       "    <tr>\n",
       "      <th>4</th>\n",
       "      <td>14</td>\n",
       "      <td>144.444444</td>\n",
       "      <td>1.0</td>\n",
       "      <td>15</td>\n",
       "      <td>1.262719</td>\n",
       "      <td>0.0</td>\n",
       "    </tr>\n",
       "    <tr>\n",
       "      <th>5</th>\n",
       "      <td>15</td>\n",
       "      <td>155.555556</td>\n",
       "      <td>1.0</td>\n",
       "      <td>32</td>\n",
       "      <td>-0.053731</td>\n",
       "      <td>0.0</td>\n",
       "    </tr>\n",
       "    <tr>\n",
       "      <th>6</th>\n",
       "      <td>16</td>\n",
       "      <td>166.666667</td>\n",
       "      <td>1.0</td>\n",
       "      <td>14</td>\n",
       "      <td>2.556715</td>\n",
       "      <td>0.0</td>\n",
       "    </tr>\n",
       "    <tr>\n",
       "      <th>7</th>\n",
       "      <td>17</td>\n",
       "      <td>177.777778</td>\n",
       "      <td>1.0</td>\n",
       "      <td>27</td>\n",
       "      <td>-0.419439</td>\n",
       "      <td>0.0</td>\n",
       "    </tr>\n",
       "    <tr>\n",
       "      <th>8</th>\n",
       "      <td>18</td>\n",
       "      <td>188.888889</td>\n",
       "      <td>1.0</td>\n",
       "      <td>11</td>\n",
       "      <td>-0.648579</td>\n",
       "      <td>0.0</td>\n",
       "    </tr>\n",
       "    <tr>\n",
       "      <th>9</th>\n",
       "      <td>19</td>\n",
       "      <td>200.000000</td>\n",
       "      <td>1.0</td>\n",
       "      <td>38</td>\n",
       "      <td>0.935879</td>\n",
       "      <td>0.0</td>\n",
       "    </tr>\n",
       "  </tbody>\n",
       "</table>\n",
       "</div>"
      ],
      "text/plain": [
       "   arange    linspace  ones  randint  randnormal  zeros\n",
       "0      10  100.000000   1.0       35    1.000186    0.0\n",
       "1      11  111.111111   1.0       16    1.289440    0.0\n",
       "2      12  122.222222   1.0       15   -1.103988    0.0\n",
       "3      13  133.333333   1.0       37   -0.578646    0.0\n",
       "4      14  144.444444   1.0       15    1.262719    0.0\n",
       "5      15  155.555556   1.0       32   -0.053731    0.0\n",
       "6      16  166.666667   1.0       14    2.556715    0.0\n",
       "7      17  177.777778   1.0       27   -0.419439    0.0\n",
       "8      18  188.888889   1.0       11   -0.648579    0.0\n",
       "9      19  200.000000   1.0       38    0.935879    0.0"
      ]
     },
     "execution_count": 87,
     "metadata": {},
     "output_type": "execute_result"
    }
   ],
   "source": [
    "df.sort_index(axis=1)"
   ]
  },
  {
   "cell_type": "code",
   "execution_count": 89,
   "id": "d4934caa",
   "metadata": {},
   "outputs": [
    {
     "data": {
      "text/html": [
       "<div>\n",
       "<style scoped>\n",
       "    .dataframe tbody tr th:only-of-type {\n",
       "        vertical-align: middle;\n",
       "    }\n",
       "\n",
       "    .dataframe tbody tr th {\n",
       "        vertical-align: top;\n",
       "    }\n",
       "\n",
       "    .dataframe thead th {\n",
       "        text-align: right;\n",
       "    }\n",
       "</style>\n",
       "<table border=\"1\" class=\"dataframe\">\n",
       "  <thead>\n",
       "    <tr style=\"text-align: right;\">\n",
       "      <th></th>\n",
       "      <th>zeros</th>\n",
       "      <th>ones</th>\n",
       "      <th>arange</th>\n",
       "      <th>linspace</th>\n",
       "      <th>randint</th>\n",
       "      <th>randnormal</th>\n",
       "    </tr>\n",
       "  </thead>\n",
       "  <tbody>\n",
       "    <tr>\n",
       "      <th>0</th>\n",
       "      <td>0.0</td>\n",
       "      <td>1.0</td>\n",
       "      <td>10</td>\n",
       "      <td>100.000000</td>\n",
       "      <td>35</td>\n",
       "      <td>1.000186</td>\n",
       "    </tr>\n",
       "    <tr>\n",
       "      <th>1</th>\n",
       "      <td>0.0</td>\n",
       "      <td>1.0</td>\n",
       "      <td>11</td>\n",
       "      <td>111.111111</td>\n",
       "      <td>16</td>\n",
       "      <td>1.289440</td>\n",
       "    </tr>\n",
       "    <tr>\n",
       "      <th>2</th>\n",
       "      <td>0.0</td>\n",
       "      <td>1.0</td>\n",
       "      <td>12</td>\n",
       "      <td>122.222222</td>\n",
       "      <td>15</td>\n",
       "      <td>-1.103988</td>\n",
       "    </tr>\n",
       "    <tr>\n",
       "      <th>3</th>\n",
       "      <td>0.0</td>\n",
       "      <td>1.0</td>\n",
       "      <td>13</td>\n",
       "      <td>133.333333</td>\n",
       "      <td>37</td>\n",
       "      <td>-0.578646</td>\n",
       "    </tr>\n",
       "    <tr>\n",
       "      <th>4</th>\n",
       "      <td>0.0</td>\n",
       "      <td>1.0</td>\n",
       "      <td>14</td>\n",
       "      <td>144.444444</td>\n",
       "      <td>15</td>\n",
       "      <td>1.262719</td>\n",
       "    </tr>\n",
       "    <tr>\n",
       "      <th>5</th>\n",
       "      <td>0.0</td>\n",
       "      <td>1.0</td>\n",
       "      <td>15</td>\n",
       "      <td>155.555556</td>\n",
       "      <td>32</td>\n",
       "      <td>-0.053731</td>\n",
       "    </tr>\n",
       "    <tr>\n",
       "      <th>6</th>\n",
       "      <td>0.0</td>\n",
       "      <td>1.0</td>\n",
       "      <td>16</td>\n",
       "      <td>166.666667</td>\n",
       "      <td>14</td>\n",
       "      <td>2.556715</td>\n",
       "    </tr>\n",
       "    <tr>\n",
       "      <th>7</th>\n",
       "      <td>0.0</td>\n",
       "      <td>1.0</td>\n",
       "      <td>17</td>\n",
       "      <td>177.777778</td>\n",
       "      <td>27</td>\n",
       "      <td>-0.419439</td>\n",
       "    </tr>\n",
       "    <tr>\n",
       "      <th>8</th>\n",
       "      <td>0.0</td>\n",
       "      <td>1.0</td>\n",
       "      <td>18</td>\n",
       "      <td>188.888889</td>\n",
       "      <td>11</td>\n",
       "      <td>-0.648579</td>\n",
       "    </tr>\n",
       "    <tr>\n",
       "      <th>9</th>\n",
       "      <td>0.0</td>\n",
       "      <td>1.0</td>\n",
       "      <td>19</td>\n",
       "      <td>200.000000</td>\n",
       "      <td>38</td>\n",
       "      <td>0.935879</td>\n",
       "    </tr>\n",
       "  </tbody>\n",
       "</table>\n",
       "</div>"
      ],
      "text/plain": [
       "   zeros  ones  arange    linspace  randint  randnormal\n",
       "0    0.0   1.0      10  100.000000       35    1.000186\n",
       "1    0.0   1.0      11  111.111111       16    1.289440\n",
       "2    0.0   1.0      12  122.222222       15   -1.103988\n",
       "3    0.0   1.0      13  133.333333       37   -0.578646\n",
       "4    0.0   1.0      14  144.444444       15    1.262719\n",
       "5    0.0   1.0      15  155.555556       32   -0.053731\n",
       "6    0.0   1.0      16  166.666667       14    2.556715\n",
       "7    0.0   1.0      17  177.777778       27   -0.419439\n",
       "8    0.0   1.0      18  188.888889       11   -0.648579\n",
       "9    0.0   1.0      19  200.000000       38    0.935879"
      ]
     },
     "execution_count": 89,
     "metadata": {},
     "output_type": "execute_result"
    }
   ],
   "source": [
    "a.sort_index()"
   ]
  },
  {
   "cell_type": "code",
   "execution_count": 90,
   "id": "df1332a9",
   "metadata": {},
   "outputs": [
    {
     "data": {
      "text/plain": [
       "8    11\n",
       "6    14\n",
       "2    15\n",
       "4    15\n",
       "1    16\n",
       "7    27\n",
       "5    32\n",
       "0    35\n",
       "3    37\n",
       "9    38\n",
       "Name: randint, dtype: int32"
      ]
     },
     "execution_count": 90,
     "metadata": {},
     "output_type": "execute_result"
    }
   ],
   "source": [
    "df['randint'].sort_values()"
   ]
  },
  {
   "cell_type": "code",
   "execution_count": 91,
   "id": "711133bd",
   "metadata": {},
   "outputs": [
    {
     "data": {
      "text/plain": [
       "0    35\n",
       "1    16\n",
       "2    15\n",
       "3    37\n",
       "4    15\n",
       "5    32\n",
       "6    14\n",
       "7    27\n",
       "8    11\n",
       "9    38\n",
       "Name: randint, dtype: int32"
      ]
     },
     "execution_count": 91,
     "metadata": {},
     "output_type": "execute_result"
    }
   ],
   "source": [
    "df['randint']"
   ]
  },
  {
   "cell_type": "markdown",
   "id": "13727ece",
   "metadata": {},
   "source": [
    "### 11. Append()"
   ]
  },
  {
   "cell_type": "code",
   "execution_count": null,
   "id": "5aba6564",
   "metadata": {},
   "outputs": [],
   "source": [
    "Append values to the end of an array"
   ]
  },
  {
   "cell_type": "code",
   "execution_count": 92,
   "id": "3d67c391",
   "metadata": {},
   "outputs": [],
   "source": [
    "arr1 = np.array([2,3,4,5])\n",
    "arr2 = np.array([10,20,30,40])"
   ]
  },
  {
   "cell_type": "code",
   "execution_count": 93,
   "id": "7c904d4b",
   "metadata": {},
   "outputs": [
    {
     "data": {
      "text/plain": [
       "array([12, 23, 34, 45])"
      ]
     },
     "execution_count": 93,
     "metadata": {},
     "output_type": "execute_result"
    }
   ],
   "source": [
    "arr1 + arr2"
   ]
  },
  {
   "cell_type": "code",
   "execution_count": 94,
   "id": "228117a0",
   "metadata": {},
   "outputs": [
    {
     "data": {
      "text/plain": [
       "array([ 2,  3,  4,  5, 10, 20, 30, 40])"
      ]
     },
     "execution_count": 94,
     "metadata": {},
     "output_type": "execute_result"
    }
   ],
   "source": [
    "np.append(arr1,arr2)"
   ]
  },
  {
   "cell_type": "code",
   "execution_count": 95,
   "id": "a6df328c",
   "metadata": {},
   "outputs": [
    {
     "data": {
      "text/plain": [
       "array([  2,   3,   4,   5, 100])"
      ]
     },
     "execution_count": 95,
     "metadata": {},
     "output_type": "execute_result"
    }
   ],
   "source": [
    "np.append(arr1,100)"
   ]
  },
  {
   "cell_type": "code",
   "execution_count": 96,
   "id": "2f8e3e10",
   "metadata": {},
   "outputs": [
    {
     "data": {
      "text/plain": [
       "array([ 2,  3,  4,  5, 10, 20, 30, 40])"
      ]
     },
     "execution_count": 96,
     "metadata": {},
     "output_type": "execute_result"
    }
   ],
   "source": [
    "arr1 = np.array([2,3,4,5]) # 1D\n",
    "arr2 = np.array([[10,20],[30,40]]) # 2D\n",
    "arr = np.append(arr1,arr2) # flatten the array\n",
    "arr # 1D"
   ]
  },
  {
   "cell_type": "code",
   "execution_count": 97,
   "id": "ffaa0fd2",
   "metadata": {},
   "outputs": [
    {
     "data": {
      "text/plain": [
       "array([ 2,  3,  4,  5, 10, 20, 30, 40])"
      ]
     },
     "execution_count": 97,
     "metadata": {},
     "output_type": "execute_result"
    }
   ],
   "source": [
    "arr1 = np.array([[2,3,4,5]]) # 2D\n",
    "arr2 = np.array([[10,20],[30,40]]) # 2D\n",
    "arr = np.append(arr1,arr2) # flatten the array\n",
    "arr # 1D"
   ]
  },
  {
   "cell_type": "code",
   "execution_count": 98,
   "id": "84efd6d3",
   "metadata": {},
   "outputs": [
    {
     "data": {
      "text/plain": [
       "array([ 2,  3,  4,  5, 10, 20, 30, 40])"
      ]
     },
     "execution_count": 98,
     "metadata": {},
     "output_type": "execute_result"
    }
   ],
   "source": [
    "arr1 = np.array([[[2,3,4,5]]]) # 3D\n",
    "arr2 = np.array([[10,20],[30,40]]) # 2D\n",
    "arr = np.append(arr1,arr2) # flatten the array\n",
    "arr # 1D"
   ]
  },
  {
   "cell_type": "code",
   "execution_count": 99,
   "id": "648dc56a",
   "metadata": {},
   "outputs": [
    {
     "data": {
      "text/plain": [
       "array([ 2,  3,  4,  5, 10, 20, 30, 40])"
      ]
     },
     "execution_count": 99,
     "metadata": {},
     "output_type": "execute_result"
    }
   ],
   "source": [
    "arr1 = np.array([[2,3],[4,5]]) # 2D\n",
    "arr2 = np.array([[10,20],[30,40]]) # 2D\n",
    "arr = np.append(arr1,arr2) # flatten the array\n",
    "arr # 1D"
   ]
  },
  {
   "cell_type": "code",
   "execution_count": 101,
   "id": "a41c7401",
   "metadata": {},
   "outputs": [
    {
     "name": "stdout",
     "output_type": "stream",
     "text": [
      "Arr1 is :\n",
      " [[2 3]\n",
      " [4 5]]\n",
      "Arr2 is :\n",
      " [[10 20]\n",
      " [30 40]]\n"
     ]
    },
    {
     "data": {
      "text/plain": [
       "array([[ 2,  3],\n",
       "       [ 4,  5],\n",
       "       [10, 20],\n",
       "       [30, 40]])"
      ]
     },
     "execution_count": 101,
     "metadata": {},
     "output_type": "execute_result"
    }
   ],
   "source": [
    "arr1 = np.array([[2,3],[4,5]]) # 2D\n",
    "arr2 = np.array([[10,20],[30,40]]) # 2D\n",
    "\n",
    "print('Arr1 is :\\n',arr1)\n",
    "print('Arr2 is :\\n',arr2)\n",
    "\n",
    "arr = np.append(arr1,arr2,axis=0) # Adding rows\n",
    "arr # 1D"
   ]
  },
  {
   "cell_type": "code",
   "execution_count": 102,
   "id": "3e1f8161",
   "metadata": {},
   "outputs": [
    {
     "name": "stdout",
     "output_type": "stream",
     "text": [
      "Arr1 is :\n",
      " [[2 3]\n",
      " [4 5]]\n",
      "Arr2 is :\n",
      " [[10 20]\n",
      " [30 40]]\n"
     ]
    },
    {
     "data": {
      "text/plain": [
       "array([[ 2,  3, 10, 20],\n",
       "       [ 4,  5, 30, 40]])"
      ]
     },
     "execution_count": 102,
     "metadata": {},
     "output_type": "execute_result"
    }
   ],
   "source": [
    "arr1 = np.array([[2,3],[4,5]]) # 2D\n",
    "arr2 = np.array([[10,20],[30,40]]) # 2D\n",
    "\n",
    "print('Arr1 is :\\n',arr1)\n",
    "print('Arr2 is :\\n',arr2)\n",
    "\n",
    "arr = np.append(arr1,arr2,axis=1) # Adding column\n",
    "arr # 1D"
   ]
  },
  {
   "cell_type": "code",
   "execution_count": 104,
   "id": "8a10d042",
   "metadata": {},
   "outputs": [
    {
     "name": "stdout",
     "output_type": "stream",
     "text": [
      "Arr1 is :\n",
      " [[2 3]\n",
      " [4 5]]\n",
      "Arr2 is :\n",
      " [[10 20]]\n"
     ]
    },
    {
     "data": {
      "text/plain": [
       "array([[ 2,  3],\n",
       "       [ 4,  5],\n",
       "       [10, 20]])"
      ]
     },
     "execution_count": 104,
     "metadata": {},
     "output_type": "execute_result"
    }
   ],
   "source": [
    "arr1 = np.array([[2,3],[4,5]]) # 2D\n",
    "arr2 = np.array([[10,20]]) # 2D\n",
    "\n",
    "print('Arr1 is :\\n',arr1)\n",
    "print('Arr2 is :\\n',arr2)\n",
    "\n",
    "arr = np.append(arr1,arr2,axis=0) # Adding row\n",
    "arr # 1D"
   ]
  },
  {
   "cell_type": "markdown",
   "id": "9b3b8d0c",
   "metadata": {},
   "source": [
    "### 12. np.concatenate()"
   ]
  },
  {
   "cell_type": "code",
   "execution_count": null,
   "id": "399dd88a",
   "metadata": {},
   "outputs": [],
   "source": [
    "np.concatenate([a1,a2,a3,a4])"
   ]
  },
  {
   "cell_type": "code",
   "execution_count": 105,
   "id": "21e32767",
   "metadata": {},
   "outputs": [
    {
     "name": "stdout",
     "output_type": "stream",
     "text": [
      "Arr1 is :\n",
      " [2 3 4 5]\n",
      "Arr2 is :\n",
      " [20 30 40 50]\n"
     ]
    },
    {
     "data": {
      "text/plain": [
       "array([ 2,  3,  4,  5, 20, 30, 40, 50])"
      ]
     },
     "execution_count": 105,
     "metadata": {},
     "output_type": "execute_result"
    }
   ],
   "source": [
    "arr1 = np.array([2,3,4,5])\n",
    "print('Arr1 is :\\n',arr1)\n",
    "\n",
    "arr2 = np.array([20,30,40,50])\n",
    "print('Arr2 is :\\n',arr2)\n",
    "np.concatenate([arr1,arr2])"
   ]
  },
  {
   "cell_type": "code",
   "execution_count": 106,
   "id": "2f4009d4",
   "metadata": {},
   "outputs": [
    {
     "name": "stdout",
     "output_type": "stream",
     "text": [
      "Arr1 is :\n",
      " [2 3 4 5]\n",
      "Arr2 is :\n",
      " [20 30 40 50]\n",
      "Arr2 is :\n",
      " [200 300 400 500]\n"
     ]
    },
    {
     "data": {
      "text/plain": [
       "array([  2,   3,   4,   5,  20,  30,  40,  50, 200, 300, 400, 500])"
      ]
     },
     "execution_count": 106,
     "metadata": {},
     "output_type": "execute_result"
    }
   ],
   "source": [
    "arr1 = np.array([2,3,4,5])\n",
    "print('Arr1 is :\\n',arr1)\n",
    "\n",
    "arr2 = np.array([20,30,40,50])\n",
    "print('Arr2 is :\\n',arr2)\n",
    "\n",
    "arr3 = np.array([200,300,400,500])\n",
    "print('Arr2 is :\\n',arr3)\n",
    "\n",
    "np.concatenate([arr1,arr2,arr3])"
   ]
  },
  {
   "cell_type": "code",
   "execution_count": 107,
   "id": "2a57f111",
   "metadata": {},
   "outputs": [
    {
     "name": "stdout",
     "output_type": "stream",
     "text": [
      "Arr1 is :\n",
      " [[2 3]\n",
      " [4 5]]\n",
      "Arr2 is :\n",
      " [[20 30]\n",
      " [40 50]]\n"
     ]
    },
    {
     "data": {
      "text/plain": [
       "array([[ 2,  3],\n",
       "       [ 4,  5],\n",
       "       [20, 30],\n",
       "       [40, 50]])"
      ]
     },
     "execution_count": 107,
     "metadata": {},
     "output_type": "execute_result"
    }
   ],
   "source": [
    "arr1 = np.array([[2,3],[4,5]])\n",
    "print('Arr1 is :\\n',arr1)\n",
    "\n",
    "arr2 = np.array([[20,30],[40,50]])\n",
    "print('Arr2 is :\\n',arr2)\n",
    "\n",
    "np.concatenate([arr1,arr2])"
   ]
  },
  {
   "cell_type": "code",
   "execution_count": 108,
   "id": "839f50d2",
   "metadata": {},
   "outputs": [
    {
     "name": "stdout",
     "output_type": "stream",
     "text": [
      "Arr1 is :\n",
      " [[2 3]\n",
      " [4 5]]\n",
      "Arr2 is :\n",
      " [[20 30]\n",
      " [40 50]]\n"
     ]
    },
    {
     "data": {
      "text/plain": [
       "array([[ 2,  3, 20, 30],\n",
       "       [ 4,  5, 40, 50]])"
      ]
     },
     "execution_count": 108,
     "metadata": {},
     "output_type": "execute_result"
    }
   ],
   "source": [
    "arr1 = np.array([[2,3],[4,5]])\n",
    "print('Arr1 is :\\n',arr1)\n",
    "\n",
    "arr2 = np.array([[20,30],[40,50]])\n",
    "print('Arr2 is :\\n',arr2)\n",
    "\n",
    "np.concatenate([arr1,arr2],axis=1)"
   ]
  },
  {
   "cell_type": "markdown",
   "id": "90f1d8b5",
   "metadata": {},
   "source": [
    "### for loops"
   ]
  },
  {
   "cell_type": "code",
   "execution_count": 109,
   "id": "42f82b9d",
   "metadata": {},
   "outputs": [
    {
     "data": {
      "text/plain": [
       "array([1, 2, 3, 4, 5])"
      ]
     },
     "execution_count": 109,
     "metadata": {},
     "output_type": "execute_result"
    }
   ],
   "source": [
    "array = np.array([1,2,3,4,5])\n",
    "array"
   ]
  },
  {
   "cell_type": "code",
   "execution_count": 110,
   "id": "0ea29253",
   "metadata": {},
   "outputs": [
    {
     "name": "stdout",
     "output_type": "stream",
     "text": [
      "Value is : 1\n",
      "Value is : 2\n",
      "Value is : 3\n",
      "Value is : 4\n",
      "Value is : 5\n"
     ]
    }
   ],
   "source": [
    "for i in array:\n",
    "    print('Value is :',i)"
   ]
  },
  {
   "cell_type": "code",
   "execution_count": 111,
   "id": "4af431e2",
   "metadata": {},
   "outputs": [
    {
     "name": "stdout",
     "output_type": "stream",
     "text": [
      "Arr2 is :\n",
      " [[20 30]\n",
      " [40 50]]\n",
      "value is : [20 30]\n",
      "value is : [40 50]\n"
     ]
    }
   ],
   "source": [
    "arr2 = np.array([[20,30],[40,50]])\n",
    "print('Arr2 is :\\n',arr2)\n",
    "\n",
    "for i in arr2:\n",
    "    print('value is :',i)"
   ]
  },
  {
   "cell_type": "code",
   "execution_count": 113,
   "id": "74ed6e78",
   "metadata": {},
   "outputs": [
    {
     "name": "stdout",
     "output_type": "stream",
     "text": [
      "value is : 20\n",
      "value is : 30\n",
      "value is : 40\n",
      "value is : 50\n"
     ]
    }
   ],
   "source": [
    "for i in arr2:\n",
    "    for j in i:\n",
    "        print('value is :',j)"
   ]
  },
  {
   "cell_type": "markdown",
   "id": "129c5285",
   "metadata": {},
   "source": [
    "### nditer()"
   ]
  },
  {
   "cell_type": "code",
   "execution_count": 115,
   "id": "93eb75b0",
   "metadata": {},
   "outputs": [
    {
     "name": "stdout",
     "output_type": "stream",
     "text": [
      "Arr2 is :\n",
      " [[20 30]\n",
      " [40 50]]\n",
      "value is : 20\n",
      "value is : 30\n",
      "value is : 40\n",
      "value is : 50\n"
     ]
    }
   ],
   "source": [
    "arr2 = np.array([[20,30],[40,50]])\n",
    "print('Arr2 is :\\n',arr2)\n",
    "\n",
    "for item in np.nditer(arr2):\n",
    "    print('value is :',item)"
   ]
  },
  {
   "cell_type": "code",
   "execution_count": 116,
   "id": "307c8fe7",
   "metadata": {},
   "outputs": [
    {
     "name": "stdout",
     "output_type": "stream",
     "text": [
      "Arr2 is :\n",
      " [[[3 4]\n",
      "  [5 6]]]\n",
      "value is : 3\n",
      "value is : 4\n",
      "value is : 5\n",
      "value is : 6\n"
     ]
    }
   ],
   "source": [
    "arr3 = np.array([[[3,4],[5,6]]])\n",
    "print('Arr2 is :\\n',arr3)\n",
    "\n",
    "for item in np.nditer(arr3):\n",
    "    print('value is :',item)"
   ]
  },
  {
   "cell_type": "code",
   "execution_count": 117,
   "id": "171441bb",
   "metadata": {},
   "outputs": [
    {
     "name": "stdout",
     "output_type": "stream",
     "text": [
      "Arr2 is :\n",
      " [[20 30]\n",
      " [40 50]]\n",
      "value at index (0, 0) is 20\n",
      "value at index (0, 1) is 30\n",
      "value at index (1, 0) is 40\n",
      "value at index (1, 1) is 50\n"
     ]
    }
   ],
   "source": [
    "arr2 = np.array([[20,30],[40,50]])\n",
    "print('Arr2 is :\\n',arr2)\n",
    "\n",
    "for i,item in np.ndenumerate(arr2):\n",
    "    print(f'value at index {i} is {item}')"
   ]
  },
  {
   "cell_type": "code",
   "execution_count": 118,
   "id": "d7aee09e",
   "metadata": {},
   "outputs": [
    {
     "data": {
      "text/plain": [
       "20"
      ]
     },
     "execution_count": 118,
     "metadata": {},
     "output_type": "execute_result"
    }
   ],
   "source": [
    "arr2[0,0]"
   ]
  },
  {
   "cell_type": "code",
   "execution_count": 120,
   "id": "234505af",
   "metadata": {},
   "outputs": [
    {
     "name": "stdout",
     "output_type": "stream",
     "text": [
      "Arr2 is :\n",
      " [[[ 3  4]\n",
      "  [ 5  6]]\n",
      "\n",
      " [[30 40]\n",
      "  [50 60]]]\n",
      "value at index (0, 0, 0) is 3\n",
      "value at index (0, 0, 1) is 4\n",
      "value at index (0, 1, 0) is 5\n",
      "value at index (0, 1, 1) is 6\n",
      "value at index (1, 0, 0) is 30\n",
      "value at index (1, 0, 1) is 40\n",
      "value at index (1, 1, 0) is 50\n",
      "value at index (1, 1, 1) is 60\n"
     ]
    }
   ],
   "source": [
    "arr2 = np.array([[[3,4],[5,6]],[[30,40],[50,60]]])\n",
    "print('Arr2 is :\\n',arr2)\n",
    "\n",
    "for i,item in np.ndenumerate(arr2):\n",
    "    print(f'value at index {i} is {item}')"
   ]
  },
  {
   "cell_type": "markdown",
   "id": "79afdca2",
   "metadata": {},
   "source": [
    "### ceil"
   ]
  },
  {
   "cell_type": "code",
   "execution_count": null,
   "id": "67c20a3d",
   "metadata": {},
   "outputs": [],
   "source": [
    "celing\n",
    "flooring"
   ]
  },
  {
   "cell_type": "code",
   "execution_count": null,
   "id": "73668e5b",
   "metadata": {},
   "outputs": [],
   "source": [
    "4.6 >> 5\n",
    "3.5 >> 4\n",
    "3.1 >> 4\n",
    "4.2 >> 5"
   ]
  },
  {
   "cell_type": "code",
   "execution_count": 121,
   "id": "50348800",
   "metadata": {},
   "outputs": [
    {
     "data": {
      "text/plain": [
       "5.0"
      ]
     },
     "execution_count": 121,
     "metadata": {},
     "output_type": "execute_result"
    }
   ],
   "source": [
    "np.ceil(4.6)"
   ]
  },
  {
   "cell_type": "code",
   "execution_count": 122,
   "id": "5c685b4f",
   "metadata": {},
   "outputs": [
    {
     "data": {
      "text/plain": [
       "5.0"
      ]
     },
     "execution_count": 122,
     "metadata": {},
     "output_type": "execute_result"
    }
   ],
   "source": [
    "np.ceil(4.1)"
   ]
  },
  {
   "cell_type": "code",
   "execution_count": 123,
   "id": "64d018ae",
   "metadata": {},
   "outputs": [
    {
     "data": {
      "text/plain": [
       "array([3., 5., 6., 4.])"
      ]
     },
     "execution_count": 123,
     "metadata": {},
     "output_type": "execute_result"
    }
   ],
   "source": [
    "np.ceil([2.2,4.1,5.7,3.9])"
   ]
  },
  {
   "cell_type": "markdown",
   "id": "518ebe61",
   "metadata": {},
   "source": [
    "### floor"
   ]
  },
  {
   "cell_type": "code",
   "execution_count": null,
   "id": "8487415d",
   "metadata": {},
   "outputs": [],
   "source": [
    "4.6 >> 4\n",
    "3.5 >> 3\n",
    "3.1 >> 3\n",
    "4.2 >> 4"
   ]
  },
  {
   "cell_type": "code",
   "execution_count": 124,
   "id": "e5fa187c",
   "metadata": {},
   "outputs": [
    {
     "data": {
      "text/plain": [
       "4.0"
      ]
     },
     "execution_count": 124,
     "metadata": {},
     "output_type": "execute_result"
    }
   ],
   "source": [
    "np.floor(4.6)"
   ]
  },
  {
   "cell_type": "code",
   "execution_count": 125,
   "id": "67c181ee",
   "metadata": {},
   "outputs": [
    {
     "data": {
      "text/plain": [
       "4.0"
      ]
     },
     "execution_count": 125,
     "metadata": {},
     "output_type": "execute_result"
    }
   ],
   "source": [
    "np.floor(4.1)"
   ]
  },
  {
   "cell_type": "code",
   "execution_count": 126,
   "id": "15a1ff15",
   "metadata": {},
   "outputs": [
    {
     "data": {
      "text/plain": [
       "array([2., 4., 5., 3.])"
      ]
     },
     "execution_count": 126,
     "metadata": {},
     "output_type": "execute_result"
    }
   ],
   "source": [
    "np.floor([2.2,4.1,5.7,3.9])"
   ]
  },
  {
   "cell_type": "code",
   "execution_count": null,
   "id": "efccd60b",
   "metadata": {},
   "outputs": [],
   "source": []
  }
 ],
 "metadata": {
  "kernelspec": {
   "display_name": "Python 3",
   "language": "python",
   "name": "python3"
  },
  "language_info": {
   "codemirror_mode": {
    "name": "ipython",
    "version": 3
   },
   "file_extension": ".py",
   "mimetype": "text/x-python",
   "name": "python",
   "nbconvert_exporter": "python",
   "pygments_lexer": "ipython3",
   "version": "3.8.8"
  }
 },
 "nbformat": 4,
 "nbformat_minor": 5
}
