{
 "cells": [
  {
   "cell_type": "code",
   "execution_count": 1,
   "id": "1cadc57f",
   "metadata": {},
   "outputs": [],
   "source": [
    "import numpy as np"
   ]
  },
  {
   "cell_type": "markdown",
   "id": "de6d96d7",
   "metadata": {},
   "source": [
    "## 2. Temp"
   ]
  },
  {
   "cell_type": "code",
   "execution_count": null,
   "id": "a9ab26ec",
   "metadata": {},
   "outputs": [],
   "source": [
    "hot: 2Y & 2N >>4\n",
    "cool : 3Y & 1N >> 4\n",
    "mild : 4Y & 2N >>6\n",
    "    \n",
    "E(hot) = 1\n",
    "E(cool) = 0.81\n",
    "E(mild)=0.92\n",
    "\n",
    "I(Temp) = 0.91\n",
    "IG(Temp) = 0.94- 0.91 = 0.03\n"
   ]
  },
  {
   "cell_type": "code",
   "execution_count": 2,
   "id": "fb1781d0",
   "metadata": {},
   "outputs": [
    {
     "data": {
      "text/plain": [
       "1.0"
      ]
     },
     "execution_count": 2,
     "metadata": {},
     "output_type": "execute_result"
    }
   ],
   "source": [
    "# hot\n",
    "-(2/4)* np.log2(2/4) - (2/4)*np.log2(2/4)"
   ]
  },
  {
   "cell_type": "code",
   "execution_count": 3,
   "id": "e80eb289",
   "metadata": {},
   "outputs": [
    {
     "data": {
      "text/plain": [
       "0.8112781244591328"
      ]
     },
     "execution_count": 3,
     "metadata": {},
     "output_type": "execute_result"
    }
   ],
   "source": [
    "# cool\n",
    "-(3/4)* np.log2(3/4) - (1/4)*np.log2(1/4)"
   ]
  },
  {
   "cell_type": "code",
   "execution_count": 4,
   "id": "8a4997e4",
   "metadata": {},
   "outputs": [
    {
     "data": {
      "text/plain": [
       "0.9182958340544896"
      ]
     },
     "execution_count": 4,
     "metadata": {},
     "output_type": "execute_result"
    }
   ],
   "source": [
    "# mild\n",
    "-(4/6)* np.log2(4/6) - (2/6)*np.log2(2/6)"
   ]
  },
  {
   "cell_type": "code",
   "execution_count": 6,
   "id": "add23897",
   "metadata": {},
   "outputs": [
    {
     "data": {
      "text/plain": [
       "0.9114285714285715"
      ]
     },
     "execution_count": 6,
     "metadata": {},
     "output_type": "execute_result"
    }
   ],
   "source": [
    "# information\n",
    "(4/14)* 1 + (4/14)*0.81 + (6/14)*0.92"
   ]
  },
  {
   "cell_type": "code",
   "execution_count": 7,
   "id": "7732e3c2",
   "metadata": {},
   "outputs": [
    {
     "data": {
      "text/plain": [
       "0.029999999999999916"
      ]
     },
     "execution_count": 7,
     "metadata": {},
     "output_type": "execute_result"
    }
   ],
   "source": [
    "# IG(Temp)\n",
    "0.94 -0.91"
   ]
  },
  {
   "cell_type": "markdown",
   "id": "d9025cf7",
   "metadata": {},
   "source": [
    "## Humidity"
   ]
  },
  {
   "cell_type": "code",
   "execution_count": null,
   "id": "f6a48076",
   "metadata": {},
   "outputs": [],
   "source": [
    "high: 3Y & 4N >>7\n",
    "normal: 6Y & 1N >> 7\n",
    "    \n",
    "E(high) = 0.98\n",
    "E(norm) = 0.59\n",
    "\n",
    "I(hum) = 0.78\n",
    "IG(hum) = 0.94-0.78 =0.16"
   ]
  },
  {
   "cell_type": "code",
   "execution_count": 8,
   "id": "2fd446bf",
   "metadata": {},
   "outputs": [
    {
     "data": {
      "text/plain": [
       "0.9852281360342515"
      ]
     },
     "execution_count": 8,
     "metadata": {},
     "output_type": "execute_result"
    }
   ],
   "source": [
    "# high\n",
    "-(3/7)* np.log2(3/7) - (4/7)*np.log2(4/7)"
   ]
  },
  {
   "cell_type": "code",
   "execution_count": 9,
   "id": "c17054ce",
   "metadata": {},
   "outputs": [
    {
     "data": {
      "text/plain": [
       "0.5916727785823275"
      ]
     },
     "execution_count": 9,
     "metadata": {},
     "output_type": "execute_result"
    }
   ],
   "source": [
    "# norm\n",
    "-(6/7)* np.log2(6/7) - (1/7)*np.log2(1/7)"
   ]
  },
  {
   "cell_type": "code",
   "execution_count": 10,
   "id": "9327c264",
   "metadata": {},
   "outputs": [
    {
     "data": {
      "text/plain": [
       "0.7849999999999999"
      ]
     },
     "execution_count": 10,
     "metadata": {},
     "output_type": "execute_result"
    }
   ],
   "source": [
    "# information\n",
    "(7/14)* 0.98 + (7/14)*0.59"
   ]
  },
  {
   "cell_type": "code",
   "execution_count": 12,
   "id": "06fa2ac9",
   "metadata": {},
   "outputs": [
    {
     "data": {
      "text/plain": [
       "0.15999999999999992"
      ]
     },
     "execution_count": 12,
     "metadata": {},
     "output_type": "execute_result"
    }
   ],
   "source": [
    "0.94-0.78"
   ]
  },
  {
   "cell_type": "markdown",
   "id": "abf95bb3",
   "metadata": {},
   "source": [
    "## Windy"
   ]
  },
  {
   "cell_type": "code",
   "execution_count": null,
   "id": "1a50472c",
   "metadata": {},
   "outputs": [],
   "source": [
    "true: 3Y & 3N >>6\n",
    "false 6Y & 2N >> 8\n",
    "\n",
    "E(t) =1\n",
    "E(F) =0.81\n",
    "\n",
    "I(windy) = 0.89\n",
    "IG(windy)=0.05"
   ]
  },
  {
   "cell_type": "code",
   "execution_count": 13,
   "id": "41d5ccb2",
   "metadata": {},
   "outputs": [
    {
     "data": {
      "text/plain": [
       "1.0"
      ]
     },
     "execution_count": 13,
     "metadata": {},
     "output_type": "execute_result"
    }
   ],
   "source": [
    "# true\n",
    "-(3/6)* np.log2(3/6) - (3/6)*np.log2(3/6)"
   ]
  },
  {
   "cell_type": "code",
   "execution_count": 14,
   "id": "050c8be3",
   "metadata": {},
   "outputs": [
    {
     "data": {
      "text/plain": [
       "0.8112781244591328"
      ]
     },
     "execution_count": 14,
     "metadata": {},
     "output_type": "execute_result"
    }
   ],
   "source": [
    "# false\n",
    "-(6/8)* np.log2(6/8) - (2/8)*np.log2(2/8)"
   ]
  },
  {
   "cell_type": "code",
   "execution_count": 15,
   "id": "f8fa22be",
   "metadata": {},
   "outputs": [
    {
     "data": {
      "text/plain": [
       "0.8914285714285715"
      ]
     },
     "execution_count": 15,
     "metadata": {},
     "output_type": "execute_result"
    }
   ],
   "source": [
    "# information\n",
    "(6/14)* 1 + (8/14)*0.81"
   ]
  },
  {
   "cell_type": "code",
   "execution_count": 16,
   "id": "b5e2f7aa",
   "metadata": {},
   "outputs": [
    {
     "data": {
      "text/plain": [
       "0.04999999999999993"
      ]
     },
     "execution_count": 16,
     "metadata": {},
     "output_type": "execute_result"
    }
   ],
   "source": [
    "# IG\n",
    "0.94-0.89"
   ]
  },
  {
   "cell_type": "markdown",
   "id": "1f35781a",
   "metadata": {},
   "source": [
    "## Result"
   ]
  },
  {
   "cell_type": "code",
   "execution_count": null,
   "id": "744b1a94",
   "metadata": {},
   "outputs": [],
   "source": [
    "I_outlook =  0.693\n",
    "I_Temp = 0.91\n",
    "I_hum = 0.78\n",
    "I_windy = 0.89\n",
    "\n",
    "# We select lowest"
   ]
  },
  {
   "cell_type": "code",
   "execution_count": null,
   "id": "00065e8d",
   "metadata": {},
   "outputs": [],
   "source": [
    "IG_outlook = 0.247\n",
    "IG_Temp = 0.03\n",
    "IG_hum = 0.16\n",
    "IG_windy = 0.05\n",
    "# We select highest"
   ]
  },
  {
   "cell_type": "code",
   "execution_count": null,
   "id": "71902a1e",
   "metadata": {},
   "outputs": [],
   "source": []
  },
  {
   "cell_type": "code",
   "execution_count": null,
   "id": "12d4134e",
   "metadata": {},
   "outputs": [],
   "source": [
    "Gini Index :\n",
    "    measure of impurity\n",
    "    CART >> Classification and Regression Trees\n",
    "    \n",
    "    GI = 1 - SUM(P)^2\n",
    "       = 1 - [P[Y]^2 + P[N]^2]"
   ]
  },
  {
   "cell_type": "code",
   "execution_count": null,
   "id": "a133c081",
   "metadata": {},
   "outputs": [],
   "source": [
    "Entropy:\n",
    "    ID3 >> Iterative Dichotomiser 3"
   ]
  },
  {
   "cell_type": "code",
   "execution_count": null,
   "id": "84ea333e",
   "metadata": {},
   "outputs": [],
   "source": []
  },
  {
   "cell_type": "markdown",
   "id": "6024f741",
   "metadata": {},
   "source": [
    "## Gini Index"
   ]
  },
  {
   "cell_type": "markdown",
   "id": "d1e7b124",
   "metadata": {},
   "source": [
    "## 1. Outlook"
   ]
  },
  {
   "cell_type": "code",
   "execution_count": null,
   "id": "1633ebca",
   "metadata": {},
   "outputs": [],
   "source": [
    "overcast : 4Y & 0N  >> 4\n",
    "rainy :   3Y & 2N  >> 5\n",
    "sunny:    2Y & 3N  >> 5\n",
    "\n",
    "\n",
    "Total GINi = 1-[(9/14)^2 +(5/14)^2] 0r 1-(9/14)^2 -(5/14)^2\n",
    "            =0.46\n",
    "    \n",
    "GI(sunny) = 0.48\n",
    "GI(overcast) = 0\n",
    "GI(rainy) = 0.48\n",
    "\n",
    "Info_GI_outlook = 0.34 \n",
    "\n",
    "IG_GI_outlook = 0.46 -.34\n",
    "                = 0.12"
   ]
  },
  {
   "cell_type": "code",
   "execution_count": 19,
   "id": "009ef202",
   "metadata": {},
   "outputs": [
    {
     "data": {
      "text/plain": [
       "0.4591836734693877"
      ]
     },
     "execution_count": 19,
     "metadata": {},
     "output_type": "execute_result"
    }
   ],
   "source": [
    "# gini for total sample\n",
    "1-(9/14)**2 -(5/14)**2"
   ]
  },
  {
   "cell_type": "code",
   "execution_count": 20,
   "id": "1d7a1b14",
   "metadata": {},
   "outputs": [
    {
     "data": {
      "text/plain": [
       "0.48"
      ]
     },
     "execution_count": 20,
     "metadata": {},
     "output_type": "execute_result"
    }
   ],
   "source": [
    "# Sunny\n",
    "1-(2/5)**2 -(3/5)**2"
   ]
  },
  {
   "cell_type": "code",
   "execution_count": 21,
   "id": "f1c2e868",
   "metadata": {},
   "outputs": [
    {
     "data": {
      "text/plain": [
       "0.0"
      ]
     },
     "execution_count": 21,
     "metadata": {},
     "output_type": "execute_result"
    }
   ],
   "source": [
    "#overcast\n",
    "1-(4/4)**2 -(0)**2"
   ]
  },
  {
   "cell_type": "code",
   "execution_count": 22,
   "id": "6050b4eb",
   "metadata": {},
   "outputs": [
    {
     "data": {
      "text/plain": [
       "0.48"
      ]
     },
     "execution_count": 22,
     "metadata": {},
     "output_type": "execute_result"
    }
   ],
   "source": [
    "# rainy\n",
    "1 -(3/5)**2-(2/5)**2"
   ]
  },
  {
   "cell_type": "code",
   "execution_count": 23,
   "id": "5687f993",
   "metadata": {},
   "outputs": [
    {
     "data": {
      "text/plain": [
       "0.34285714285714286"
      ]
     },
     "execution_count": 23,
     "metadata": {},
     "output_type": "execute_result"
    }
   ],
   "source": [
    "# info\n",
    "(5/14)*0.48 + (4/14)*0 + (5/14)*0.48"
   ]
  },
  {
   "cell_type": "markdown",
   "id": "9704a561",
   "metadata": {},
   "source": [
    "## 2. Temp"
   ]
  },
  {
   "cell_type": "code",
   "execution_count": null,
   "id": "c645c429",
   "metadata": {},
   "outputs": [],
   "source": [
    "hot: 2Y & 2N >>4\n",
    "cool : 3Y & 1N >> 4\n",
    "mild : 4Y & 2N >>6 \n",
    "\n",
    "GI(hot)= 0.5\n",
    "GI(cool)=0.37\n",
    "GI(mild) = 0.44\n",
    "\n",
    "Info_GI_temp =  0.438\n",
    "\n",
    "IG_GI_temp = 0.46 -0.438 =0.02\n"
   ]
  },
  {
   "cell_type": "code",
   "execution_count": 24,
   "id": "6fca1d0c",
   "metadata": {},
   "outputs": [
    {
     "data": {
      "text/plain": [
       "0.5"
      ]
     },
     "execution_count": 24,
     "metadata": {},
     "output_type": "execute_result"
    }
   ],
   "source": [
    "# hot\n",
    "1-(2/4)**2 -(2/4)**2"
   ]
  },
  {
   "cell_type": "code",
   "execution_count": 25,
   "id": "db1d41e4",
   "metadata": {},
   "outputs": [
    {
     "data": {
      "text/plain": [
       "0.375"
      ]
     },
     "execution_count": 25,
     "metadata": {},
     "output_type": "execute_result"
    }
   ],
   "source": [
    "# cool\n",
    "1-(3/4)**2 -(1/4)**2"
   ]
  },
  {
   "cell_type": "code",
   "execution_count": 26,
   "id": "a0a1f0e4",
   "metadata": {},
   "outputs": [
    {
     "data": {
      "text/plain": [
       "0.4444444444444445"
      ]
     },
     "execution_count": 26,
     "metadata": {},
     "output_type": "execute_result"
    }
   ],
   "source": [
    "# mild\n",
    "1-(4/6)**2 -(2/6)**2"
   ]
  },
  {
   "cell_type": "code",
   "execution_count": 27,
   "id": "37d48fe3",
   "metadata": {},
   "outputs": [
    {
     "data": {
      "text/plain": [
       "0.43857142857142856"
      ]
     },
     "execution_count": 27,
     "metadata": {},
     "output_type": "execute_result"
    }
   ],
   "source": [
    "# info\n",
    "(4/14)*0.5 + (4/14)*0.375 + (6/14)*0.44"
   ]
  },
  {
   "cell_type": "code",
   "execution_count": 28,
   "id": "899465ff",
   "metadata": {},
   "outputs": [
    {
     "data": {
      "text/plain": [
       "0.02200000000000002"
      ]
     },
     "execution_count": 28,
     "metadata": {},
     "output_type": "execute_result"
    }
   ],
   "source": [
    "# IG\n",
    "0.46 -0.438"
   ]
  },
  {
   "cell_type": "markdown",
   "id": "196f74f9",
   "metadata": {},
   "source": [
    "## 3. Humidity"
   ]
  },
  {
   "cell_type": "code",
   "execution_count": null,
   "id": "e29b2d1a",
   "metadata": {},
   "outputs": [],
   "source": [
    "high: 3Y & 4N >>7\n",
    "normal: 6Y & 1N >> 7\n",
    "    \n",
    "GI(high) = 0.489\n",
    "GI(norm)= 0.244\n",
    "\n",
    "Info_GI_humi =  0.366\n",
    "\n",
    "IG_GI_humi= 0.46 -0.366 =0.094\n"
   ]
  },
  {
   "cell_type": "code",
   "execution_count": 29,
   "id": "ede5c901",
   "metadata": {},
   "outputs": [
    {
     "data": {
      "text/plain": [
       "0.489795918367347"
      ]
     },
     "execution_count": 29,
     "metadata": {},
     "output_type": "execute_result"
    }
   ],
   "source": [
    "# high\n",
    "1-(3/7)**2 -(4/7)**2"
   ]
  },
  {
   "cell_type": "code",
   "execution_count": 30,
   "id": "2e53937f",
   "metadata": {},
   "outputs": [
    {
     "data": {
      "text/plain": [
       "0.24489795918367355"
      ]
     },
     "execution_count": 30,
     "metadata": {},
     "output_type": "execute_result"
    }
   ],
   "source": [
    "# normal\n",
    "1-(6/7)**2 -(1/7)**2"
   ]
  },
  {
   "cell_type": "code",
   "execution_count": 31,
   "id": "ed1cc60f",
   "metadata": {},
   "outputs": [
    {
     "data": {
      "text/plain": [
       "0.3665"
      ]
     },
     "execution_count": 31,
     "metadata": {},
     "output_type": "execute_result"
    }
   ],
   "source": [
    "# info\n",
    "(7/14)*0.489 + (7/14)*0.244"
   ]
  },
  {
   "cell_type": "code",
   "execution_count": 32,
   "id": "b8d16a78",
   "metadata": {},
   "outputs": [
    {
     "data": {
      "text/plain": [
       "0.09400000000000003"
      ]
     },
     "execution_count": 32,
     "metadata": {},
     "output_type": "execute_result"
    }
   ],
   "source": [
    "# IG\n",
    "0.46 -0.366"
   ]
  },
  {
   "cell_type": "markdown",
   "id": "2c42e0de",
   "metadata": {},
   "source": [
    "## 4. windy"
   ]
  },
  {
   "cell_type": "code",
   "execution_count": null,
   "id": "8c8da97c",
   "metadata": {},
   "outputs": [],
   "source": [
    "true: 3Y & 3N >>6\n",
    "false 6Y & 2N >> 8\n",
    "\n",
    "GI(true) = 0.5\n",
    "GI(false) = 0.375\n",
    "\n",
    "Info_GI_humi =  0.428\n",
    "\n",
    "IG_GI_humi= 0.46 - 0.428 = 0.032"
   ]
  },
  {
   "cell_type": "code",
   "execution_count": 33,
   "id": "864e9907",
   "metadata": {},
   "outputs": [
    {
     "data": {
      "text/plain": [
       "0.5"
      ]
     },
     "execution_count": 33,
     "metadata": {},
     "output_type": "execute_result"
    }
   ],
   "source": [
    "# true\n",
    "1-(3/6)**2 -(3/6)**2"
   ]
  },
  {
   "cell_type": "code",
   "execution_count": 34,
   "id": "af87553f",
   "metadata": {},
   "outputs": [
    {
     "data": {
      "text/plain": [
       "0.375"
      ]
     },
     "execution_count": 34,
     "metadata": {},
     "output_type": "execute_result"
    }
   ],
   "source": [
    "# flase\n",
    "1-(6/8)**2 -(2/8)**2"
   ]
  },
  {
   "cell_type": "code",
   "execution_count": 35,
   "id": "e42de57f",
   "metadata": {},
   "outputs": [
    {
     "data": {
      "text/plain": [
       "0.42857142857142855"
      ]
     },
     "execution_count": 35,
     "metadata": {},
     "output_type": "execute_result"
    }
   ],
   "source": [
    "# info\n",
    "(6/14)*0.5 + (8/14)*0.375"
   ]
  },
  {
   "cell_type": "code",
   "execution_count": 36,
   "id": "055f490c",
   "metadata": {},
   "outputs": [
    {
     "data": {
      "text/plain": [
       "0.03200000000000003"
      ]
     },
     "execution_count": 36,
     "metadata": {},
     "output_type": "execute_result"
    }
   ],
   "source": [
    "# IG\n",
    "0.46 - 0.428"
   ]
  },
  {
   "cell_type": "markdown",
   "id": "4b07ca7b",
   "metadata": {},
   "source": [
    "## Result"
   ]
  },
  {
   "cell_type": "code",
   "execution_count": null,
   "id": "b39d6dc7",
   "metadata": {},
   "outputs": [],
   "source": [
    "I_outlook =  0.34\n",
    "I_Temp = 0.438\n",
    "I_hum = 0.366\n",
    "I_windy = 0.428\n",
    "\n",
    "# We select lowest"
   ]
  },
  {
   "cell_type": "code",
   "execution_count": null,
   "id": "26b00cb3",
   "metadata": {},
   "outputs": [],
   "source": [
    "IG_outlook = 0.12\n",
    "IG_Temp = 0.02\n",
    "IG_hum = 0.094\n",
    "IG_windy = 0.032\n",
    "# We select highest"
   ]
  },
  {
   "cell_type": "code",
   "execution_count": null,
   "id": "843ca795",
   "metadata": {},
   "outputs": [],
   "source": []
  },
  {
   "cell_type": "code",
   "execution_count": null,
   "id": "b6c173a6",
   "metadata": {},
   "outputs": [],
   "source": []
  },
  {
   "cell_type": "code",
   "execution_count": null,
   "id": "726e5807",
   "metadata": {},
   "outputs": [],
   "source": []
  },
  {
   "cell_type": "code",
   "execution_count": null,
   "id": "cfd1fb6d",
   "metadata": {},
   "outputs": [],
   "source": []
  },
  {
   "cell_type": "code",
   "execution_count": null,
   "id": "1fc0e6d4",
   "metadata": {},
   "outputs": [],
   "source": []
  },
  {
   "cell_type": "code",
   "execution_count": null,
   "id": "b1d861e0",
   "metadata": {},
   "outputs": [],
   "source": []
  },
  {
   "cell_type": "code",
   "execution_count": null,
   "id": "92324d4f",
   "metadata": {},
   "outputs": [],
   "source": []
  },
  {
   "cell_type": "code",
   "execution_count": null,
   "id": "dd958c1f",
   "metadata": {},
   "outputs": [],
   "source": []
  },
  {
   "cell_type": "code",
   "execution_count": null,
   "id": "4f10485d",
   "metadata": {},
   "outputs": [],
   "source": []
  },
  {
   "cell_type": "code",
   "execution_count": null,
   "id": "40afa337",
   "metadata": {},
   "outputs": [],
   "source": []
  },
  {
   "cell_type": "code",
   "execution_count": null,
   "id": "02ca84c0",
   "metadata": {},
   "outputs": [],
   "source": []
  },
  {
   "cell_type": "code",
   "execution_count": null,
   "id": "460bd735",
   "metadata": {},
   "outputs": [],
   "source": []
  },
  {
   "cell_type": "code",
   "execution_count": null,
   "id": "cf8d21f5",
   "metadata": {},
   "outputs": [],
   "source": []
  },
  {
   "cell_type": "code",
   "execution_count": null,
   "id": "86afba2e",
   "metadata": {},
   "outputs": [],
   "source": []
  }
 ],
 "metadata": {
  "kernelspec": {
   "display_name": "Python 3 (ipykernel)",
   "language": "python",
   "name": "python3"
  },
  "language_info": {
   "codemirror_mode": {
    "name": "ipython",
    "version": 3
   },
   "file_extension": ".py",
   "mimetype": "text/x-python",
   "name": "python",
   "nbconvert_exporter": "python",
   "pygments_lexer": "ipython3",
   "version": "3.9.7"
  }
 },
 "nbformat": 4,
 "nbformat_minor": 5
}
