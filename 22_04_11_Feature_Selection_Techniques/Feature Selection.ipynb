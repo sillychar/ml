{
 "cells": [
  {
   "cell_type": "markdown",
   "id": "d0a1fa70",
   "metadata": {},
   "source": [
    "# Feature Selection"
   ]
  },
  {
   "cell_type": "code",
   "execution_count": null,
   "id": "0b194438",
   "metadata": {},
   "outputs": [],
   "source": [
    "Feature Selection is a way of selecting the subset of most relevent features from original features, \n",
    "also we try to remove less relevent features, noisy features."
   ]
  },
  {
   "cell_type": "markdown",
   "id": "c6837638",
   "metadata": {},
   "source": [
    "# Need of Feature Selection"
   ]
  },
  {
   "cell_type": "code",
   "execution_count": null,
   "id": "332be8d0",
   "metadata": {},
   "outputs": [],
   "source": [
    "1. Less Important features\n",
    "2. Noisy features"
   ]
  },
  {
   "cell_type": "markdown",
   "id": "59a719fc",
   "metadata": {},
   "source": [
    "# Benifits of Feature Selection"
   ]
  },
  {
   "cell_type": "code",
   "execution_count": null,
   "id": "920fe402",
   "metadata": {},
   "outputs": [],
   "source": [
    "1. It improves accuracy\n",
    "2. It takes less computation time(It reduces training and testing time)\n",
    "3. It helps to reduce overfitting.\n",
    "4. It helps in avoiding curse of dimensionality."
   ]
  },
  {
   "cell_type": "markdown",
   "id": "3fec6fdc",
   "metadata": {},
   "source": [
    "# Feature Selection Techniques"
   ]
  },
  {
   "cell_type": "code",
   "execution_count": null,
   "id": "5a9a50ea",
   "metadata": {},
   "outputs": [],
   "source": [
    "1. Filter Method:(Before Training)\n",
    "    1. Correlation:-\n",
    "        1. Pearson Correlation Coeff. (Cont vs cont)\n",
    "        2. Spearman Rank Correlation coeff (Cont vs cont)\n",
    "        3. Kendall(tau) corr. coeff (cat vs cat)\n",
    "        \n",
    "    2. Mutual Information(Information Gain)\n",
    "    3. fishers Score (Cat)\n",
    "    4. Chi-Square Test(Cat)\n",
    "    5. Missing Value Ration\n",
    "    6. Variance Threshold Method\n",
    "    7. Anova Test\n",
    "    8. Mean Absolute Difference\n",
    "\n",
    "2. Wrapper Method:(With training)\n",
    "    * It uses Machine Learning Algorithms to find best subset of features\n",
    "    1. Forward Feature Selection\n",
    "    2. Backward Feature Selection\n",
    "    3. Recursive Feature Elimination\n",
    "    4. Exhaustive Feature Selection\n",
    "\n",
    "3. Embedded Method:(Post training)\n",
    "    1. Random Forest Important\n",
    "    2. AdaBoost Importance\n",
    "    3. Regularization (L1 >> Lasso)"
   ]
  },
  {
   "cell_type": "markdown",
   "id": "ea576d35",
   "metadata": {},
   "source": [
    "## Spearman's Rank Correlation Coeff."
   ]
  },
  {
   "cell_type": "code",
   "execution_count": null,
   "id": "5b1f520b",
   "metadata": {},
   "outputs": [],
   "source": [
    "It works better when we dont have linear relationship"
   ]
  },
  {
   "cell_type": "markdown",
   "id": "6e6c9f9c",
   "metadata": {},
   "source": [
    "## Kendall(tau) Rank Corr Coeff"
   ]
  },
  {
   "cell_type": "code",
   "execution_count": null,
   "id": "19d90698",
   "metadata": {},
   "outputs": [],
   "source": [
    "-Its a non-parametric test that is used to measure the degree of association between two variables\n",
    "-It is best suited for discrete(categorical)\n",
    "\n",
    "Kendall is preffered than spearman because of more robustness(Smaller Gross error Sensitivity)(GES)\n",
    "and more efficient(Smaller Asymptotic variance)(AV)"
   ]
  },
  {
   "cell_type": "code",
   "execution_count": null,
   "id": "2d6445df",
   "metadata": {},
   "outputs": [],
   "source": [
    "Pearson: Variables should be continous\n",
    "         Should be normally distributed\n",
    "         relation should be linear\n",
    "         outliers to be handled\n",
    "        \n",
    "Spearman : Works well on ordinal data\n",
    "           Variables should be continous\n",
    "           determine strength and direction of monotonic relation\n",
    "           Works well on monotonic and non-linear\n",
    "        \n",
    "Kendall : When data dosent meet pearsons requirements\n",
    "          Its non parametric, so no need of normally distributed data\n",
    "          Does not require continous data\n",
    "          suited for cat var"
   ]
  },
  {
   "cell_type": "markdown",
   "id": "650ef94b",
   "metadata": {},
   "source": [
    "## Mutual Information (Information Gain)"
   ]
  },
  {
   "cell_type": "code",
   "execution_count": null,
   "id": "b3d3c524",
   "metadata": {},
   "outputs": [],
   "source": [
    "-It measure of dependence or mutual dependence between two variables.\n",
    "-It ranges from 0 to 1"
   ]
  },
  {
   "cell_type": "code",
   "execution_count": 1,
   "id": "c7bf6e44",
   "metadata": {},
   "outputs": [
    {
     "data": {
      "text/plain": [
       "6.188"
      ]
     },
     "execution_count": 1,
     "metadata": {},
     "output_type": "execute_result"
    }
   ],
   "source": [
    "4.76*1.3"
   ]
  },
  {
   "cell_type": "code",
   "execution_count": null,
   "id": "8bfbe5f2",
   "metadata": {},
   "outputs": [],
   "source": []
  },
  {
   "cell_type": "code",
   "execution_count": null,
   "id": "6e12469a",
   "metadata": {},
   "outputs": [],
   "source": []
  },
  {
   "cell_type": "code",
   "execution_count": null,
   "id": "4c4ebec4",
   "metadata": {},
   "outputs": [],
   "source": []
  },
  {
   "cell_type": "code",
   "execution_count": null,
   "id": "e3f36032",
   "metadata": {},
   "outputs": [],
   "source": []
  },
  {
   "cell_type": "code",
   "execution_count": null,
   "id": "d5cacb3f",
   "metadata": {},
   "outputs": [],
   "source": []
  },
  {
   "cell_type": "code",
   "execution_count": null,
   "id": "f9d26053",
   "metadata": {},
   "outputs": [],
   "source": []
  },
  {
   "cell_type": "code",
   "execution_count": null,
   "id": "aaa5be41",
   "metadata": {},
   "outputs": [],
   "source": []
  },
  {
   "cell_type": "code",
   "execution_count": null,
   "id": "94382095",
   "metadata": {},
   "outputs": [],
   "source": []
  },
  {
   "cell_type": "code",
   "execution_count": null,
   "id": "8f2ceb16",
   "metadata": {},
   "outputs": [],
   "source": []
  },
  {
   "cell_type": "code",
   "execution_count": null,
   "id": "adf65269",
   "metadata": {},
   "outputs": [],
   "source": []
  },
  {
   "cell_type": "code",
   "execution_count": null,
   "id": "35b5c1fa",
   "metadata": {},
   "outputs": [],
   "source": []
  },
  {
   "cell_type": "code",
   "execution_count": null,
   "id": "5ae0bcc4",
   "metadata": {},
   "outputs": [],
   "source": []
  },
  {
   "cell_type": "code",
   "execution_count": null,
   "id": "4a541eff",
   "metadata": {},
   "outputs": [],
   "source": []
  },
  {
   "cell_type": "code",
   "execution_count": null,
   "id": "0609db47",
   "metadata": {},
   "outputs": [],
   "source": []
  },
  {
   "cell_type": "code",
   "execution_count": null,
   "id": "403c20c7",
   "metadata": {},
   "outputs": [],
   "source": []
  },
  {
   "cell_type": "code",
   "execution_count": null,
   "id": "36a0de0f",
   "metadata": {},
   "outputs": [],
   "source": []
  },
  {
   "cell_type": "code",
   "execution_count": null,
   "id": "383b1227",
   "metadata": {},
   "outputs": [],
   "source": []
  },
  {
   "cell_type": "code",
   "execution_count": null,
   "id": "8bce8765",
   "metadata": {},
   "outputs": [],
   "source": []
  },
  {
   "cell_type": "code",
   "execution_count": null,
   "id": "c7a24492",
   "metadata": {},
   "outputs": [],
   "source": []
  },
  {
   "cell_type": "code",
   "execution_count": null,
   "id": "16aa6a08",
   "metadata": {},
   "outputs": [],
   "source": []
  },
  {
   "cell_type": "code",
   "execution_count": null,
   "id": "5425c57a",
   "metadata": {},
   "outputs": [],
   "source": []
  },
  {
   "cell_type": "code",
   "execution_count": null,
   "id": "a33cf4d7",
   "metadata": {},
   "outputs": [],
   "source": []
  },
  {
   "cell_type": "code",
   "execution_count": null,
   "id": "d9d89129",
   "metadata": {},
   "outputs": [],
   "source": []
  },
  {
   "cell_type": "code",
   "execution_count": null,
   "id": "e8f8e9a7",
   "metadata": {},
   "outputs": [],
   "source": []
  },
  {
   "cell_type": "code",
   "execution_count": null,
   "id": "428da041",
   "metadata": {},
   "outputs": [],
   "source": []
  },
  {
   "cell_type": "code",
   "execution_count": null,
   "id": "d762238b",
   "metadata": {},
   "outputs": [],
   "source": []
  },
  {
   "cell_type": "code",
   "execution_count": null,
   "id": "a27ba816",
   "metadata": {},
   "outputs": [],
   "source": []
  },
  {
   "cell_type": "code",
   "execution_count": null,
   "id": "209f3632",
   "metadata": {},
   "outputs": [],
   "source": []
  },
  {
   "cell_type": "code",
   "execution_count": null,
   "id": "8186f6d7",
   "metadata": {},
   "outputs": [],
   "source": []
  },
  {
   "cell_type": "code",
   "execution_count": null,
   "id": "56bfef71",
   "metadata": {},
   "outputs": [],
   "source": []
  }
 ],
 "metadata": {
  "kernelspec": {
   "display_name": "Python 3 (ipykernel)",
   "language": "python",
   "name": "python3"
  },
  "language_info": {
   "codemirror_mode": {
    "name": "ipython",
    "version": 3
   },
   "file_extension": ".py",
   "mimetype": "text/x-python",
   "name": "python",
   "nbconvert_exporter": "python",
   "pygments_lexer": "ipython3",
   "version": "3.9.7"
  }
 },
 "nbformat": 4,
 "nbformat_minor": 5
}
