{
 "cells": [
  {
   "cell_type": "markdown",
   "id": "2a0f548c",
   "metadata": {},
   "source": [
    "# Decision Tree"
   ]
  },
  {
   "cell_type": "code",
   "execution_count": null,
   "id": "4bb217ff",
   "metadata": {},
   "outputs": [],
   "source": [
    "It is used for Classification as well as Regression.\n",
    "\n",
    "Decision Tree:\n",
    "    It is a graphical representation for getting all the possible solutions to a problem/decision based on condition.\n",
    "    \n",
    "Root node/Parent node: \n",
    "    \n",
    "Leaf node :\n",
    "    \n",
    "Splitting: \n",
    "    \n",
    "Branch node/ child node: \n",
    "    \n"
   ]
  },
  {
   "cell_type": "markdown",
   "id": "c42c4251",
   "metadata": {},
   "source": [
    "## Attribute Selection Measures"
   ]
  },
  {
   "cell_type": "code",
   "execution_count": null,
   "id": "d332b34b",
   "metadata": {},
   "outputs": [],
   "source": [
    "1. Entropy(Information Gain)\n",
    "2. Gini Index"
   ]
  },
  {
   "cell_type": "code",
   "execution_count": null,
   "id": "aa747a70",
   "metadata": {},
   "outputs": [],
   "source": [
    "Entropy: \n",
    "    Measure of impurity\n",
    "    \n",
    "Impurity:\n",
    "    The measure based on which the optimal condition is chosen\n",
    "    when is highest or lowest probability\n",
    "    the degree of randomness, how random your data is\n",
    "    \n",
    "Information Gain:\n",
    "    measure the reduction in entropy\n",
    "    IG is measurement of change in entropy\n",
    "    Decides which attribute should be selected as your decision node\n",
    "    \n",
    "    IG = Entropy(S) - [weighted avg * Entropy of each feature] "
   ]
  },
  {
   "cell_type": "code",
   "execution_count": 1,
   "id": "781a7555",
   "metadata": {},
   "outputs": [],
   "source": [
    "import numpy as np"
   ]
  },
  {
   "cell_type": "code",
   "execution_count": 2,
   "id": "65d98c0f",
   "metadata": {},
   "outputs": [
    {
     "data": {
      "text/plain": [
       "1.0"
      ]
     },
     "execution_count": 2,
     "metadata": {},
     "output_type": "execute_result"
    }
   ],
   "source": [
    "-(0.5)* np.log2(0.5) - (0.5)*np.log2(0.5)"
   ]
  },
  {
   "cell_type": "code",
   "execution_count": 3,
   "id": "4ff6b94c",
   "metadata": {},
   "outputs": [
    {
     "data": {
      "text/plain": [
       "-0.0"
      ]
     },
     "execution_count": 3,
     "metadata": {},
     "output_type": "execute_result"
    }
   ],
   "source": [
    "-(1)* np.log2(1)"
   ]
  },
  {
   "cell_type": "code",
   "execution_count": 4,
   "id": "834084cd",
   "metadata": {},
   "outputs": [
    {
     "name": "stderr",
     "output_type": "stream",
     "text": [
      "<ipython-input-4-d0aee032fd37>:1: RuntimeWarning: divide by zero encountered in log2\n",
      "  - (0)*np.log2(0)\n",
      "<ipython-input-4-d0aee032fd37>:1: RuntimeWarning: invalid value encountered in double_scalars\n",
      "  - (0)*np.log2(0)\n"
     ]
    },
    {
     "data": {
      "text/plain": [
       "nan"
      ]
     },
     "execution_count": 4,
     "metadata": {},
     "output_type": "execute_result"
    }
   ],
   "source": [
    " - (0)*np.log2(0)"
   ]
  },
  {
   "cell_type": "markdown",
   "id": "4a51aa5f",
   "metadata": {},
   "source": [
    "## Example"
   ]
  },
  {
   "cell_type": "markdown",
   "id": "8ce3ef68",
   "metadata": {},
   "source": [
    "### 1. Outlook"
   ]
  },
  {
   "cell_type": "code",
   "execution_count": null,
   "id": "9752fb86",
   "metadata": {},
   "outputs": [],
   "source": [
    "overcast : 4Y & 0N  >> 4\n",
    "rainy :   3Y & 2N  >> 5\n",
    "sunny:    2Y & 3N  >> 5\n",
    "    \n",
    "Total samples: 9Y & 5N >> 14\n",
    " \n",
    "E(S) = 0.94\n",
    "\n",
    "E(outlook = overcast) = 0\n",
    "E(outlook=rainy) = 0.971\n",
    "E(outlook=sunny) = 0.971\n",
    "\n",
    "Information = 0.693\n",
    "\n",
    "IG_Outlook = 0.94 - [(4/14)* 0 + (5/14)*0.971 + (5/14)*0.971]\n",
    "IG_Outlook = 0.94 - 0.693\n",
    "IG_Outlook = 0.247"
   ]
  },
  {
   "cell_type": "code",
   "execution_count": 5,
   "id": "f37003e9",
   "metadata": {},
   "outputs": [
    {
     "data": {
      "text/plain": [
       "0.9402859586706311"
      ]
     },
     "execution_count": 5,
     "metadata": {},
     "output_type": "execute_result"
    }
   ],
   "source": [
    "# E(S) of all 14 sample\n",
    "-(9/14)* np.log2(9/14) - (5/14)*np.log2(5/14)"
   ]
  },
  {
   "cell_type": "code",
   "execution_count": 9,
   "id": "34434975",
   "metadata": {},
   "outputs": [
    {
     "data": {
      "text/plain": [
       "-0.0"
      ]
     },
     "execution_count": 9,
     "metadata": {},
     "output_type": "execute_result"
    }
   ],
   "source": [
    "# E(outlook=ovrcast)\n",
    "-(4/4)* np.log2(4/4)"
   ]
  },
  {
   "cell_type": "code",
   "execution_count": 10,
   "id": "756d1253",
   "metadata": {},
   "outputs": [
    {
     "data": {
      "text/plain": [
       "0.9709505944546686"
      ]
     },
     "execution_count": 10,
     "metadata": {},
     "output_type": "execute_result"
    }
   ],
   "source": [
    "# E(outlook=rainy)\n",
    "-(3/5)* np.log2(3/5) - (2/5)*np.log2(2/5)"
   ]
  },
  {
   "cell_type": "code",
   "execution_count": 11,
   "id": "cd87985c",
   "metadata": {},
   "outputs": [
    {
     "data": {
      "text/plain": [
       "0.9709505944546686"
      ]
     },
     "execution_count": 11,
     "metadata": {},
     "output_type": "execute_result"
    }
   ],
   "source": [
    "# E(outlook=sunny)\n",
    "- (2/5)*np.log2(2/5) - (3/5)* np.log2(3/5) "
   ]
  },
  {
   "cell_type": "code",
   "execution_count": 12,
   "id": "c4994ba7",
   "metadata": {},
   "outputs": [
    {
     "data": {
      "text/plain": [
       "0.6935714285714286"
      ]
     },
     "execution_count": 12,
     "metadata": {},
     "output_type": "execute_result"
    }
   ],
   "source": [
    "# Information [weighted avg * Entropy of each feature]\n",
    "(4/14)* 0 + (5/14)*0.971 + (5/14)*0.971"
   ]
  },
  {
   "cell_type": "code",
   "execution_count": 16,
   "id": "5000c745",
   "metadata": {},
   "outputs": [
    {
     "data": {
      "text/plain": [
       "0.247"
      ]
     },
     "execution_count": 16,
     "metadata": {},
     "output_type": "execute_result"
    }
   ],
   "source": [
    "0.94 - 0.693"
   ]
  },
  {
   "cell_type": "code",
   "execution_count": null,
   "id": "a48a0646",
   "metadata": {},
   "outputs": [],
   "source": []
  },
  {
   "cell_type": "code",
   "execution_count": null,
   "id": "ae8c4f22",
   "metadata": {},
   "outputs": [],
   "source": []
  },
  {
   "cell_type": "code",
   "execution_count": null,
   "id": "ac67b46e",
   "metadata": {},
   "outputs": [],
   "source": []
  },
  {
   "cell_type": "code",
   "execution_count": null,
   "id": "ab86623b",
   "metadata": {},
   "outputs": [],
   "source": []
  },
  {
   "cell_type": "code",
   "execution_count": null,
   "id": "55d5414f",
   "metadata": {},
   "outputs": [],
   "source": []
  },
  {
   "cell_type": "code",
   "execution_count": null,
   "id": "cbe1a707",
   "metadata": {},
   "outputs": [],
   "source": []
  },
  {
   "cell_type": "code",
   "execution_count": null,
   "id": "07a388a0",
   "metadata": {},
   "outputs": [],
   "source": []
  },
  {
   "cell_type": "code",
   "execution_count": null,
   "id": "9272c705",
   "metadata": {},
   "outputs": [],
   "source": []
  },
  {
   "cell_type": "code",
   "execution_count": null,
   "id": "0f4ac503",
   "metadata": {},
   "outputs": [],
   "source": []
  },
  {
   "cell_type": "code",
   "execution_count": null,
   "id": "f977ec0a",
   "metadata": {},
   "outputs": [],
   "source": []
  },
  {
   "cell_type": "code",
   "execution_count": null,
   "id": "cc0ab604",
   "metadata": {},
   "outputs": [],
   "source": []
  },
  {
   "cell_type": "code",
   "execution_count": null,
   "id": "bdd1f1a1",
   "metadata": {},
   "outputs": [],
   "source": []
  },
  {
   "cell_type": "code",
   "execution_count": null,
   "id": "9778c136",
   "metadata": {},
   "outputs": [],
   "source": []
  },
  {
   "cell_type": "code",
   "execution_count": null,
   "id": "31431e2c",
   "metadata": {},
   "outputs": [],
   "source": []
  },
  {
   "cell_type": "code",
   "execution_count": null,
   "id": "661fdc37",
   "metadata": {},
   "outputs": [],
   "source": []
  },
  {
   "cell_type": "code",
   "execution_count": null,
   "id": "9f556f4e",
   "metadata": {},
   "outputs": [],
   "source": []
  },
  {
   "cell_type": "code",
   "execution_count": null,
   "id": "f469ae3c",
   "metadata": {},
   "outputs": [],
   "source": []
  },
  {
   "cell_type": "code",
   "execution_count": null,
   "id": "80e292f6",
   "metadata": {},
   "outputs": [],
   "source": []
  },
  {
   "cell_type": "code",
   "execution_count": null,
   "id": "b21c60fb",
   "metadata": {},
   "outputs": [],
   "source": []
  },
  {
   "cell_type": "code",
   "execution_count": null,
   "id": "9718bb5e",
   "metadata": {},
   "outputs": [],
   "source": []
  },
  {
   "cell_type": "code",
   "execution_count": null,
   "id": "8173162d",
   "metadata": {},
   "outputs": [],
   "source": []
  },
  {
   "cell_type": "code",
   "execution_count": null,
   "id": "7c4accab",
   "metadata": {},
   "outputs": [],
   "source": []
  },
  {
   "cell_type": "code",
   "execution_count": null,
   "id": "26ceaa4e",
   "metadata": {},
   "outputs": [],
   "source": []
  },
  {
   "cell_type": "code",
   "execution_count": null,
   "id": "681bc7e8",
   "metadata": {},
   "outputs": [],
   "source": []
  }
 ],
 "metadata": {
  "kernelspec": {
   "display_name": "Python 3 (ipykernel)",
   "language": "python",
   "name": "python3"
  },
  "language_info": {
   "codemirror_mode": {
    "name": "ipython",
    "version": 3
   },
   "file_extension": ".py",
   "mimetype": "text/x-python",
   "name": "python",
   "nbconvert_exporter": "python",
   "pygments_lexer": "ipython3",
   "version": "3.9.7"
  }
 },
 "nbformat": 4,
 "nbformat_minor": 5
}
