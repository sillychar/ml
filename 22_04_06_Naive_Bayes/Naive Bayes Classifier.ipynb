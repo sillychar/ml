{
 "cells": [
  {
   "cell_type": "markdown",
   "id": "d404327a",
   "metadata": {},
   "source": [
    "# Naive Bayes Classifier"
   ]
  },
  {
   "cell_type": "code",
   "execution_count": null,
   "id": "abfcf0fb",
   "metadata": {},
   "outputs": [],
   "source": [
    "It is a Probabilistic Algorithm."
   ]
  },
  {
   "cell_type": "code",
   "execution_count": null,
   "id": "4b6d61cd",
   "metadata": {},
   "outputs": [],
   "source": [
    "Naive : Assumes that the feature in dataset are mutually independent"
   ]
  },
  {
   "cell_type": "code",
   "execution_count": null,
   "id": "033a9574",
   "metadata": {},
   "outputs": [],
   "source": [
    "Bayes theorom:\n",
    "    P(A | B) = P(B | A) * P(A)/P(B)"
   ]
  },
  {
   "cell_type": "code",
   "execution_count": null,
   "id": "a25e6d9a",
   "metadata": {},
   "outputs": [],
   "source": [
    "Probability: \n",
    "    ratio of events happening out of total no of event\n",
    "    ex. cricket match =10\n",
    "    p(ind win) = 7/10 = 0.7\n",
    "    \n",
    "Joint Probability:\n",
    "    Probability of multiple events happening together"
   ]
  },
  {
   "cell_type": "markdown",
   "id": "ed835489",
   "metadata": {},
   "source": [
    "# Variants of Naive Bayes Theorom:"
   ]
  },
  {
   "cell_type": "code",
   "execution_count": null,
   "id": "5734dd34",
   "metadata": {},
   "outputs": [],
   "source": [
    "1. Multinomial NB(Discrete Variables)\n",
    "2. Gaussian NB(Continous Variable)\n",
    "3. Bernoulli NB (Binary Varible)"
   ]
  },
  {
   "cell_type": "markdown",
   "id": "94cd6a52",
   "metadata": {},
   "source": [
    "# Advantages:"
   ]
  },
  {
   "cell_type": "code",
   "execution_count": null,
   "id": "fed2776a",
   "metadata": {},
   "outputs": [],
   "source": [
    "1. Handles high dimensional data\n",
    "2. Performs well on small datasets\n",
    "3. It performs well on categorical as well as continous variables\n",
    "4. It is a faster algo to predict classes"
   ]
  },
  {
   "cell_type": "markdown",
   "id": "c7b8b4e5",
   "metadata": {},
   "source": [
    "# Disadvantages:"
   ]
  },
  {
   "cell_type": "code",
   "execution_count": null,
   "id": "b12c3154",
   "metadata": {},
   "outputs": [],
   "source": [
    "1. Assumption of independence\n",
    "2. if there is zero frequency in Joint proba then we cannot compute Conditional proba."
   ]
  },
  {
   "cell_type": "markdown",
   "id": "40213eb6",
   "metadata": {},
   "source": [
    "# Application"
   ]
  },
  {
   "cell_type": "code",
   "execution_count": null,
   "id": "4d60e8a6",
   "metadata": {},
   "outputs": [],
   "source": [
    "1. text classification >> Document classification\n",
    "2. sentimental analysis(+ve, -ve)\n",
    "3. chatbot\n",
    "4. Spam filtering\n",
    "5. Recommendation system"
   ]
  },
  {
   "cell_type": "code",
   "execution_count": null,
   "id": "251653cb",
   "metadata": {},
   "outputs": [],
   "source": []
  },
  {
   "cell_type": "code",
   "execution_count": null,
   "id": "836fdafa",
   "metadata": {},
   "outputs": [],
   "source": []
  },
  {
   "cell_type": "code",
   "execution_count": null,
   "id": "7b96d2bc",
   "metadata": {},
   "outputs": [],
   "source": []
  },
  {
   "cell_type": "code",
   "execution_count": null,
   "id": "e1e0e102",
   "metadata": {},
   "outputs": [],
   "source": []
  },
  {
   "cell_type": "code",
   "execution_count": null,
   "id": "60162c6f",
   "metadata": {},
   "outputs": [],
   "source": []
  },
  {
   "cell_type": "code",
   "execution_count": null,
   "id": "0f515e4f",
   "metadata": {},
   "outputs": [],
   "source": []
  },
  {
   "cell_type": "code",
   "execution_count": null,
   "id": "b6675fbd",
   "metadata": {},
   "outputs": [],
   "source": []
  },
  {
   "cell_type": "code",
   "execution_count": null,
   "id": "71ef357c",
   "metadata": {},
   "outputs": [],
   "source": []
  },
  {
   "cell_type": "code",
   "execution_count": null,
   "id": "1e1d8724",
   "metadata": {},
   "outputs": [],
   "source": []
  },
  {
   "cell_type": "code",
   "execution_count": null,
   "id": "fcc350e5",
   "metadata": {},
   "outputs": [],
   "source": []
  },
  {
   "cell_type": "code",
   "execution_count": null,
   "id": "e5ea268f",
   "metadata": {},
   "outputs": [],
   "source": []
  },
  {
   "cell_type": "code",
   "execution_count": null,
   "id": "8aaea953",
   "metadata": {},
   "outputs": [],
   "source": []
  }
 ],
 "metadata": {
  "kernelspec": {
   "display_name": "Python 3",
   "language": "python",
   "name": "python3"
  },
  "language_info": {
   "codemirror_mode": {
    "name": "ipython",
    "version": 3
   },
   "file_extension": ".py",
   "mimetype": "text/x-python",
   "name": "python",
   "nbconvert_exporter": "python",
   "pygments_lexer": "ipython3",
   "version": "3.8.8"
  }
 },
 "nbformat": 4,
 "nbformat_minor": 5
}
