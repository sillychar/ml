{
 "cells": [
  {
   "cell_type": "markdown",
   "id": "f4c3257c",
   "metadata": {},
   "source": [
    "## Feature Scaling"
   ]
  },
  {
   "cell_type": "code",
   "execution_count": null,
   "id": "8fa7ce97",
   "metadata": {},
   "outputs": [],
   "source": [
    "Feature Scaling:\n",
    "    It is a technique/method used to normalize/standardize the independent features of data in a range.\n",
    "    \n",
    "Scaling Methods:\n",
    "    1) Normalization\n",
    "    2) Standardization\n",
    "    \n",
    "Types of Feature scaling:\n",
    "    1) Min Max Scaler (Normalization)\n",
    "    2) Standard Scaler (Standardization)\n",
    "    3) Robust Scaler << effective on Outliers\n",
    "    4) Max Absolute\n",
    "    5) Unit Vector Scaler\n",
    "    6) Power transform\n",
    "    7) Quantile tranform\n",
    "    8) Mean normalization"
   ]
  },
  {
   "cell_type": "code",
   "execution_count": null,
   "id": "8232bb18",
   "metadata": {},
   "outputs": [],
   "source": [
    "Data Scaling is important for distance based algorithms:\n",
    "KNN, K-means, SVM  \n"
   ]
  },
  {
   "cell_type": "code",
   "execution_count": null,
   "id": "d90749dc",
   "metadata": {},
   "outputs": [],
   "source": [
    "1) Standardization:\n",
    "    X_std = (Xi - X_mean)/ standard deviation\n",
    "    \n",
    "    It makes the values of scaled feature in a way it have zero mean and 1 standard deviation\n",
    "    We scale the data on the basis of standard deviation in Standardization.\n",
    "    \n",
    "When to use Scaling:\n",
    "    1) Distance based algo(KNN, K-Means, SVM)\n",
    "    2) Gradient Descent based algo(Specifically neural networks)\n",
    "    3) Feature engg. (PCA)\n",
    "    4) Regression\n",
    "    \n",
    "When scaling is not necessary:\n",
    "    CART>> Tree based algo( Decision Tree, Random Forest, XGBoost)"
   ]
  },
  {
   "cell_type": "code",
   "execution_count": null,
   "id": "62dc846c",
   "metadata": {},
   "outputs": [],
   "source": [
    "2) Normalization:\n",
    "    -Normalization ranges from 0 to 1\n",
    "    -To eliminate the unit and keep the magnitude\n",
    "    -MinMax Scaler\n",
    "    \n",
    "    X_norm = (Xi- X_min)/(X_max - X_min)\n",
    "    \n",
    "    Data is scaled based on min(0) and max(1) values of data"
   ]
  },
  {
   "cell_type": "code",
   "execution_count": null,
   "id": "5df0a9c6",
   "metadata": {},
   "outputs": [],
   "source": []
  },
  {
   "cell_type": "code",
   "execution_count": null,
   "id": "ad6c79a0",
   "metadata": {},
   "outputs": [],
   "source": []
  },
  {
   "cell_type": "code",
   "execution_count": null,
   "id": "e265e4d1",
   "metadata": {},
   "outputs": [],
   "source": []
  },
  {
   "cell_type": "code",
   "execution_count": null,
   "id": "2ee3361a",
   "metadata": {},
   "outputs": [],
   "source": []
  },
  {
   "cell_type": "code",
   "execution_count": null,
   "id": "e1378cc6",
   "metadata": {},
   "outputs": [],
   "source": []
  },
  {
   "cell_type": "code",
   "execution_count": null,
   "id": "3c542410",
   "metadata": {},
   "outputs": [],
   "source": []
  },
  {
   "cell_type": "code",
   "execution_count": null,
   "id": "78770fc9",
   "metadata": {},
   "outputs": [],
   "source": []
  },
  {
   "cell_type": "code",
   "execution_count": null,
   "id": "88a86aad",
   "metadata": {},
   "outputs": [],
   "source": []
  },
  {
   "cell_type": "code",
   "execution_count": null,
   "id": "91ce704b",
   "metadata": {},
   "outputs": [],
   "source": []
  },
  {
   "cell_type": "code",
   "execution_count": null,
   "id": "54ee95b7",
   "metadata": {},
   "outputs": [],
   "source": []
  },
  {
   "cell_type": "code",
   "execution_count": null,
   "id": "863d4047",
   "metadata": {},
   "outputs": [],
   "source": []
  },
  {
   "cell_type": "code",
   "execution_count": null,
   "id": "9c57372c",
   "metadata": {},
   "outputs": [],
   "source": []
  },
  {
   "cell_type": "code",
   "execution_count": null,
   "id": "7a6c26d3",
   "metadata": {},
   "outputs": [],
   "source": []
  },
  {
   "cell_type": "code",
   "execution_count": null,
   "id": "81f9159e",
   "metadata": {},
   "outputs": [],
   "source": []
  },
  {
   "cell_type": "code",
   "execution_count": null,
   "id": "33461448",
   "metadata": {},
   "outputs": [],
   "source": []
  },
  {
   "cell_type": "code",
   "execution_count": null,
   "id": "e2fedac4",
   "metadata": {},
   "outputs": [],
   "source": []
  },
  {
   "cell_type": "code",
   "execution_count": null,
   "id": "3d270613",
   "metadata": {},
   "outputs": [],
   "source": []
  }
 ],
 "metadata": {
  "kernelspec": {
   "display_name": "Python 3 (ipykernel)",
   "language": "python",
   "name": "python3"
  },
  "language_info": {
   "codemirror_mode": {
    "name": "ipython",
    "version": 3
   },
   "file_extension": ".py",
   "mimetype": "text/x-python",
   "name": "python",
   "nbconvert_exporter": "python",
   "pygments_lexer": "ipython3",
   "version": "3.9.7"
  }
 },
 "nbformat": 4,
 "nbformat_minor": 5
}
