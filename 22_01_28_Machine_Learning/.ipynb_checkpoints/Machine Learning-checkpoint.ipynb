{
 "cells": [
  {
   "cell_type": "markdown",
   "id": "f521ccda",
   "metadata": {},
   "source": [
    "## Data Science"
   ]
  },
  {
   "cell_type": "code",
   "execution_count": null,
   "id": "6a3ff698",
   "metadata": {},
   "outputs": [],
   "source": [
    "It is process of extracting menaningful knowledge , insights, information from data by using scientific methods/resources"
   ]
  },
  {
   "cell_type": "code",
   "execution_count": null,
   "id": "30dc2b5d",
   "metadata": {},
   "outputs": [],
   "source": [
    "Scientific methods/resources:\n",
    "    1. Machine Learning (CSV, excel , MongoDB, SQLite)\n",
    "    2. Deep Learning (images)\n",
    "    3. Natural Language Processing(text)\n",
    "    4. Statistics\n",
    "    5. Data Visualize(seabor, matplotlib, pandas)"
   ]
  },
  {
   "cell_type": "code",
   "execution_count": null,
   "id": "8f6e9b72",
   "metadata": {},
   "outputs": [],
   "source": [
    "Data:\n",
    "    1. Structured Format(CSV, Excel)\n",
    "    2. Unstructured (images, videos, texts, audios, pdf)\n",
    "    3. Semi-Structured(JSON, HTML)"
   ]
  },
  {
   "cell_type": "markdown",
   "id": "4c2c723e",
   "metadata": {},
   "source": [
    "## Machine Learning"
   ]
  },
  {
   "cell_type": "code",
   "execution_count": null,
   "id": "ae34df9f",
   "metadata": {},
   "outputs": [],
   "source": [
    "ML is a subset of AI/ branch of Comp Science which deals with system programming in order to automate machines\n",
    "to learn from their past data/experiences and improve performance and make predictions."
   ]
  },
  {
   "cell_type": "code",
   "execution_count": 2,
   "id": "b31bb137",
   "metadata": {},
   "outputs": [],
   "source": [
    "Training Data: # Total Data 600\n",
    "    80% >> 480\n",
    "    \n",
    "Testing: (Unseen data to the model)\n",
    "    20% >> 120"
   ]
  },
  {
   "cell_type": "markdown",
   "id": "9f02dbf8",
   "metadata": {},
   "source": [
    "## Real World Applications of Machine Learning"
   ]
  },
  {
   "cell_type": "code",
   "execution_count": null,
   "id": "b27ee936",
   "metadata": {},
   "outputs": [],
   "source": [
    "1. Medical field (Cancer, Covid, diabetes)\n",
    "2. House Price Prediction\n",
    "3. Stock Price\n",
    "4. Financial Domain (Approved/Declined),(high risk , medium, low)\n",
    "5. Handwritten Char Recognition\n",
    "6. Sentiment Analysis (Happy/Sad, Positive/Negative, Good/Bad, Spam/not spam)\n",
    "7. ChatBot (Amazon, Flipkart)\n",
    "8. Weather Prediction\n",
    "9. Speech Recognition\n",
    "10. Advertizement\n",
    "11. Self Driving Cars(Object Detection)\n",
    "12. Insurance\n",
    "\n",
    "Health insurance:\n",
    "    cancer >> 5 lakh\n",
    "    diabetes >> 10 lakh"
   ]
  },
  {
   "cell_type": "markdown",
   "id": "4169e25b",
   "metadata": {},
   "source": [
    "## Types of Machine Learning"
   ]
  },
  {
   "cell_type": "code",
   "execution_count": null,
   "id": "ad0a2a6f",
   "metadata": {},
   "outputs": [],
   "source": [
    "1. Supervised ML(Task driven >> Predict next value) >> Labbeled Data\n",
    "2. Unsupervised ML (Data Driven >> identify/classify clusters) >> \n",
    "3. Reinforcement ML"
   ]
  },
  {
   "cell_type": "code",
   "execution_count": null,
   "id": "3738007a",
   "metadata": {},
   "outputs": [],
   "source": [
    "features / variables / attributes / Parameters / columns\n",
    "\n",
    "Input variables / Independent variables / predictors >> one or more >> x\n",
    "Output variables / Dependent variables / Target variable >> only one >> y"
   ]
  },
  {
   "cell_type": "markdown",
   "id": "26a3984e",
   "metadata": {},
   "source": [
    "## 1. Supervised ML(Labelled Data)"
   ]
  },
  {
   "cell_type": "code",
   "execution_count": null,
   "id": "a9848740",
   "metadata": {},
   "outputs": [],
   "source": [
    "Data is Labelled\n",
    "input variable and output variables/ indepedent and dependent variables\n",
    "Supervisor >> Training data\n",
    "\n",
    "1. Classification : (Target column contain only discrete values)\n",
    "    1. Binary Classification:\n",
    "        Yes or no\n",
    "        approved or decline\n",
    "        true or false\n",
    "        won or lose\n",
    "        spam or not spam\n",
    "        good or bad\n",
    "        0 or 1\n",
    "        \n",
    "    2. Multiclass Classification:\n",
    "        high /medium /low\n",
    "        o+ve/A+/B+/AB+\n",
    "        concentrate/normal /dilute\n",
    "        Iris-setosa/Iris-versicolor/Iris-virginica\n",
    "    \n",
    "2. Regression : (Continues values in target feature)\n",
    "    Loan_amount\n",
    "    Salary\n",
    "    House price\n",
    "    age\n",
    "    CIBIL score\n",
    "    length\n",
    "    area\n",
    "    \n",
    "    \n",
    "* Supervised Machine Learning Algorithms :\n",
    "    1. Linear Regression (Regression)\n",
    "    2. Logistic Regression (Classification)\n",
    "    3. Naive Bayes Classifier (Classification)\n",
    "    4. Decision Tree: (Classification and Regression)\n",
    "        Decision Tree Classifier\n",
    "        Decision Tree Regressor\n",
    "    5. K-Nearest Neighbor (KNN): (Classification and Regression)\n",
    "    6. Random Forest (Classification and Regression)\n",
    "    7. Adaboost(Classification and Regression)\n",
    "    8. XGboost (Classification and Regression)\n",
    "    9. Gradient Boost(Classification and Regression)\n",
    "    10. Support Vector Machine(Classification and Regression)"
   ]
  },
  {
   "cell_type": "markdown",
   "id": "8b5f80d4",
   "metadata": {},
   "source": [
    "## 2. Unsupervised ML"
   ]
  },
  {
   "cell_type": "code",
   "execution_count": null,
   "id": "9e6c393b",
   "metadata": {},
   "outputs": [],
   "source": [
    "Data is unlabelled\n",
    "Only independent features\n",
    "\n",
    "Cricket:\n",
    "        Format design Age perform  win_by_player matches   exp\n",
    "virat      3     s     32    50+        50         300      10\n",
    "KL         3     MS    29    50+        25         150      6\n",
    "Shami      2     s     34    40         12         150      8\n",
    "surya\n",
    "shreya\n",
    "siraj\n",
    "shardul\n",
    "deepak\n",
    "saha\n",
    "    \n",
    "   A+    A       B       C\n",
    "virat  Surya    siraj    deepak\n",
    "KL     shreyas  shardul  saha\n",
    "       shami\n",
    "\n",
    "\n",
    "* Unsupervised Machine Learning Alogo:\n",
    "    1. KMeans Clustering\n",
    "    2. Hierarchical Clustering\n",
    "    3. Principal Component Analysis ( PCA ) >> dimensionality reduction\n",
    "    \n",
    "    "
   ]
  },
  {
   "cell_type": "markdown",
   "id": "1d1aeefc",
   "metadata": {},
   "source": [
    "## 3. Reinforcement Learning"
   ]
  },
  {
   "cell_type": "code",
   "execution_count": null,
   "id": "cfbeebdd",
   "metadata": {},
   "outputs": [],
   "source": [
    "Reward/penalities:\n",
    "\n",
    "kids\n",
    "Cricket: wide balls  >> penalty\n",
    "            no balls >> penalty\n",
    "        line length  >> wicket\n",
    "Self driving cars\n",
    "Comapny reviews"
   ]
  },
  {
   "cell_type": "markdown",
   "id": "22445623",
   "metadata": {},
   "source": [
    "## Data Science Project Steps"
   ]
  },
  {
   "cell_type": "code",
   "execution_count": null,
   "id": "a870aede",
   "metadata": {},
   "outputs": [],
   "source": [
    "1. Problem Statement / Business Problem\n",
    "2. Data Gathering :(CSV, Excel , images, pdfs, audios, JSON, etc)\n",
    "3. EXploratory Data Analysis(EDA): (pandas, numpy, seaborn, matplotlib)\n",
    "4. Feature Engineering (Scaling, Handling outlier, Handling Missing, Skewed data handling, and\n",
    "                        creating new informative features)\n",
    "5. Feature Selection (Required features to train the model)\n",
    "6. Model Building/Model Training (Linear Regression, Logistic,KNN,DT,RF)\n",
    "7. Model Evaluation (MSE , classification report, confusion matrix)\n",
    "8. Model Tuning/optimasation (hyperparameter tuning)\n",
    "9. API building (Django, flask)\n",
    "10. Project Deployement (AWS, GCP, Azure, Herokku, offline)"
   ]
  },
  {
   "cell_type": "code",
   "execution_count": null,
   "id": "80b859b9",
   "metadata": {},
   "outputs": [],
   "source": [
    "git, github, gitbucket, gitbash"
   ]
  },
  {
   "cell_type": "code",
   "execution_count": null,
   "id": "271b708a",
   "metadata": {},
   "outputs": [],
   "source": [
    "Analytics vidhya\n",
    "towardsdatascinece\n",
    "medium\n",
    "geeksforgeeks\n",
    "javatpoint"
   ]
  },
  {
   "cell_type": "code",
   "execution_count": null,
   "id": "4471ca6b",
   "metadata": {},
   "outputs": [],
   "source": []
  },
  {
   "cell_type": "code",
   "execution_count": null,
   "id": "b23f0544",
   "metadata": {},
   "outputs": [],
   "source": []
  },
  {
   "cell_type": "code",
   "execution_count": null,
   "id": "41b2b567",
   "metadata": {},
   "outputs": [],
   "source": []
  },
  {
   "cell_type": "code",
   "execution_count": null,
   "id": "720fb317",
   "metadata": {},
   "outputs": [],
   "source": []
  },
  {
   "cell_type": "code",
   "execution_count": null,
   "id": "3c2e3fcf",
   "metadata": {},
   "outputs": [],
   "source": []
  },
  {
   "cell_type": "code",
   "execution_count": null,
   "id": "172b5c3d",
   "metadata": {},
   "outputs": [],
   "source": []
  },
  {
   "cell_type": "code",
   "execution_count": null,
   "id": "2cbc950a",
   "metadata": {},
   "outputs": [],
   "source": []
  },
  {
   "cell_type": "code",
   "execution_count": null,
   "id": "4d5b1a4e",
   "metadata": {},
   "outputs": [],
   "source": []
  }
 ],
 "metadata": {
  "kernelspec": {
   "display_name": "Python 3",
   "language": "python",
   "name": "python3"
  },
  "language_info": {
   "codemirror_mode": {
    "name": "ipython",
    "version": 3
   },
   "file_extension": ".py",
   "mimetype": "text/x-python",
   "name": "python",
   "nbconvert_exporter": "python",
   "pygments_lexer": "ipython3",
   "version": "3.8.8"
  }
 },
 "nbformat": 4,
 "nbformat_minor": 5
}
