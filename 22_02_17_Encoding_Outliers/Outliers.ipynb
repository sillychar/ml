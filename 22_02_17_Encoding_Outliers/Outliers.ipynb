{
 "cells": [
  {
   "cell_type": "markdown",
   "id": "15690c3c",
   "metadata": {},
   "source": [
    "## 1. Outliers"
   ]
  },
  {
   "cell_type": "code",
   "execution_count": null,
   "id": "561fffe5",
   "metadata": {},
   "outputs": [],
   "source": [
    "Out of the box values\n",
    "Data points which area far away from observation"
   ]
  },
  {
   "cell_type": "markdown",
   "id": "cb236c99",
   "metadata": {},
   "source": [
    "## 2. How outliers are itroduced in data"
   ]
  },
  {
   "cell_type": "code",
   "execution_count": null,
   "id": "8ee24a03",
   "metadata": {},
   "outputs": [],
   "source": [
    "1. Data entry error : Human error\n",
    "2. Measurement error : Machine error/ Intrument error\n",
    "3. Intentional error : Dummy dataset\n",
    "4. Sampling error : Mixing of data from wrong resources\n",
    "5. Natural error : Most of actual data belongs to this category"
   ]
  },
  {
   "cell_type": "markdown",
   "id": "20efb38c",
   "metadata": {},
   "source": [
    "## 3. Impact of outliers"
   ]
  },
  {
   "cell_type": "code",
   "execution_count": null,
   "id": "e235ab1c",
   "metadata": {},
   "outputs": [],
   "source": [
    "1. Reduce the power of statistical analysis\n",
    "2. High impact on mean value and std\n",
    "3. Algorithms do not perform well in presence of outliers(mse,Accuracy, precision,recall)\n",
    "4. Impact on basic assumptions of regression(normality, homoscedasticity)"
   ]
  },
  {
   "cell_type": "markdown",
   "id": "dc46c592",
   "metadata": {},
   "source": [
    "## 4. Detect Outliers"
   ]
  },
  {
   "cell_type": "code",
   "execution_count": null,
   "id": "58dcad83",
   "metadata": {},
   "outputs": [],
   "source": [
    "1. Z-score \n",
    "2. IQR\n",
    "3. Boxplot\n",
    "4. Scatterplot"
   ]
  },
  {
   "cell_type": "markdown",
   "id": "4f322036",
   "metadata": {},
   "source": [
    "## 5. Handle Outliers"
   ]
  },
  {
   "cell_type": "code",
   "execution_count": null,
   "id": "f1e41f59",
   "metadata": {},
   "outputs": [],
   "source": [
    "1. Delete Observations/Trimming\n",
    "2. Imputation (mean, median ,mode, zero, any static value)/Capping\n",
    "3. Transformations : (Used to reduce the impact of outliers)\n",
    "    1. log transformation----\n",
    "    2. Cuberoot transformation\n",
    "    3. squareroot transformation\n",
    "    4. reciprocal transformation\n",
    "    5. Nomalization----\n",
    "    6. Standardization----\n",
    "    7. Robust scaling"
   ]
  },
  {
   "cell_type": "markdown",
   "id": "f1c71eb3",
   "metadata": {},
   "source": [
    "## 6. Outliers impact on Algorithms "
   ]
  },
  {
   "cell_type": "markdown",
   "id": "36fee686",
   "metadata": {},
   "source": [
    "### 6.1 Sensitive to outliers"
   ]
  },
  {
   "cell_type": "code",
   "execution_count": null,
   "id": "fb5b9270",
   "metadata": {},
   "outputs": [],
   "source": [
    "1. Linear Regression\n",
    "2. Logistic Regression\n",
    "3. K-nearest neighbour\n",
    "4. Support vector machine\n",
    "5. K-means clustering"
   ]
  },
  {
   "cell_type": "markdown",
   "id": "9fc8513a",
   "metadata": {},
   "source": [
    "### 6.2 Not sensitive to ouliers"
   ]
  },
  {
   "cell_type": "code",
   "execution_count": null,
   "id": "8b12b4d9",
   "metadata": {},
   "outputs": [],
   "source": [
    "1. Decision Tree\n",
    "2. Random Forest \n",
    "3. Adaboost\n",
    "4. XGboost\n",
    "5. Naive Bayes Classifier\n",
    "6. Gradient Boosting"
   ]
  },
  {
   "cell_type": "code",
   "execution_count": null,
   "id": "5b2f47d3",
   "metadata": {},
   "outputs": [],
   "source": []
  },
  {
   "cell_type": "code",
   "execution_count": null,
   "id": "2bc36b7c",
   "metadata": {},
   "outputs": [],
   "source": []
  },
  {
   "cell_type": "code",
   "execution_count": null,
   "id": "2a722680",
   "metadata": {},
   "outputs": [],
   "source": []
  },
  {
   "cell_type": "code",
   "execution_count": null,
   "id": "aec5b455",
   "metadata": {},
   "outputs": [],
   "source": []
  },
  {
   "cell_type": "code",
   "execution_count": null,
   "id": "2b0f4ecd",
   "metadata": {},
   "outputs": [],
   "source": []
  },
  {
   "cell_type": "code",
   "execution_count": null,
   "id": "9a82f34b",
   "metadata": {},
   "outputs": [],
   "source": []
  },
  {
   "cell_type": "code",
   "execution_count": null,
   "id": "c18f948b",
   "metadata": {},
   "outputs": [],
   "source": []
  },
  {
   "cell_type": "code",
   "execution_count": null,
   "id": "86a02da8",
   "metadata": {},
   "outputs": [],
   "source": []
  },
  {
   "cell_type": "code",
   "execution_count": null,
   "id": "76baf684",
   "metadata": {},
   "outputs": [],
   "source": []
  },
  {
   "cell_type": "code",
   "execution_count": null,
   "id": "e8bf7128",
   "metadata": {},
   "outputs": [],
   "source": []
  }
 ],
 "metadata": {
  "kernelspec": {
   "display_name": "Python 3 (ipykernel)",
   "language": "python",
   "name": "python3"
  },
  "language_info": {
   "codemirror_mode": {
    "name": "ipython",
    "version": 3
   },
   "file_extension": ".py",
   "mimetype": "text/x-python",
   "name": "python",
   "nbconvert_exporter": "python",
   "pygments_lexer": "ipython3",
   "version": "3.9.7"
  }
 },
 "nbformat": 4,
 "nbformat_minor": 5
}
