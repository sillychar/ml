{
 "cells": [
  {
   "cell_type": "code",
   "execution_count": null,
   "id": "0a476c15",
   "metadata": {},
   "outputs": [],
   "source": [
    "Time Series: \n",
    "    We must need a feature which is should be >> Time\n",
    "    \n",
    "It is a set of observation/ datapoints taken at equal intrval of time, \n",
    "where our main variables should be time(ind var) and time dependent(Target)"
   ]
  },
  {
   "cell_type": "code",
   "execution_count": null,
   "id": "b220c6d3",
   "metadata": {},
   "outputs": [],
   "source": [
    "In TSA:\n",
    "    Univariate Analysis:\n",
    "        1. time/date\n",
    "        2. Target var\n",
    "        \n",
    "    Multivariate Analysis:\n",
    "        1. time/date\n",
    "        2. Target var\n",
    "        3. Extra features (Which will help our model to predict output)"
   ]
  },
  {
   "cell_type": "code",
   "execution_count": null,
   "id": "c79a8d8a",
   "metadata": {},
   "outputs": [],
   "source": [
    "Types of TSA :\n",
    "    Univariate Analysis: (1 time feature, 1 time dependent feature)\n",
    "        AutoRegressive (AR)\n",
    "        Moving Average (MA)\n",
    "        ARMA\n",
    "        ARIMA (Integrated)\n",
    "        SARIMA (Seasonal)\n",
    "        FBProphet\n",
    "        LSTM (Long Short Term Memory)\n",
    "        \n",
    "    Multivariate Analysis: \n",
    "        VAR (Vector)\n",
    "        FBProphet \n",
    "        LSTM\n",
    "        SARIMAX \n",
    "        "
   ]
  },
  {
   "cell_type": "code",
   "execution_count": null,
   "id": "2709b815",
   "metadata": {},
   "outputs": [],
   "source": [
    "When We plot data:\n",
    "    on x axis : time\n",
    "       y axis : Magnitude/ Amount / Value/ Number"
   ]
  },
  {
   "cell_type": "code",
   "execution_count": null,
   "id": "53e0c96c",
   "metadata": {},
   "outputs": [],
   "source": [
    "Limitations:\n",
    "    Time Dependent var is required\n",
    "    Constant Interval of Time is required (if datapoints are not in equal interval , then you can resample the data.)"
   ]
  },
  {
   "cell_type": "code",
   "execution_count": null,
   "id": "5b446cb8",
   "metadata": {},
   "outputs": [],
   "source": [
    "Interval:\n",
    "    Microsec, sec, min, hour, a day, a week , a month, quarter, year, decade, century"
   ]
  },
  {
   "cell_type": "code",
   "execution_count": null,
   "id": "8a3378dd",
   "metadata": {},
   "outputs": [],
   "source": [
    "Importance:\n",
    "    1. Business Understanding/ Forecasting\n",
    "    2. Understand Past behaviour\n",
    "    3. Plan of future\n",
    "    4. Evaluate Current Accomplishments"
   ]
  },
  {
   "cell_type": "code",
   "execution_count": null,
   "id": "98c0e4a2",
   "metadata": {},
   "outputs": [],
   "source": [
    "Components of TS:\n",
    "    1. Trend\n",
    "    2. Seasonal\n",
    "    3. Irregularity\n",
    "    4. Cyclic"
   ]
  },
  {
   "cell_type": "code",
   "execution_count": null,
   "id": "89a3ee3c",
   "metadata": {},
   "outputs": [],
   "source": [
    "When we should not use TSA:\n",
    "    1. Values are constant\n",
    "    2. Time interval is not constant"
   ]
  },
  {
   "cell_type": "code",
   "execution_count": null,
   "id": "7c752642",
   "metadata": {},
   "outputs": [],
   "source": []
  },
  {
   "cell_type": "code",
   "execution_count": null,
   "id": "817410a4",
   "metadata": {},
   "outputs": [],
   "source": []
  },
  {
   "cell_type": "code",
   "execution_count": null,
   "id": "3b9e08e7",
   "metadata": {},
   "outputs": [],
   "source": []
  },
  {
   "cell_type": "code",
   "execution_count": null,
   "id": "d31abc23",
   "metadata": {},
   "outputs": [],
   "source": []
  },
  {
   "cell_type": "code",
   "execution_count": null,
   "id": "e2ee8dfb",
   "metadata": {},
   "outputs": [],
   "source": []
  },
  {
   "cell_type": "code",
   "execution_count": null,
   "id": "70a73be3",
   "metadata": {},
   "outputs": [],
   "source": []
  },
  {
   "cell_type": "code",
   "execution_count": null,
   "id": "1d71630c",
   "metadata": {},
   "outputs": [],
   "source": []
  },
  {
   "cell_type": "code",
   "execution_count": null,
   "id": "7db755d5",
   "metadata": {},
   "outputs": [],
   "source": []
  },
  {
   "cell_type": "code",
   "execution_count": null,
   "id": "c76576b0",
   "metadata": {},
   "outputs": [],
   "source": []
  },
  {
   "cell_type": "code",
   "execution_count": null,
   "id": "94c303af",
   "metadata": {},
   "outputs": [],
   "source": []
  },
  {
   "cell_type": "code",
   "execution_count": null,
   "id": "3a33c845",
   "metadata": {},
   "outputs": [],
   "source": []
  }
 ],
 "metadata": {
  "kernelspec": {
   "display_name": "Python 3",
   "language": "python",
   "name": "python3"
  },
  "language_info": {
   "codemirror_mode": {
    "name": "ipython",
    "version": 3
   },
   "file_extension": ".py",
   "mimetype": "text/x-python",
   "name": "python",
   "nbconvert_exporter": "python",
   "pygments_lexer": "ipython3",
   "version": "3.8.8"
  }
 },
 "nbformat": 4,
 "nbformat_minor": 5
}
