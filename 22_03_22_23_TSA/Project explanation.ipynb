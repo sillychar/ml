{
 "cells": [
  {
   "cell_type": "code",
   "execution_count": null,
   "id": "a0450b2b",
   "metadata": {},
   "outputs": [],
   "source": [
    "Problem Statement/ Business Problem / Business Requirements/ Business Scenario\n",
    "\n",
    "What are the approaches:\n",
    "    Regression\n",
    "    Classification\n",
    "    NLP\n",
    "    Timeseries\n",
    "    No ML\n",
    "    SMA(Simple Moving Average)\n",
    "    Clustering"
   ]
  },
  {
   "cell_type": "code",
   "execution_count": null,
   "id": "21b5d466",
   "metadata": {},
   "outputs": [],
   "source": [
    "Project Dusration:\n",
    "    1 Week\n",
    "    1 month\n",
    "    2 months\n",
    "    4 months\n",
    "    6 months\n",
    "    8 months(rare) >> maintanance / develpement / CI CD pipeline"
   ]
  },
  {
   "cell_type": "code",
   "execution_count": null,
   "id": "e535ee41",
   "metadata": {},
   "outputs": [],
   "source": [
    "How do we get the Project:\n",
    "    POC(Proof of Concept) # test drive\n",
    "    Onboarding of project / Project kickoff\n",
    "    PPT/ Deck, approach, problem Statement, requirements, tools, duration >> Client Meet\n",
    "    Project assign\n",
    "    Main Work\n",
    "    sagar.jadhav@citibank.in(Client side ID)"
   ]
  },
  {
   "cell_type": "code",
   "execution_count": null,
   "id": "dc7c5ecc",
   "metadata": {},
   "outputs": [],
   "source": [
    "Data Requirements:\n",
    "    What kind of features u need?\n",
    "    Audi:\n",
    "        1. Model\n",
    "        2. Average\n",
    "        3. Type of engine\n",
    "        4. Body type\n",
    "        5. Technology\n",
    "        6. Amount\n",
    "        7. no. pf inquiries\n",
    "        8. no. of surrounding\n",
    "        9. avg income\n",
    "        10. skims and discounts\n",
    "        11. capaigns or promotion\n",
    "        Sales reports"
   ]
  },
  {
   "cell_type": "code",
   "execution_count": null,
   "id": "8c91db8c",
   "metadata": {},
   "outputs": [],
   "source": [
    "How is work is assigned to u? project management tools\n",
    "    Jeera, Zoho, Asana, trello"
   ]
  },
  {
   "cell_type": "code",
   "execution_count": null,
   "id": "0d0975c5",
   "metadata": {},
   "outputs": [],
   "source": [
    "How do u communication within organization??\n",
    "    teams, skype, google chats, slack, outlook, zoom"
   ]
  },
  {
   "cell_type": "code",
   "execution_count": null,
   "id": "22637983",
   "metadata": {},
   "outputs": [],
   "source": [
    "Daily meet: Daily update\n",
    "    eve\n",
    "    morning \n",
    "    afternoon\n",
    "    \n",
    "    you\n",
    "    senior\n",
    "    junior\n",
    "    tech lead\n",
    "    project manager\n",
    "    power bi\n",
    "    data engineer\n",
    "    manager\n",
    "    \n",
    "Client meet:\n",
    "    twince in week\n",
    "    once in a week\n",
    "    once in 2 weeks\n",
    "    \n",
    "    UK (-5hrs from IST)\n",
    "    USA (-13.30 from IST)"
   ]
  },
  {
   "cell_type": "code",
   "execution_count": null,
   "id": "31d52c06",
   "metadata": {},
   "outputs": [],
   "source": [
    "How do u recieve ur Data???\n",
    "    1) Client DB (SQL Server) VDE(Virtual Desktop Environment) VPN (virtual private network)\n",
    "    2) Data Engineer (mail, chat)\n",
    "    3) Third party Api\n",
    "    4) Web Scraping\n",
    "    5) Cloud Storage"
   ]
  },
  {
   "cell_type": "code",
   "execution_count": null,
   "id": "d6166c69",
   "metadata": {},
   "outputs": [],
   "source": [
    "Databricks:(Azure)\n",
    "    Cloud tools for coding and data storing\n",
    "    .topandas()\n",
    "    \n",
    "    DBFS: Databricks file system\n",
    "    HDFS: hadoop database file system"
   ]
  },
  {
   "cell_type": "code",
   "execution_count": null,
   "id": "a1c29044",
   "metadata": {},
   "outputs": [],
   "source": [
    "anydesk\n",
    "teamviewer"
   ]
  },
  {
   "cell_type": "code",
   "execution_count": null,
   "id": "aef29e74",
   "metadata": {},
   "outputs": [],
   "source": [
    "1) Confidence\n",
    "2) Presence of Mind\n",
    "3) Storyline"
   ]
  },
  {
   "cell_type": "code",
   "execution_count": null,
   "id": "10d48547",
   "metadata": {},
   "outputs": [],
   "source": [
    "github\n",
    "gitbucket"
   ]
  },
  {
   "cell_type": "code",
   "execution_count": null,
   "id": "bdc233d0",
   "metadata": {},
   "outputs": [],
   "source": [
    "How frequently ur data was updated: \n",
    "    1000000 rows >> 35 colms\n",
    "    1200000 rows >> 36 colms\n",
    "    1300000 rows >> 35 colms\n",
    "    \n",
    "how frequent was your meeting with client:    \n",
    "    twince in week\n",
    "    once in a week\n",
    "    once in 2 weeks\n",
    "    \n",
    "What was ur role in client meet?\n",
    "    "
   ]
  },
  {
   "cell_type": "code",
   "execution_count": null,
   "id": "bd82d334",
   "metadata": {},
   "outputs": [],
   "source": [
    "Who was there in your team:\n",
    "    Data scientist/ML Engineer 2-4-6-8\n",
    "    Data Engineer 1-2\n",
    "    Business Analyst/consultant\n",
    "    Project manager\n",
    "    api developer\n",
    "    HTML CSS\n",
    "    powerbi developer\n",
    "    \n",
    "    front end\n",
    "    backend\n",
    "    nodejs\n",
    "    react\n",
    "    "
   ]
  },
  {
   "cell_type": "code",
   "execution_count": null,
   "id": "d8d78b8a",
   "metadata": {},
   "outputs": [],
   "source": [
    "Evaluate metrics:\n",
    "    MAPE \n",
    "    RMSPE"
   ]
  },
  {
   "cell_type": "code",
   "execution_count": null,
   "id": "adb39c43",
   "metadata": {},
   "outputs": [],
   "source": [
    "Deploy:\n",
    "    online:\n",
    "        AWS\n",
    "        GCP\n",
    "        Azure\n",
    "        \n",
    "    offline:\n",
    "        Predicted output in table format >> save it in CSV/ Excel >>\n",
    "        Fetch it on SQL server"
   ]
  },
  {
   "cell_type": "code",
   "execution_count": null,
   "id": "37a0bc18",
   "metadata": {},
   "outputs": [],
   "source": []
  },
  {
   "cell_type": "code",
   "execution_count": null,
   "id": "4279030b",
   "metadata": {},
   "outputs": [],
   "source": [
    "Project shifting:\n",
    "    KT (Knowledge Transfer) - handover\n",
    "    record:\n",
    "        windows + alr + R\n",
    "        cntrl + shft + R\n",
    "        Windows + G\n",
    "        \n",
    "compny lap:\n",
    "    there is ID and pass for installing any software(notedown)\n",
    "\n",
    "for any queries:\n",
    "Generate Ticket:\n",
    "    company portal\n",
    "    spinehrms, peopledesk, zoho"
   ]
  },
  {
   "cell_type": "code",
   "execution_count": null,
   "id": "d9bf635c",
   "metadata": {},
   "outputs": [],
   "source": []
  },
  {
   "cell_type": "code",
   "execution_count": null,
   "id": "e5f4a6c4",
   "metadata": {},
   "outputs": [],
   "source": []
  },
  {
   "cell_type": "code",
   "execution_count": null,
   "id": "5837aad4",
   "metadata": {},
   "outputs": [],
   "source": []
  },
  {
   "cell_type": "code",
   "execution_count": null,
   "id": "ab71008f",
   "metadata": {},
   "outputs": [],
   "source": []
  },
  {
   "cell_type": "code",
   "execution_count": null,
   "id": "b193f54d",
   "metadata": {},
   "outputs": [],
   "source": []
  },
  {
   "cell_type": "code",
   "execution_count": null,
   "id": "93d0cb0e",
   "metadata": {},
   "outputs": [],
   "source": []
  },
  {
   "cell_type": "code",
   "execution_count": null,
   "id": "77b1f121",
   "metadata": {},
   "outputs": [],
   "source": []
  },
  {
   "cell_type": "code",
   "execution_count": null,
   "id": "93c79bc7",
   "metadata": {},
   "outputs": [],
   "source": []
  },
  {
   "cell_type": "code",
   "execution_count": null,
   "id": "474cadf5",
   "metadata": {},
   "outputs": [],
   "source": []
  },
  {
   "cell_type": "code",
   "execution_count": null,
   "id": "83724b08",
   "metadata": {},
   "outputs": [],
   "source": []
  },
  {
   "cell_type": "code",
   "execution_count": null,
   "id": "fd38bee0",
   "metadata": {},
   "outputs": [],
   "source": []
  },
  {
   "cell_type": "code",
   "execution_count": null,
   "id": "aafda17a",
   "metadata": {},
   "outputs": [],
   "source": []
  },
  {
   "cell_type": "code",
   "execution_count": null,
   "id": "c4337327",
   "metadata": {},
   "outputs": [],
   "source": []
  },
  {
   "cell_type": "code",
   "execution_count": null,
   "id": "f73a0c71",
   "metadata": {},
   "outputs": [],
   "source": []
  },
  {
   "cell_type": "code",
   "execution_count": null,
   "id": "598d5d1c",
   "metadata": {},
   "outputs": [],
   "source": []
  },
  {
   "cell_type": "code",
   "execution_count": null,
   "id": "dc0d1929",
   "metadata": {},
   "outputs": [],
   "source": []
  },
  {
   "cell_type": "code",
   "execution_count": null,
   "id": "4cc4d7a4",
   "metadata": {},
   "outputs": [],
   "source": []
  },
  {
   "cell_type": "code",
   "execution_count": null,
   "id": "57da4a7c",
   "metadata": {},
   "outputs": [],
   "source": []
  },
  {
   "cell_type": "code",
   "execution_count": null,
   "id": "ca1fab28",
   "metadata": {},
   "outputs": [],
   "source": []
  },
  {
   "cell_type": "code",
   "execution_count": null,
   "id": "3fd959f0",
   "metadata": {},
   "outputs": [],
   "source": []
  }
 ],
 "metadata": {
  "kernelspec": {
   "display_name": "Python 3",
   "language": "python",
   "name": "python3"
  },
  "language_info": {
   "codemirror_mode": {
    "name": "ipython",
    "version": 3
   },
   "file_extension": ".py",
   "mimetype": "text/x-python",
   "name": "python",
   "nbconvert_exporter": "python",
   "pygments_lexer": "ipython3",
   "version": "3.8.8"
  }
 },
 "nbformat": 4,
 "nbformat_minor": 5
}
