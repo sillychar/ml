{
 "cells": [
  {
   "cell_type": "markdown",
   "id": "4c80251e",
   "metadata": {},
   "source": [
    "# Overfitting & Underfitting"
   ]
  },
  {
   "cell_type": "code",
   "execution_count": null,
   "id": "2c5026f1",
   "metadata": {},
   "outputs": [],
   "source": [
    "Overfitting:\n",
    "    Train data Accuaracy >> high >>90 %\n",
    "    Test data Accuracy >> low >> 60 %\n",
    "    \n",
    "    \n",
    "Underfitting:\n",
    "    Train data Accuaracy >> low >> 60 %\n",
    "    Test data Accuracy >> low >> 60 %\n",
    "    \n",
    "Best Model :\n",
    "    Train data Accuaracy >> high >> 90 %\n",
    "    Test data Accuracy >> high >> 90 %"
   ]
  },
  {
   "cell_type": "markdown",
   "id": "a39a5cef",
   "metadata": {},
   "source": [
    "# Bias & Variance"
   ]
  },
  {
   "cell_type": "code",
   "execution_count": null,
   "id": "3f6beeac",
   "metadata": {},
   "outputs": [],
   "source": [
    "Bias :\n",
    "    The difference between actual and predicted values. \n",
    "    -high bias:\n",
    "        Not capturing training data >> Training accuracy >> low\n",
    "    -low bias:\n",
    "        Able to capture Training data >> Training Accuracy >> High\n",
    "        \n",
    "Variance:\n",
    "    How much scattered  values are from each other in terms of predicted values.\n",
    "    -high variance:\n",
    "        case_1:\n",
    "            Training Accuracy >> low\n",
    "            Testing Accuracy >> high\n",
    "        \n",
    "        case_2:\n",
    "            Training Accuracy >> high\n",
    "            Testing Accuracy >> low\n",
    "        \n",
    "    -low variance: \n",
    "        Training Accuracy >> high\n",
    "        Testing Accuracy >> high\n",
    "    \n",
    "    \n",
    "Worst Model :\n",
    "    High Bias and High Variance\n",
    "    \n",
    "Underfitting Model:\n",
    "    High bias and low variance\n",
    "    \n",
    "Overfitting Model:\n",
    "    low bias and high Variance\n",
    "    \n",
    "Best Model:\n",
    "    low bias and low variance\n",
    "    \n",
    "ML model main goal is to generalize our model\n",
    "\n",
    "Generalization:\n",
    "    Models Ability to adapt to the unseen data by taking input from it , and predict a good ouput"
   ]
  },
  {
   "cell_type": "markdown",
   "id": "950e924e",
   "metadata": {},
   "source": [
    "## How to avoid Underfitting"
   ]
  },
  {
   "cell_type": "code",
   "execution_count": null,
   "id": "869e29ea",
   "metadata": {},
   "outputs": [],
   "source": [
    "Low Training accuracy and low testing accuracy\n",
    "High bias and low variance\n",
    "\n",
    "1. Add more Parameteres(8 >> 11):\n",
    "    Making new variables from existing features\n",
    "    \n",
    "2. Use Correleted Features(R values):\n",
    "3. Remove Outliers\n",
    "4. Increase Data Size (Not effective)\n",
    "5. Handle Missing Values (mean, median, mode, quantile)"
   ]
  },
  {
   "cell_type": "markdown",
   "id": "be69eae5",
   "metadata": {},
   "source": [
    "## How to avoid Overfitting"
   ]
  },
  {
   "cell_type": "code",
   "execution_count": null,
   "id": "adf5f329",
   "metadata": {},
   "outputs": [],
   "source": [
    "High Training accuracy and low testing accuracy\n",
    "Low bias and high variance\n",
    "\n",
    "1. Remove features (11 >> 8)\n",
    "2. Use hyperparameter Tuning(CART)\n",
    "3. Pruning(cutting down branches)\n",
    "4. Remove Outliers\n",
    "5. Ensemble Technique(Bagging and Boosting)\n",
    "6. Cross Validation\n",
    "7. Regularization"
   ]
  },
  {
   "cell_type": "code",
   "execution_count": null,
   "id": "3dd3be29",
   "metadata": {},
   "outputs": [],
   "source": []
  },
  {
   "cell_type": "code",
   "execution_count": null,
   "id": "87c220b2",
   "metadata": {},
   "outputs": [],
   "source": []
  },
  {
   "cell_type": "code",
   "execution_count": null,
   "id": "d28292f4",
   "metadata": {},
   "outputs": [],
   "source": []
  },
  {
   "cell_type": "code",
   "execution_count": null,
   "id": "0ba659da",
   "metadata": {},
   "outputs": [],
   "source": []
  },
  {
   "cell_type": "code",
   "execution_count": null,
   "id": "ee3375f4",
   "metadata": {},
   "outputs": [],
   "source": []
  },
  {
   "cell_type": "code",
   "execution_count": null,
   "id": "714be7ca",
   "metadata": {},
   "outputs": [],
   "source": []
  },
  {
   "cell_type": "code",
   "execution_count": null,
   "id": "2e108ab4",
   "metadata": {},
   "outputs": [],
   "source": []
  },
  {
   "cell_type": "code",
   "execution_count": null,
   "id": "ced68869",
   "metadata": {},
   "outputs": [],
   "source": []
  }
 ],
 "metadata": {
  "kernelspec": {
   "display_name": "Python 3 (ipykernel)",
   "language": "python",
   "name": "python3"
  },
  "language_info": {
   "codemirror_mode": {
    "name": "ipython",
    "version": 3
   },
   "file_extension": ".py",
   "mimetype": "text/x-python",
   "name": "python",
   "nbconvert_exporter": "python",
   "pygments_lexer": "ipython3",
   "version": "3.9.7"
  }
 },
 "nbformat": 4,
 "nbformat_minor": 5
}
