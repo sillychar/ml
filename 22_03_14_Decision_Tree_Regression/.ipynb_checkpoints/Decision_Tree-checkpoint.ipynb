{
 "cells": [
  {
   "cell_type": "code",
   "execution_count": null,
   "id": "e077fb3e",
   "metadata": {},
   "outputs": [],
   "source": [
    "Pruning:\n",
    "    process of cutting down the nodes in order to get optimal solution.\n",
    "    Reduces complexity\n",
    "    pre pruning(max_depth)>> early stopping >>  faster\n",
    "    post pruning (CCP)"
   ]
  },
  {
   "cell_type": "code",
   "execution_count": null,
   "id": "f1afd601",
   "metadata": {},
   "outputs": [],
   "source": [
    "Advantages:\n",
    "    Scaling is not required\n",
    "    non-parametric(no assumption on data)\n",
    "    simple to undrstand\n",
    "    it require less preprocessing(not impacted by outliers)\n",
    "    identify feature imporatance\n",
    "    use for both classification and regression\n",
    "    \n",
    "    \n",
    "Disadvantages:\n",
    "    Prone to overfitting\n",
    "    it contains lot of layers which can make model complex\n",
    "    for multi class labels, it increase computational complexity\n",
    "    A single Decision tree could be a weak learner"
   ]
  },
  {
   "cell_type": "code",
   "execution_count": null,
   "id": "5883c0c0",
   "metadata": {},
   "outputs": [],
   "source": []
  },
  {
   "cell_type": "code",
   "execution_count": null,
   "id": "a1570f55",
   "metadata": {},
   "outputs": [],
   "source": []
  },
  {
   "cell_type": "code",
   "execution_count": null,
   "id": "c640b248",
   "metadata": {},
   "outputs": [],
   "source": []
  },
  {
   "cell_type": "code",
   "execution_count": null,
   "id": "5636535b",
   "metadata": {},
   "outputs": [],
   "source": []
  },
  {
   "cell_type": "code",
   "execution_count": null,
   "id": "bd7ed15b",
   "metadata": {},
   "outputs": [],
   "source": []
  },
  {
   "cell_type": "code",
   "execution_count": null,
   "id": "4e313e99",
   "metadata": {},
   "outputs": [],
   "source": []
  },
  {
   "cell_type": "code",
   "execution_count": null,
   "id": "b3fd13b2",
   "metadata": {},
   "outputs": [],
   "source": []
  },
  {
   "cell_type": "code",
   "execution_count": null,
   "id": "08293909",
   "metadata": {},
   "outputs": [],
   "source": []
  },
  {
   "cell_type": "code",
   "execution_count": null,
   "id": "7ef6bd18",
   "metadata": {},
   "outputs": [],
   "source": []
  },
  {
   "cell_type": "code",
   "execution_count": null,
   "id": "b1c9d2f7",
   "metadata": {},
   "outputs": [],
   "source": []
  }
 ],
 "metadata": {
  "kernelspec": {
   "display_name": "Python 3 (ipykernel)",
   "language": "python",
   "name": "python3"
  },
  "language_info": {
   "codemirror_mode": {
    "name": "ipython",
    "version": 3
   },
   "file_extension": ".py",
   "mimetype": "text/x-python",
   "name": "python",
   "nbconvert_exporter": "python",
   "pygments_lexer": "ipython3",
   "version": "3.9.7"
  }
 },
 "nbformat": 4,
 "nbformat_minor": 5
}
