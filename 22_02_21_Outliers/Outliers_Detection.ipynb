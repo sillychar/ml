{
 "cells": [
  {
   "cell_type": "markdown",
   "id": "ea189298",
   "metadata": {},
   "source": [
    "## How to Detect Outliers"
   ]
  },
  {
   "cell_type": "code",
   "execution_count": 1,
   "id": "a9c58ca0",
   "metadata": {},
   "outputs": [],
   "source": [
    "import pandas as pd\n",
    "import numpy as np\n",
    "import seaborn as sns\n",
    "import matplotlib.pyplot as plt"
   ]
  },
  {
   "cell_type": "code",
   "execution_count": 2,
   "id": "824be909",
   "metadata": {},
   "outputs": [
    {
     "data": {
      "text/plain": [
       "array([ 0.75750049, -1.42821525, -0.32197669, -1.46497212, -1.4957338 ,\n",
       "        0.17441152,  0.22367941, -0.45667441,  0.58613376, -1.07280933,\n",
       "       -0.24746692,  1.43908449,  0.53339679, -0.59053929, -0.18955999,\n",
       "        1.41120132, -0.05178267, -0.15710901, -1.44194429, -2.08841659])"
      ]
     },
     "execution_count": 2,
     "metadata": {},
     "output_type": "execute_result"
    }
   ],
   "source": [
    "array1 = np.random.randn(20)\n",
    "array1"
   ]
  },
  {
   "cell_type": "code",
   "execution_count": 3,
   "id": "f97a7b16",
   "metadata": {},
   "outputs": [
    {
     "data": {
      "text/plain": [
       "array([ 23,  26,  11,  25,  27, 210,  25,  17,  13,  18,  29,  25, 220,\n",
       "        29,  16,  23, 180,  13,  14,  27])"
      ]
     },
     "execution_count": 3,
     "metadata": {},
     "output_type": "execute_result"
    }
   ],
   "source": [
    "array2 = np.array([23, 26, 11, 25, 27, 210, 25, 17, 13, 18, 29, 25, 220, 29, 16, 23, 180,13, 14, 27])\n",
    "array2"
   ]
  },
  {
   "cell_type": "code",
   "execution_count": 4,
   "id": "bc850c00",
   "metadata": {},
   "outputs": [
    {
     "data": {
      "text/plain": [
       "<AxesSubplot:ylabel='Density'>"
      ]
     },
     "execution_count": 4,
     "metadata": {},
     "output_type": "execute_result"
    },
    {
     "data": {
      "image/png": "[encoded data removed]",
      "text/plain": [
       "<Figure size 432x288 with 1 Axes>"
      ]
     },
     "metadata": {
      "needs_background": "light"
     },
     "output_type": "display_data"
    }
   ],
   "source": [
    "sns.kdeplot(array1,fill=True)"
   ]
  },
  {
   "cell_type": "code",
   "execution_count": 13,
   "id": "ce63ca21",
   "metadata": {},
   "outputs": [
    {
     "data": {
      "text/plain": [
       "<AxesSubplot:ylabel='Density'>"
      ]
     },
     "execution_count": 13,
     "metadata": {},
     "output_type": "execute_result"
    },
    {
     "data": {
      "image/png": "[encoded data removed]",
      "text/plain": [
       "<Figure size 432x288 with 1 Axes>"
      ]
     },
     "metadata": {
      "needs_background": "light"
     },
     "output_type": "display_data"
    }
   ],
   "source": [
    "sns.kdeplot(array2,fill=True)"
   ]
  },
  {
   "cell_type": "code",
   "execution_count": 14,
   "id": "2b0e53c4",
   "metadata": {},
   "outputs": [],
   "source": [
    "from scipy.stats import shapiro"
   ]
  },
  {
   "cell_type": "code",
   "execution_count": 15,
   "id": "8122960c",
   "metadata": {},
   "outputs": [
    {
     "name": "stdout",
     "output_type": "stream",
     "text": [
      "P_value : 0.3697771430015564\n",
      "Data is normally distributed\n"
     ]
    }
   ],
   "source": [
    "a,p_val = shapiro(array1)\n",
    "print('P_value :', p_val)\n",
    "if p_val > 0.05:\n",
    "    print('Data is normally distributed')\n",
    "else:\n",
    "    print('Data is not Normally distributed')"
   ]
  },
  {
   "cell_type": "code",
   "execution_count": 16,
   "id": "abab7067",
   "metadata": {},
   "outputs": [
    {
     "name": "stdout",
     "output_type": "stream",
     "text": [
      "P_value : 5.602054784503707e-07\n",
      "Data is not Normally distributed\n"
     ]
    }
   ],
   "source": [
    "a,p_val = shapiro(array2)\n",
    "print('P_value :', p_val)\n",
    "if p_val > 0.05:\n",
    "    print('Data is normally distributed')\n",
    "else:\n",
    "    print('Data is not Normally distributed')"
   ]
  },
  {
   "cell_type": "markdown",
   "id": "74ef2117",
   "metadata": {},
   "source": [
    "## 1. Z-score"
   ]
  },
  {
   "cell_type": "code",
   "execution_count": null,
   "id": "8da04acf",
   "metadata": {},
   "outputs": [],
   "source": [
    "When data distribution is normal\n",
    "Most values of lies around mean\n",
    "std = how far away is our datapoint from mean\n",
    "z-score = how far the datapoint is from std.\n",
    "Outlier treatment:\n",
    "    1) trimming(drop)\n",
    "    2) imputation(capping)\n",
    "    "
   ]
  },
  {
   "cell_type": "code",
   "execution_count": 18,
   "id": "bd6468c6",
   "metadata": {},
   "outputs": [
    {
     "data": {
      "text/plain": [
       "array([25, 22, 20, 14, 11, 12, 15, 21, 11, 13, 11, 25, 27, 23, 13, 25, 20,\n",
       "       16, 15, 23])"
      ]
     },
     "execution_count": 18,
     "metadata": {},
     "output_type": "execute_result"
    }
   ],
   "source": [
    "array1 = np.random.randint(10,30, size =20)\n",
    "array1"
   ]
  },
  {
   "cell_type": "code",
   "execution_count": 19,
   "id": "64c96264",
   "metadata": {},
   "outputs": [
    {
     "data": {
      "text/plain": [
       "array([ 23,  26,  11,  25,  27, 210,  25,  17,  13,  18,  29,  25, 220,\n",
       "        29,  16,  23, 180,  13,  14,  27])"
      ]
     },
     "execution_count": 19,
     "metadata": {},
     "output_type": "execute_result"
    }
   ],
   "source": [
    "array2 = np.array([23, 26, 11, 25, 27, 210, 25, 17, 13, 18, 29, 25, 220, 29, 16, 23, 180,13, 14, 27])\n",
    "array2"
   ]
  },
  {
   "cell_type": "code",
   "execution_count": null,
   "id": "757e9387",
   "metadata": {},
   "outputs": [],
   "source": [
    "# standardization\n",
    "\n",
    "z-score = (x- x_mean)/std\n",
    "x= datapoint\n",
    "x_mean=mean value\n",
    "std = standard deviation"
   ]
  },
  {
   "cell_type": "code",
   "execution_count": 29,
   "id": "80e4c2d8",
   "metadata": {},
   "outputs": [
    {
     "name": "stdout",
     "output_type": "stream",
     "text": [
      "[25 22 20 14 11 12 15 21 11 13 11 25 27 23 13 25 20 16 15 23]\n",
      "Mean == 18.1, Std == 5.3935146240647205\n",
      "25 >> 1.27931422846499\n",
      "22 >> 0.723090650871516\n",
      "20 >> 0.3522749324758666\n",
      "14 >> 0.7601722227110814\n",
      "11 >> 1.3163958003045555\n",
      "12 >> 1.1309879411067307\n",
      "15 >> 0.5747643635132568\n",
      "21 >> 0.5376827916736913\n",
      "11 >> 1.3163958003045555\n",
      "13 >> 0.9455800819089061\n",
      "11 >> 1.3163958003045555\n",
      "25 >> 1.27931422846499\n",
      "27 >> 1.6501299468606394\n",
      "23 >> 0.9084985100693407\n",
      "13 >> 0.9455800819089061\n",
      "25 >> 1.27931422846499\n",
      "20 >> 0.3522749324758666\n",
      "16 >> 0.38935650431543206\n",
      "15 >> 0.5747643635132568\n",
      "23 >> 0.9084985100693407\n",
      "Outliers are : []\n"
     ]
    }
   ],
   "source": [
    "print(array1)\n",
    "mean = np.mean(array1)\n",
    "std = np.std(array1)\n",
    "print(f'Mean == {mean}, Std == {std}')\n",
    "\n",
    "threshold = 2\n",
    "outliers_list=[]\n",
    "\n",
    "for x_val in array1:\n",
    "    z_score = (x_val - mean)/std\n",
    "    z_score = np.abs(z_score)\n",
    "    print(x_val, '>>', z_score)\n",
    "    \n",
    "    if z_score > threshold:\n",
    "        outliers_list.append(x_val)\n",
    "        \n",
    "print('Outliers are :', outliers_list)"
   ]
  },
  {
   "cell_type": "code",
   "execution_count": 28,
   "id": "3fda15bb",
   "metadata": {},
   "outputs": [
    {
     "name": "stdout",
     "output_type": "stream",
     "text": [
      "[ 23  26  11  25  27 210  25  17  13  18  29  25 220  29  16  23 180  13\n",
      "  14  27]\n",
      "Mean == 48.55, Std == 65.58618375847156\n",
      "23 >> 0.38956375467874027\n",
      "26 >> 0.3438224136205712\n",
      "11 >> 0.5725291189114168\n",
      "25 >> 0.35906952730662756\n",
      "27 >> 0.3285752999345148\n",
      "210 >> 2.4616465046138014\n",
      "25 >> 0.35906952730662756\n",
      "17 >> 0.4810464367950785\n",
      "13 >> 0.5420348915393041\n",
      "18 >> 0.46579932310902217\n",
      "29 >> 0.29808107256240207\n",
      "25 >> 0.35906952730662756\n",
      "220 >> 2.614117641474365\n",
      "29 >> 0.29808107256240207\n",
      "16 >> 0.4962935504811349\n",
      "23 >> 0.38956375467874027\n",
      "180 >> 2.0042330940321103\n",
      "13 >> 0.5420348915393041\n",
      "14 >> 0.5267877778532477\n",
      "27 >> 0.3285752999345148\n",
      "Outliers are : [210, 220, 180]\n"
     ]
    }
   ],
   "source": [
    "print(array2)\n",
    "mean = np.mean(array2)\n",
    "std = np.std(array2)\n",
    "print(f'Mean == {mean}, Std == {std}')\n",
    "\n",
    "threshold = 2\n",
    "outliers_list=[]\n",
    "\n",
    "for x_val in array2:\n",
    "    z_score = (x_val - mean)/std\n",
    "    z_score = np.abs(z_score)\n",
    "    print(x_val, '>>', z_score)\n",
    "    \n",
    "    if z_score > threshold:\n",
    "        outliers_list.append(x_val)\n",
    "        \n",
    "print('Outliers are :', outliers_list)"
   ]
  },
  {
   "cell_type": "code",
   "execution_count": null,
   "id": "b8878441",
   "metadata": {},
   "outputs": [],
   "source": [
    "11 = 48.55 - z * (65.58)\n",
    "z= 11-48.55/65.58"
   ]
  },
  {
   "cell_type": "code",
   "execution_count": 30,
   "id": "8f086d24",
   "metadata": {},
   "outputs": [
    {
     "data": {
      "text/plain": [
       "-0.5725831046050625"
      ]
     },
     "execution_count": 30,
     "metadata": {},
     "output_type": "execute_result"
    }
   ],
   "source": [
    "(11-48.55)/65.58"
   ]
  },
  {
   "cell_type": "code",
   "execution_count": 32,
   "id": "0a6f7eed",
   "metadata": {},
   "outputs": [
    {
     "data": {
      "text/plain": [
       "179.70999999999998"
      ]
     },
     "execution_count": 32,
     "metadata": {},
     "output_type": "execute_result"
    }
   ],
   "source": [
    "48.55+(2*65.58)"
   ]
  },
  {
   "cell_type": "markdown",
   "id": "4553a2a6",
   "metadata": {},
   "source": [
    "## 2. IQR(Inter Quartile Range)"
   ]
  },
  {
   "cell_type": "code",
   "execution_count": null,
   "id": "9716eede",
   "metadata": {},
   "outputs": [],
   "source": [
    "Use when data is not normally distributed(skewed)\n",
    "\n",
    "Percentile : how many percentage of data is below the value\n",
    "    \n",
    "ex. \n",
    "Age = 34 36 23 16 43 25 30 28 41 38\n",
    "100 % (percentile)= 43 (all the values are below 43)\n",
    "0 % =16 (all the values are greater than 0)"
   ]
  },
  {
   "cell_type": "code",
   "execution_count": null,
   "id": "529faeb2",
   "metadata": {},
   "outputs": [],
   "source": [
    "25% = 23 (25 % data is lesser than 23)\n",
    "50% = 36 (50% data is lesser than 36)"
   ]
  },
  {
   "cell_type": "code",
   "execution_count": null,
   "id": "408a02b3",
   "metadata": {},
   "outputs": [],
   "source": [
    "Boxplot:\n",
    "    median(Q2/50% percentile):\n",
    "        the middle value of dataset\n",
    "        \n",
    "    1st quartile(Q1/25% percentile):\n",
    "        middle no. between smallest and median\n",
    "        \n",
    "    3rd quartile(Q3/75% percentile):\n",
    "        middle no. between median and highest value\n",
    "        \n",
    "    InterQuartilRange(IQR):\n",
    "        25% to 75%\n",
    "        \n",
    "        23,  26,  11,  25,  27, 210,  25,  17,  13,  18,  29,  25, 220, 29,  16,  23, 180,  13,  14,  27\n",
    "        \n",
    "        maximum : Q3 + 1.5* IQR\n",
    "        \n",
    "        minimum: Q1 - 1.5* IQR\n",
    "        "
   ]
  },
  {
   "cell_type": "code",
   "execution_count": 33,
   "id": "fa96d3af",
   "metadata": {},
   "outputs": [
    {
     "data": {
      "text/plain": [
       "array([12, 21, 12, 15, 19, 13, 29, 11, 28, 17, 26, 12, 11, 25, 11, 16, 24,\n",
       "       14, 12, 20])"
      ]
     },
     "execution_count": 33,
     "metadata": {},
     "output_type": "execute_result"
    }
   ],
   "source": [
    "array1 = np.random.randint(10,30, size =20)\n",
    "array1"
   ]
  },
  {
   "cell_type": "code",
   "execution_count": 34,
   "id": "0cdf6008",
   "metadata": {},
   "outputs": [
    {
     "name": "stderr",
     "output_type": "stream",
     "text": [
      "C:\\Users\\cheta\\anaconda3\\lib\\site-packages\\seaborn\\_decorators.py:36: FutureWarning: Pass the following variable as a keyword arg: x. From version 0.12, the only valid positional argument will be `data`, and passing other arguments without an explicit keyword will result in an error or misinterpretation.\n",
      "  warnings.warn(\n"
     ]
    },
    {
     "data": {
      "text/plain": [
       "<AxesSubplot:>"
      ]
     },
     "execution_count": 34,
     "metadata": {},
     "output_type": "execute_result"
    },
    {
     "data": {
      "image/png": "[encoded data removed]",
      "text/plain": [
       "<Figure size 432x288 with 1 Axes>"
      ]
     },
     "metadata": {
      "needs_background": "light"
     },
     "output_type": "display_data"
    }
   ],
   "source": [
    "sns.boxplot(array1)"
   ]
  },
  {
   "cell_type": "code",
   "execution_count": 35,
   "id": "d437e353",
   "metadata": {},
   "outputs": [
    {
     "name": "stderr",
     "output_type": "stream",
     "text": [
      "C:\\Users\\cheta\\anaconda3\\lib\\site-packages\\seaborn\\_decorators.py:36: FutureWarning: Pass the following variable as a keyword arg: x. From version 0.12, the only valid positional argument will be `data`, and passing other arguments without an explicit keyword will result in an error or misinterpretation.\n",
      "  warnings.warn(\n"
     ]
    },
    {
     "data": {
      "text/plain": [
       "<AxesSubplot:>"
      ]
     },
     "execution_count": 35,
     "metadata": {},
     "output_type": "execute_result"
    },
    {
     "data": {
      "image/png": "[encoded data removed]",
      "text/plain": [
       "<Figure size 432x288 with 1 Axes>"
      ]
     },
     "metadata": {
      "needs_background": "light"
     },
     "output_type": "display_data"
    }
   ],
   "source": [
    "sns.boxplot(array2)"
   ]
  },
  {
   "cell_type": "code",
   "execution_count": null,
   "id": "1620e465",
   "metadata": {},
   "outputs": [],
   "source": []
  },
  {
   "cell_type": "code",
   "execution_count": null,
   "id": "487d496a",
   "metadata": {},
   "outputs": [],
   "source": []
  }
 ],
 "metadata": {
  "kernelspec": {
   "display_name": "Python 3 (ipykernel)",
   "language": "python",
   "name": "python3"
  },
  "language_info": {
   "codemirror_mode": {
    "name": "ipython",
    "version": 3
   },
   "file_extension": ".py",
   "mimetype": "text/x-python",
   "name": "python",
   "nbconvert_exporter": "python",
   "pygments_lexer": "ipython3",
   "version": "3.9.7"
  }
 },
 "nbformat": 4,
 "nbformat_minor": 5
}
