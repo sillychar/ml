{
 "cells": [
  {
   "cell_type": "code",
   "execution_count": null,
   "id": "2404eb6a",
   "metadata": {},
   "outputs": [],
   "source": [
    "Random Forest:\n",
    "    It is used for Classification as well as Regression.\n",
    "    Create bootsrap dataset by using row sampling \n",
    "    Combine multiple Decision Trees\n",
    "    classification : Voting Classifier >> hard, soft voting >> majority\n",
    "    Regression : mean of all decision trees\n",
    "    RF model converts Low bias high variance model to a single model of Low bias & Low variance\n",
    "    \n",
    "Out of bag data : those samples which are not used by any of subsets of data"
   ]
  },
  {
   "cell_type": "code",
   "execution_count": null,
   "id": "85197ee5",
   "metadata": {},
   "outputs": [],
   "source": [
    "Advantages:\n",
    "    It is used for Classification as well as Regression.\n",
    "    It reduces overfitting of decision tree and helps to improve accuracy\n",
    "    No feature scaling is required\n",
    "    It does not required too much of hyperparameter tunnig"
   ]
  },
  {
   "cell_type": "code",
   "execution_count": null,
   "id": "895126e9",
   "metadata": {},
   "outputs": [],
   "source": [
    "Disadvantages:\n",
    "    It requires more computational power(we are training multiple decision Trees)\n",
    "    RF has a drawback of out of bag data. "
   ]
  },
  {
   "cell_type": "code",
   "execution_count": null,
   "id": "2d328d69",
   "metadata": {},
   "outputs": [],
   "source": [
    "Applications:\n",
    "    1. Banking: \n",
    "        Loan defaulter pred\n",
    "        \n",
    "    2. Medicine :\n",
    "        covid pred\n",
    "        cancer \n",
    "        \n",
    "    3. real estate :\n",
    "        \n",
    "    4. Marketing: \n",
    "        "
   ]
  },
  {
   "cell_type": "code",
   "execution_count": null,
   "id": "b0183ccb",
   "metadata": {},
   "outputs": [],
   "source": []
  },
  {
   "cell_type": "code",
   "execution_count": null,
   "id": "152a94fa",
   "metadata": {},
   "outputs": [],
   "source": []
  },
  {
   "cell_type": "code",
   "execution_count": null,
   "id": "74dc893f",
   "metadata": {},
   "outputs": [],
   "source": []
  },
  {
   "cell_type": "code",
   "execution_count": null,
   "id": "4e7478bc",
   "metadata": {},
   "outputs": [],
   "source": []
  },
  {
   "cell_type": "code",
   "execution_count": null,
   "id": "cceafe29",
   "metadata": {},
   "outputs": [],
   "source": []
  },
  {
   "cell_type": "code",
   "execution_count": null,
   "id": "58ff6be0",
   "metadata": {},
   "outputs": [],
   "source": []
  },
  {
   "cell_type": "code",
   "execution_count": null,
   "id": "15340a15",
   "metadata": {},
   "outputs": [],
   "source": []
  },
  {
   "cell_type": "code",
   "execution_count": null,
   "id": "33bab57e",
   "metadata": {},
   "outputs": [],
   "source": []
  },
  {
   "cell_type": "code",
   "execution_count": null,
   "id": "6c32f1ff",
   "metadata": {},
   "outputs": [],
   "source": []
  },
  {
   "cell_type": "code",
   "execution_count": null,
   "id": "51947080",
   "metadata": {},
   "outputs": [],
   "source": []
  },
  {
   "cell_type": "code",
   "execution_count": null,
   "id": "4699eb84",
   "metadata": {},
   "outputs": [],
   "source": []
  },
  {
   "cell_type": "code",
   "execution_count": null,
   "id": "714e939d",
   "metadata": {},
   "outputs": [],
   "source": []
  },
  {
   "cell_type": "code",
   "execution_count": null,
   "id": "7f5480ab",
   "metadata": {},
   "outputs": [],
   "source": []
  },
  {
   "cell_type": "code",
   "execution_count": null,
   "id": "75479c27",
   "metadata": {},
   "outputs": [],
   "source": []
  },
  {
   "cell_type": "code",
   "execution_count": null,
   "id": "03f68178",
   "metadata": {},
   "outputs": [],
   "source": []
  },
  {
   "cell_type": "code",
   "execution_count": null,
   "id": "7d8612e6",
   "metadata": {},
   "outputs": [],
   "source": []
  },
  {
   "cell_type": "code",
   "execution_count": null,
   "id": "4c77d8e3",
   "metadata": {},
   "outputs": [],
   "source": []
  },
  {
   "cell_type": "code",
   "execution_count": null,
   "id": "3f893af7",
   "metadata": {},
   "outputs": [],
   "source": []
  },
  {
   "cell_type": "code",
   "execution_count": null,
   "id": "fd84c766",
   "metadata": {},
   "outputs": [],
   "source": []
  },
  {
   "cell_type": "code",
   "execution_count": null,
   "id": "91038b23",
   "metadata": {},
   "outputs": [],
   "source": []
  },
  {
   "cell_type": "code",
   "execution_count": null,
   "id": "fe6361b8",
   "metadata": {},
   "outputs": [],
   "source": []
  },
  {
   "cell_type": "code",
   "execution_count": null,
   "id": "fa434a38",
   "metadata": {},
   "outputs": [],
   "source": []
  }
 ],
 "metadata": {
  "kernelspec": {
   "display_name": "Python 3 (ipykernel)",
   "language": "python",
   "name": "python3"
  },
  "language_info": {
   "codemirror_mode": {
    "name": "ipython",
    "version": 3
   },
   "file_extension": ".py",
   "mimetype": "text/x-python",
   "name": "python",
   "nbconvert_exporter": "python",
   "pygments_lexer": "ipython3",
   "version": "3.9.7"
  }
 },
 "nbformat": 4,
 "nbformat_minor": 5
}
