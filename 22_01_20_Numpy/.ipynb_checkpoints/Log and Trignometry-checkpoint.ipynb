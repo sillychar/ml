{
 "cells": [
  {
   "cell_type": "code",
   "execution_count": 1,
   "id": "4d843a75",
   "metadata": {},
   "outputs": [],
   "source": [
    "import numpy as np"
   ]
  },
  {
   "cell_type": "code",
   "execution_count": null,
   "id": "724666ea",
   "metadata": {},
   "outputs": [],
   "source": [
    "mean >>\n",
    "mode >> \n",
    "median >>"
   ]
  },
  {
   "cell_type": "code",
   "execution_count": 2,
   "id": "78e2ae90",
   "metadata": {},
   "outputs": [
    {
     "data": {
      "text/plain": [
       "33.333333333333336"
      ]
     },
     "execution_count": 2,
     "metadata": {},
     "output_type": "execute_result"
    }
   ],
   "source": [
    "age = np.array([20,30,40,50,25,35])\n",
    "np.mean(age)"
   ]
  },
  {
   "cell_type": "code",
   "execution_count": 3,
   "id": "e0595b23",
   "metadata": {},
   "outputs": [
    {
     "data": {
      "text/plain": [
       "32.5"
      ]
     },
     "execution_count": 3,
     "metadata": {},
     "output_type": "execute_result"
    }
   ],
   "source": [
    "age = np.array([20,30,40,50,25,35])\n",
    "np.median(age)"
   ]
  },
  {
   "cell_type": "code",
   "execution_count": 4,
   "id": "9d3c86c8",
   "metadata": {},
   "outputs": [
    {
     "data": {
      "text/plain": [
       "array([20, 25, 30, 35, 40, 50])"
      ]
     },
     "execution_count": 4,
     "metadata": {},
     "output_type": "execute_result"
    }
   ],
   "source": [
    "np.sort(age)"
   ]
  },
  {
   "cell_type": "code",
   "execution_count": 5,
   "id": "b430ea67",
   "metadata": {},
   "outputs": [
    {
     "data": {
      "text/plain": [
       "78.33333333333333"
      ]
     },
     "execution_count": 5,
     "metadata": {},
     "output_type": "execute_result"
    }
   ],
   "source": [
    "age = np.array([20,300,40,50,25,35])\n",
    "np.mean(age)"
   ]
  },
  {
   "cell_type": "code",
   "execution_count": 6,
   "id": "e4fdc34e",
   "metadata": {},
   "outputs": [
    {
     "data": {
      "text/plain": [
       "37.5"
      ]
     },
     "execution_count": 6,
     "metadata": {},
     "output_type": "execute_result"
    }
   ],
   "source": [
    "age = np.array([20,300,40,50,25,35])\n",
    "np.median(age)"
   ]
  },
  {
   "cell_type": "code",
   "execution_count": 7,
   "id": "5c5e4e74",
   "metadata": {},
   "outputs": [
    {
     "data": {
      "text/plain": [
       "array([ 20,  25,  35,  40,  50, 300])"
      ]
     },
     "execution_count": 7,
     "metadata": {},
     "output_type": "execute_result"
    }
   ],
   "source": [
    "np.sort(age)"
   ]
  },
  {
   "cell_type": "code",
   "execution_count": 8,
   "id": "e35c5663",
   "metadata": {},
   "outputs": [
    {
     "name": "stdout",
     "output_type": "stream",
     "text": [
      "[ 20  25  35  40  42  50 300]\n"
     ]
    },
    {
     "data": {
      "text/plain": [
       "40.0"
      ]
     },
     "execution_count": 8,
     "metadata": {},
     "output_type": "execute_result"
    }
   ],
   "source": [
    "age = np.array([20,300,42,40,50,25,35])\n",
    "print(np.sort(age))\n",
    "np.median(age)"
   ]
  },
  {
   "cell_type": "code",
   "execution_count": null,
   "id": "647e93f5",
   "metadata": {},
   "outputs": [],
   "source": [
    "# Mode >> most frequently occured value\n",
    "Categorical >> mode\n",
    "\n",
    "pass\n",
    "pass\n",
    "fail\n",
    "pass\n",
    "fail\n",
    "pass\n",
    "np.NaN >> pass\n",
    "fail"
   ]
  },
  {
   "cell_type": "markdown",
   "id": "59f97ffd",
   "metadata": {},
   "source": [
    "## Log"
   ]
  },
  {
   "cell_type": "code",
   "execution_count": 9,
   "id": "702204b3",
   "metadata": {},
   "outputs": [
    {
     "name": "stderr",
     "output_type": "stream",
     "text": [
      "<ipython-input-9-f6e7c0610b57>:1: RuntimeWarning: divide by zero encountered in log\n",
      "  np.log(0)\n"
     ]
    },
    {
     "data": {
      "text/plain": [
       "-inf"
      ]
     },
     "execution_count": 9,
     "metadata": {},
     "output_type": "execute_result"
    }
   ],
   "source": [
    "np.log(0)"
   ]
  },
  {
   "cell_type": "code",
   "execution_count": 10,
   "id": "aab33ebf",
   "metadata": {},
   "outputs": [
    {
     "data": {
      "text/plain": [
       "0.0"
      ]
     },
     "execution_count": 10,
     "metadata": {},
     "output_type": "execute_result"
    }
   ],
   "source": [
    "np.log(1)"
   ]
  },
  {
   "cell_type": "code",
   "execution_count": 11,
   "id": "720e7265",
   "metadata": {},
   "outputs": [
    {
     "data": {
      "text/plain": [
       "2.302585092994046"
      ]
     },
     "execution_count": 11,
     "metadata": {},
     "output_type": "execute_result"
    }
   ],
   "source": [
    "np.log(10)"
   ]
  },
  {
   "cell_type": "code",
   "execution_count": 12,
   "id": "5804fcbd",
   "metadata": {},
   "outputs": [
    {
     "data": {
      "text/plain": [
       "array([2.30258509, 0.69314718, 1.38629436, 1.94591015, 4.60517019,\n",
       "       1.60943791, 1.79175947])"
      ]
     },
     "execution_count": 12,
     "metadata": {},
     "output_type": "execute_result"
    }
   ],
   "source": [
    "np.log([10,2,4,7,100,5,6]) "
   ]
  },
  {
   "cell_type": "code",
   "execution_count": 13,
   "id": "b28e7f41",
   "metadata": {},
   "outputs": [
    {
     "data": {
      "text/plain": [
       "array([ 3.16227766,  1.41421356,  2.        ,  2.64575131, 10.        ,\n",
       "        2.23606798,  2.44948974])"
      ]
     },
     "execution_count": 13,
     "metadata": {},
     "output_type": "execute_result"
    }
   ],
   "source": [
    "np.sqrt([10,2,4,7,100,5,6])"
   ]
  },
  {
   "cell_type": "code",
   "execution_count": 14,
   "id": "24e4c9be",
   "metadata": {},
   "outputs": [
    {
     "data": {
      "text/plain": [
       "array([2.15443469, 1.25992105, 1.58740105, 1.91293118, 4.64158883,\n",
       "       1.70997595, 1.81712059])"
      ]
     },
     "execution_count": 14,
     "metadata": {},
     "output_type": "execute_result"
    }
   ],
   "source": [
    "np.cbrt([10,2,4,7,100,5,6])"
   ]
  },
  {
   "cell_type": "code",
   "execution_count": 15,
   "id": "3651fb15",
   "metadata": {},
   "outputs": [
    {
     "data": {
      "text/plain": [
       "1.4771212547196624"
      ]
     },
     "execution_count": 15,
     "metadata": {},
     "output_type": "execute_result"
    }
   ],
   "source": [
    "np.log10(30) # log to the base 10"
   ]
  },
  {
   "cell_type": "code",
   "execution_count": 16,
   "id": "16fa8b10",
   "metadata": {},
   "outputs": [
    {
     "data": {
      "text/plain": [
       "3.4011973816621555"
      ]
     },
     "execution_count": 16,
     "metadata": {},
     "output_type": "execute_result"
    }
   ],
   "source": [
    "np.log(30) # natural log"
   ]
  },
  {
   "cell_type": "code",
   "execution_count": 17,
   "id": "d1acf056",
   "metadata": {},
   "outputs": [
    {
     "data": {
      "text/plain": [
       "4.906890595608519"
      ]
     },
     "execution_count": 17,
     "metadata": {},
     "output_type": "execute_result"
    }
   ],
   "source": [
    "np.log2(30)"
   ]
  },
  {
   "cell_type": "code",
   "execution_count": 18,
   "id": "f648709f",
   "metadata": {},
   "outputs": [
    {
     "data": {
      "text/plain": [
       "array([2.30258509, 0.69314718, 1.38629436, 1.94591015, 4.60517019,\n",
       "       1.60943791, 1.79175947, 6.2146081 , 6.39692966])"
      ]
     },
     "execution_count": 18,
     "metadata": {},
     "output_type": "execute_result"
    }
   ],
   "source": [
    "np.log([10,2,4,7,100,5,6,500,600])  # Log transformation"
   ]
  },
  {
   "cell_type": "markdown",
   "id": "99dddf37",
   "metadata": {},
   "source": [
    "## Trignometry"
   ]
  },
  {
   "cell_type": "code",
   "execution_count": null,
   "id": "5b137709",
   "metadata": {},
   "outputs": [],
   "source": [
    "sin   >> O/H\n",
    "cos   >> A/H\n",
    "tan   >> O/A >> sin/cos\n",
    "cot   >> A/O >> 1/tan >> cos/sin \n",
    "sec   >> H/A >> 1/cos\n",
    "cosec >> H/O >> 1/sin"
   ]
  },
  {
   "cell_type": "code",
   "execution_count": 19,
   "id": "92e7d951",
   "metadata": {},
   "outputs": [
    {
     "data": {
      "text/plain": [
       "3.141592653589793"
      ]
     },
     "execution_count": 19,
     "metadata": {},
     "output_type": "execute_result"
    }
   ],
   "source": [
    "pi >> 180\n",
    "sin(30) >> 1/2\n",
    "sin(1/root(2))"
   ]
  },
  {
   "cell_type": "code",
   "execution_count": 20,
   "id": "8edda2bc",
   "metadata": {},
   "outputs": [
    {
     "data": {
      "text/plain": [
       "180.0"
      ]
     },
     "execution_count": 20,
     "metadata": {},
     "output_type": "execute_result"
    }
   ],
   "source": [
    "np.rad2deg(3.141592653589793)"
   ]
  },
  {
   "cell_type": "code",
   "execution_count": 21,
   "id": "9f2ed3d6",
   "metadata": {},
   "outputs": [
    {
     "data": {
      "text/plain": [
       "0.49999999999999994"
      ]
     },
     "execution_count": 21,
     "metadata": {},
     "output_type": "execute_result"
    }
   ],
   "source": [
    "np.sin(np.pi /6) # 180/6=30"
   ]
  },
  {
   "cell_type": "code",
   "execution_count": 22,
   "id": "c9621f54",
   "metadata": {},
   "outputs": [
    {
     "data": {
      "text/plain": [
       "0.7071067811865476"
      ]
     },
     "execution_count": 22,
     "metadata": {},
     "output_type": "execute_result"
    }
   ],
   "source": [
    "np.sin(np.pi /4) # 180/4=45"
   ]
  },
  {
   "cell_type": "code",
   "execution_count": 23,
   "id": "4fe99fe2",
   "metadata": {},
   "outputs": [
    {
     "data": {
      "text/plain": [
       "0.8660254037844386"
      ]
     },
     "execution_count": 23,
     "metadata": {},
     "output_type": "execute_result"
    }
   ],
   "source": [
    "np.sin(np.pi /3) # 180/3=60"
   ]
  },
  {
   "cell_type": "code",
   "execution_count": 24,
   "id": "c7b13e0e",
   "metadata": {},
   "outputs": [
    {
     "data": {
      "text/plain": [
       "1.0"
      ]
     },
     "execution_count": 24,
     "metadata": {},
     "output_type": "execute_result"
    }
   ],
   "source": [
    "np.sin(np.pi /2) # 180/2=90"
   ]
  },
  {
   "cell_type": "code",
   "execution_count": 25,
   "id": "dfb19f59",
   "metadata": {},
   "outputs": [
    {
     "data": {
      "text/plain": [
       "6.123233995736766e-17"
      ]
     },
     "execution_count": 25,
     "metadata": {},
     "output_type": "execute_result"
    }
   ],
   "source": [
    "np.cos(np.pi /2) # 180/2=90"
   ]
  },
  {
   "cell_type": "code",
   "execution_count": 26,
   "id": "c9090870",
   "metadata": {},
   "outputs": [
    {
     "data": {
      "text/plain": [
       "1.633123935319537e+16"
      ]
     },
     "execution_count": 26,
     "metadata": {},
     "output_type": "execute_result"
    }
   ],
   "source": [
    "np.tan(np.pi /2) # 180/2=90"
   ]
  },
  {
   "cell_type": "markdown",
   "id": "e446efca",
   "metadata": {},
   "source": [
    "### degrees to radian"
   ]
  },
  {
   "cell_type": "code",
   "execution_count": 31,
   "id": "12dfd2ed",
   "metadata": {},
   "outputs": [
    {
     "data": {
      "text/plain": [
       "array([0.        , 0.52359878, 0.78539816, 1.04719755, 1.57079633])"
      ]
     },
     "execution_count": 31,
     "metadata": {},
     "output_type": "execute_result"
    }
   ],
   "source": [
    "arr = np.array([0,30,45,60,90])\n",
    "radian = np.deg2rad(arr)\n",
    "radian"
   ]
  },
  {
   "cell_type": "code",
   "execution_count": 28,
   "id": "f1407348",
   "metadata": {},
   "outputs": [
    {
     "data": {
      "text/plain": [
       "0.4994813555186418"
      ]
     },
     "execution_count": 28,
     "metadata": {},
     "output_type": "execute_result"
    }
   ],
   "source": [
    "np.sin(0.523)"
   ]
  },
  {
   "cell_type": "code",
   "execution_count": 29,
   "id": "27b52df6",
   "metadata": {},
   "outputs": [
    {
     "data": {
      "text/plain": [
       "-0.9880316240928618"
      ]
     },
     "execution_count": 29,
     "metadata": {},
     "output_type": "execute_result"
    }
   ],
   "source": [
    "np.sin(30)"
   ]
  },
  {
   "cell_type": "markdown",
   "id": "9294868f",
   "metadata": {},
   "source": [
    "### Radian to degree"
   ]
  },
  {
   "cell_type": "code",
   "execution_count": 32,
   "id": "95beaeed",
   "metadata": {},
   "outputs": [
    {
     "data": {
      "text/plain": [
       "array([ 0.        , 30.00000025, 44.99999981, 59.99999993, 90.00000018])"
      ]
     },
     "execution_count": 32,
     "metadata": {},
     "output_type": "execute_result"
    }
   ],
   "source": [
    "radians = np.array([0.        , 0.52359878, 0.78539816, 1.04719755, 1.57079633])\n",
    "degree = np.rad2deg(radians)\n",
    "degree"
   ]
  },
  {
   "cell_type": "code",
   "execution_count": null,
   "id": "e806ab04",
   "metadata": {},
   "outputs": [],
   "source": []
  }
 ],
 "metadata": {
  "kernelspec": {
   "display_name": "Python 3",
   "language": "python",
   "name": "python3"
  },
  "language_info": {
   "codemirror_mode": {
    "name": "ipython",
    "version": 3
   },
   "file_extension": ".py",
   "mimetype": "text/x-python",
   "name": "python",
   "nbconvert_exporter": "python",
   "pygments_lexer": "ipython3",
   "version": "3.8.8"
  }
 },
 "nbformat": 4,
 "nbformat_minor": 5
}
