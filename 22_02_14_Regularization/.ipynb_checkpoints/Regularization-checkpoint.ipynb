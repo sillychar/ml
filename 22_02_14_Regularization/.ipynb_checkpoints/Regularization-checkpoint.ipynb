{
 "cells": [
  {
   "cell_type": "markdown",
   "id": "9debf56e",
   "metadata": {},
   "source": [
    "# Regularization"
   ]
  },
  {
   "cell_type": "code",
   "execution_count": null,
   "id": "a8b80e26",
   "metadata": {},
   "outputs": [],
   "source": [
    "Regularization:\n",
    "    It is a technique to prevent the model from overfitting by adding extra information to it, \n",
    "    or by penelising the coeff of variables.\n",
    "    \n",
    "    This technique is used to caliberate ML model in order to minimize the cost function.\n",
    "    \n",
    "    Regularization works by penelizing the magnitude/coeff of features along with minimizing the error."
   ]
  },
  {
   "cell_type": "code",
   "execution_count": null,
   "id": "2d9812d7",
   "metadata": {},
   "outputs": [],
   "source": [
    "Ridge Regularization/Rigde Regression/ L2 Regularization/ L2 norm:\n",
    "    It performs by shriking the coefficient.\n",
    "    It modifies the overfitted or underfitted model by adding the penalty of sum of squares to the magnitude of features.\n",
    "    Mse = sum(act-pred)^2 = loss\n",
    "    cost fn = loss + alpha*(sum of sqaures of magnitude)\n",
    "    alpha*(sum of sqaures of magnitude)= penalty\n",
    "    It reduces problem of multicolinearity"
   ]
  },
  {
   "cell_type": "code",
   "execution_count": null,
   "id": "3d0e11f5",
   "metadata": {},
   "outputs": [],
   "source": [
    "Lasso Regularization/Lasso Regression/ L1 Regularization/ L1 norm:\n",
    "    Mse = sum(act-pred)^2 = loss\n",
    "    cost fn = loss + alpha*(sum of magnitude)\n",
    "    alpha*(sum of magnitude)= penalty\n",
    "    it takes absolute values of magnitudes."
   ]
  },
  {
   "cell_type": "code",
   "execution_count": null,
   "id": "ff502d55",
   "metadata": {},
   "outputs": [],
   "source": []
  },
  {
   "cell_type": "code",
   "execution_count": null,
   "id": "b3f3bb6e",
   "metadata": {},
   "outputs": [],
   "source": []
  },
  {
   "cell_type": "code",
   "execution_count": null,
   "id": "450ffb73",
   "metadata": {},
   "outputs": [],
   "source": []
  },
  {
   "cell_type": "code",
   "execution_count": null,
   "id": "9a415f69",
   "metadata": {},
   "outputs": [],
   "source": []
  },
  {
   "cell_type": "code",
   "execution_count": null,
   "id": "0e7035bc",
   "metadata": {},
   "outputs": [],
   "source": []
  },
  {
   "cell_type": "code",
   "execution_count": null,
   "id": "7ca23f90",
   "metadata": {},
   "outputs": [],
   "source": []
  },
  {
   "cell_type": "code",
   "execution_count": null,
   "id": "8b223377",
   "metadata": {},
   "outputs": [],
   "source": []
  },
  {
   "cell_type": "code",
   "execution_count": null,
   "id": "f9eca062",
   "metadata": {},
   "outputs": [],
   "source": []
  },
  {
   "cell_type": "code",
   "execution_count": null,
   "id": "b6ceb303",
   "metadata": {},
   "outputs": [],
   "source": []
  },
  {
   "cell_type": "code",
   "execution_count": null,
   "id": "e1e2e34c",
   "metadata": {},
   "outputs": [],
   "source": []
  },
  {
   "cell_type": "code",
   "execution_count": null,
   "id": "af4fe49d",
   "metadata": {},
   "outputs": [],
   "source": []
  },
  {
   "cell_type": "code",
   "execution_count": null,
   "id": "92a7eb8c",
   "metadata": {},
   "outputs": [],
   "source": []
  }
 ],
 "metadata": {
  "kernelspec": {
   "display_name": "Python 3",
   "language": "python",
   "name": "python3"
  },
  "language_info": {
   "codemirror_mode": {
    "name": "ipython",
    "version": 3
   },
   "file_extension": ".py",
   "mimetype": "text/x-python",
   "name": "python",
   "nbconvert_exporter": "python",
   "pygments_lexer": "ipython3",
   "version": "3.8.8"
  }
 },
 "nbformat": 4,
 "nbformat_minor": 5
}
