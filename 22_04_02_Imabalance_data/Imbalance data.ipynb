{
 "cells": [
  {
   "cell_type": "markdown",
   "id": "c7cd3cf2",
   "metadata": {},
   "source": [
    "# Imbalance Data"
   ]
  },
  {
   "cell_type": "code",
   "execution_count": null,
   "id": "c068867d",
   "metadata": {},
   "outputs": [],
   "source": [
    "When data having uneven distribution,\n",
    "when majority class dominates minority\n"
   ]
  },
  {
   "cell_type": "code",
   "execution_count": null,
   "id": "bed4d26f",
   "metadata": {},
   "outputs": [],
   "source": [
    "Technique to handle imbalance data:\n",
    "    by creating new dataset\n",
    "\n",
    "Undersampling:\n",
    "    we match th minority class data by random sampling through majority class\n",
    "    DF = n1:100,  n2:900\n",
    "        DF-  >> n1:100, n2:100\n",
    "                \n",
    "    So throwing away data is never a good thing, we may loose much information\n",
    "    so avoid throwing away data.\n",
    "    \n",
    "    avoid undersampling\n",
    "    \n",
    "    \n",
    "Oversampling:\n",
    "    Placing more datapoints from minority class in the dataset\n",
    "    Repeating,\n",
    "    Synthetic/artifial\n",
    "    \n",
    "    DF= n1:100, n2:900\n",
    "        DF-   >> n1:900, n2:900"
   ]
  },
  {
   "cell_type": "code",
   "execution_count": null,
   "id": "8bb9766c",
   "metadata": {},
   "outputs": [],
   "source": [
    "Undersampling:\n",
    "    1. Random Undersampling\n",
    "    2. NearMiss\n",
    "    3. Condesed Nearest Neighbor(CNN)\n",
    "    \n",
    "    \n",
    "Oversampling:\n",
    "    1. Random Oversampling\n",
    "    2. SMOTE(Synthetic Minority Oversampling Technique)\n",
    "    3. ADASYN(Adaptive Synthetic Sampling)"
   ]
  },
  {
   "cell_type": "code",
   "execution_count": null,
   "id": "e54d90fd",
   "metadata": {},
   "outputs": [],
   "source": [
    "SPOC :- Single point of contact"
   ]
  },
  {
   "cell_type": "code",
   "execution_count": null,
   "id": "06c06cb4",
   "metadata": {},
   "outputs": [],
   "source": []
  },
  {
   "cell_type": "code",
   "execution_count": null,
   "id": "666fa8f3",
   "metadata": {},
   "outputs": [],
   "source": []
  },
  {
   "cell_type": "code",
   "execution_count": null,
   "id": "3df6d064",
   "metadata": {},
   "outputs": [],
   "source": []
  },
  {
   "cell_type": "code",
   "execution_count": null,
   "id": "ef778f81",
   "metadata": {},
   "outputs": [],
   "source": []
  },
  {
   "cell_type": "code",
   "execution_count": null,
   "id": "7b458d0a",
   "metadata": {},
   "outputs": [],
   "source": []
  },
  {
   "cell_type": "code",
   "execution_count": null,
   "id": "b1c4ed21",
   "metadata": {},
   "outputs": [],
   "source": []
  },
  {
   "cell_type": "code",
   "execution_count": null,
   "id": "b9304176",
   "metadata": {},
   "outputs": [],
   "source": []
  },
  {
   "cell_type": "code",
   "execution_count": null,
   "id": "115d7355",
   "metadata": {},
   "outputs": [],
   "source": []
  },
  {
   "cell_type": "code",
   "execution_count": null,
   "id": "51795278",
   "metadata": {},
   "outputs": [],
   "source": []
  },
  {
   "cell_type": "code",
   "execution_count": null,
   "id": "1ad26ee4",
   "metadata": {},
   "outputs": [],
   "source": []
  },
  {
   "cell_type": "code",
   "execution_count": null,
   "id": "8d83fe25",
   "metadata": {},
   "outputs": [],
   "source": []
  }
 ],
 "metadata": {
  "kernelspec": {
   "display_name": "Python 3",
   "language": "python",
   "name": "python3"
  },
  "language_info": {
   "codemirror_mode": {
    "name": "ipython",
    "version": 3
   },
   "file_extension": ".py",
   "mimetype": "text/x-python",
   "name": "python",
   "nbconvert_exporter": "python",
   "pygments_lexer": "ipython3",
   "version": "3.8.8"
  }
 },
 "nbformat": 4,
 "nbformat_minor": 5
}
