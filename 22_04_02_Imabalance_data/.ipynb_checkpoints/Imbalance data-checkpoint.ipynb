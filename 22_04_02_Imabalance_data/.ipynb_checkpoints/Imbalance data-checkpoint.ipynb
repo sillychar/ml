{
 "cells": [
  {
   "cell_type": "markdown",
   "id": "944994e8",
   "metadata": {},
   "source": [
    "# Imbalance Data"
   ]
  },
  {
   "cell_type": "code",
   "execution_count": null,
   "id": "251df82e",
   "metadata": {},
   "outputs": [],
   "source": [
    "When data having uneven distribution,\n",
    "when majority class dominates minority\n"
   ]
  },
  {
   "cell_type": "code",
   "execution_count": null,
   "id": "9feda51c",
   "metadata": {},
   "outputs": [],
   "source": [
    "Technique to handle imbalance data:\n",
    "    by creating new dataset\n",
    "\n",
    "Undersampling:\n",
    "    we match th minority class data by random sampling through majority class\n",
    "    DF = n1:100,  n2:900\n",
    "        DF-  >> n1:100, n2:100\n",
    "                \n",
    "    So throwing away data is never a good thing, we may loose much information\n",
    "    so avoid throwing away data.\n",
    "    \n",
    "    avoid undersampling\n",
    "    \n",
    "    \n",
    "Oversampling:\n",
    "    Placing more datapoints from minority class in the dataset\n",
    "    Repeating,\n",
    "    Synthetic/artifial\n",
    "    \n",
    "    DF= n1:100, n2:900\n",
    "        DF-   >> n1:900, n2:900"
   ]
  },
  {
   "cell_type": "code",
   "execution_count": null,
   "id": "0271a562",
   "metadata": {},
   "outputs": [],
   "source": [
    "Undersampling:\n",
    "    1. Random Undersampling\n",
    "    2. NearMiss\n",
    "    3. Condesed Nearest Neighbor(CNN)\n",
    "    \n",
    "    \n",
    "Oversampling:\n",
    "    1. Random Oversampling\n",
    "    2. SMOTE(Synthetic Minority Oversampling Technique)\n",
    "    3. ADASYN(Adaptive Synthetic Sampling)"
   ]
  },
  {
   "cell_type": "code",
   "execution_count": null,
   "id": "02b82e6c",
   "metadata": {},
   "outputs": [],
   "source": []
  },
  {
   "cell_type": "code",
   "execution_count": null,
   "id": "45a67298",
   "metadata": {},
   "outputs": [],
   "source": []
  },
  {
   "cell_type": "code",
   "execution_count": null,
   "id": "d44c9f03",
   "metadata": {},
   "outputs": [],
   "source": []
  },
  {
   "cell_type": "code",
   "execution_count": null,
   "id": "43f83762",
   "metadata": {},
   "outputs": [],
   "source": []
  },
  {
   "cell_type": "code",
   "execution_count": null,
   "id": "d98e5b62",
   "metadata": {},
   "outputs": [],
   "source": []
  },
  {
   "cell_type": "code",
   "execution_count": null,
   "id": "07995659",
   "metadata": {},
   "outputs": [],
   "source": []
  },
  {
   "cell_type": "code",
   "execution_count": null,
   "id": "afe38cea",
   "metadata": {},
   "outputs": [],
   "source": []
  },
  {
   "cell_type": "code",
   "execution_count": null,
   "id": "d57fdfc9",
   "metadata": {},
   "outputs": [],
   "source": []
  },
  {
   "cell_type": "code",
   "execution_count": null,
   "id": "83ee1983",
   "metadata": {},
   "outputs": [],
   "source": []
  },
  {
   "cell_type": "code",
   "execution_count": null,
   "id": "b18433f0",
   "metadata": {},
   "outputs": [],
   "source": []
  },
  {
   "cell_type": "code",
   "execution_count": null,
   "id": "1c98c943",
   "metadata": {},
   "outputs": [],
   "source": []
  },
  {
   "cell_type": "code",
   "execution_count": null,
   "id": "a678e0cc",
   "metadata": {},
   "outputs": [],
   "source": []
  }
 ],
 "metadata": {
  "kernelspec": {
   "display_name": "Python 3",
   "language": "python",
   "name": "python3"
  },
  "language_info": {
   "codemirror_mode": {
    "name": "ipython",
    "version": 3
   },
   "file_extension": ".py",
   "mimetype": "text/x-python",
   "name": "python",
   "nbconvert_exporter": "python",
   "pygments_lexer": "ipython3",
   "version": "3.8.8"
  }
 },
 "nbformat": 4,
 "nbformat_minor": 5
}
