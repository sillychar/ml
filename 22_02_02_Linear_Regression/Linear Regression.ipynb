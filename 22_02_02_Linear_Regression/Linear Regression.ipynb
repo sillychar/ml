{
 "cells": [
  {
   "cell_type": "markdown",
   "id": "fd60d959",
   "metadata": {},
   "source": [
    "# Linear Regression"
   ]
  },
  {
   "cell_type": "code",
   "execution_count": null,
   "id": "d3e265c7",
   "metadata": {},
   "outputs": [],
   "source": [
    ">> R value is near to 0 >> when datapoints are scattered\n",
    ">> R value near to +1 >> When x and y shows positive linear relation\n",
    ">> R value near to -1 >> When x and y shows negative linear relation"
   ]
  },
  {
   "cell_type": "markdown",
   "id": "0823b3ae",
   "metadata": {},
   "source": [
    "## Computation of Correlation(formula)"
   ]
  },
  {
   "cell_type": "code",
   "execution_count": null,
   "id": "18d6570c",
   "metadata": {},
   "outputs": [],
   "source": [
    ">>Variance : It measures variability from mean.\n",
    "    V = sum ((Xi - ^X)^2)/n\n",
    "    \n",
    ">>Central Tendency:\n",
    "    -The Statistical measure that identifies a single value as a representation of an entire\n",
    "     distribustion.\n",
    "    -It aims to provide an accurate description of entire data.\n",
    "    -mean, mode, median\n",
    "    \n",
    ">>So variance gives reliability of central value.\n",
    "\n",
    ">>Covariance:\n",
    "    How two features vary together/ how they influence each other\n",
    "    \n",
    "    Cov = ((Xi - ^X)(Yi-^Y))/n\n",
    "    \n",
    ">>If covariance is 0 , correlation is also 0.\n",
    "\n",
    ">>Standard Deviation:\n",
    "    std =  np.sqrt(sum ((Xi - ^X)^2)/n)\n",
    "    \n",
    ">>Pearson's Correlation Coefficient:\n",
    "    R (x,y) = sum (Xi - ^X)(Yi - ^Y)/ np.sqrt(sum(Xi - ^X)^2) np.sqrt(sum(Yi - ^Y)^2)"
   ]
  },
  {
   "cell_type": "code",
   "execution_count": null,
   "id": "b72a655b",
   "metadata": {},
   "outputs": [],
   "source": [
    ">> When We build Linear regression model, the BFL will  always pass through the point where\n",
    "x_mean and y_mean meets.\n",
    "\n",
    ">> How R value comes near to 0:\n",
    "    -When we compute (Xi - ^X) in quadrant, we get symmetric quadrant distribustion\n",
    "    -When we sum up all, all those +ve and -ve quadrants cancels each out\n",
    "    \n",
    ">> How R value comes near to 1:\n",
    "    -When we compute (Xi - ^X) in quadrant, we get asymmetric quadrant distribustion\n",
    "    -When we sum up all, all those +ve and -ve will vary and returns R value near to +1\n",
    "    \n",
    ">> How R value comes near to -1:\n",
    "    -When we compute (Xi - ^X) in quadrant, we get asymmetric quadrant distribustion\n",
    "    -When we sum up all, all those +ve and -ve will vary and returns R value near to -1"
   ]
  },
  {
   "cell_type": "code",
   "execution_count": null,
   "id": "d165dfe0",
   "metadata": {},
   "outputs": [],
   "source": [
    ">>Statistical fluke:\n",
    "    -when R is between(0.5 to 0.7) both(+ve and -ve) >> we require further research\n",
    "    -Beacuse of Random sampling while computing correlation there could be statistical fluke.\n",
    "    -Statistical fluke happen beacuse of problem in random sampling of model."
   ]
  },
  {
   "cell_type": "code",
   "execution_count": null,
   "id": "94af4dfa",
   "metadata": {},
   "outputs": [],
   "source": []
  },
  {
   "cell_type": "code",
   "execution_count": null,
   "id": "799524eb",
   "metadata": {},
   "outputs": [],
   "source": []
  },
  {
   "cell_type": "code",
   "execution_count": null,
   "id": "234604e4",
   "metadata": {},
   "outputs": [],
   "source": []
  },
  {
   "cell_type": "code",
   "execution_count": null,
   "id": "b72349b5",
   "metadata": {},
   "outputs": [],
   "source": []
  },
  {
   "cell_type": "code",
   "execution_count": null,
   "id": "115f60c2",
   "metadata": {},
   "outputs": [],
   "source": []
  },
  {
   "cell_type": "code",
   "execution_count": null,
   "id": "8dd24d45",
   "metadata": {},
   "outputs": [],
   "source": []
  },
  {
   "cell_type": "code",
   "execution_count": null,
   "id": "875cee74",
   "metadata": {},
   "outputs": [],
   "source": []
  },
  {
   "cell_type": "code",
   "execution_count": null,
   "id": "9efbb948",
   "metadata": {},
   "outputs": [],
   "source": []
  },
  {
   "cell_type": "code",
   "execution_count": null,
   "id": "6e8f2b85",
   "metadata": {},
   "outputs": [],
   "source": []
  },
  {
   "cell_type": "code",
   "execution_count": null,
   "id": "5fe6b16a",
   "metadata": {},
   "outputs": [],
   "source": []
  },
  {
   "cell_type": "code",
   "execution_count": null,
   "id": "c004033e",
   "metadata": {},
   "outputs": [],
   "source": []
  },
  {
   "cell_type": "code",
   "execution_count": null,
   "id": "a9ca5c07",
   "metadata": {},
   "outputs": [],
   "source": []
  }
 ],
 "metadata": {
  "kernelspec": {
   "display_name": "Python 3 (ipykernel)",
   "language": "python",
   "name": "python3"
  },
  "language_info": {
   "codemirror_mode": {
    "name": "ipython",
    "version": 3
   },
   "file_extension": ".py",
   "mimetype": "text/x-python",
   "name": "python",
   "nbconvert_exporter": "python",
   "pygments_lexer": "ipython3",
   "version": "3.9.7"
  }
 },
 "nbformat": 4,
 "nbformat_minor": 5
}
