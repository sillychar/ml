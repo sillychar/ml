{
 "cells": [
  {
   "cell_type": "markdown",
   "id": "5184e61e",
   "metadata": {},
   "source": [
    "## KNN Algorithm"
   ]
  },
  {
   "cell_type": "code",
   "execution_count": null,
   "id": "2b4a9a7c",
   "metadata": {},
   "outputs": [],
   "source": [
    "1. Select the number of k Neighbors\n",
    "2. Calculate the dist from new data point:\n",
    "    distances:\n",
    "        1. Euclidean\n",
    "        2. Manhatten\n",
    "3. Sort distances in ascending order  \n",
    "    Select first k distance Datapoint\n",
    "4. Assign new datapoints to that category for which number of neighbors are maximum "
   ]
  },
  {
   "cell_type": "markdown",
   "id": "c2d2c683",
   "metadata": {},
   "source": [
    "## Advantages"
   ]
  },
  {
   "cell_type": "code",
   "execution_count": null,
   "id": "32991582",
   "metadata": {},
   "outputs": [],
   "source": [
    "1. Non-parametric (No assumptions on data)\n",
    "2. Easy to understand\n",
    "3. Used for Regression as we as Classification\n",
    "4. Work well on non-linear data"
   ]
  },
  {
   "cell_type": "markdown",
   "id": "a2ebffdf",
   "metadata": {},
   "source": [
    "## Disadvantage"
   ]
  },
  {
   "cell_type": "code",
   "execution_count": null,
   "id": "371fca43",
   "metadata": {},
   "outputs": [],
   "source": [
    "1. Feature scaling is required\n",
    "2. Lazy Learner >> Computationlay high:\n",
    "    It stores all training data\n",
    "3. Sesnstive to Outliers\n",
    "4. Does not Work well on High Dimension data\n",
    "5. Always need to find the value of k\n",
    "6. Does not work well when there is noise in target var"
   ]
  },
  {
   "cell_type": "code",
   "execution_count": null,
   "id": "297dc4f2",
   "metadata": {},
   "outputs": [],
   "source": []
  },
  {
   "cell_type": "code",
   "execution_count": null,
   "id": "9671471e",
   "metadata": {},
   "outputs": [],
   "source": []
  },
  {
   "cell_type": "code",
   "execution_count": null,
   "id": "31620b1d",
   "metadata": {},
   "outputs": [],
   "source": []
  },
  {
   "cell_type": "code",
   "execution_count": null,
   "id": "89a0d5f6",
   "metadata": {},
   "outputs": [],
   "source": []
  },
  {
   "cell_type": "code",
   "execution_count": null,
   "id": "b2f67d70",
   "metadata": {},
   "outputs": [],
   "source": []
  },
  {
   "cell_type": "code",
   "execution_count": null,
   "id": "4fc50012",
   "metadata": {},
   "outputs": [],
   "source": []
  },
  {
   "cell_type": "code",
   "execution_count": null,
   "id": "708b81ce",
   "metadata": {},
   "outputs": [],
   "source": []
  }
 ],
 "metadata": {
  "kernelspec": {
   "display_name": "Python 3 (ipykernel)",
   "language": "python",
   "name": "python3"
  },
  "language_info": {
   "codemirror_mode": {
    "name": "ipython",
    "version": 3
   },
   "file_extension": ".py",
   "mimetype": "text/x-python",
   "name": "python",
   "nbconvert_exporter": "python",
   "pygments_lexer": "ipython3",
   "version": "3.9.7"
  }
 },
 "nbformat": 4,
 "nbformat_minor": 5
}
