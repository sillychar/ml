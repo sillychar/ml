{
 "cells": [
  {
   "cell_type": "code",
   "execution_count": null,
   "id": "553e480f",
   "metadata": {},
   "outputs": [],
   "source": [
    "Confusion Matrix:\n",
    "    -It is a N x N matrix used to evaluate performance of \n",
    "     classification model\n",
    "    -It compares actual values and predicted values\n",
    "    \n",
    "                           Actual values\n",
    "                        Positive   Negative\n",
    "predicted   Positive       TP         FP\n",
    "valaues     Negative       FN         TN\n",
    "\n",
    "    ex. Positive , Negative\n",
    "    -True Positive(TP):\n",
    "        -the pred (Positive)values matches with actual (Positive)value\n",
    "        -Actual value is Positive and predicted is also Positive.\n",
    "        \n",
    "    -True Negative(TN):\n",
    "        -the pred (Negative)values matches with actual (Negative)value\n",
    "        -Actual value is Negative and predicted is also Negative.\n",
    "        \n",
    "    -False Postive(FP): Type-1 error\n",
    "        -The pred value is falsely predicted\n",
    "        -Actual value is Negative and predicted is Positive.\n",
    "        \n",
    "    -False Negative(FN): Type-2 error\n",
    "        -The pred value is falsely predicted\n",
    "        -Actual value is Positive and predicted is Negative.\n",
    "        \n",
    "        \n",
    "        \n"
   ]
  },
  {
   "cell_type": "code",
   "execution_count": null,
   "id": "ee86b97c",
   "metadata": {},
   "outputs": [],
   "source": [
    "Accuracy:\n",
    "    It is the ratio of total number of Correctly classified values to the total number of observation.\n",
    "    \n",
    "    -Accuracy= TP +TN/TP+TN+FP+FN\n",
    "                ex. 100 samples\n",
    "        TP = 51, TN =38, FP =6, FN=5\n",
    "        Accuracy= 51+38/51+38+6+5\n",
    "                = 89/100\n",
    "                = 0.89 or 89%"
   ]
  },
  {
   "cell_type": "code",
   "execution_count": null,
   "id": "1589dff9",
   "metadata": {},
   "outputs": [],
   "source": []
  },
  {
   "cell_type": "code",
   "execution_count": null,
   "id": "2f590f0f",
   "metadata": {},
   "outputs": [],
   "source": []
  },
  {
   "cell_type": "code",
   "execution_count": null,
   "id": "a57715d3",
   "metadata": {},
   "outputs": [],
   "source": []
  },
  {
   "cell_type": "code",
   "execution_count": null,
   "id": "7016325a",
   "metadata": {},
   "outputs": [],
   "source": []
  },
  {
   "cell_type": "code",
   "execution_count": null,
   "id": "85b6d368",
   "metadata": {},
   "outputs": [],
   "source": []
  },
  {
   "cell_type": "code",
   "execution_count": null,
   "id": "16941fdc",
   "metadata": {},
   "outputs": [],
   "source": []
  },
  {
   "cell_type": "code",
   "execution_count": null,
   "id": "79124229",
   "metadata": {},
   "outputs": [],
   "source": []
  },
  {
   "cell_type": "code",
   "execution_count": null,
   "id": "130df081",
   "metadata": {},
   "outputs": [],
   "source": []
  },
  {
   "cell_type": "code",
   "execution_count": null,
   "id": "e3c7552a",
   "metadata": {},
   "outputs": [],
   "source": []
  },
  {
   "cell_type": "code",
   "execution_count": null,
   "id": "ea564631",
   "metadata": {},
   "outputs": [],
   "source": []
  },
  {
   "cell_type": "code",
   "execution_count": null,
   "id": "6e8ca6b7",
   "metadata": {},
   "outputs": [],
   "source": []
  },
  {
   "cell_type": "code",
   "execution_count": null,
   "id": "3f0d7924",
   "metadata": {},
   "outputs": [],
   "source": []
  },
  {
   "cell_type": "code",
   "execution_count": null,
   "id": "bf390196",
   "metadata": {},
   "outputs": [],
   "source": []
  }
 ],
 "metadata": {
  "kernelspec": {
   "display_name": "Python 3 (ipykernel)",
   "language": "python",
   "name": "python3"
  },
  "language_info": {
   "codemirror_mode": {
    "name": "ipython",
    "version": 3
   },
   "file_extension": ".py",
   "mimetype": "text/x-python",
   "name": "python",
   "nbconvert_exporter": "python",
   "pygments_lexer": "ipython3",
   "version": "3.9.7"
  }
 },
 "nbformat": 4,
 "nbformat_minor": 5
}
