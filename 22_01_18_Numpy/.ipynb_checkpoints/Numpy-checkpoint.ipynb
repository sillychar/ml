{
 "cells": [
  {
   "cell_type": "markdown",
   "id": "8dd1230e",
   "metadata": {},
   "source": [
    "## Indexing and Slicing"
   ]
  },
  {
   "cell_type": "code",
   "execution_count": 1,
   "id": "e1ccc6c1",
   "metadata": {},
   "outputs": [],
   "source": [
    "import numpy as np"
   ]
  },
  {
   "cell_type": "code",
   "execution_count": 2,
   "id": "5bd0ae33",
   "metadata": {},
   "outputs": [
    {
     "data": {
      "text/plain": [
       "4"
      ]
     },
     "execution_count": 2,
     "metadata": {},
     "output_type": "execute_result"
    }
   ],
   "source": [
    "arr1 = np.array([1,2,4,4,5,6])\n",
    "arr1[3]"
   ]
  },
  {
   "cell_type": "code",
   "execution_count": 3,
   "id": "76ee008e",
   "metadata": {},
   "outputs": [
    {
     "data": {
      "text/plain": [
       "4"
      ]
     },
     "execution_count": 3,
     "metadata": {},
     "output_type": "execute_result"
    }
   ],
   "source": [
    "arr1[-3]"
   ]
  },
  {
   "cell_type": "code",
   "execution_count": 4,
   "id": "8a36b651",
   "metadata": {},
   "outputs": [
    {
     "data": {
      "text/plain": [
       "6"
      ]
     },
     "execution_count": 4,
     "metadata": {},
     "output_type": "execute_result"
    }
   ],
   "source": [
    "arr1[-1]"
   ]
  },
  {
   "cell_type": "code",
   "execution_count": 5,
   "id": "37ada52e",
   "metadata": {},
   "outputs": [
    {
     "data": {
      "text/plain": [
       "1"
      ]
     },
     "execution_count": 5,
     "metadata": {},
     "output_type": "execute_result"
    }
   ],
   "source": [
    "arr1[0]"
   ]
  },
  {
   "cell_type": "code",
   "execution_count": 6,
   "id": "497c3554",
   "metadata": {},
   "outputs": [
    {
     "data": {
      "text/plain": [
       "array([[2, 3, 4],\n",
       "       [4, 5, 6]])"
      ]
     },
     "execution_count": 6,
     "metadata": {},
     "output_type": "execute_result"
    }
   ],
   "source": [
    "arr2 = np.array([[2,3,4],[4,5,6]])\n",
    "arr2"
   ]
  },
  {
   "cell_type": "code",
   "execution_count": 7,
   "id": "72ee92f1",
   "metadata": {},
   "outputs": [
    {
     "data": {
      "text/plain": [
       "2"
      ]
     },
     "execution_count": 7,
     "metadata": {},
     "output_type": "execute_result"
    }
   ],
   "source": [
    "arr2.ndim # to check dimension"
   ]
  },
  {
   "cell_type": "code",
   "execution_count": 8,
   "id": "2533119b",
   "metadata": {},
   "outputs": [
    {
     "data": {
      "text/plain": [
       "array([4, 5, 6])"
      ]
     },
     "execution_count": 8,
     "metadata": {},
     "output_type": "execute_result"
    }
   ],
   "source": [
    "arr2[1]"
   ]
  },
  {
   "cell_type": "code",
   "execution_count": 9,
   "id": "e6913f31",
   "metadata": {},
   "outputs": [
    {
     "data": {
      "text/plain": [
       "5"
      ]
     },
     "execution_count": 9,
     "metadata": {},
     "output_type": "execute_result"
    }
   ],
   "source": [
    "arr2[1][1]"
   ]
  },
  {
   "cell_type": "code",
   "execution_count": 10,
   "id": "384ed150",
   "metadata": {},
   "outputs": [
    {
     "data": {
      "text/plain": [
       "5"
      ]
     },
     "execution_count": 10,
     "metadata": {},
     "output_type": "execute_result"
    }
   ],
   "source": [
    "arr2[1,1]"
   ]
  },
  {
   "cell_type": "code",
   "execution_count": 11,
   "id": "8944cf0e",
   "metadata": {},
   "outputs": [
    {
     "data": {
      "text/plain": [
       "4"
      ]
     },
     "execution_count": 11,
     "metadata": {},
     "output_type": "execute_result"
    }
   ],
   "source": [
    "arr2[0,2]"
   ]
  },
  {
   "cell_type": "code",
   "execution_count": 12,
   "id": "fddfe213",
   "metadata": {},
   "outputs": [
    {
     "data": {
      "text/plain": [
       "array([[[  2,   3],\n",
       "        [  5,   6],\n",
       "        [  3,   4]],\n",
       "\n",
       "       [[ 11,  22],\n",
       "        [ 22,  33],\n",
       "        [ 33,  44]],\n",
       "\n",
       "       [[111, 222],\n",
       "        [222, 333],\n",
       "        [444, 555]]])"
      ]
     },
     "execution_count": 12,
     "metadata": {},
     "output_type": "execute_result"
    }
   ],
   "source": [
    "l1 = [[[2,3],[5,6],[3,4]],[[11,22],[22,33],[33,44]],[[111,222],[222,333],[444,555]]]\n",
    "arr3 = np.array(l1)\n",
    "arr3"
   ]
  },
  {
   "cell_type": "code",
   "execution_count": 13,
   "id": "8be0231e",
   "metadata": {},
   "outputs": [
    {
     "data": {
      "text/plain": [
       "3"
      ]
     },
     "execution_count": 13,
     "metadata": {},
     "output_type": "execute_result"
    }
   ],
   "source": [
    "arr3.ndim"
   ]
  },
  {
   "cell_type": "code",
   "execution_count": 14,
   "id": "feb9ab7d",
   "metadata": {},
   "outputs": [
    {
     "data": {
      "text/plain": [
       "array([[2, 3],\n",
       "       [5, 6],\n",
       "       [3, 4]])"
      ]
     },
     "execution_count": 14,
     "metadata": {},
     "output_type": "execute_result"
    }
   ],
   "source": [
    "arr3[0]"
   ]
  },
  {
   "cell_type": "code",
   "execution_count": 15,
   "id": "1c8bb5bf",
   "metadata": {},
   "outputs": [
    {
     "data": {
      "text/plain": [
       "22"
      ]
     },
     "execution_count": 15,
     "metadata": {},
     "output_type": "execute_result"
    }
   ],
   "source": [
    "arr3[1,1,0]"
   ]
  },
  {
   "cell_type": "code",
   "execution_count": 16,
   "id": "9bde66ec",
   "metadata": {},
   "outputs": [
    {
     "data": {
      "text/plain": [
       "111"
      ]
     },
     "execution_count": 16,
     "metadata": {},
     "output_type": "execute_result"
    }
   ],
   "source": [
    "arr3[2,0,0]"
   ]
  },
  {
   "cell_type": "markdown",
   "id": "9ccc6cea",
   "metadata": {},
   "source": [
    "## Slicing"
   ]
  },
  {
   "cell_type": "code",
   "execution_count": 17,
   "id": "0ccee0b9",
   "metadata": {},
   "outputs": [
    {
     "data": {
      "text/plain": [
       "array([1, 2, 3, 4, 5, 6, 7])"
      ]
     },
     "execution_count": 17,
     "metadata": {},
     "output_type": "execute_result"
    }
   ],
   "source": [
    "arr1 = np.array([1,2,3,4,5,6,7])\n",
    "arr1"
   ]
  },
  {
   "cell_type": "code",
   "execution_count": 18,
   "id": "0b943c08",
   "metadata": {},
   "outputs": [
    {
     "data": {
      "text/plain": [
       "array([1, 2, 3, 4, 5, 6, 7])"
      ]
     },
     "execution_count": 18,
     "metadata": {},
     "output_type": "execute_result"
    }
   ],
   "source": [
    "arr1[:]"
   ]
  },
  {
   "cell_type": "code",
   "execution_count": 19,
   "id": "fe70fb14",
   "metadata": {},
   "outputs": [
    {
     "data": {
      "text/plain": [
       "array([3, 4, 5, 6, 7])"
      ]
     },
     "execution_count": 19,
     "metadata": {},
     "output_type": "execute_result"
    }
   ],
   "source": [
    "arr1[-5:]"
   ]
  },
  {
   "cell_type": "code",
   "execution_count": 20,
   "id": "ee1bf539",
   "metadata": {},
   "outputs": [
    {
     "data": {
      "text/plain": [
       "array([7, 6, 5, 4, 3, 2, 1])"
      ]
     },
     "execution_count": 20,
     "metadata": {},
     "output_type": "execute_result"
    }
   ],
   "source": [
    "arr1[::-1]"
   ]
  },
  {
   "cell_type": "code",
   "execution_count": 21,
   "id": "545de6d1",
   "metadata": {},
   "outputs": [
    {
     "data": {
      "text/plain": [
       "array([2, 3, 4, 5])"
      ]
     },
     "execution_count": 21,
     "metadata": {},
     "output_type": "execute_result"
    }
   ],
   "source": [
    "arr1[1:-2]"
   ]
  },
  {
   "cell_type": "code",
   "execution_count": 22,
   "id": "1b6f158c",
   "metadata": {},
   "outputs": [
    {
     "data": {
      "text/plain": [
       "array([[2, 3, 4],\n",
       "       [4, 5, 6]])"
      ]
     },
     "execution_count": 22,
     "metadata": {},
     "output_type": "execute_result"
    }
   ],
   "source": [
    "arr2 = np.array([[2,3,4],[4,5,6]])\n",
    "arr2"
   ]
  },
  {
   "cell_type": "code",
   "execution_count": 23,
   "id": "1779c068",
   "metadata": {},
   "outputs": [
    {
     "data": {
      "text/plain": [
       "array([[2, 3, 4],\n",
       "       [4, 5, 6]])"
      ]
     },
     "execution_count": 23,
     "metadata": {},
     "output_type": "execute_result"
    }
   ],
   "source": [
    "arr2[:,:] # all rows and all columns"
   ]
  },
  {
   "cell_type": "code",
   "execution_count": 24,
   "id": "11ac53a8",
   "metadata": {},
   "outputs": [
    {
     "data": {
      "text/plain": [
       "array([[2, 3, 4],\n",
       "       [4, 5, 6]])"
      ]
     },
     "execution_count": 24,
     "metadata": {},
     "output_type": "execute_result"
    }
   ],
   "source": [
    "arr2[:] # all rows and all columns"
   ]
  },
  {
   "cell_type": "code",
   "execution_count": 26,
   "id": "71ae0d08",
   "metadata": {},
   "outputs": [
    {
     "data": {
      "text/plain": [
       "array([2, 3, 4])"
      ]
     },
     "execution_count": 26,
     "metadata": {},
     "output_type": "execute_result"
    }
   ],
   "source": [
    "arr2[0,:] # first row and all columns"
   ]
  },
  {
   "cell_type": "code",
   "execution_count": 27,
   "id": "ad44cd49",
   "metadata": {},
   "outputs": [
    {
     "data": {
      "text/plain": [
       "array([3, 5])"
      ]
     },
     "execution_count": 27,
     "metadata": {},
     "output_type": "execute_result"
    }
   ],
   "source": [
    "arr2[:,1] # all rows and first index column"
   ]
  },
  {
   "cell_type": "code",
   "execution_count": 28,
   "id": "fbb68295",
   "metadata": {},
   "outputs": [
    {
     "data": {
      "text/plain": [
       "array([4, 5])"
      ]
     },
     "execution_count": 28,
     "metadata": {},
     "output_type": "execute_result"
    }
   ],
   "source": [
    "arr2[1,:2] # first index row and 0 and 1 index column"
   ]
  },
  {
   "cell_type": "code",
   "execution_count": 32,
   "id": "b6c934c2",
   "metadata": {},
   "outputs": [
    {
     "data": {
      "text/plain": [
       "array([2, 3])"
      ]
     },
     "execution_count": 32,
     "metadata": {},
     "output_type": "execute_result"
    }
   ],
   "source": [
    "arr2[-2,-3:-1]"
   ]
  },
  {
   "cell_type": "code",
   "execution_count": 33,
   "id": "69b86b55",
   "metadata": {},
   "outputs": [
    {
     "data": {
      "text/plain": [
       "array([3, 2])"
      ]
     },
     "execution_count": 33,
     "metadata": {},
     "output_type": "execute_result"
    }
   ],
   "source": [
    "arr2[-2,-2::-1]"
   ]
  },
  {
   "cell_type": "code",
   "execution_count": 29,
   "id": "7cb8cda1",
   "metadata": {},
   "outputs": [
    {
     "data": {
      "text/plain": [
       "array([5, 6])"
      ]
     },
     "execution_count": 29,
     "metadata": {},
     "output_type": "execute_result"
    }
   ],
   "source": [
    "arr2[1,1:] # first index row and 1 and 2 index column"
   ]
  },
  {
   "cell_type": "code",
   "execution_count": 34,
   "id": "977f9df3",
   "metadata": {},
   "outputs": [
    {
     "data": {
      "text/plain": [
       "array([[  4,   5,   6],\n",
       "       [  7,   8,   9],\n",
       "       [ 10,  20,  30],\n",
       "       [ 11,  22,  33],\n",
       "       [ 41,  52,  63],\n",
       "       [741, 852, 963]])"
      ]
     },
     "execution_count": 34,
     "metadata": {},
     "output_type": "execute_result"
    }
   ],
   "source": [
    "arr2 = np.array([[4,5,6],[7,8,9],[10,20,30],[11,22,33],[41,52,63],[741,852,963]])\n",
    "arr2"
   ]
  },
  {
   "cell_type": "code",
   "execution_count": 37,
   "id": "d25fd1cf",
   "metadata": {},
   "outputs": [
    {
     "data": {
      "text/plain": [
       "array([[4, 5],\n",
       "       [7, 8]])"
      ]
     },
     "execution_count": 37,
     "metadata": {},
     "output_type": "execute_result"
    }
   ],
   "source": [
    "arr2[:2,:2]"
   ]
  },
  {
   "cell_type": "code",
   "execution_count": 35,
   "id": "fc58a75f",
   "metadata": {},
   "outputs": [
    {
     "data": {
      "text/plain": [
       "[1, 2]"
      ]
     },
     "execution_count": 35,
     "metadata": {},
     "output_type": "execute_result"
    }
   ],
   "source": [
    "l1=[1,2,3,4,5]\n",
    "l1[:2]"
   ]
  },
  {
   "cell_type": "code",
   "execution_count": 40,
   "id": "3267ded3",
   "metadata": {},
   "outputs": [
    {
     "data": {
      "text/plain": [
       "array([[ 8,  9],\n",
       "       [20, 30]])"
      ]
     },
     "execution_count": 40,
     "metadata": {},
     "output_type": "execute_result"
    }
   ],
   "source": [
    "arr2[1:3,1:]"
   ]
  },
  {
   "cell_type": "code",
   "execution_count": 44,
   "id": "2ecdf92f",
   "metadata": {},
   "outputs": [
    {
     "data": {
      "text/plain": [
       "array([[ 11,  22],\n",
       "       [ 41,  52],\n",
       "       [741, 852]])"
      ]
     },
     "execution_count": 44,
     "metadata": {},
     "output_type": "execute_result"
    }
   ],
   "source": [
    "arr2[3:,:2]"
   ]
  },
  {
   "cell_type": "code",
   "execution_count": 45,
   "id": "a5926734",
   "metadata": {},
   "outputs": [
    {
     "data": {
      "text/plain": [
       "array([[[  4,   5,   6],\n",
       "        [  7,   8,   9],\n",
       "        [ 10,  20,  30]],\n",
       "\n",
       "       [[ 11,  22,  33],\n",
       "        [ 41,  52,  63],\n",
       "        [741, 852, 963]]])"
      ]
     },
     "execution_count": 45,
     "metadata": {},
     "output_type": "execute_result"
    }
   ],
   "source": [
    "arr3 = np.array([[[4,5,6],[7,8,9],[10,20,30]],[[11,22,33],[41,52,63],[741,852,963]]])\n",
    "arr3"
   ]
  },
  {
   "cell_type": "code",
   "execution_count": 47,
   "id": "2b52c230",
   "metadata": {},
   "outputs": [
    {
     "data": {
      "text/plain": [
       "array([[ 11,  22,  33],\n",
       "       [ 41,  52,  63],\n",
       "       [741, 852, 963]])"
      ]
     },
     "execution_count": 47,
     "metadata": {},
     "output_type": "execute_result"
    }
   ],
   "source": [
    "arr3[1]"
   ]
  },
  {
   "cell_type": "code",
   "execution_count": 50,
   "id": "8cf9e100",
   "metadata": {},
   "outputs": [
    {
     "data": {
      "text/plain": [
       "array([[ 7,  8],\n",
       "       [10, 20]])"
      ]
     },
     "execution_count": 50,
     "metadata": {},
     "output_type": "execute_result"
    }
   ],
   "source": [
    "arr3[0,1:,:2]"
   ]
  },
  {
   "cell_type": "code",
   "execution_count": 52,
   "id": "b82af397",
   "metadata": {},
   "outputs": [
    {
     "data": {
      "text/plain": [
       "array([[[  7,   8],\n",
       "        [ 10,  20]],\n",
       "\n",
       "       [[ 41,  52],\n",
       "        [741, 852]]])"
      ]
     },
     "execution_count": 52,
     "metadata": {},
     "output_type": "execute_result"
    }
   ],
   "source": [
    "arr3[:,1:,:2]"
   ]
  },
  {
   "cell_type": "code",
   "execution_count": 54,
   "id": "6aac0f34",
   "metadata": {},
   "outputs": [
    {
     "data": {
      "text/plain": [
       "63"
      ]
     },
     "execution_count": 54,
     "metadata": {},
     "output_type": "execute_result"
    }
   ],
   "source": [
    "arr3[1,1,2]"
   ]
  },
  {
   "cell_type": "code",
   "execution_count": 55,
   "id": "afaf4f0a",
   "metadata": {},
   "outputs": [
    {
     "data": {
      "text/plain": [
       "array([[[  4,   5,   6],\n",
       "        [  7,   8,   9],\n",
       "        [ 10,  20,  30]],\n",
       "\n",
       "       [[ 11,  22,  33],\n",
       "        [ 41,  52,  63],\n",
       "        [741, 852, 963]]])"
      ]
     },
     "execution_count": 55,
     "metadata": {},
     "output_type": "execute_result"
    }
   ],
   "source": [
    "arr3"
   ]
  },
  {
   "cell_type": "code",
   "execution_count": 56,
   "id": "386849f2",
   "metadata": {},
   "outputs": [
    {
     "data": {
      "text/plain": [
       "array([ 9, 63])"
      ]
     },
     "execution_count": 56,
     "metadata": {},
     "output_type": "execute_result"
    }
   ],
   "source": [
    "arr3[:,1,-1]"
   ]
  },
  {
   "cell_type": "code",
   "execution_count": 59,
   "id": "382d1929",
   "metadata": {},
   "outputs": [
    {
     "data": {
      "text/plain": [
       "array([ 9, 63])"
      ]
     },
     "execution_count": 59,
     "metadata": {},
     "output_type": "execute_result"
    }
   ],
   "source": [
    "arr3[:,1,2]"
   ]
  },
  {
   "cell_type": "markdown",
   "id": "b92f69eb",
   "metadata": {},
   "source": [
    "##  Convert to n-D array"
   ]
  },
  {
   "cell_type": "code",
   "execution_count": 60,
   "id": "a53d362e",
   "metadata": {},
   "outputs": [
    {
     "data": {
      "text/plain": [
       "1"
      ]
     },
     "execution_count": 60,
     "metadata": {},
     "output_type": "execute_result"
    }
   ],
   "source": [
    "arr1 = np.array([1,2,3,4,5])\n",
    "arr1.ndim"
   ]
  },
  {
   "cell_type": "code",
   "execution_count": 63,
   "id": "31e53174",
   "metadata": {},
   "outputs": [
    {
     "name": "stdout",
     "output_type": "stream",
     "text": [
      "Array is : [[1 2 3 4 5]]\n",
      "Number of Dimensions are: 2\n"
     ]
    }
   ],
   "source": [
    "arr2 = np.array([1,2,3,4,5], ndmin = 2)\n",
    "print('Array is :',arr2)\n",
    "print('Number of Dimensions are:',arr2.ndim)"
   ]
  },
  {
   "cell_type": "code",
   "execution_count": 64,
   "id": "ba7f7c05",
   "metadata": {},
   "outputs": [
    {
     "name": "stdout",
     "output_type": "stream",
     "text": [
      "Array is : [[[1 2 3 4 5]]]\n",
      "Number of Dimensions are: 3\n"
     ]
    }
   ],
   "source": [
    "arr2 = np.array([1,2,3,4,5], ndmin = 3)\n",
    "print('Array is :',arr2)\n",
    "print('Number of Dimensions are:',arr2.ndim)"
   ]
  },
  {
   "cell_type": "code",
   "execution_count": 65,
   "id": "5eb770d1",
   "metadata": {},
   "outputs": [
    {
     "name": "stdout",
     "output_type": "stream",
     "text": [
      "Array is : [[[[1 2 3 4 5]]]]\n",
      "Number of Dimensions are: 4\n"
     ]
    }
   ],
   "source": [
    "arr2 = np.array([1,2,3,4,5], ndmin = 4)\n",
    "print('Array is :',arr2)\n",
    "print('Number of Dimensions are:',arr2.ndim)"
   ]
  },
  {
   "cell_type": "code",
   "execution_count": 70,
   "id": "ad8247bc",
   "metadata": {},
   "outputs": [
    {
     "name": "stdout",
     "output_type": "stream",
     "text": [
      "Array is :\n",
      " [[[[1 2]\n",
      "   [3 4]]]]\n",
      "Number of Dimensions are: 4\n"
     ]
    }
   ],
   "source": [
    "arr2 = np.array([[1,2],[3,4]] ,ndmin = 4)\n",
    "print('Array is :\\n',arr2)\n",
    "print('Number of Dimensions are:',arr2.ndim)"
   ]
  },
  {
   "cell_type": "code",
   "execution_count": 69,
   "id": "a34f645d",
   "metadata": {},
   "outputs": [
    {
     "name": "stdout",
     "output_type": "stream",
     "text": [
      "Array is :\n",
      " [[1 2]\n",
      " [3 4]]\n",
      "Number of Dimensions are: 2\n"
     ]
    }
   ],
   "source": [
    "arr2 = np.array([[1,2],[3,4]] ,ndmin = 2)\n",
    "print('Array is :\\n',arr2)\n",
    "print('Number of Dimensions are:',arr2.ndim)"
   ]
  },
  {
   "cell_type": "code",
   "execution_count": 71,
   "id": "25a1991e",
   "metadata": {},
   "outputs": [
    {
     "name": "stdout",
     "output_type": "stream",
     "text": [
      "Array is :\n",
      " [[1 2]\n",
      " [3 4]]\n",
      "Number of Dimensions are: 2\n"
     ]
    }
   ],
   "source": [
    "arr2 = np.array([[1,2],[3,4]] ,ndmin = 1)\n",
    "print('Array is :\\n',arr2)\n",
    "print('Number of Dimensions are:',arr2.ndim)"
   ]
  },
  {
   "cell_type": "code",
   "execution_count": 74,
   "id": "24f01666",
   "metadata": {},
   "outputs": [
    {
     "name": "stdout",
     "output_type": "stream",
     "text": [
      "Array is : [[[[1 2 3 4 5]]]]\n",
      "Number of Dimensions are: 4\n"
     ]
    },
    {
     "data": {
      "text/plain": [
       "4"
      ]
     },
     "execution_count": 74,
     "metadata": {},
     "output_type": "execute_result"
    }
   ],
   "source": [
    "arr2 = np.array([1,2,3,4,5], ndmin = 4)\n",
    "print('Array is :',arr2)\n",
    "print('Number of Dimensions are:',arr2.ndim)\n",
    "arr2 = np.array(arr2, ndmin = 1)\n",
    "arr2.ndim"
   ]
  },
  {
   "cell_type": "markdown",
   "id": "75f9f209",
   "metadata": {},
   "source": [
    "## Reshape Function"
   ]
  },
  {
   "cell_type": "code",
   "execution_count": 75,
   "id": "887ed89a",
   "metadata": {},
   "outputs": [
    {
     "name": "stdout",
     "output_type": "stream",
     "text": [
      "Array is :\n",
      " [ 1  2  3  4  4  5  6  7  8 10 20 30]\n",
      "Number of dimensions are : 1\n",
      "Shape of an array is : (12,)\n"
     ]
    }
   ],
   "source": [
    "arr1 = np.array([1,2,3,4,4,5,6,7,8,10,20,30])\n",
    "print('Array is :\\n',arr1)\n",
    "print('Number of dimensions are :', arr1.ndim)\n",
    "print('Shape of an array is :',arr1.shape)"
   ]
  },
  {
   "cell_type": "code",
   "execution_count": null,
   "id": "5f1b9e61",
   "metadata": {},
   "outputs": [],
   "source": [
    "1D shape >> (3,)\n",
    "2D shape >> (3,4)\n",
    "3D shape >> (3,4,5)"
   ]
  },
  {
   "cell_type": "code",
   "execution_count": null,
   "id": "3864c641",
   "metadata": {},
   "outputs": [],
   "source": [
    "12:\n",
    "1,12\n",
    "2,6\n",
    "3,4\n",
    "4,3\n",
    "6,2\n",
    "12,1"
   ]
  },
  {
   "cell_type": "code",
   "execution_count": 76,
   "id": "6f0adeb7",
   "metadata": {},
   "outputs": [
    {
     "name": "stdout",
     "output_type": "stream",
     "text": [
      "Array is :\n",
      " [[ 1  2  3  4  4  5  6  7  8 10 20 30]]\n",
      "Number of dimensions are : 2\n",
      "Shape of an array is : (1, 12)\n"
     ]
    }
   ],
   "source": [
    "arr1 = np.array([1,2,3,4,4,5,6,7,8,10,20,30])\n",
    "\n",
    "arr1 = arr1.reshape(1,12)\n",
    "print('Array is :\\n',arr1)\n",
    "print('Number of dimensions are :', arr1.ndim)\n",
    "print('Shape of an array is :',arr1.shape)"
   ]
  },
  {
   "cell_type": "code",
   "execution_count": 77,
   "id": "f896030b",
   "metadata": {},
   "outputs": [
    {
     "name": "stdout",
     "output_type": "stream",
     "text": [
      "Array is :\n",
      " [[ 1  2  3  4  4  5]\n",
      " [ 6  7  8 10 20 30]]\n",
      "Number of dimensions are : 2\n",
      "Shape of an array is : (2, 6)\n"
     ]
    }
   ],
   "source": [
    "arr1 = np.array([1,2,3,4,4,5,6,7,8,10,20,30])\n",
    "\n",
    "arr1 = arr1.reshape(2,6)\n",
    "print('Array is :\\n',arr1)\n",
    "print('Number of dimensions are :', arr1.ndim)\n",
    "print('Shape of an array is :',arr1.shape)"
   ]
  },
  {
   "cell_type": "code",
   "execution_count": 78,
   "id": "d0cdac59",
   "metadata": {},
   "outputs": [
    {
     "ename": "ValueError",
     "evalue": "cannot reshape array of size 12 into shape (3,5)",
     "output_type": "error",
     "traceback": [
      "\u001b[1;31m---------------------------------------------------------------------------\u001b[0m",
      "\u001b[1;31mValueError\u001b[0m                                Traceback (most recent call last)",
      "\u001b[1;32m<ipython-input-78-c0cfc4d404a5>\u001b[0m in \u001b[0;36m<module>\u001b[1;34m\u001b[0m\n\u001b[0;32m      1\u001b[0m \u001b[0marr1\u001b[0m \u001b[1;33m=\u001b[0m \u001b[0mnp\u001b[0m\u001b[1;33m.\u001b[0m\u001b[0marray\u001b[0m\u001b[1;33m(\u001b[0m\u001b[1;33m[\u001b[0m\u001b[1;36m1\u001b[0m\u001b[1;33m,\u001b[0m\u001b[1;36m2\u001b[0m\u001b[1;33m,\u001b[0m\u001b[1;36m3\u001b[0m\u001b[1;33m,\u001b[0m\u001b[1;36m4\u001b[0m\u001b[1;33m,\u001b[0m\u001b[1;36m4\u001b[0m\u001b[1;33m,\u001b[0m\u001b[1;36m5\u001b[0m\u001b[1;33m,\u001b[0m\u001b[1;36m6\u001b[0m\u001b[1;33m,\u001b[0m\u001b[1;36m7\u001b[0m\u001b[1;33m,\u001b[0m\u001b[1;36m8\u001b[0m\u001b[1;33m,\u001b[0m\u001b[1;36m10\u001b[0m\u001b[1;33m,\u001b[0m\u001b[1;36m20\u001b[0m\u001b[1;33m,\u001b[0m\u001b[1;36m30\u001b[0m\u001b[1;33m]\u001b[0m\u001b[1;33m)\u001b[0m\u001b[1;33m\u001b[0m\u001b[1;33m\u001b[0m\u001b[0m\n\u001b[0;32m      2\u001b[0m \u001b[1;33m\u001b[0m\u001b[0m\n\u001b[1;32m----> 3\u001b[1;33m \u001b[0marr1\u001b[0m \u001b[1;33m=\u001b[0m \u001b[0marr1\u001b[0m\u001b[1;33m.\u001b[0m\u001b[0mreshape\u001b[0m\u001b[1;33m(\u001b[0m\u001b[1;36m3\u001b[0m\u001b[1;33m,\u001b[0m\u001b[1;36m5\u001b[0m\u001b[1;33m)\u001b[0m\u001b[1;33m\u001b[0m\u001b[1;33m\u001b[0m\u001b[0m\n\u001b[0m\u001b[0;32m      4\u001b[0m \u001b[0mprint\u001b[0m\u001b[1;33m(\u001b[0m\u001b[1;34m'Array is :\\n'\u001b[0m\u001b[1;33m,\u001b[0m\u001b[0marr1\u001b[0m\u001b[1;33m)\u001b[0m\u001b[1;33m\u001b[0m\u001b[1;33m\u001b[0m\u001b[0m\n\u001b[0;32m      5\u001b[0m \u001b[0mprint\u001b[0m\u001b[1;33m(\u001b[0m\u001b[1;34m'Number of dimensions are :'\u001b[0m\u001b[1;33m,\u001b[0m \u001b[0marr1\u001b[0m\u001b[1;33m.\u001b[0m\u001b[0mndim\u001b[0m\u001b[1;33m)\u001b[0m\u001b[1;33m\u001b[0m\u001b[1;33m\u001b[0m\u001b[0m\n",
      "\u001b[1;31mValueError\u001b[0m: cannot reshape array of size 12 into shape (3,5)"
     ]
    }
   ],
   "source": [
    "arr1 = np.array([1,2,3,4,4,5,6,7,8,10,20,30])\n",
    "\n",
    "arr1 = arr1.reshape(3,5)\n",
    "print('Array is :\\n',arr1)\n",
    "print('Number of dimensions are :', arr1.ndim)\n",
    "print('Shape of an array is :',arr1.shape)"
   ]
  },
  {
   "cell_type": "code",
   "execution_count": 79,
   "id": "17869f78",
   "metadata": {},
   "outputs": [
    {
     "name": "stdout",
     "output_type": "stream",
     "text": [
      "Array is :\n",
      " [[ 1  2  3  4]\n",
      " [ 4  5  6  7]\n",
      " [ 8 10 20 30]]\n",
      "Number of dimensions are : 2\n",
      "Shape of an array is : (3, 4)\n"
     ]
    }
   ],
   "source": [
    "arr1 = np.array([1,2,3,4,4,5,6,7,8,10,20,30])\n",
    "\n",
    "arr1 = arr1.reshape(3,4)\n",
    "print('Array is :\\n',arr1)\n",
    "print('Number of dimensions are :', arr1.ndim)\n",
    "print('Shape of an array is :',arr1.shape)"
   ]
  },
  {
   "cell_type": "code",
   "execution_count": 80,
   "id": "10cd19eb",
   "metadata": {},
   "outputs": [
    {
     "name": "stdout",
     "output_type": "stream",
     "text": [
      "Array is :\n",
      " [[ 1  2  3]\n",
      " [ 4  4  5]\n",
      " [ 6  7  8]\n",
      " [10 20 30]]\n",
      "Number of dimensions are : 2\n",
      "Shape of an array is : (4, 3)\n"
     ]
    }
   ],
   "source": [
    "arr1 = np.array([1,2,3,4,4,5,6,7,8,10,20,30])\n",
    "\n",
    "arr1 = arr1.reshape(4,3)\n",
    "print('Array is :\\n',arr1)\n",
    "print('Number of dimensions are :', arr1.ndim)\n",
    "print('Shape of an array is :',arr1.shape)"
   ]
  },
  {
   "cell_type": "code",
   "execution_count": 81,
   "id": "a2f59046",
   "metadata": {},
   "outputs": [
    {
     "name": "stdout",
     "output_type": "stream",
     "text": [
      "Array is :\n",
      " [[ 1  2]\n",
      " [ 3  4]\n",
      " [ 4  5]\n",
      " [ 6  7]\n",
      " [ 8 10]\n",
      " [20 30]]\n",
      "Number of dimensions are : 2\n",
      "Shape of an array is : (6, 2)\n"
     ]
    }
   ],
   "source": [
    "arr1 = np.array([1,2,3,4,4,5,6,7,8,10,20,30])\n",
    "\n",
    "arr1 = arr1.reshape(6,2)\n",
    "print('Array is :\\n',arr1)\n",
    "print('Number of dimensions are :', arr1.ndim)\n",
    "print('Shape of an array is :',arr1.shape)"
   ]
  },
  {
   "cell_type": "code",
   "execution_count": 82,
   "id": "32ef25a4",
   "metadata": {},
   "outputs": [
    {
     "ename": "ValueError",
     "evalue": "cannot reshape array of size 11 into shape (6,2)",
     "output_type": "error",
     "traceback": [
      "\u001b[1;31m---------------------------------------------------------------------------\u001b[0m",
      "\u001b[1;31mValueError\u001b[0m                                Traceback (most recent call last)",
      "\u001b[1;32m<ipython-input-82-85b3b762d1db>\u001b[0m in \u001b[0;36m<module>\u001b[1;34m\u001b[0m\n\u001b[0;32m      1\u001b[0m \u001b[0marr1\u001b[0m \u001b[1;33m=\u001b[0m \u001b[0mnp\u001b[0m\u001b[1;33m.\u001b[0m\u001b[0marray\u001b[0m\u001b[1;33m(\u001b[0m\u001b[1;33m[\u001b[0m\u001b[1;36m1\u001b[0m\u001b[1;33m,\u001b[0m\u001b[1;36m2\u001b[0m\u001b[1;33m,\u001b[0m\u001b[1;36m3\u001b[0m\u001b[1;33m,\u001b[0m\u001b[1;36m4\u001b[0m\u001b[1;33m,\u001b[0m\u001b[1;36m4\u001b[0m\u001b[1;33m,\u001b[0m\u001b[1;36m5\u001b[0m\u001b[1;33m,\u001b[0m\u001b[1;36m6\u001b[0m\u001b[1;33m,\u001b[0m\u001b[1;36m7\u001b[0m\u001b[1;33m,\u001b[0m\u001b[1;36m8\u001b[0m\u001b[1;33m,\u001b[0m\u001b[1;36m10\u001b[0m\u001b[1;33m,\u001b[0m\u001b[1;36m20\u001b[0m\u001b[1;33m]\u001b[0m\u001b[1;33m)\u001b[0m\u001b[1;33m\u001b[0m\u001b[1;33m\u001b[0m\u001b[0m\n\u001b[0;32m      2\u001b[0m \u001b[1;33m\u001b[0m\u001b[0m\n\u001b[1;32m----> 3\u001b[1;33m \u001b[0marr1\u001b[0m \u001b[1;33m=\u001b[0m \u001b[0marr1\u001b[0m\u001b[1;33m.\u001b[0m\u001b[0mreshape\u001b[0m\u001b[1;33m(\u001b[0m\u001b[1;36m6\u001b[0m\u001b[1;33m,\u001b[0m\u001b[1;36m2\u001b[0m\u001b[1;33m)\u001b[0m\u001b[1;33m\u001b[0m\u001b[1;33m\u001b[0m\u001b[0m\n\u001b[0m\u001b[0;32m      4\u001b[0m \u001b[0mprint\u001b[0m\u001b[1;33m(\u001b[0m\u001b[1;34m'Array is :\\n'\u001b[0m\u001b[1;33m,\u001b[0m\u001b[0marr1\u001b[0m\u001b[1;33m)\u001b[0m\u001b[1;33m\u001b[0m\u001b[1;33m\u001b[0m\u001b[0m\n\u001b[0;32m      5\u001b[0m \u001b[0mprint\u001b[0m\u001b[1;33m(\u001b[0m\u001b[1;34m'Number of dimensions are :'\u001b[0m\u001b[1;33m,\u001b[0m \u001b[0marr1\u001b[0m\u001b[1;33m.\u001b[0m\u001b[0mndim\u001b[0m\u001b[1;33m)\u001b[0m\u001b[1;33m\u001b[0m\u001b[1;33m\u001b[0m\u001b[0m\n",
      "\u001b[1;31mValueError\u001b[0m: cannot reshape array of size 11 into shape (6,2)"
     ]
    }
   ],
   "source": [
    "arr1 = np.array([1,2,3,4,4,5,6,7,8,10,20])\n",
    "\n",
    "arr1 = arr1.reshape(6,2)\n",
    "print('Array is :\\n',arr1)\n",
    "print('Number of dimensions are :', arr1.ndim)\n",
    "print('Shape of an array is :',arr1.shape)"
   ]
  },
  {
   "cell_type": "code",
   "execution_count": 83,
   "id": "30da8861",
   "metadata": {},
   "outputs": [
    {
     "name": "stdout",
     "output_type": "stream",
     "text": [
      "Array is :\n",
      " [[ 1]\n",
      " [ 2]\n",
      " [ 3]\n",
      " [ 4]\n",
      " [ 4]\n",
      " [ 5]\n",
      " [ 6]\n",
      " [ 7]\n",
      " [ 8]\n",
      " [10]\n",
      " [20]\n",
      " [30]]\n",
      "Number of dimensions are : 2\n",
      "Shape of an array is : (12, 1)\n"
     ]
    }
   ],
   "source": [
    "arr1 = np.array([1,2,3,4,4,5,6,7,8,10,20,30])\n",
    "\n",
    "arr1 = arr1.reshape(12,1)\n",
    "print('Array is :\\n',arr1)\n",
    "print('Number of dimensions are :', arr1.ndim)\n",
    "print('Shape of an array is :',arr1.shape)"
   ]
  },
  {
   "cell_type": "code",
   "execution_count": null,
   "id": "bd6093bd",
   "metadata": {},
   "outputs": [],
   "source": [
    "1,1,12\n",
    "1,2,6\n",
    "2,2,3\n",
    "1,3,4"
   ]
  },
  {
   "cell_type": "code",
   "execution_count": 84,
   "id": "95545d60",
   "metadata": {},
   "outputs": [
    {
     "name": "stdout",
     "output_type": "stream",
     "text": [
      "Array is :\n",
      " [[[ 1  2  3  4  4  5  6  7  8 10 20 30]]]\n",
      "Number of dimensions are : 3\n",
      "Shape of an array is : (1, 1, 12)\n"
     ]
    }
   ],
   "source": [
    "arr1 = np.array([1,2,3,4,4,5,6,7,8,10,20,30])\n",
    "\n",
    "arr1 = arr1.reshape(1,1,12)\n",
    "print('Array is :\\n',arr1)\n",
    "print('Number of dimensions are :', arr1.ndim)\n",
    "print('Shape of an array is :',arr1.shape)"
   ]
  },
  {
   "cell_type": "code",
   "execution_count": 85,
   "id": "2dfbf804",
   "metadata": {},
   "outputs": [
    {
     "name": "stdout",
     "output_type": "stream",
     "text": [
      "Array is :\n",
      " [[[ 1  2  3  4  4  5]\n",
      "  [ 6  7  8 10 20 30]]]\n",
      "Number of dimensions are : 3\n",
      "Shape of an array is : (1, 2, 6)\n"
     ]
    }
   ],
   "source": [
    "arr1 = np.array([1,2,3,4,4,5,6,7,8,10,20,30])\n",
    "\n",
    "arr1 = arr1.reshape(1,2,6)\n",
    "print('Array is :\\n',arr1)\n",
    "print('Number of dimensions are :', arr1.ndim)\n",
    "print('Shape of an array is :',arr1.shape)"
   ]
  },
  {
   "cell_type": "code",
   "execution_count": 86,
   "id": "a2f49247",
   "metadata": {},
   "outputs": [
    {
     "name": "stdout",
     "output_type": "stream",
     "text": [
      "Array is :\n",
      " [[[ 1  2  3]\n",
      "  [ 4  4  5]]\n",
      "\n",
      " [[ 6  7  8]\n",
      "  [10 20 30]]]\n",
      "Number of dimensions are : 3\n",
      "Shape of an array is : (2, 2, 3)\n"
     ]
    }
   ],
   "source": [
    "arr1 = np.array([1,2,3,4,4,5,6,7,8,10,20,30])\n",
    "\n",
    "arr1 = arr1.reshape(2,2,3)\n",
    "print('Array is :\\n',arr1)\n",
    "print('Number of dimensions are :', arr1.ndim)\n",
    "print('Shape of an array is :',arr1.shape)"
   ]
  },
  {
   "cell_type": "code",
   "execution_count": 87,
   "id": "4186da26",
   "metadata": {},
   "outputs": [
    {
     "name": "stdout",
     "output_type": "stream",
     "text": [
      "Array is :\n",
      " [[[ 1  2]\n",
      "  [ 3  4]]\n",
      "\n",
      " [[ 4  5]\n",
      "  [ 6  7]]\n",
      "\n",
      " [[ 8 10]\n",
      "  [20 30]]]\n",
      "Number of dimensions are : 3\n",
      "Shape of an array is : (3, 2, 2)\n"
     ]
    }
   ],
   "source": [
    "arr1 = np.array([1,2,3,4,4,5,6,7,8,10,20,30])\n",
    "\n",
    "arr1 = arr1.reshape(3,2,2)\n",
    "print('Array is :\\n',arr1)\n",
    "print('Number of dimensions are :', arr1.ndim)\n",
    "print('Shape of an array is :',arr1.shape)"
   ]
  },
  {
   "cell_type": "code",
   "execution_count": 88,
   "id": "eeb2f5e9",
   "metadata": {},
   "outputs": [
    {
     "name": "stdout",
     "output_type": "stream",
     "text": [
      "Array is :\n",
      " [[ 2  3  4  5]\n",
      " [ 6  7  8  9]\n",
      " [10 20 30 40]]\n",
      "Number of dimensions are : 2\n",
      "Shape of an array is : (3, 4)\n"
     ]
    }
   ],
   "source": [
    "arr2 = np.array([[2,3,4,5],[6,7,8,9],[10,20,30,40]])\n",
    "print('Array is :\\n',arr2)\n",
    "print('Number of dimensions are :', arr2.ndim)\n",
    "print('Shape of an array is :',arr2.shape)"
   ]
  },
  {
   "cell_type": "code",
   "execution_count": 89,
   "id": "e07c2de7",
   "metadata": {},
   "outputs": [
    {
     "name": "stdout",
     "output_type": "stream",
     "text": [
      "Array is :\n",
      " [[[ 2  3]\n",
      "  [ 4  5]\n",
      "  [ 6  7]]\n",
      "\n",
      " [[ 8  9]\n",
      "  [10 20]\n",
      "  [30 40]]]\n",
      "Number of dimensions are : 3\n",
      "Shape of an array is : (2, 3, 2)\n"
     ]
    }
   ],
   "source": [
    "arr2 = np.array([[2,3,4,5],[6,7,8,9],[10,20,30,40]])\n",
    "\n",
    "arr2 = arr2.reshape(2,3,2)\n",
    "print('Array is :\\n',arr2)\n",
    "print('Number of dimensions are :', arr2.ndim)\n",
    "print('Shape of an array is :',arr2.shape)"
   ]
  },
  {
   "cell_type": "code",
   "execution_count": 90,
   "id": "b451ea77",
   "metadata": {},
   "outputs": [
    {
     "name": "stdout",
     "output_type": "stream",
     "text": [
      "Array is :\n",
      " [ 2  3  4  5  6  7  8  9 10 20 30 40]\n",
      "Number of dimensions are : 1\n",
      "Shape of an array is : (12,)\n"
     ]
    }
   ],
   "source": [
    "arr2 = np.array([[2,3,4,5],[6,7,8,9],[10,20,30,40]])\n",
    "\n",
    "arr2 = arr2.reshape(12)\n",
    "print('Array is :\\n',arr2)\n",
    "print('Number of dimensions are :', arr2.ndim)\n",
    "print('Shape of an array is :',arr2.shape)"
   ]
  },
  {
   "cell_type": "code",
   "execution_count": 91,
   "id": "76a46b47",
   "metadata": {},
   "outputs": [
    {
     "name": "stdout",
     "output_type": "stream",
     "text": [
      "[2, 3, 4, 5, 6, 7, 8, 9, 10, 20, 30, 40] <class 'list'>\n"
     ]
    }
   ],
   "source": [
    "l1 = list(arr2)\n",
    "print(l1,type(l1))"
   ]
  },
  {
   "cell_type": "code",
   "execution_count": 92,
   "id": "ba42f964",
   "metadata": {},
   "outputs": [
    {
     "name": "stdout",
     "output_type": "stream",
     "text": [
      "[2, 3, 4, 5, 6, 7, 8, 9, 10, 20, 30, 40] <class 'list'>\n"
     ]
    }
   ],
   "source": [
    "l2 = arr2.tolist()\n",
    "print(l2,type(l2))"
   ]
  },
  {
   "cell_type": "code",
   "execution_count": 93,
   "id": "2276c68e",
   "metadata": {},
   "outputs": [
    {
     "data": {
      "text/plain": [
       "[[2, 3, 4, 5], [6, 7, 8, 9], [10, 20, 30, 40]]"
      ]
     },
     "execution_count": 93,
     "metadata": {},
     "output_type": "execute_result"
    }
   ],
   "source": [
    "arr2 = np.array([[2,3,4,5],[6,7,8,9],[10,20,30,40]])\n",
    "list2= arr2.tolist()\n",
    "list2 # creates nested list"
   ]
  },
  {
   "cell_type": "code",
   "execution_count": null,
   "id": "a7de64eb",
   "metadata": {},
   "outputs": [],
   "source": []
  },
  {
   "cell_type": "code",
   "execution_count": null,
   "id": "ea6760be",
   "metadata": {},
   "outputs": [],
   "source": []
  },
  {
   "cell_type": "code",
   "execution_count": null,
   "id": "36909a93",
   "metadata": {},
   "outputs": [],
   "source": []
  },
  {
   "cell_type": "code",
   "execution_count": null,
   "id": "07f6dc26",
   "metadata": {},
   "outputs": [],
   "source": []
  },
  {
   "cell_type": "code",
   "execution_count": null,
   "id": "74afabb7",
   "metadata": {},
   "outputs": [],
   "source": []
  },
  {
   "cell_type": "code",
   "execution_count": null,
   "id": "56aea59f",
   "metadata": {},
   "outputs": [],
   "source": []
  },
  {
   "cell_type": "code",
   "execution_count": null,
   "id": "c63b4af4",
   "metadata": {},
   "outputs": [],
   "source": []
  },
  {
   "cell_type": "code",
   "execution_count": null,
   "id": "373eadc5",
   "metadata": {},
   "outputs": [],
   "source": []
  },
  {
   "cell_type": "code",
   "execution_count": null,
   "id": "a006a0fa",
   "metadata": {},
   "outputs": [],
   "source": []
  }
 ],
 "metadata": {
  "kernelspec": {
   "display_name": "Python 3",
   "language": "python",
   "name": "python3"
  },
  "language_info": {
   "codemirror_mode": {
    "name": "ipython",
    "version": 3
   },
   "file_extension": ".py",
   "mimetype": "text/x-python",
   "name": "python",
   "nbconvert_exporter": "python",
   "pygments_lexer": "ipython3",
   "version": "3.8.8"
  }
 },
 "nbformat": 4,
 "nbformat_minor": 5
}
