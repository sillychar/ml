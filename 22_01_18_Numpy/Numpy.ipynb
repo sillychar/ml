{
 "cells": [
  {
   "cell_type": "markdown",
   "id": "c11b7cd4",
   "metadata": {},
   "source": [
    "## Indexing and Slicing"
   ]
  },
  {
   "cell_type": "code",
   "execution_count": 1,
   "id": "b492cbcb",
   "metadata": {},
   "outputs": [],
   "source": [
    "import numpy as np"
   ]
  },
  {
   "cell_type": "code",
   "execution_count": 2,
   "id": "23d0c24d",
   "metadata": {},
   "outputs": [
    {
     "data": {
      "text/plain": [
       "4"
      ]
     },
     "execution_count": 2,
     "metadata": {},
     "output_type": "execute_result"
    }
   ],
   "source": [
    "arr1 = np.array([1,2,4,4,5,6])\n",
    "arr1[3]"
   ]
  },
  {
   "cell_type": "code",
   "execution_count": 3,
   "id": "fc811c10",
   "metadata": {},
   "outputs": [
    {
     "data": {
      "text/plain": [
       "4"
      ]
     },
     "execution_count": 3,
     "metadata": {},
     "output_type": "execute_result"
    }
   ],
   "source": [
    "arr1[-3]"
   ]
  },
  {
   "cell_type": "code",
   "execution_count": 4,
   "id": "be35f468",
   "metadata": {},
   "outputs": [
    {
     "data": {
      "text/plain": [
       "6"
      ]
     },
     "execution_count": 4,
     "metadata": {},
     "output_type": "execute_result"
    }
   ],
   "source": [
    "arr1[-1]"
   ]
  },
  {
   "cell_type": "code",
   "execution_count": 5,
   "id": "061a7c62",
   "metadata": {},
   "outputs": [
    {
     "data": {
      "text/plain": [
       "1"
      ]
     },
     "execution_count": 5,
     "metadata": {},
     "output_type": "execute_result"
    }
   ],
   "source": [
    "arr1[0]"
   ]
  },
  {
   "cell_type": "code",
   "execution_count": 6,
   "id": "f5cbf216",
   "metadata": {},
   "outputs": [
    {
     "data": {
      "text/plain": [
       "array([[2, 3, 4],\n",
       "       [4, 5, 6]])"
      ]
     },
     "execution_count": 6,
     "metadata": {},
     "output_type": "execute_result"
    }
   ],
   "source": [
    "arr2 = np.array([[2,3,4],[4,5,6]])\n",
    "arr2"
   ]
  },
  {
   "cell_type": "code",
   "execution_count": 7,
   "id": "a0224749",
   "metadata": {},
   "outputs": [
    {
     "data": {
      "text/plain": [
       "2"
      ]
     },
     "execution_count": 7,
     "metadata": {},
     "output_type": "execute_result"
    }
   ],
   "source": [
    "arr2.ndim # to check dimension"
   ]
  },
  {
   "cell_type": "code",
   "execution_count": 8,
   "id": "cb2a424a",
   "metadata": {},
   "outputs": [
    {
     "data": {
      "text/plain": [
       "array([4, 5, 6])"
      ]
     },
     "execution_count": 8,
     "metadata": {},
     "output_type": "execute_result"
    }
   ],
   "source": [
    "arr2[1]"
   ]
  },
  {
   "cell_type": "code",
   "execution_count": 9,
   "id": "5a323ae0",
   "metadata": {},
   "outputs": [
    {
     "data": {
      "text/plain": [
       "5"
      ]
     },
     "execution_count": 9,
     "metadata": {},
     "output_type": "execute_result"
    }
   ],
   "source": [
    "arr2[1][1]"
   ]
  },
  {
   "cell_type": "code",
   "execution_count": 10,
   "id": "9066ab9d",
   "metadata": {},
   "outputs": [
    {
     "data": {
      "text/plain": [
       "5"
      ]
     },
     "execution_count": 10,
     "metadata": {},
     "output_type": "execute_result"
    }
   ],
   "source": [
    "arr2[1,1]"
   ]
  },
  {
   "cell_type": "code",
   "execution_count": 11,
   "id": "d6b8a99d",
   "metadata": {},
   "outputs": [
    {
     "data": {
      "text/plain": [
       "4"
      ]
     },
     "execution_count": 11,
     "metadata": {},
     "output_type": "execute_result"
    }
   ],
   "source": [
    "arr2[0,2]"
   ]
  },
  {
   "cell_type": "code",
   "execution_count": 12,
   "id": "5f2b1e95",
   "metadata": {},
   "outputs": [
    {
     "data": {
      "text/plain": [
       "array([[[  2,   3],\n",
       "        [  5,   6],\n",
       "        [  3,   4]],\n",
       "\n",
       "       [[ 11,  22],\n",
       "        [ 22,  33],\n",
       "        [ 33,  44]],\n",
       "\n",
       "       [[111, 222],\n",
       "        [222, 333],\n",
       "        [444, 555]]])"
      ]
     },
     "execution_count": 12,
     "metadata": {},
     "output_type": "execute_result"
    }
   ],
   "source": [
    "l1 = [[[2,3],[5,6],[3,4]],[[11,22],[22,33],[33,44]],[[111,222],[222,333],[444,555]]]\n",
    "arr3 = np.array(l1)\n",
    "arr3"
   ]
  },
  {
   "cell_type": "code",
   "execution_count": 13,
   "id": "0b136332",
   "metadata": {},
   "outputs": [
    {
     "data": {
      "text/plain": [
       "3"
      ]
     },
     "execution_count": 13,
     "metadata": {},
     "output_type": "execute_result"
    }
   ],
   "source": [
    "arr3.ndim"
   ]
  },
  {
   "cell_type": "code",
   "execution_count": 14,
   "id": "32d69b6b",
   "metadata": {},
   "outputs": [
    {
     "data": {
      "text/plain": [
       "array([[2, 3],\n",
       "       [5, 6],\n",
       "       [3, 4]])"
      ]
     },
     "execution_count": 14,
     "metadata": {},
     "output_type": "execute_result"
    }
   ],
   "source": [
    "arr3[0]"
   ]
  },
  {
   "cell_type": "code",
   "execution_count": 15,
   "id": "9e3ed137",
   "metadata": {},
   "outputs": [
    {
     "data": {
      "text/plain": [
       "22"
      ]
     },
     "execution_count": 15,
     "metadata": {},
     "output_type": "execute_result"
    }
   ],
   "source": [
    "arr3[1,1,0]"
   ]
  },
  {
   "cell_type": "code",
   "execution_count": 16,
   "id": "33beb78f",
   "metadata": {},
   "outputs": [
    {
     "data": {
      "text/plain": [
       "111"
      ]
     },
     "execution_count": 16,
     "metadata": {},
     "output_type": "execute_result"
    }
   ],
   "source": [
    "arr3[2,0,0]"
   ]
  },
  {
   "cell_type": "markdown",
   "id": "c57b0555",
   "metadata": {},
   "source": [
    "## Slicing"
   ]
  },
  {
   "cell_type": "code",
   "execution_count": 17,
   "id": "e826600b",
   "metadata": {},
   "outputs": [
    {
     "data": {
      "text/plain": [
       "array([1, 2, 3, 4, 5, 6, 7])"
      ]
     },
     "execution_count": 17,
     "metadata": {},
     "output_type": "execute_result"
    }
   ],
   "source": [
    "arr1 = np.array([1,2,3,4,5,6,7])\n",
    "arr1"
   ]
  },
  {
   "cell_type": "code",
   "execution_count": 18,
   "id": "a74485df",
   "metadata": {},
   "outputs": [
    {
     "data": {
      "text/plain": [
       "array([1, 2, 3, 4, 5, 6, 7])"
      ]
     },
     "execution_count": 18,
     "metadata": {},
     "output_type": "execute_result"
    }
   ],
   "source": [
    "arr1[:]"
   ]
  },
  {
   "cell_type": "code",
   "execution_count": 19,
   "id": "1874bf6a",
   "metadata": {},
   "outputs": [
    {
     "data": {
      "text/plain": [
       "array([3, 4, 5, 6, 7])"
      ]
     },
     "execution_count": 19,
     "metadata": {},
     "output_type": "execute_result"
    }
   ],
   "source": [
    "arr1[-5:]"
   ]
  },
  {
   "cell_type": "code",
   "execution_count": 20,
   "id": "70ad7b67",
   "metadata": {},
   "outputs": [
    {
     "data": {
      "text/plain": [
       "array([7, 6, 5, 4, 3, 2, 1])"
      ]
     },
     "execution_count": 20,
     "metadata": {},
     "output_type": "execute_result"
    }
   ],
   "source": [
    "arr1[::-1]"
   ]
  },
  {
   "cell_type": "code",
   "execution_count": 21,
   "id": "623b43ab",
   "metadata": {},
   "outputs": [
    {
     "data": {
      "text/plain": [
       "array([2, 3, 4, 5])"
      ]
     },
     "execution_count": 21,
     "metadata": {},
     "output_type": "execute_result"
    }
   ],
   "source": [
    "arr1[1:-2]"
   ]
  },
  {
   "cell_type": "code",
   "execution_count": 22,
   "id": "7c447c93",
   "metadata": {},
   "outputs": [
    {
     "data": {
      "text/plain": [
       "array([[2, 3, 4],\n",
       "       [4, 5, 6]])"
      ]
     },
     "execution_count": 22,
     "metadata": {},
     "output_type": "execute_result"
    }
   ],
   "source": [
    "arr2 = np.array([[2,3,4],[4,5,6]])\n",
    "arr2"
   ]
  },
  {
   "cell_type": "code",
   "execution_count": 23,
   "id": "495e2f8d",
   "metadata": {},
   "outputs": [
    {
     "data": {
      "text/plain": [
       "array([[2, 3, 4],\n",
       "       [4, 5, 6]])"
      ]
     },
     "execution_count": 23,
     "metadata": {},
     "output_type": "execute_result"
    }
   ],
   "source": [
    "arr2[:,:] # all rows and all columns"
   ]
  },
  {
   "cell_type": "code",
   "execution_count": 24,
   "id": "866ef085",
   "metadata": {},
   "outputs": [
    {
     "data": {
      "text/plain": [
       "array([[2, 3, 4],\n",
       "       [4, 5, 6]])"
      ]
     },
     "execution_count": 24,
     "metadata": {},
     "output_type": "execute_result"
    }
   ],
   "source": [
    "arr2[:] # all rows and all columns"
   ]
  },
  {
   "cell_type": "code",
   "execution_count": 26,
   "id": "7e39d114",
   "metadata": {},
   "outputs": [
    {
     "data": {
      "text/plain": [
       "array([2, 3, 4])"
      ]
     },
     "execution_count": 26,
     "metadata": {},
     "output_type": "execute_result"
    }
   ],
   "source": [
    "arr2[0,:] # first row and all columns"
   ]
  },
  {
   "cell_type": "code",
   "execution_count": 27,
   "id": "64f0bd27",
   "metadata": {},
   "outputs": [
    {
     "data": {
      "text/plain": [
       "array([3, 5])"
      ]
     },
     "execution_count": 27,
     "metadata": {},
     "output_type": "execute_result"
    }
   ],
   "source": [
    "arr2[:,1] # all rows and first index column"
   ]
  },
  {
   "cell_type": "code",
   "execution_count": 28,
   "id": "1a656646",
   "metadata": {},
   "outputs": [
    {
     "data": {
      "text/plain": [
       "array([4, 5])"
      ]
     },
     "execution_count": 28,
     "metadata": {},
     "output_type": "execute_result"
    }
   ],
   "source": [
    "arr2[1,:2] # first index row and 0 and 1 index column"
   ]
  },
  {
   "cell_type": "code",
   "execution_count": 32,
   "id": "ce0efc4e",
   "metadata": {},
   "outputs": [
    {
     "data": {
      "text/plain": [
       "array([2, 3])"
      ]
     },
     "execution_count": 32,
     "metadata": {},
     "output_type": "execute_result"
    }
   ],
   "source": [
    "arr2[-2,-3:-1]"
   ]
  },
  {
   "cell_type": "code",
   "execution_count": 33,
   "id": "d701559d",
   "metadata": {},
   "outputs": [
    {
     "data": {
      "text/plain": [
       "array([3, 2])"
      ]
     },
     "execution_count": 33,
     "metadata": {},
     "output_type": "execute_result"
    }
   ],
   "source": [
    "arr2[-2,-2::-1]"
   ]
  },
  {
   "cell_type": "code",
   "execution_count": 29,
   "id": "eaa2b58e",
   "metadata": {},
   "outputs": [
    {
     "data": {
      "text/plain": [
       "array([5, 6])"
      ]
     },
     "execution_count": 29,
     "metadata": {},
     "output_type": "execute_result"
    }
   ],
   "source": [
    "arr2[1,1:] # first index row and 1 and 2 index column"
   ]
  },
  {
   "cell_type": "code",
   "execution_count": 34,
   "id": "6fa7a0fc",
   "metadata": {},
   "outputs": [
    {
     "data": {
      "text/plain": [
       "array([[  4,   5,   6],\n",
       "       [  7,   8,   9],\n",
       "       [ 10,  20,  30],\n",
       "       [ 11,  22,  33],\n",
       "       [ 41,  52,  63],\n",
       "       [741, 852, 963]])"
      ]
     },
     "execution_count": 34,
     "metadata": {},
     "output_type": "execute_result"
    }
   ],
   "source": [
    "arr2 = np.array([[4,5,6],[7,8,9],[10,20,30],[11,22,33],[41,52,63],[741,852,963]])\n",
    "arr2"
   ]
  },
  {
   "cell_type": "code",
   "execution_count": 37,
   "id": "d5688cdb",
   "metadata": {},
   "outputs": [
    {
     "data": {
      "text/plain": [
       "array([[4, 5],\n",
       "       [7, 8]])"
      ]
     },
     "execution_count": 37,
     "metadata": {},
     "output_type": "execute_result"
    }
   ],
   "source": [
    "arr2[:2,:2]"
   ]
  },
  {
   "cell_type": "code",
   "execution_count": 35,
   "id": "138c1b47",
   "metadata": {},
   "outputs": [
    {
     "data": {
      "text/plain": [
       "[1, 2]"
      ]
     },
     "execution_count": 35,
     "metadata": {},
     "output_type": "execute_result"
    }
   ],
   "source": [
    "l1=[1,2,3,4,5]\n",
    "l1[:2]"
   ]
  },
  {
   "cell_type": "code",
   "execution_count": 40,
   "id": "3b6c4bdc",
   "metadata": {},
   "outputs": [
    {
     "data": {
      "text/plain": [
       "array([[ 8,  9],\n",
       "       [20, 30]])"
      ]
     },
     "execution_count": 40,
     "metadata": {},
     "output_type": "execute_result"
    }
   ],
   "source": [
    "arr2[1:3,1:]"
   ]
  },
  {
   "cell_type": "code",
   "execution_count": 44,
   "id": "f87d4d6b",
   "metadata": {},
   "outputs": [
    {
     "data": {
      "text/plain": [
       "array([[ 11,  22],\n",
       "       [ 41,  52],\n",
       "       [741, 852]])"
      ]
     },
     "execution_count": 44,
     "metadata": {},
     "output_type": "execute_result"
    }
   ],
   "source": [
    "arr2[3:,:2]"
   ]
  },
  {
   "cell_type": "code",
   "execution_count": 45,
   "id": "9c3f507b",
   "metadata": {},
   "outputs": [
    {
     "data": {
      "text/plain": [
       "array([[[  4,   5,   6],\n",
       "        [  7,   8,   9],\n",
       "        [ 10,  20,  30]],\n",
       "\n",
       "       [[ 11,  22,  33],\n",
       "        [ 41,  52,  63],\n",
       "        [741, 852, 963]]])"
      ]
     },
     "execution_count": 45,
     "metadata": {},
     "output_type": "execute_result"
    }
   ],
   "source": [
    "arr3 = np.array([[[4,5,6],[7,8,9],[10,20,30]],[[11,22,33],[41,52,63],[741,852,963]]])\n",
    "arr3"
   ]
  },
  {
   "cell_type": "code",
   "execution_count": 47,
   "id": "bf14ed69",
   "metadata": {},
   "outputs": [
    {
     "data": {
      "text/plain": [
       "array([[ 11,  22,  33],\n",
       "       [ 41,  52,  63],\n",
       "       [741, 852, 963]])"
      ]
     },
     "execution_count": 47,
     "metadata": {},
     "output_type": "execute_result"
    }
   ],
   "source": [
    "arr3[1]"
   ]
  },
  {
   "cell_type": "code",
   "execution_count": 50,
   "id": "a56cb06d",
   "metadata": {},
   "outputs": [
    {
     "data": {
      "text/plain": [
       "array([[ 7,  8],\n",
       "       [10, 20]])"
      ]
     },
     "execution_count": 50,
     "metadata": {},
     "output_type": "execute_result"
    }
   ],
   "source": [
    "arr3[0,1:,:2]"
   ]
  },
  {
   "cell_type": "code",
   "execution_count": 52,
   "id": "a10cbebe",
   "metadata": {},
   "outputs": [
    {
     "data": {
      "text/plain": [
       "array([[[  7,   8],\n",
       "        [ 10,  20]],\n",
       "\n",
       "       [[ 41,  52],\n",
       "        [741, 852]]])"
      ]
     },
     "execution_count": 52,
     "metadata": {},
     "output_type": "execute_result"
    }
   ],
   "source": [
    "arr3[:,1:,:2]"
   ]
  },
  {
   "cell_type": "code",
   "execution_count": 54,
   "id": "fc3c9c8c",
   "metadata": {},
   "outputs": [
    {
     "data": {
      "text/plain": [
       "63"
      ]
     },
     "execution_count": 54,
     "metadata": {},
     "output_type": "execute_result"
    }
   ],
   "source": [
    "arr3[1,1,2]"
   ]
  },
  {
   "cell_type": "code",
   "execution_count": 55,
   "id": "66b54e87",
   "metadata": {},
   "outputs": [
    {
     "data": {
      "text/plain": [
       "array([[[  4,   5,   6],\n",
       "        [  7,   8,   9],\n",
       "        [ 10,  20,  30]],\n",
       "\n",
       "       [[ 11,  22,  33],\n",
       "        [ 41,  52,  63],\n",
       "        [741, 852, 963]]])"
      ]
     },
     "execution_count": 55,
     "metadata": {},
     "output_type": "execute_result"
    }
   ],
   "source": [
    "arr3"
   ]
  },
  {
   "cell_type": "code",
   "execution_count": 56,
   "id": "fcf2377e",
   "metadata": {},
   "outputs": [
    {
     "data": {
      "text/plain": [
       "array([ 9, 63])"
      ]
     },
     "execution_count": 56,
     "metadata": {},
     "output_type": "execute_result"
    }
   ],
   "source": [
    "arr3[:,1,-1]"
   ]
  },
  {
   "cell_type": "code",
   "execution_count": 59,
   "id": "13d0b931",
   "metadata": {},
   "outputs": [
    {
     "data": {
      "text/plain": [
       "array([ 9, 63])"
      ]
     },
     "execution_count": 59,
     "metadata": {},
     "output_type": "execute_result"
    }
   ],
   "source": [
    "arr3[:,1,2]"
   ]
  },
  {
   "cell_type": "markdown",
   "id": "545c31d9",
   "metadata": {},
   "source": [
    "##  Convert to n-D array"
   ]
  },
  {
   "cell_type": "code",
   "execution_count": 60,
   "id": "357e31d6",
   "metadata": {},
   "outputs": [
    {
     "data": {
      "text/plain": [
       "1"
      ]
     },
     "execution_count": 60,
     "metadata": {},
     "output_type": "execute_result"
    }
   ],
   "source": [
    "arr1 = np.array([1,2,3,4,5])\n",
    "arr1.ndim"
   ]
  },
  {
   "cell_type": "code",
   "execution_count": 63,
   "id": "c0997f16",
   "metadata": {},
   "outputs": [
    {
     "name": "stdout",
     "output_type": "stream",
     "text": [
      "Array is : [[1 2 3 4 5]]\n",
      "Number of Dimensions are: 2\n"
     ]
    }
   ],
   "source": [
    "arr2 = np.array([1,2,3,4,5], ndmin = 2)\n",
    "print('Array is :',arr2)\n",
    "print('Number of Dimensions are:',arr2.ndim)"
   ]
  },
  {
   "cell_type": "code",
   "execution_count": 64,
   "id": "edd0cf87",
   "metadata": {},
   "outputs": [
    {
     "name": "stdout",
     "output_type": "stream",
     "text": [
      "Array is : [[[1 2 3 4 5]]]\n",
      "Number of Dimensions are: 3\n"
     ]
    }
   ],
   "source": [
    "arr2 = np.array([1,2,3,4,5], ndmin = 3)\n",
    "print('Array is :',arr2)\n",
    "print('Number of Dimensions are:',arr2.ndim)"
   ]
  },
  {
   "cell_type": "code",
   "execution_count": 65,
   "id": "f7bca718",
   "metadata": {},
   "outputs": [
    {
     "name": "stdout",
     "output_type": "stream",
     "text": [
      "Array is : [[[[1 2 3 4 5]]]]\n",
      "Number of Dimensions are: 4\n"
     ]
    }
   ],
   "source": [
    "arr2 = np.array([1,2,3,4,5], ndmin = 4)\n",
    "print('Array is :',arr2)\n",
    "print('Number of Dimensions are:',arr2.ndim)"
   ]
  },
  {
   "cell_type": "code",
   "execution_count": 70,
   "id": "7949f76c",
   "metadata": {},
   "outputs": [
    {
     "name": "stdout",
     "output_type": "stream",
     "text": [
      "Array is :\n",
      " [[[[1 2]\n",
      "   [3 4]]]]\n",
      "Number of Dimensions are: 4\n"
     ]
    }
   ],
   "source": [
    "arr2 = np.array([[1,2],[3,4]] ,ndmin = 4)\n",
    "print('Array is :\\n',arr2)\n",
    "print('Number of Dimensions are:',arr2.ndim)"
   ]
  },
  {
   "cell_type": "code",
   "execution_count": 69,
   "id": "27e36691",
   "metadata": {},
   "outputs": [
    {
     "name": "stdout",
     "output_type": "stream",
     "text": [
      "Array is :\n",
      " [[1 2]\n",
      " [3 4]]\n",
      "Number of Dimensions are: 2\n"
     ]
    }
   ],
   "source": [
    "arr2 = np.array([[1,2],[3,4]] ,ndmin = 2)\n",
    "print('Array is :\\n',arr2)\n",
    "print('Number of Dimensions are:',arr2.ndim)"
   ]
  },
  {
   "cell_type": "code",
   "execution_count": 2,
   "id": "295d71a7",
   "metadata": {},
   "outputs": [
    {
     "name": "stdout",
     "output_type": "stream",
     "text": [
      "Array is :\n",
      " [[1 2]\n",
      " [3 4]]\n",
      "Number of Dimensions are: 2\n"
     ]
    }
   ],
   "source": [
    "import numpy as np\n",
    "arr2 = np.array([[1,2],[3,4]] ,ndmin = 1)\n",
    "print('Array is :\\n',arr2)\n",
    "print('Number of Dimensions are:',arr2.ndim)"
   ]
  },
  {
   "cell_type": "code",
   "execution_count": 74,
   "id": "871cf965",
   "metadata": {},
   "outputs": [
    {
     "name": "stdout",
     "output_type": "stream",
     "text": [
      "Array is : [[[[1 2 3 4 5]]]]\n",
      "Number of Dimensions are: 4\n"
     ]
    },
    {
     "data": {
      "text/plain": [
       "4"
      ]
     },
     "execution_count": 74,
     "metadata": {},
     "output_type": "execute_result"
    }
   ],
   "source": [
    "arr2 = np.array([1,2,3,4,5], ndmin = 4)\n",
    "print('Array is :',arr2)\n",
    "print('Number of Dimensions are:',arr2.ndim)\n",
    "arr2 = np.array(arr2, ndmin = 1)\n",
    "arr2.ndim"
   ]
  },
  {
   "cell_type": "markdown",
   "id": "625a1d20",
   "metadata": {},
   "source": [
    "## Reshape Function"
   ]
  },
  {
   "cell_type": "code",
   "execution_count": 75,
   "id": "11233f08",
   "metadata": {},
   "outputs": [
    {
     "name": "stdout",
     "output_type": "stream",
     "text": [
      "Array is :\n",
      " [ 1  2  3  4  4  5  6  7  8 10 20 30]\n",
      "Number of dimensions are : 1\n",
      "Shape of an array is : (12,)\n"
     ]
    }
   ],
   "source": [
    "arr1 = np.array([1,2,3,4,4,5,6,7,8,10,20,30])\n",
    "print('Array is :\\n',arr1)\n",
    "print('Number of dimensions are :', arr1.ndim)\n",
    "print('Shape of an array is :',arr1.shape)"
   ]
  },
  {
   "cell_type": "code",
   "execution_count": null,
   "id": "5e3465b0",
   "metadata": {},
   "outputs": [],
   "source": [
    "1D shape >> (3,)\n",
    "2D shape >> (3,4)\n",
    "3D shape >> (3,4,5)"
   ]
  },
  {
   "cell_type": "code",
   "execution_count": null,
   "id": "7603e29a",
   "metadata": {},
   "outputs": [],
   "source": [
    "12:\n",
    "1,12\n",
    "2,6\n",
    "3,4\n",
    "4,3\n",
    "6,2\n",
    "12,1"
   ]
  },
  {
   "cell_type": "code",
   "execution_count": 76,
   "id": "10cc183d",
   "metadata": {},
   "outputs": [
    {
     "name": "stdout",
     "output_type": "stream",
     "text": [
      "Array is :\n",
      " [[ 1  2  3  4  4  5  6  7  8 10 20 30]]\n",
      "Number of dimensions are : 2\n",
      "Shape of an array is : (1, 12)\n"
     ]
    }
   ],
   "source": [
    "arr1 = np.array([1,2,3,4,4,5,6,7,8,10,20,30])\n",
    "\n",
    "arr1 = arr1.reshape(1,12)\n",
    "print('Array is :\\n',arr1)\n",
    "print('Number of dimensions are :', arr1.ndim)\n",
    "print('Shape of an array is :',arr1.shape)"
   ]
  },
  {
   "cell_type": "code",
   "execution_count": 77,
   "id": "89ddbc96",
   "metadata": {},
   "outputs": [
    {
     "name": "stdout",
     "output_type": "stream",
     "text": [
      "Array is :\n",
      " [[ 1  2  3  4  4  5]\n",
      " [ 6  7  8 10 20 30]]\n",
      "Number of dimensions are : 2\n",
      "Shape of an array is : (2, 6)\n"
     ]
    }
   ],
   "source": [
    "arr1 = np.array([1,2,3,4,4,5,6,7,8,10,20,30])\n",
    "\n",
    "arr1 = arr1.reshape(2,6)\n",
    "print('Array is :\\n',arr1)\n",
    "print('Number of dimensions are :', arr1.ndim)\n",
    "print('Shape of an array is :',arr1.shape)"
   ]
  },
  {
   "cell_type": "code",
   "execution_count": 78,
   "id": "1090112f",
   "metadata": {},
   "outputs": [
    {
     "ename": "ValueError",
     "evalue": "cannot reshape array of size 12 into shape (3,5)",
     "output_type": "error",
     "traceback": [
      "\u001b[1;31m---------------------------------------------------------------------------\u001b[0m",
      "\u001b[1;31mValueError\u001b[0m                                Traceback (most recent call last)",
      "\u001b[1;32m<ipython-input-78-c0cfc4d404a5>\u001b[0m in \u001b[0;36m<module>\u001b[1;34m\u001b[0m\n\u001b[0;32m      1\u001b[0m \u001b[0marr1\u001b[0m \u001b[1;33m=\u001b[0m \u001b[0mnp\u001b[0m\u001b[1;33m.\u001b[0m\u001b[0marray\u001b[0m\u001b[1;33m(\u001b[0m\u001b[1;33m[\u001b[0m\u001b[1;36m1\u001b[0m\u001b[1;33m,\u001b[0m\u001b[1;36m2\u001b[0m\u001b[1;33m,\u001b[0m\u001b[1;36m3\u001b[0m\u001b[1;33m,\u001b[0m\u001b[1;36m4\u001b[0m\u001b[1;33m,\u001b[0m\u001b[1;36m4\u001b[0m\u001b[1;33m,\u001b[0m\u001b[1;36m5\u001b[0m\u001b[1;33m,\u001b[0m\u001b[1;36m6\u001b[0m\u001b[1;33m,\u001b[0m\u001b[1;36m7\u001b[0m\u001b[1;33m,\u001b[0m\u001b[1;36m8\u001b[0m\u001b[1;33m,\u001b[0m\u001b[1;36m10\u001b[0m\u001b[1;33m,\u001b[0m\u001b[1;36m20\u001b[0m\u001b[1;33m,\u001b[0m\u001b[1;36m30\u001b[0m\u001b[1;33m]\u001b[0m\u001b[1;33m)\u001b[0m\u001b[1;33m\u001b[0m\u001b[1;33m\u001b[0m\u001b[0m\n\u001b[0;32m      2\u001b[0m \u001b[1;33m\u001b[0m\u001b[0m\n\u001b[1;32m----> 3\u001b[1;33m \u001b[0marr1\u001b[0m \u001b[1;33m=\u001b[0m \u001b[0marr1\u001b[0m\u001b[1;33m.\u001b[0m\u001b[0mreshape\u001b[0m\u001b[1;33m(\u001b[0m\u001b[1;36m3\u001b[0m\u001b[1;33m,\u001b[0m\u001b[1;36m5\u001b[0m\u001b[1;33m)\u001b[0m\u001b[1;33m\u001b[0m\u001b[1;33m\u001b[0m\u001b[0m\n\u001b[0m\u001b[0;32m      4\u001b[0m \u001b[0mprint\u001b[0m\u001b[1;33m(\u001b[0m\u001b[1;34m'Array is :\\n'\u001b[0m\u001b[1;33m,\u001b[0m\u001b[0marr1\u001b[0m\u001b[1;33m)\u001b[0m\u001b[1;33m\u001b[0m\u001b[1;33m\u001b[0m\u001b[0m\n\u001b[0;32m      5\u001b[0m \u001b[0mprint\u001b[0m\u001b[1;33m(\u001b[0m\u001b[1;34m'Number of dimensions are :'\u001b[0m\u001b[1;33m,\u001b[0m \u001b[0marr1\u001b[0m\u001b[1;33m.\u001b[0m\u001b[0mndim\u001b[0m\u001b[1;33m)\u001b[0m\u001b[1;33m\u001b[0m\u001b[1;33m\u001b[0m\u001b[0m\n",
      "\u001b[1;31mValueError\u001b[0m: cannot reshape array of size 12 into shape (3,5)"
     ]
    }
   ],
   "source": [
    "arr1 = np.array([1,2,3,4,4,5,6,7,8,10,20,30])\n",
    "\n",
    "arr1 = arr1.reshape(3,5)\n",
    "print('Array is :\\n',arr1)\n",
    "print('Number of dimensions are :', arr1.ndim)\n",
    "print('Shape of an array is :',arr1.shape)"
   ]
  },
  {
   "cell_type": "code",
   "execution_count": 79,
   "id": "dbf06f0c",
   "metadata": {},
   "outputs": [
    {
     "name": "stdout",
     "output_type": "stream",
     "text": [
      "Array is :\n",
      " [[ 1  2  3  4]\n",
      " [ 4  5  6  7]\n",
      " [ 8 10 20 30]]\n",
      "Number of dimensions are : 2\n",
      "Shape of an array is : (3, 4)\n"
     ]
    }
   ],
   "source": [
    "arr1 = np.array([1,2,3,4,4,5,6,7,8,10,20,30])\n",
    "\n",
    "arr1 = arr1.reshape(3,4)\n",
    "print('Array is :\\n',arr1)\n",
    "print('Number of dimensions are :', arr1.ndim)\n",
    "print('Shape of an array is :',arr1.shape)"
   ]
  },
  {
   "cell_type": "code",
   "execution_count": 80,
   "id": "f9576718",
   "metadata": {},
   "outputs": [
    {
     "name": "stdout",
     "output_type": "stream",
     "text": [
      "Array is :\n",
      " [[ 1  2  3]\n",
      " [ 4  4  5]\n",
      " [ 6  7  8]\n",
      " [10 20 30]]\n",
      "Number of dimensions are : 2\n",
      "Shape of an array is : (4, 3)\n"
     ]
    }
   ],
   "source": [
    "arr1 = np.array([1,2,3,4,4,5,6,7,8,10,20,30])\n",
    "\n",
    "arr1 = arr1.reshape(4,3)\n",
    "print('Array is :\\n',arr1)\n",
    "print('Number of dimensions are :', arr1.ndim)\n",
    "print('Shape of an array is :',arr1.shape)"
   ]
  },
  {
   "cell_type": "code",
   "execution_count": 81,
   "id": "78213438",
   "metadata": {},
   "outputs": [
    {
     "name": "stdout",
     "output_type": "stream",
     "text": [
      "Array is :\n",
      " [[ 1  2]\n",
      " [ 3  4]\n",
      " [ 4  5]\n",
      " [ 6  7]\n",
      " [ 8 10]\n",
      " [20 30]]\n",
      "Number of dimensions are : 2\n",
      "Shape of an array is : (6, 2)\n"
     ]
    }
   ],
   "source": [
    "arr1 = np.array([1,2,3,4,4,5,6,7,8,10,20,30])\n",
    "\n",
    "arr1 = arr1.reshape(6,2)\n",
    "print('Array is :\\n',arr1)\n",
    "print('Number of dimensions are :', arr1.ndim)\n",
    "print('Shape of an array is :',arr1.shape)"
   ]
  },
  {
   "cell_type": "code",
   "execution_count": 82,
   "id": "04339ae7",
   "metadata": {},
   "outputs": [
    {
     "ename": "ValueError",
     "evalue": "cannot reshape array of size 11 into shape (6,2)",
     "output_type": "error",
     "traceback": [
      "\u001b[1;31m---------------------------------------------------------------------------\u001b[0m",
      "\u001b[1;31mValueError\u001b[0m                                Traceback (most recent call last)",
      "\u001b[1;32m<ipython-input-82-85b3b762d1db>\u001b[0m in \u001b[0;36m<module>\u001b[1;34m\u001b[0m\n\u001b[0;32m      1\u001b[0m \u001b[0marr1\u001b[0m \u001b[1;33m=\u001b[0m \u001b[0mnp\u001b[0m\u001b[1;33m.\u001b[0m\u001b[0marray\u001b[0m\u001b[1;33m(\u001b[0m\u001b[1;33m[\u001b[0m\u001b[1;36m1\u001b[0m\u001b[1;33m,\u001b[0m\u001b[1;36m2\u001b[0m\u001b[1;33m,\u001b[0m\u001b[1;36m3\u001b[0m\u001b[1;33m,\u001b[0m\u001b[1;36m4\u001b[0m\u001b[1;33m,\u001b[0m\u001b[1;36m4\u001b[0m\u001b[1;33m,\u001b[0m\u001b[1;36m5\u001b[0m\u001b[1;33m,\u001b[0m\u001b[1;36m6\u001b[0m\u001b[1;33m,\u001b[0m\u001b[1;36m7\u001b[0m\u001b[1;33m,\u001b[0m\u001b[1;36m8\u001b[0m\u001b[1;33m,\u001b[0m\u001b[1;36m10\u001b[0m\u001b[1;33m,\u001b[0m\u001b[1;36m20\u001b[0m\u001b[1;33m]\u001b[0m\u001b[1;33m)\u001b[0m\u001b[1;33m\u001b[0m\u001b[1;33m\u001b[0m\u001b[0m\n\u001b[0;32m      2\u001b[0m \u001b[1;33m\u001b[0m\u001b[0m\n\u001b[1;32m----> 3\u001b[1;33m \u001b[0marr1\u001b[0m \u001b[1;33m=\u001b[0m \u001b[0marr1\u001b[0m\u001b[1;33m.\u001b[0m\u001b[0mreshape\u001b[0m\u001b[1;33m(\u001b[0m\u001b[1;36m6\u001b[0m\u001b[1;33m,\u001b[0m\u001b[1;36m2\u001b[0m\u001b[1;33m)\u001b[0m\u001b[1;33m\u001b[0m\u001b[1;33m\u001b[0m\u001b[0m\n\u001b[0m\u001b[0;32m      4\u001b[0m \u001b[0mprint\u001b[0m\u001b[1;33m(\u001b[0m\u001b[1;34m'Array is :\\n'\u001b[0m\u001b[1;33m,\u001b[0m\u001b[0marr1\u001b[0m\u001b[1;33m)\u001b[0m\u001b[1;33m\u001b[0m\u001b[1;33m\u001b[0m\u001b[0m\n\u001b[0;32m      5\u001b[0m \u001b[0mprint\u001b[0m\u001b[1;33m(\u001b[0m\u001b[1;34m'Number of dimensions are :'\u001b[0m\u001b[1;33m,\u001b[0m \u001b[0marr1\u001b[0m\u001b[1;33m.\u001b[0m\u001b[0mndim\u001b[0m\u001b[1;33m)\u001b[0m\u001b[1;33m\u001b[0m\u001b[1;33m\u001b[0m\u001b[0m\n",
      "\u001b[1;31mValueError\u001b[0m: cannot reshape array of size 11 into shape (6,2)"
     ]
    }
   ],
   "source": [
    "arr1 = np.array([1,2,3,4,4,5,6,7,8,10,20])\n",
    "\n",
    "arr1 = arr1.reshape(6,2)\n",
    "print('Array is :\\n',arr1)\n",
    "print('Number of dimensions are :', arr1.ndim)\n",
    "print('Shape of an array is :',arr1.shape)"
   ]
  },
  {
   "cell_type": "code",
   "execution_count": 83,
   "id": "c5f18fb8",
   "metadata": {},
   "outputs": [
    {
     "name": "stdout",
     "output_type": "stream",
     "text": [
      "Array is :\n",
      " [[ 1]\n",
      " [ 2]\n",
      " [ 3]\n",
      " [ 4]\n",
      " [ 4]\n",
      " [ 5]\n",
      " [ 6]\n",
      " [ 7]\n",
      " [ 8]\n",
      " [10]\n",
      " [20]\n",
      " [30]]\n",
      "Number of dimensions are : 2\n",
      "Shape of an array is : (12, 1)\n"
     ]
    }
   ],
   "source": [
    "arr1 = np.array([1,2,3,4,4,5,6,7,8,10,20,30])\n",
    "\n",
    "arr1 = arr1.reshape(12,1)\n",
    "print('Array is :\\n',arr1)\n",
    "print('Number of dimensions are :', arr1.ndim)\n",
    "print('Shape of an array is :',arr1.shape)"
   ]
  },
  {
   "cell_type": "code",
   "execution_count": null,
   "id": "811f030b",
   "metadata": {},
   "outputs": [],
   "source": [
    "1,1,12\n",
    "1,2,6\n",
    "2,2,3\n",
    "1,3,4"
   ]
  },
  {
   "cell_type": "code",
   "execution_count": 84,
   "id": "186d0fb4",
   "metadata": {},
   "outputs": [
    {
     "name": "stdout",
     "output_type": "stream",
     "text": [
      "Array is :\n",
      " [[[ 1  2  3  4  4  5  6  7  8 10 20 30]]]\n",
      "Number of dimensions are : 3\n",
      "Shape of an array is : (1, 1, 12)\n"
     ]
    }
   ],
   "source": [
    "arr1 = np.array([1,2,3,4,4,5,6,7,8,10,20,30])\n",
    "\n",
    "arr1 = arr1.reshape(1,1,12)\n",
    "print('Array is :\\n',arr1)\n",
    "print('Number of dimensions are :', arr1.ndim)\n",
    "print('Shape of an array is :',arr1.shape)"
   ]
  },
  {
   "cell_type": "code",
   "execution_count": 85,
   "id": "78b99668",
   "metadata": {},
   "outputs": [
    {
     "name": "stdout",
     "output_type": "stream",
     "text": [
      "Array is :\n",
      " [[[ 1  2  3  4  4  5]\n",
      "  [ 6  7  8 10 20 30]]]\n",
      "Number of dimensions are : 3\n",
      "Shape of an array is : (1, 2, 6)\n"
     ]
    }
   ],
   "source": [
    "arr1 = np.array([1,2,3,4,4,5,6,7,8,10,20,30])\n",
    "\n",
    "arr1 = arr1.reshape(1,2,6)\n",
    "print('Array is :\\n',arr1)\n",
    "print('Number of dimensions are :', arr1.ndim)\n",
    "print('Shape of an array is :',arr1.shape)"
   ]
  },
  {
   "cell_type": "code",
   "execution_count": 86,
   "id": "00421946",
   "metadata": {},
   "outputs": [
    {
     "name": "stdout",
     "output_type": "stream",
     "text": [
      "Array is :\n",
      " [[[ 1  2  3]\n",
      "  [ 4  4  5]]\n",
      "\n",
      " [[ 6  7  8]\n",
      "  [10 20 30]]]\n",
      "Number of dimensions are : 3\n",
      "Shape of an array is : (2, 2, 3)\n"
     ]
    }
   ],
   "source": [
    "arr1 = np.array([1,2,3,4,4,5,6,7,8,10,20,30])\n",
    "\n",
    "arr1 = arr1.reshape(2,2,3)\n",
    "print('Array is :\\n',arr1)\n",
    "print('Number of dimensions are :', arr1.ndim)\n",
    "print('Shape of an array is :',arr1.shape)"
   ]
  },
  {
   "cell_type": "code",
   "execution_count": 87,
   "id": "5c0a613f",
   "metadata": {},
   "outputs": [
    {
     "name": "stdout",
     "output_type": "stream",
     "text": [
      "Array is :\n",
      " [[[ 1  2]\n",
      "  [ 3  4]]\n",
      "\n",
      " [[ 4  5]\n",
      "  [ 6  7]]\n",
      "\n",
      " [[ 8 10]\n",
      "  [20 30]]]\n",
      "Number of dimensions are : 3\n",
      "Shape of an array is : (3, 2, 2)\n"
     ]
    }
   ],
   "source": [
    "arr1 = np.array([1,2,3,4,4,5,6,7,8,10,20,30])\n",
    "\n",
    "arr1 = arr1.reshape(3,2,2)\n",
    "print('Array is :\\n',arr1)\n",
    "print('Number of dimensions are :', arr1.ndim)\n",
    "print('Shape of an array is :',arr1.shape)"
   ]
  },
  {
   "cell_type": "code",
   "execution_count": 88,
   "id": "1ab42929",
   "metadata": {},
   "outputs": [
    {
     "name": "stdout",
     "output_type": "stream",
     "text": [
      "Array is :\n",
      " [[ 2  3  4  5]\n",
      " [ 6  7  8  9]\n",
      " [10 20 30 40]]\n",
      "Number of dimensions are : 2\n",
      "Shape of an array is : (3, 4)\n"
     ]
    }
   ],
   "source": [
    "arr2 = np.array([[2,3,4,5],[6,7,8,9],[10,20,30,40]])\n",
    "print('Array is :\\n',arr2)\n",
    "print('Number of dimensions are :', arr2.ndim)\n",
    "print('Shape of an array is :',arr2.shape)"
   ]
  },
  {
   "cell_type": "code",
   "execution_count": 89,
   "id": "b366b1a9",
   "metadata": {},
   "outputs": [
    {
     "name": "stdout",
     "output_type": "stream",
     "text": [
      "Array is :\n",
      " [[[ 2  3]\n",
      "  [ 4  5]\n",
      "  [ 6  7]]\n",
      "\n",
      " [[ 8  9]\n",
      "  [10 20]\n",
      "  [30 40]]]\n",
      "Number of dimensions are : 3\n",
      "Shape of an array is : (2, 3, 2)\n"
     ]
    }
   ],
   "source": [
    "arr2 = np.array([[2,3,4,5],[6,7,8,9],[10,20,30,40]])\n",
    "\n",
    "arr2 = arr2.reshape(2,3,2)\n",
    "print('Array is :\\n',arr2)\n",
    "print('Number of dimensions are :', arr2.ndim)\n",
    "print('Shape of an array is :',arr2.shape)"
   ]
  },
  {
   "cell_type": "code",
   "execution_count": 90,
   "id": "0596ca99",
   "metadata": {},
   "outputs": [
    {
     "name": "stdout",
     "output_type": "stream",
     "text": [
      "Array is :\n",
      " [ 2  3  4  5  6  7  8  9 10 20 30 40]\n",
      "Number of dimensions are : 1\n",
      "Shape of an array is : (12,)\n"
     ]
    }
   ],
   "source": [
    "arr2 = np.array([[2,3,4,5],[6,7,8,9],[10,20,30,40]])\n",
    "\n",
    "arr2 = arr2.reshape(12)\n",
    "print('Array is :\\n',arr2)\n",
    "print('Number of dimensions are :', arr2.ndim)\n",
    "print('Shape of an array is :',arr2.shape)"
   ]
  },
  {
   "cell_type": "code",
   "execution_count": 91,
   "id": "8b08ea3c",
   "metadata": {},
   "outputs": [
    {
     "name": "stdout",
     "output_type": "stream",
     "text": [
      "[2, 3, 4, 5, 6, 7, 8, 9, 10, 20, 30, 40] <class 'list'>\n"
     ]
    }
   ],
   "source": [
    "l1 = list(arr2)\n",
    "print(l1,type(l1))"
   ]
  },
  {
   "cell_type": "code",
   "execution_count": 92,
   "id": "c6b0d70d",
   "metadata": {},
   "outputs": [
    {
     "name": "stdout",
     "output_type": "stream",
     "text": [
      "[2, 3, 4, 5, 6, 7, 8, 9, 10, 20, 30, 40] <class 'list'>\n"
     ]
    }
   ],
   "source": [
    "l2 = arr2.tolist()\n",
    "print(l2,type(l2))"
   ]
  },
  {
   "cell_type": "code",
   "execution_count": 93,
   "id": "e4c32df8",
   "metadata": {},
   "outputs": [
    {
     "data": {
      "text/plain": [
       "[[2, 3, 4, 5], [6, 7, 8, 9], [10, 20, 30, 40]]"
      ]
     },
     "execution_count": 93,
     "metadata": {},
     "output_type": "execute_result"
    }
   ],
   "source": [
    "arr2 = np.array([[2,3,4,5],[6,7,8,9],[10,20,30,40]])\n",
    "list2= arr2.tolist()\n",
    "list2 # creates nested list"
   ]
  },
  {
   "cell_type": "code",
   "execution_count": null,
   "id": "dbd61bb2",
   "metadata": {},
   "outputs": [],
   "source": []
  },
  {
   "cell_type": "code",
   "execution_count": null,
   "id": "47607180",
   "metadata": {},
   "outputs": [],
   "source": []
  },
  {
   "cell_type": "code",
   "execution_count": null,
   "id": "a09ad20f",
   "metadata": {},
   "outputs": [],
   "source": []
  },
  {
   "cell_type": "code",
   "execution_count": null,
   "id": "36e8f36b",
   "metadata": {},
   "outputs": [],
   "source": []
  },
  {
   "cell_type": "code",
   "execution_count": null,
   "id": "d8610161",
   "metadata": {},
   "outputs": [],
   "source": []
  },
  {
   "cell_type": "code",
   "execution_count": null,
   "id": "156282f8",
   "metadata": {},
   "outputs": [],
   "source": []
  },
  {
   "cell_type": "code",
   "execution_count": null,
   "id": "33ca83b3",
   "metadata": {},
   "outputs": [],
   "source": []
  },
  {
   "cell_type": "code",
   "execution_count": null,
   "id": "5b614fc7",
   "metadata": {},
   "outputs": [],
   "source": []
  },
  {
   "cell_type": "code",
   "execution_count": null,
   "id": "5a7ab685",
   "metadata": {},
   "outputs": [],
   "source": []
  }
 ],
 "metadata": {
  "kernelspec": {
   "display_name": "Python 3 (ipykernel)",
   "language": "python",
   "name": "python3"
  },
  "language_info": {
   "codemirror_mode": {
    "name": "ipython",
    "version": 3
   },
   "file_extension": ".py",
   "mimetype": "text/x-python",
   "name": "python",
   "nbconvert_exporter": "python",
   "pygments_lexer": "ipython3",
   "version": "3.9.7"
  }
 },
 "nbformat": 4,
 "nbformat_minor": 5
}
