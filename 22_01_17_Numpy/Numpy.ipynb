{
 "cells": [
  {
   "cell_type": "markdown",
   "id": "d5c82e85",
   "metadata": {},
   "source": [
    "## Numpy"
   ]
  },
  {
   "cell_type": "code",
   "execution_count": null,
   "id": "368084b8",
   "metadata": {},
   "outputs": [],
   "source": [
    "Numpy >> Numerical Python"
   ]
  },
  {
   "cell_type": "code",
   "execution_count": null,
   "id": "21f6808a",
   "metadata": {},
   "outputs": [],
   "source": [
    "Application:\n",
    "    1. Linear Algebra\n",
    "    2. Statistics(mean,mode,median,std,var)\n",
    "    3. Probability\n",
    "    4. Image Processing\n",
    "    5. Trigonometry (sin, cos, tan)etc.\n",
    "    6. Random Number Generation\n",
    "    7. Logarithmic"
   ]
  },
  {
   "cell_type": "code",
   "execution_count": null,
   "id": "b18fe96b",
   "metadata": {},
   "outputs": [],
   "source": [
    "It is collection of Homogenous data types\n",
    "ndarray >> n dimentional array( 0D, 1D, 2D ,nd)\n",
    "Numpy array is faster than list\n",
    "Array can be created using list and tuple\n",
    "Numpy is written in Python ,C and C++\n"
   ]
  },
  {
   "cell_type": "code",
   "execution_count": 5,
   "id": "9f1d9075",
   "metadata": {},
   "outputs": [],
   "source": [
    "import numpy as np"
   ]
  },
  {
   "cell_type": "code",
   "execution_count": 2,
   "id": "69357cdd",
   "metadata": {},
   "outputs": [
    {
     "name": "stdout",
     "output_type": "stream",
     "text": [
      "<class 'numpy.ndarray'>\n"
     ]
    },
    {
     "data": {
      "text/plain": [
       "array([1, 2, 3, 4])"
      ]
     },
     "execution_count": 2,
     "metadata": {},
     "output_type": "execute_result"
    }
   ],
   "source": [
    "# np.array(list,tuple)\n",
    "\n",
    "arr1 = np.array([1,2,3,4]) # List\n",
    "print(type(arr1))\n",
    "arr1"
   ]
  },
  {
   "cell_type": "code",
   "execution_count": 3,
   "id": "247e4247",
   "metadata": {},
   "outputs": [
    {
     "data": {
      "text/plain": [
       "(array([2, 2, 3, 5]), numpy.ndarray)"
      ]
     },
     "execution_count": 3,
     "metadata": {},
     "output_type": "execute_result"
    }
   ],
   "source": [
    "arr2 = np.array((2,2,3,5)) # TUple\n",
    "arr2 ,type(arr2)"
   ]
  },
  {
   "cell_type": "code",
   "execution_count": 7,
   "id": "730fd810",
   "metadata": {},
   "outputs": [
    {
     "data": {
      "text/plain": [
       "array([3, 4, 5, 6, 7])"
      ]
     },
     "execution_count": 7,
     "metadata": {},
     "output_type": "execute_result"
    }
   ],
   "source": [
    "l1 = [3,4,5,6,7]\n",
    "array = np.array(l1)\n",
    "array"
   ]
  },
  {
   "cell_type": "code",
   "execution_count": 6,
   "id": "29197e9a",
   "metadata": {},
   "outputs": [
    {
     "data": {
      "text/plain": [
       "array(['1', '1.5', 'g'], dtype='<U32')"
      ]
     },
     "execution_count": 6,
     "metadata": {},
     "output_type": "execute_result"
    }
   ],
   "source": [
    "l = (1,1.5,'g')\n",
    "l = np.array(l)\n",
    "l"
   ]
  },
  {
   "cell_type": "code",
   "execution_count": 9,
   "id": "082a2d0e",
   "metadata": {},
   "outputs": [
    {
     "data": {
      "text/plain": [
       "array([3. , 4.1, 5.2, 6.3, 7. ])"
      ]
     },
     "execution_count": 9,
     "metadata": {},
     "output_type": "execute_result"
    }
   ],
   "source": [
    "l1 = [3.0,4.1,5.2,6.3,7]\n",
    "array = np.array(l1)\n",
    "array"
   ]
  },
  {
   "cell_type": "code",
   "execution_count": 10,
   "id": "8aa86b69",
   "metadata": {},
   "outputs": [
    {
     "data": {
      "text/plain": [
       "array([3. , 4. , 5.2, 6. , 7. ])"
      ]
     },
     "execution_count": 10,
     "metadata": {},
     "output_type": "execute_result"
    }
   ],
   "source": [
    "l1 = [3,4,5.2,6,7]\n",
    "array = np.array(l1)\n",
    "array"
   ]
  },
  {
   "cell_type": "code",
   "execution_count": 11,
   "id": "5ea86568",
   "metadata": {},
   "outputs": [
    {
     "data": {
      "text/plain": [
       "array([3. +0.j, 4. +0.j, 5.2+0.j, 6. +0.j, 7. +5.j])"
      ]
     },
     "execution_count": 11,
     "metadata": {},
     "output_type": "execute_result"
    }
   ],
   "source": [
    "l1 = [3,4,5.2,6,7+5j]\n",
    "array = np.array(l1)\n",
    "array"
   ]
  },
  {
   "cell_type": "code",
   "execution_count": 12,
   "id": "bf62f512",
   "metadata": {},
   "outputs": [
    {
     "data": {
      "text/plain": [
       "array(['3', '4', '5.2', '6', 'a'], dtype='<U32')"
      ]
     },
     "execution_count": 12,
     "metadata": {},
     "output_type": "execute_result"
    }
   ],
   "source": [
    "l1 = [3,4,5.2,6,'a']\n",
    "array = np.array(l1)\n",
    "array"
   ]
  },
  {
   "cell_type": "code",
   "execution_count": 4,
   "id": "14e2ae80",
   "metadata": {},
   "outputs": [
    {
     "data": {
      "text/plain": [
       "array(['3', '4', '52', '6', 'a'], dtype='<U11')"
      ]
     },
     "execution_count": 4,
     "metadata": {},
     "output_type": "execute_result"
    }
   ],
   "source": [
    "l1 = [3,4,52,6,'a']\n",
    "array = np.array(l1)\n",
    "array"
   ]
  },
  {
   "cell_type": "markdown",
   "id": "a96710f3",
   "metadata": {},
   "source": [
    "## Change the data types"
   ]
  },
  {
   "cell_type": "code",
   "execution_count": 14,
   "id": "3db148cc",
   "metadata": {},
   "outputs": [
    {
     "data": {
      "text/plain": [
       "array([3, 4, 5, 6])"
      ]
     },
     "execution_count": 14,
     "metadata": {},
     "output_type": "execute_result"
    }
   ],
   "source": [
    "array = np.array([3,4,5,6], dtype = 'int')\n",
    "array"
   ]
  },
  {
   "cell_type": "code",
   "execution_count": 15,
   "id": "450a19c7",
   "metadata": {},
   "outputs": [
    {
     "data": {
      "text/plain": [
       "array([3., 4., 5., 6.])"
      ]
     },
     "execution_count": 15,
     "metadata": {},
     "output_type": "execute_result"
    }
   ],
   "source": [
    "array = np.array([3,4,5,6], dtype = 'float')\n",
    "array"
   ]
  },
  {
   "cell_type": "code",
   "execution_count": 16,
   "id": "7c0830d0",
   "metadata": {},
   "outputs": [
    {
     "data": {
      "text/plain": [
       "array([3.+0.j, 4.+0.j, 5.+0.j, 6.+0.j])"
      ]
     },
     "execution_count": 16,
     "metadata": {},
     "output_type": "execute_result"
    }
   ],
   "source": [
    "array = np.array([3,4,5,6], dtype = 'complex')\n",
    "array"
   ]
  },
  {
   "cell_type": "code",
   "execution_count": 17,
   "id": "b1ff3bba",
   "metadata": {},
   "outputs": [
    {
     "data": {
      "text/plain": [
       "array([3, 4, 5, 6])"
      ]
     },
     "execution_count": 17,
     "metadata": {},
     "output_type": "execute_result"
    }
   ],
   "source": [
    "array = np.array([3.0,4.1,5.3,6.5], dtype = 'int')\n",
    "array"
   ]
  },
  {
   "cell_type": "code",
   "execution_count": 19,
   "id": "42a69437",
   "metadata": {},
   "outputs": [
    {
     "data": {
      "text/plain": [
       "1.0"
      ]
     },
     "execution_count": 19,
     "metadata": {},
     "output_type": "execute_result"
    }
   ],
   "source": [
    "1."
   ]
  },
  {
   "cell_type": "code",
   "execution_count": 21,
   "id": "893c2c09",
   "metadata": {},
   "outputs": [
    {
     "data": {
      "text/plain": [
       "array([3.+0.j, 4.+0.j, 5.+0.j, 6.+7.j])"
      ]
     },
     "execution_count": 21,
     "metadata": {},
     "output_type": "execute_result"
    }
   ],
   "source": [
    "array = np.array([3,4,5,6+7j], dtype = 'complex')\n",
    "array"
   ]
  },
  {
   "cell_type": "code",
   "execution_count": 22,
   "id": "c0c92cf7",
   "metadata": {},
   "outputs": [
    {
     "ename": "TypeError",
     "evalue": "can't convert complex to float",
     "output_type": "error",
     "traceback": [
      "\u001b[1;31m---------------------------------------------------------------------------\u001b[0m",
      "\u001b[1;31mTypeError\u001b[0m                                 Traceback (most recent call last)",
      "\u001b[1;32m<ipython-input-22-47b9ddc01f92>\u001b[0m in \u001b[0;36m<module>\u001b[1;34m\u001b[0m\n\u001b[1;32m----> 1\u001b[1;33m \u001b[0marray\u001b[0m \u001b[1;33m=\u001b[0m \u001b[0mnp\u001b[0m\u001b[1;33m.\u001b[0m\u001b[0marray\u001b[0m\u001b[1;33m(\u001b[0m\u001b[1;33m[\u001b[0m\u001b[1;36m3\u001b[0m\u001b[1;33m,\u001b[0m\u001b[1;36m4\u001b[0m\u001b[1;33m,\u001b[0m\u001b[1;36m5\u001b[0m\u001b[1;33m,\u001b[0m\u001b[1;36m6\u001b[0m\u001b[1;33m+\u001b[0m\u001b[1;36m7j\u001b[0m\u001b[1;33m]\u001b[0m\u001b[1;33m,\u001b[0m \u001b[0mdtype\u001b[0m \u001b[1;33m=\u001b[0m \u001b[1;34m'float'\u001b[0m\u001b[1;33m)\u001b[0m\u001b[1;33m\u001b[0m\u001b[1;33m\u001b[0m\u001b[0m\n\u001b[0m\u001b[0;32m      2\u001b[0m \u001b[0marray\u001b[0m\u001b[1;33m\u001b[0m\u001b[1;33m\u001b[0m\u001b[0m\n",
      "\u001b[1;31mTypeError\u001b[0m: can't convert complex to float"
     ]
    }
   ],
   "source": [
    "array = np.array([3,4,5,6+7j], dtype = 'float')\n",
    "array"
   ]
  },
  {
   "cell_type": "code",
   "execution_count": 23,
   "id": "ff449297",
   "metadata": {},
   "outputs": [
    {
     "ename": "TypeError",
     "evalue": "can't convert complex to int",
     "output_type": "error",
     "traceback": [
      "\u001b[1;31m---------------------------------------------------------------------------\u001b[0m",
      "\u001b[1;31mTypeError\u001b[0m                                 Traceback (most recent call last)",
      "\u001b[1;32m<ipython-input-23-2a549007c5d3>\u001b[0m in \u001b[0;36m<module>\u001b[1;34m\u001b[0m\n\u001b[1;32m----> 1\u001b[1;33m \u001b[0marray\u001b[0m \u001b[1;33m=\u001b[0m \u001b[0mnp\u001b[0m\u001b[1;33m.\u001b[0m\u001b[0marray\u001b[0m\u001b[1;33m(\u001b[0m\u001b[1;33m[\u001b[0m\u001b[1;36m3\u001b[0m\u001b[1;33m,\u001b[0m\u001b[1;36m4\u001b[0m\u001b[1;33m,\u001b[0m\u001b[1;36m5\u001b[0m\u001b[1;33m,\u001b[0m\u001b[1;36m6\u001b[0m\u001b[1;33m+\u001b[0m\u001b[1;36m7j\u001b[0m\u001b[1;33m]\u001b[0m\u001b[1;33m,\u001b[0m \u001b[0mdtype\u001b[0m \u001b[1;33m=\u001b[0m \u001b[1;34m'int'\u001b[0m\u001b[1;33m)\u001b[0m\u001b[1;33m\u001b[0m\u001b[1;33m\u001b[0m\u001b[0m\n\u001b[0m\u001b[0;32m      2\u001b[0m \u001b[0marray\u001b[0m\u001b[1;33m\u001b[0m\u001b[1;33m\u001b[0m\u001b[0m\n",
      "\u001b[1;31mTypeError\u001b[0m: can't convert complex to int"
     ]
    }
   ],
   "source": [
    "array = np.array([3,4,5,6+7j], dtype = 'int')\n",
    "array"
   ]
  },
  {
   "cell_type": "code",
   "execution_count": 25,
   "id": "361a2fdb",
   "metadata": {},
   "outputs": [
    {
     "data": {
      "text/plain": [
       "array(['3', '4', '5.2', 's', '(1+2j)'], dtype='<U64')"
      ]
     },
     "execution_count": 25,
     "metadata": {},
     "output_type": "execute_result"
    }
   ],
   "source": [
    "array = np.array([3,4,5.2,'s',1+2j])\n",
    "array"
   ]
  },
  {
   "cell_type": "code",
   "execution_count": 27,
   "id": "70ecafa9",
   "metadata": {},
   "outputs": [
    {
     "data": {
      "text/plain": [
       "array(['3', '4', '5', '6'], dtype='<U1')"
      ]
     },
     "execution_count": 27,
     "metadata": {},
     "output_type": "execute_result"
    }
   ],
   "source": [
    "array = np.array([3,4,5,6], dtype = 'str')\n",
    "array"
   ]
  },
  {
   "cell_type": "code",
   "execution_count": 28,
   "id": "3b24d61a",
   "metadata": {},
   "outputs": [
    {
     "data": {
      "text/plain": [
       "array([3, 4, 5, 6], dtype=object)"
      ]
     },
     "execution_count": 28,
     "metadata": {},
     "output_type": "execute_result"
    }
   ],
   "source": [
    "array = np.array([3,4,5,6], dtype = 'object')\n",
    "array"
   ]
  },
  {
   "cell_type": "code",
   "execution_count": 29,
   "id": "9a908d6f",
   "metadata": {},
   "outputs": [
    {
     "data": {
      "text/plain": [
       "array([3, 4, 5, (6+4j)], dtype=object)"
      ]
     },
     "execution_count": 29,
     "metadata": {},
     "output_type": "execute_result"
    }
   ],
   "source": [
    "array = np.array([3,4,5,6+4j], dtype = 'object')\n",
    "array"
   ]
  },
  {
   "cell_type": "code",
   "execution_count": null,
   "id": "3ca25f48",
   "metadata": {},
   "outputs": [],
   "source": [
    "int >> float\n",
    "float >> int\n",
    "int >> complex\n",
    "float >> complex \n",
    "int,float,complex >> str/object\n",
    "complex !!>> int\n",
    "complex !!>> float"
   ]
  },
  {
   "cell_type": "markdown",
   "id": "2b4a4195",
   "metadata": {},
   "source": [
    "## Dimensions in Array"
   ]
  },
  {
   "cell_type": "markdown",
   "id": "b990dab4",
   "metadata": {},
   "source": [
    "### 1. 0-D"
   ]
  },
  {
   "cell_type": "code",
   "execution_count": 35,
   "id": "51cd4b4b",
   "metadata": {},
   "outputs": [
    {
     "name": "stdout",
     "output_type": "stream",
     "text": [
      "Number of Dimensions are :  0\n"
     ]
    }
   ],
   "source": [
    "arr0 = np.array(13)\n",
    "arr0.ndim\n",
    "print('Number of Dimensions are : ', arr0.ndim)"
   ]
  },
  {
   "cell_type": "code",
   "execution_count": 36,
   "id": "2d8e51c7",
   "metadata": {},
   "outputs": [
    {
     "name": "stdout",
     "output_type": "stream",
     "text": [
      "Number of Dimensions are :  0\n"
     ]
    }
   ],
   "source": [
    "arr0 = np.array(1.3)\n",
    "arr0.ndim\n",
    "print('Number of Dimensions are : ', arr0.ndim)"
   ]
  },
  {
   "cell_type": "markdown",
   "id": "979af790",
   "metadata": {},
   "source": [
    "### 2. 1-D"
   ]
  },
  {
   "cell_type": "code",
   "execution_count": 37,
   "id": "dc3ae280",
   "metadata": {},
   "outputs": [
    {
     "name": "stdout",
     "output_type": "stream",
     "text": [
      "Number of Dimensions are :  1\n"
     ]
    }
   ],
   "source": [
    "arr1 = np.array([13,2,3,4,5])\n",
    "arr1.ndim\n",
    "print('Number of Dimensions are : ', arr1.ndim)"
   ]
  },
  {
   "cell_type": "code",
   "execution_count": 38,
   "id": "e377ba26",
   "metadata": {},
   "outputs": [
    {
     "name": "stdout",
     "output_type": "stream",
     "text": [
      "Number of Dimensions are :  2\n"
     ]
    }
   ],
   "source": [
    "arr1 = np.array([[13,2,3,4,5]])\n",
    "arr1.ndim\n",
    "print('Number of Dimensions are : ', arr1.ndim)"
   ]
  },
  {
   "cell_type": "code",
   "execution_count": 39,
   "id": "cf28c1e0",
   "metadata": {},
   "outputs": [
    {
     "name": "stdout",
     "output_type": "stream",
     "text": [
      "Number of Dimensions are :  3\n"
     ]
    }
   ],
   "source": [
    "arr1 = np.array([[[13,2,3,4,5]]])\n",
    "arr1.ndim\n",
    "print('Number of Dimensions are : ', arr1.ndim)"
   ]
  },
  {
   "cell_type": "code",
   "execution_count": 41,
   "id": "2280f762",
   "metadata": {},
   "outputs": [
    {
     "name": "stdout",
     "output_type": "stream",
     "text": [
      "Number of Dimensions are :  1\n"
     ]
    }
   ],
   "source": [
    "arr1 = np.array([13])\n",
    "arr1.ndim\n",
    "print('Number of Dimensions are : ', arr1.ndim)"
   ]
  },
  {
   "cell_type": "code",
   "execution_count": 46,
   "id": "240a25f0",
   "metadata": {},
   "outputs": [
    {
     "name": "stdout",
     "output_type": "stream",
     "text": [
      "Array is : [13  4]\n",
      "Number of Dimensions are :  1\n",
      "Shape of an array is : (2,)\n"
     ]
    }
   ],
   "source": [
    "arr1 = np.array([13,4])\n",
    "print('Array is :',arr1)\n",
    "print('Number of Dimensions are : ', arr1.ndim)\n",
    "print('Shape of an array is :', arr1.shape)"
   ]
  },
  {
   "cell_type": "markdown",
   "id": "12572cdc",
   "metadata": {},
   "source": [
    "### 3. 2-D"
   ]
  },
  {
   "cell_type": "code",
   "execution_count": 50,
   "id": "15b27c9a",
   "metadata": {},
   "outputs": [
    {
     "name": "stdout",
     "output_type": "stream",
     "text": [
      "Array is :\n",
      " [[2 3]\n",
      " [4 5]\n",
      " [6 7]]\n",
      "Number of Dimensions are :  2\n",
      "Shape of an array is : (3, 2)\n"
     ]
    }
   ],
   "source": [
    "arr2 = np.array([[2,3],[4,5],[6,7]])\n",
    "print('Array is :\\n',arr2)\n",
    "print('Number of Dimensions are : ', arr2.ndim)\n",
    "print('Shape of an array is :', arr2.shape)"
   ]
  },
  {
   "cell_type": "code",
   "execution_count": 51,
   "id": "37fa32d6",
   "metadata": {},
   "outputs": [
    {
     "name": "stdout",
     "output_type": "stream",
     "text": [
      "Array is :\n",
      " [list([2, 3]) list([4, 5, 6]) list([6, 7])]\n",
      "Number of Dimensions are :  1\n",
      "Shape of an array is : (3,)\n"
     ]
    },
    {
     "name": "stderr",
     "output_type": "stream",
     "text": [
      "<ipython-input-51-b25f86d04d86>:1: VisibleDeprecationWarning: Creating an ndarray from ragged nested sequences (which is a list-or-tuple of lists-or-tuples-or ndarrays with different lengths or shapes) is deprecated. If you meant to do this, you must specify 'dtype=object' when creating the ndarray.\n",
      "  arr2 = np.array([[2,3],[4,5,6],[6,7]])\n"
     ]
    }
   ],
   "source": [
    "arr2 = np.array([[2,3],[4,5,6],[6,7]])\n",
    "print('Array is :\\n',arr2)\n",
    "print('Number of Dimensions are : ', arr2.ndim)\n",
    "print('Shape of an array is :', arr2.shape)"
   ]
  },
  {
   "cell_type": "code",
   "execution_count": 52,
   "id": "90d0e072",
   "metadata": {},
   "outputs": [
    {
     "name": "stdout",
     "output_type": "stream",
     "text": [
      "Array is :\n",
      " [[2 3]]\n",
      "Number of Dimensions are :  2\n",
      "Shape of an array is : (1, 2)\n"
     ]
    }
   ],
   "source": [
    "arr2 = np.array([[2,3]])\n",
    "print('Array is :\\n',arr2)\n",
    "print('Number of Dimensions are : ', arr2.ndim)\n",
    "print('Shape of an array is :', arr2.shape)"
   ]
  },
  {
   "cell_type": "code",
   "execution_count": 53,
   "id": "d950767b",
   "metadata": {},
   "outputs": [
    {
     "name": "stdout",
     "output_type": "stream",
     "text": [
      "Array is :\n",
      " [[2 3]\n",
      " [4 5]]\n",
      "Number of Dimensions are :  2\n",
      "Shape of an array is : (2, 2)\n"
     ]
    }
   ],
   "source": [
    "arr2 = np.array([[2,3],[4,5]])\n",
    "print('Array is :\\n',arr2)\n",
    "print('Number of Dimensions are : ', arr2.ndim)\n",
    "print('Shape of an array is :', arr2.shape)"
   ]
  },
  {
   "cell_type": "code",
   "execution_count": 54,
   "id": "f9698b52",
   "metadata": {},
   "outputs": [
    {
     "name": "stdout",
     "output_type": "stream",
     "text": [
      "Array is :\n",
      " [[2 3 4 5]\n",
      " [3 4 5 6]]\n",
      "Number of Dimensions are :  2\n",
      "Shape of an array is : (2, 4)\n"
     ]
    }
   ],
   "source": [
    "arr2 = np.array([[2,3,4,5],[3,4,5,6]]) # Multiple 1D array\n",
    "print('Array is :\\n',arr2)\n",
    "print('Number of Dimensions are : ', arr2.ndim)\n",
    "print('Shape of an array is :', arr2.shape)"
   ]
  },
  {
   "cell_type": "code",
   "execution_count": 55,
   "id": "26299f78",
   "metadata": {},
   "outputs": [
    {
     "name": "stdout",
     "output_type": "stream",
     "text": [
      "Array is :\n",
      " [[2 3 4 5]\n",
      " [3 4 5 6]\n",
      " [4 5 6 7]\n",
      " [5 6 7 8]]\n",
      "Number of Dimensions are :  2\n",
      "Shape of an array is : (4, 4)\n"
     ]
    }
   ],
   "source": [
    "arr2 = np.array([[2,3,4,5],[3,4,5,6],[4,5,6,7],[5,6,7,8]]) # Multiple 1D array\n",
    "print('Array is :\\n',arr2)\n",
    "print('Number of Dimensions are : ', arr2.ndim)\n",
    "print('Shape of an array is :', arr2.shape)"
   ]
  },
  {
   "cell_type": "code",
   "execution_count": 56,
   "id": "af63fd77",
   "metadata": {},
   "outputs": [
    {
     "name": "stdout",
     "output_type": "stream",
     "text": [
      "Array is :\n",
      " [[2 3 4 5]\n",
      " [3 4 3 list([5, 6])]\n",
      " [4 5 6 7]\n",
      " [5 6 7 8]]\n",
      "Number of Dimensions are :  2\n",
      "Shape of an array is : (4, 4)\n"
     ]
    },
    {
     "name": "stderr",
     "output_type": "stream",
     "text": [
      "<ipython-input-56-8c4e2449406e>:1: VisibleDeprecationWarning: Creating an ndarray from ragged nested sequences (which is a list-or-tuple of lists-or-tuples-or ndarrays with different lengths or shapes) is deprecated. If you meant to do this, you must specify 'dtype=object' when creating the ndarray.\n",
      "  arr2 = np.array([[2,3,4,5],[3,4,3,[5,6]],[4,5,6,7],[5,6,7,8]]) # Multiple 1D array\n"
     ]
    }
   ],
   "source": [
    "arr2 = np.array([[2,3,4,5],[3,4,3,[5,6]],[4,5,6,7],[5,6,7,8]]) # Multiple 1D array\n",
    "print('Array is :\\n',arr2)\n",
    "print('Number of Dimensions are : ', arr2.ndim)\n",
    "print('Shape of an array is :', arr2.shape)"
   ]
  },
  {
   "cell_type": "markdown",
   "id": "06298c3b",
   "metadata": {},
   "source": [
    "### 4. 3-D"
   ]
  },
  {
   "cell_type": "code",
   "execution_count": 58,
   "id": "4cbb80d4",
   "metadata": {},
   "outputs": [
    {
     "name": "stdout",
     "output_type": "stream",
     "text": [
      "Array is :\n",
      " [[[2 3 4 5]]]\n",
      "Number of Dimensions are :  3\n",
      "Shape of an array is : (1, 1, 4)\n"
     ]
    }
   ],
   "source": [
    "arr2 = np.array([[[2,3,4,5]]]) \n",
    "print('Array is :\\n',arr2)\n",
    "print('Number of Dimensions are : ', arr2.ndim)\n",
    "print('Shape of an array is :', arr2.shape)"
   ]
  },
  {
   "cell_type": "code",
   "execution_count": 61,
   "id": "1b887349",
   "metadata": {},
   "outputs": [
    {
     "name": "stdout",
     "output_type": "stream",
     "text": [
      "Array is :\n",
      " [[[2 3]\n",
      "  [4 5]\n",
      "  [5 6]]]\n",
      "Number of Dimensions are :  3\n",
      "Shape of an array is : (1, 3, 2)\n"
     ]
    }
   ],
   "source": [
    "arr2 = np.array([[[2,3],[4,5],[5,6]]]) \n",
    "print('Array is :\\n',arr2)\n",
    "print('Number of Dimensions are : ', arr2.ndim)\n",
    "print('Shape of an array is :', arr2.shape)\n",
    "# 1,3,2\n",
    "# 1 >> number of 2D\n",
    "# 3 >> number of 1D\n",
    "# 2 >> number of 0D"
   ]
  },
  {
   "cell_type": "code",
   "execution_count": 67,
   "id": "96fa7f6a",
   "metadata": {},
   "outputs": [],
   "source": [
    "l1 = [[[2,3],[5,6],[3,4]],[[11,22],[22,33],[33,44]],[[111,222],[222,333],[444,555]]]"
   ]
  },
  {
   "cell_type": "code",
   "execution_count": 68,
   "id": "9e0e9ef4",
   "metadata": {},
   "outputs": [
    {
     "name": "stdout",
     "output_type": "stream",
     "text": [
      "Array is :\n",
      " [[[  2   3]\n",
      "  [  5   6]\n",
      "  [  3   4]]\n",
      "\n",
      " [[ 11  22]\n",
      "  [ 22  33]\n",
      "  [ 33  44]]\n",
      "\n",
      " [[111 222]\n",
      "  [222 333]\n",
      "  [444 555]]]\n",
      "Number of Dimensions are :  3\n",
      "Shape of an array is : (3, 3, 2)\n"
     ]
    }
   ],
   "source": [
    "arr2 = np.array(l1) \n",
    "print('Array is :\\n',arr2)\n",
    "print('Number of Dimensions are : ', arr2.ndim)\n",
    "print('Shape of an array is :', arr2.shape)\n"
   ]
  },
  {
   "cell_type": "markdown",
   "id": "fd9aace8",
   "metadata": {},
   "source": [
    "### 5. 4-D"
   ]
  },
  {
   "cell_type": "code",
   "execution_count": 69,
   "id": "c1830e08",
   "metadata": {},
   "outputs": [
    {
     "name": "stdout",
     "output_type": "stream",
     "text": [
      "Array is :\n",
      " [[[[2 3]\n",
      "   [3 4]\n",
      "   [5 6]]]]\n",
      "Number of Dimensions are :  4\n",
      "Shape of an array is : (1, 1, 3, 2)\n"
     ]
    }
   ],
   "source": [
    "arr2 = np.array([[[[2,3],[3,4],[5,6]]]]) \n",
    "print('Array is :\\n',arr2)\n",
    "print('Number of Dimensions are : ', arr2.ndim)\n",
    "print('Shape of an array is :', arr2.shape)\n"
   ]
  },
  {
   "cell_type": "code",
   "execution_count": null,
   "id": "eeb87ce7",
   "metadata": {},
   "outputs": [],
   "source": [
    "1D >> 0D\n",
    "2D >> 1D >> 0D\n",
    "3D >> 2D >> 1D >> 0D\n",
    "4D >> 3D >> 2D >> 1D >> 0D"
   ]
  },
  {
   "cell_type": "code",
   "execution_count": 70,
   "id": "c995b743",
   "metadata": {},
   "outputs": [
    {
     "ename": "TypeError",
     "evalue": "can only concatenate list (not \"int\") to list",
     "output_type": "error",
     "traceback": [
      "\u001b[1;31m---------------------------------------------------------------------------\u001b[0m",
      "\u001b[1;31mTypeError\u001b[0m                                 Traceback (most recent call last)",
      "\u001b[1;32m<ipython-input-70-abe8cf45a689>\u001b[0m in \u001b[0;36m<module>\u001b[1;34m\u001b[0m\n\u001b[0;32m      1\u001b[0m \u001b[0ml1\u001b[0m \u001b[1;33m=\u001b[0m \u001b[1;33m[\u001b[0m\u001b[1;36m3\u001b[0m\u001b[1;33m,\u001b[0m\u001b[1;36m4\u001b[0m\u001b[1;33m,\u001b[0m\u001b[1;36m5\u001b[0m\u001b[1;33m,\u001b[0m\u001b[1;36m6\u001b[0m\u001b[1;33m]\u001b[0m\u001b[1;33m\u001b[0m\u001b[1;33m\u001b[0m\u001b[0m\n\u001b[1;32m----> 2\u001b[1;33m \u001b[0ml1\u001b[0m \u001b[1;33m+\u001b[0m \u001b[1;36m2\u001b[0m\u001b[1;33m\u001b[0m\u001b[1;33m\u001b[0m\u001b[0m\n\u001b[0m",
      "\u001b[1;31mTypeError\u001b[0m: can only concatenate list (not \"int\") to list"
     ]
    }
   ],
   "source": [
    "l1 = [3,4,5,6]\n",
    "l1 + 2"
   ]
  },
  {
   "cell_type": "code",
   "execution_count": 72,
   "id": "b9f50312",
   "metadata": {},
   "outputs": [
    {
     "data": {
      "text/plain": [
       "array([5, 6, 7, 8])"
      ]
     },
     "execution_count": 72,
     "metadata": {},
     "output_type": "execute_result"
    }
   ],
   "source": [
    "arr1= np.array(l1)\n",
    "arr1 + 2"
   ]
  },
  {
   "cell_type": "code",
   "execution_count": 73,
   "id": "6551af2f",
   "metadata": {},
   "outputs": [
    {
     "ename": "TypeError",
     "evalue": "unsupported operand type(s) for /: 'list' and 'int'",
     "output_type": "error",
     "traceback": [
      "\u001b[1;31m---------------------------------------------------------------------------\u001b[0m",
      "\u001b[1;31mTypeError\u001b[0m                                 Traceback (most recent call last)",
      "\u001b[1;32m<ipython-input-73-8fee1ed00145>\u001b[0m in \u001b[0;36m<module>\u001b[1;34m\u001b[0m\n\u001b[0;32m      1\u001b[0m \u001b[0ml1\u001b[0m \u001b[1;33m=\u001b[0m \u001b[1;33m[\u001b[0m\u001b[1;36m3\u001b[0m\u001b[1;33m,\u001b[0m\u001b[1;36m4\u001b[0m\u001b[1;33m,\u001b[0m\u001b[1;36m5\u001b[0m\u001b[1;33m,\u001b[0m\u001b[1;36m6\u001b[0m\u001b[1;33m]\u001b[0m\u001b[1;33m\u001b[0m\u001b[1;33m\u001b[0m\u001b[0m\n\u001b[1;32m----> 2\u001b[1;33m \u001b[0ml1\u001b[0m\u001b[1;33m/\u001b[0m \u001b[1;36m2\u001b[0m\u001b[1;33m\u001b[0m\u001b[1;33m\u001b[0m\u001b[0m\n\u001b[0m",
      "\u001b[1;31mTypeError\u001b[0m: unsupported operand type(s) for /: 'list' and 'int'"
     ]
    }
   ],
   "source": [
    "l1 = [3,4,5,6]\n",
    "l1/ 2"
   ]
  },
  {
   "cell_type": "code",
   "execution_count": 74,
   "id": "89614360",
   "metadata": {},
   "outputs": [
    {
     "data": {
      "text/plain": [
       "array([1.5, 2. , 2.5, 3. ])"
      ]
     },
     "execution_count": 74,
     "metadata": {},
     "output_type": "execute_result"
    }
   ],
   "source": [
    "arr1= np.array(l1)\n",
    "arr1/2"
   ]
  },
  {
   "cell_type": "code",
   "execution_count": 75,
   "id": "b6fc7fab",
   "metadata": {},
   "outputs": [
    {
     "data": {
      "text/plain": [
       "array([3, 4, 5, 6])"
      ]
     },
     "execution_count": 75,
     "metadata": {},
     "output_type": "execute_result"
    }
   ],
   "source": [
    "arr1"
   ]
  },
  {
   "cell_type": "code",
   "execution_count": 76,
   "id": "bd7060ff",
   "metadata": {},
   "outputs": [
    {
     "data": {
      "text/plain": [
       "array([3, 4, 5, 6])"
      ]
     },
     "execution_count": 76,
     "metadata": {},
     "output_type": "execute_result"
    }
   ],
   "source": [
    "np.array(l1)"
   ]
  },
  {
   "cell_type": "code",
   "execution_count": 77,
   "id": "a9ed431c",
   "metadata": {},
   "outputs": [
    {
     "data": {
      "text/plain": [
       "[3, 4, 5, 6]"
      ]
     },
     "execution_count": 77,
     "metadata": {},
     "output_type": "execute_result"
    }
   ],
   "source": [
    "list(arr1)"
   ]
  },
  {
   "cell_type": "code",
   "execution_count": null,
   "id": "1d5cf413",
   "metadata": {},
   "outputs": [],
   "source": [
    "arr1 = np.array(20)\n",
    "arr1"
   ]
  },
  {
   "cell_type": "code",
   "execution_count": null,
   "id": "71ef2106",
   "metadata": {},
   "outputs": [],
   "source": []
  },
  {
   "cell_type": "code",
   "execution_count": null,
   "id": "0b254951",
   "metadata": {},
   "outputs": [],
   "source": []
  },
  {
   "cell_type": "code",
   "execution_count": null,
   "id": "5db48261",
   "metadata": {},
   "outputs": [],
   "source": []
  },
  {
   "cell_type": "code",
   "execution_count": null,
   "id": "26d3071e",
   "metadata": {},
   "outputs": [],
   "source": []
  },
  {
   "cell_type": "code",
   "execution_count": null,
   "id": "d358250b",
   "metadata": {},
   "outputs": [],
   "source": []
  },
  {
   "cell_type": "code",
   "execution_count": null,
   "id": "9a2d91ec",
   "metadata": {},
   "outputs": [],
   "source": []
  },
  {
   "cell_type": "code",
   "execution_count": null,
   "id": "f8f72806",
   "metadata": {},
   "outputs": [],
   "source": []
  },
  {
   "cell_type": "code",
   "execution_count": null,
   "id": "dda848aa",
   "metadata": {},
   "outputs": [],
   "source": []
  },
  {
   "cell_type": "code",
   "execution_count": null,
   "id": "ae0aded6",
   "metadata": {},
   "outputs": [],
   "source": []
  },
  {
   "cell_type": "code",
   "execution_count": null,
   "id": "d19b623b",
   "metadata": {},
   "outputs": [],
   "source": []
  },
  {
   "cell_type": "code",
   "execution_count": null,
   "id": "1f6b0bb7",
   "metadata": {},
   "outputs": [],
   "source": []
  },
  {
   "cell_type": "code",
   "execution_count": null,
   "id": "211f3464",
   "metadata": {},
   "outputs": [],
   "source": []
  },
  {
   "cell_type": "code",
   "execution_count": null,
   "id": "b5597584",
   "metadata": {},
   "outputs": [],
   "source": []
  },
  {
   "cell_type": "code",
   "execution_count": null,
   "id": "ad2b2619",
   "metadata": {},
   "outputs": [],
   "source": []
  },
  {
   "cell_type": "code",
   "execution_count": null,
   "id": "c38a347a",
   "metadata": {},
   "outputs": [],
   "source": []
  },
  {
   "cell_type": "code",
   "execution_count": null,
   "id": "80537b7f",
   "metadata": {},
   "outputs": [],
   "source": []
  },
  {
   "cell_type": "code",
   "execution_count": null,
   "id": "910875cd",
   "metadata": {},
   "outputs": [],
   "source": []
  },
  {
   "cell_type": "code",
   "execution_count": null,
   "id": "450f6f64",
   "metadata": {},
   "outputs": [],
   "source": []
  },
  {
   "cell_type": "code",
   "execution_count": null,
   "id": "04c71647",
   "metadata": {},
   "outputs": [],
   "source": []
  }
 ],
 "metadata": {
  "kernelspec": {
   "display_name": "Python 3 (ipykernel)",
   "language": "python",
   "name": "python3"
  },
  "language_info": {
   "codemirror_mode": {
    "name": "ipython",
    "version": 3
   },
   "file_extension": ".py",
   "mimetype": "text/x-python",
   "name": "python",
   "nbconvert_exporter": "python",
   "pygments_lexer": "ipython3",
   "version": "3.9.7"
  }
 },
 "nbformat": 4,
 "nbformat_minor": 5
}
