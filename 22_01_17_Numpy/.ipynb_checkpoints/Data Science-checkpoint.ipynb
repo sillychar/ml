{
 "cells": [
  {
   "cell_type": "markdown",
   "id": "669da660",
   "metadata": {},
   "source": [
    "## Important Libraries in Data Science"
   ]
  },
  {
   "cell_type": "code",
   "execution_count": null,
   "id": "a8f10c03",
   "metadata": {},
   "outputs": [],
   "source": [
    "1. Numpy \n",
    "2. Pandas >> PySpark >> Dask\n",
    "3. Matplotlib\n",
    "4. Seaborn\n",
    "5. Sci-kit learn (sklearn)\n",
    "6. Tensorflow/Keras\n",
    "7. nltk"
   ]
  },
  {
   "cell_type": "code",
   "execution_count": null,
   "id": "73f9d7b6",
   "metadata": {},
   "outputs": [],
   "source": []
  },
  {
   "cell_type": "code",
   "execution_count": null,
   "id": "782036ab",
   "metadata": {},
   "outputs": [],
   "source": []
  },
  {
   "cell_type": "code",
   "execution_count": null,
   "id": "88cc6b57",
   "metadata": {},
   "outputs": [],
   "source": []
  },
  {
   "cell_type": "code",
   "execution_count": null,
   "id": "b3b48b3c",
   "metadata": {},
   "outputs": [],
   "source": []
  },
  {
   "cell_type": "code",
   "execution_count": null,
   "id": "f5d649ad",
   "metadata": {},
   "outputs": [],
   "source": []
  },
  {
   "cell_type": "code",
   "execution_count": null,
   "id": "6ac6be90",
   "metadata": {},
   "outputs": [],
   "source": []
  }
 ],
 "metadata": {
  "kernelspec": {
   "display_name": "Python 3",
   "language": "python",
   "name": "python3"
  },
  "language_info": {
   "codemirror_mode": {
    "name": "ipython",
    "version": 3
   },
   "file_extension": ".py",
   "mimetype": "text/x-python",
   "name": "python",
   "nbconvert_exporter": "python",
   "pygments_lexer": "ipython3",
   "version": "3.8.8"
  }
 },
 "nbformat": 4,
 "nbformat_minor": 5
}
